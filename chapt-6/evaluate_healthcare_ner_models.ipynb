{
 "cells": [
  {
   "cell_type": "markdown",
   "metadata": {
    "id": "uv9Cvxm_8Y-B"
   },
   "source": [
    "***\n",
    "# <font color=red>Chapter 6: MedTALN inc.'s Case Study - Fine-funed Healthcare NER Models Evaluation</font>\n",
    "<p style=\"margin-left:10%; margin-right:10%;\">by <font color=teal> John Doe (typica.ai) </font></p>\n",
    "\n",
    "***\n",
    "\n",
    "\n",
    "## Overview: \n",
    "\n",
    "This notebook guides you through the process of evaluating the fine-funed Healthcare NER Models.\n",
    "\n",
    "In this notebook we will evaluate the best chekpoint of the fine-tuned models that were trained using the **train_ner_models** notebook. This process will result in identifiying the best-performing model based on evaluation metrics and the test dataset.\n",
    "\n",
    "The notebook is structured into several key steps to ensure a smooth and effective training process:\n",
    "\n",
    "1. **Load Dataset**: We begin by loading the dataset, specifically formatted for our token classification tasks, (i.e. NER).\n",
    "2. **Evaluate the Models**: We will evaluate the NER models using a HF trainer.evaluate() API. The evaluation process will result in selecting the best-performing model based on F1 score.\n",
    "3. **Test the best Model**: After the evaluation , the best model will be tested on the examples that were used to select the pre-trained models.\n",
    "\n"
   ]
  },
  {
   "cell_type": "code",
   "execution_count": 7,
   "metadata": {
    "tags": []
   },
   "outputs": [
    {
     "name": "stdout",
     "output_type": "stream",
     "text": [
      "Mon Aug 26 15:46:32 2024       \n",
      "+-----------------------------------------------------------------------------------------+\n",
      "| NVIDIA-SMI 550.90.07              Driver Version: 550.90.07      CUDA Version: 12.4     |\n",
      "|-----------------------------------------+------------------------+----------------------+\n",
      "| GPU  Name                 Persistence-M | Bus-Id          Disp.A | Volatile Uncorr. ECC |\n",
      "| Fan  Temp   Perf          Pwr:Usage/Cap |           Memory-Usage | GPU-Util  Compute M. |\n",
      "|                                         |                        |               MIG M. |\n",
      "|=========================================+========================+======================|\n",
      "|   0  NVIDIA A10                     Off |   00000000:00:04.0 Off |                    0 |\n",
      "|  0%   43C    P0             59W /  150W |    2729MiB /  23028MiB |      0%      Default |\n",
      "|                                         |                        |                  N/A |\n",
      "+-----------------------------------------+------------------------+----------------------+\n",
      "                                                                                         \n",
      "+-----------------------------------------------------------------------------------------+\n",
      "| Processes:                                                                              |\n",
      "|  GPU   GI   CI        PID   Type   Process name                              GPU Memory |\n",
      "|        ID   ID                                                               Usage      |\n",
      "|=========================================================================================|\n",
      "+-----------------------------------------------------------------------------------------+\n"
     ]
    }
   ],
   "source": [
    "!nvidia-smi"
   ]
  },
  {
   "cell_type": "markdown",
   "metadata": {
    "tags": []
   },
   "source": [
    "Install the hugging face transformers library (install once for the conda env.)."
   ]
  },
  {
   "cell_type": "markdown",
   "metadata": {},
   "source": [
    "%%capture\n",
    "!pip install transformers -U\n",
    "!pip install accelerate -U\n",
    "!pip install datasets\n",
    "!pip install evaluate\n",
    "!pip install seqeval"
   ]
  },
  {
   "cell_type": "markdown",
   "metadata": {},
   "source": [
    "Filters out warnings"
   ]
  },
  {
   "cell_type": "code",
   "execution_count": 8,
   "metadata": {
    "tags": []
   },
   "outputs": [],
   "source": [
    "import warnings\n",
    "warnings.filterwarnings('ignore')"
   ]
  },
  {
   "cell_type": "markdown",
   "metadata": {
    "id": "C4uHLvLRLrql"
   },
   "source": [
    "## Initialization"
   ]
  },
  {
   "cell_type": "markdown",
   "metadata": {
    "id": "q-tjUq63w9_N"
   },
   "source": [
    "### Load the training dataset"
   ]
  },
  {
   "cell_type": "code",
   "execution_count": 9,
   "metadata": {
    "id": "7VOUXvl8wsSJ",
    "tags": []
   },
   "outputs": [
    {
     "data": {
      "text/plain": [
       "DatasetDict({\n",
       "    train: Dataset({\n",
       "        features: ['id', 'tokens', 'ner_tags'],\n",
       "        num_rows: 6750\n",
       "    })\n",
       "    validation: Dataset({\n",
       "        features: ['id', 'tokens', 'ner_tags'],\n",
       "        num_rows: 1687\n",
       "    })\n",
       "    test: Dataset({\n",
       "        features: ['id', 'tokens', 'ner_tags'],\n",
       "        num_rows: 563\n",
       "    })\n",
       "})"
      ]
     },
     "execution_count": 9,
     "metadata": {},
     "output_type": "execute_result"
    }
   ],
   "source": [
    "from datasets import load_from_disk\n",
    "\n",
    "healthcare_ner_dataset = load_from_disk('/home/datascience/buckets/training-datasets-bkt/healthcare_ner_dataset_v1.2.0')\n",
    "healthcare_ner_dataset"
   ]
  },
  {
   "cell_type": "markdown",
   "metadata": {
    "id": "SKFSjDFeMH7j"
   },
   "source": [
    "### Define helper functions"
   ]
  },
  {
   "cell_type": "code",
   "execution_count": 12,
   "metadata": {
    "id": "n87Eo9gl_dDH",
    "tags": []
   },
   "outputs": [],
   "source": [
    "def align_labels_with_tokens(labels, word_ids):\n",
    "    new_labels = []\n",
    "    current_word = None\n",
    "    for word_id in word_ids:\n",
    "        if word_id != current_word:\n",
    "            # Start of a new word!\n",
    "            current_word = word_id\n",
    "            label = -100 if word_id is None else labels[word_id]\n",
    "            new_labels.append(label)\n",
    "        elif word_id is None:\n",
    "            # Special token\n",
    "            new_labels.append(-100)\n",
    "        else:\n",
    "            # Same word as previous token\n",
    "            label = labels[word_id]\n",
    "            # If the label is B-XXX we change it to I-XXX\n",
    "            if label % 2 == 1:\n",
    "                label += 1\n",
    "            new_labels.append(label)\n",
    "\n",
    "    return new_labels\n",
    "\n",
    "def tokenize_and_align_labels(examples):\n",
    "    tokenized_inputs = tokenizer(\n",
    "        examples[\"tokens\"], truncation=True, is_split_into_words=True\n",
    "    )\n",
    "    all_labels = examples[\"ner_tags\"]\n",
    "    new_labels = []\n",
    "    for i, labels in enumerate(all_labels):\n",
    "        word_ids = tokenized_inputs.word_ids(i)\n",
    "        new_labels.append(align_labels_with_tokens(labels, word_ids))\n",
    "\n",
    "    tokenized_inputs[\"labels\"] = new_labels\n",
    "    return tokenized_inputs\n",
    "\n",
    "def compute_metrics(eval_preds):\n",
    "    logits, labels = eval_preds\n",
    "    predictions = np.argmax(logits, axis=-1)\n",
    "\n",
    "    # Remove ignored index (special tokens) and convert to labels\n",
    "    true_labels = [[label_names[l] for l in label if l != -100] for label in labels]\n",
    "    true_predictions = [\n",
    "        [label_names[p] for (p, l) in zip(prediction, label) if l != -100]\n",
    "        for prediction, label in zip(predictions, labels)\n",
    "    ]\n",
    "    all_metrics = metric.compute(predictions=true_predictions, references=true_labels)\n",
    "    return {\n",
    "        \"precision\": all_metrics[\"overall_precision\"],\n",
    "        \"recall\": all_metrics[\"overall_recall\"],\n",
    "        \"f1\": all_metrics[\"overall_f1\"],\n",
    "        \"accuracy\": all_metrics[\"overall_accuracy\"],\n",
    "    }"
   ]
  },
  {
   "cell_type": "markdown",
   "metadata": {
    "id": "qpJ8xgEE4PGB"
   },
   "source": [
    "## Evaluate\n",
    "\n",
    "Evaluate test split using the HF API trainer.evaluate()"
   ]
  },
  {
   "cell_type": "markdown",
   "metadata": {
    "id": "VlgOuxVAzdHZ"
   },
   "source": [
    "### Load best checkpoints"
   ]
  },
  {
   "cell_type": "code",
   "execution_count": 13,
   "metadata": {
    "colab": {
     "base_uri": "https://localhost:8080/"
    },
    "id": "hq9e3LYPzhNg",
    "outputId": "a88ca1c0-822d-48ff-e78c-650a423e02b2",
    "tags": []
   },
   "outputs": [
    {
     "name": "stdout",
     "output_type": "stream",
     "text": [
      "Best checkpoint for model in /home/datascience/buckets/models-ckpt-bkt/models/healthcare_ner-Dr-BERT/DrBERT-4GB: /home/datascience/buckets/models-ckpt-bkt/models/healthcare_ner-Dr-BERT/DrBERT-4GB/checkpoint-1688\n",
      "Best checkpoint for model in /home/datascience/buckets/models-ckpt-bkt/models/healthcare_ner-Dr-BERT/DrBERT-4GB-CP-PubMedBERT: /home/datascience/buckets/models-ckpt-bkt/models/healthcare_ner-Dr-BERT/DrBERT-4GB-CP-PubMedBERT/checkpoint-2532\n",
      "Best checkpoint for model in /home/datascience/buckets/models-ckpt-bkt/models/healthcare_ner-Dr-BERT/DrBERT-7GB: /home/datascience/buckets/models-ckpt-bkt/models/healthcare_ner-Dr-BERT/DrBERT-7GB/checkpoint-1688\n",
      "Best checkpoint for model in /home/datascience/buckets/models-ckpt-bkt/models/healthcare_ner-abazoge/DrBERT-4096: /home/datascience/buckets/models-ckpt-bkt/models/healthcare_ner-abazoge/DrBERT-4096/checkpoint-1688\n",
      "Best checkpoint for model in /home/datascience/buckets/models-ckpt-bkt/models/healthcare_ner-almanach/camembert-bio-base: /home/datascience/buckets/models-ckpt-bkt/models/healthcare_ner-almanach/camembert-bio-base/checkpoint-3376\n"
     ]
    }
   ],
   "source": [
    "import os\n",
    "from transformers.trainer_callback import TrainerState\n",
    "\n",
    "def get_best_checkpoint(root_dir):\n",
    "    best_checkpoints = {}\n",
    "\n",
    "    # Walk through all directories and subdirectories\n",
    "    for root, dirs, files in os.walk(root_dir):\n",
    "        # Filter directories that start with \"healthcare_ner\"\n",
    "        relevant_dirs = [d for d in dirs if d.startswith(\"healthcare_ner\")]\n",
    "\n",
    "        for dir_name in relevant_dirs:\n",
    "            model_dir = os.path.join(root, dir_name)\n",
    "            for sub_root, sub_dirs, sub_files in os.walk(model_dir):\n",
    "                ckpt_dirs = [d for d in sub_dirs if d.startswith('checkpoint')]\n",
    "                if ckpt_dirs:\n",
    "                    ckpt_dirs = sorted(ckpt_dirs, key=lambda x: int(x.split('-')[1]))\n",
    "                    last_ckpt = ckpt_dirs[-1]\n",
    "\n",
    "                    state = TrainerState.load_from_json(f\"{sub_root}/{last_ckpt}/trainer_state.json\")\n",
    "                    best_model_checkpoint = state.best_model_checkpoint\n",
    "                    #temp fix\n",
    "                    best_model_checkpoint = best_model_checkpoint.replace('training_local_dir', 'buckets/models-ckpt-bkt')\n",
    "                    \n",
    "                    best_checkpoints[sub_root] = best_model_checkpoint\n",
    "\n",
    "    return best_checkpoints\n",
    "\n",
    "root_dir = \"/home/datascience/buckets/models-ckpt-bkt/models\"\n",
    "\n",
    "best_models_checkpoints = get_best_checkpoint(root_dir)\n",
    "\n",
    "for model_dir, best_ckpt in best_models_checkpoints.items():\n",
    "    print(f\"Best checkpoint for model in {model_dir}: {best_ckpt}\")\n"
   ]
  },
  {
   "cell_type": "markdown",
   "metadata": {
    "id": "w-0sE-UQ783W"
   },
   "source": [
    "### Evalute all the models best checkpoints\n",
    "\n",
    "Loop on the fine-tuned model best checkpoints and evaluate  "
   ]
  },
  {
   "cell_type": "code",
   "execution_count": 14,
   "metadata": {
    "colab": {
     "base_uri": "https://localhost:8080/",
     "height": 253,
     "referenced_widgets": [
      "3babc2b05e0b43fcb2e8a5cbc95511cd",
      "9b9d90b4c5d8475fb97e856192e235db",
      "41c081aaa7d042779a0ea1cbd7a68233",
      "580b5ec03a6e44eca357a06e1f657c33",
      "4d8596678e7d4dd58f4ce3434213402d",
      "cbe481ddd3514c0a9e7d7a6cf2ccee60",
      "79d88a0e4a3e472481606f3336ef3512",
      "83a3112f313a4017b88d0cd7e50b06c0",
      "dbe75f6207f94b388bc0b34ee8e40ec2",
      "81529669f6f343b1a183c71e349800eb",
      "0016565c03144d818bd843a66da86a8b"
     ]
    },
    "id": "TgAhwVrQ4QVq",
    "outputId": "f77249e2-d35f-441e-88e0-b51440c2bdae",
    "tags": []
   },
   "outputs": [
    {
     "name": "stdout",
     "output_type": "stream",
     "text": [
      "Evaluating model checkpoint : /home/datascience/buckets/models-ckpt-bkt/models/healthcare_ner-Dr-BERT/DrBERT-4GB/checkpoint-1688\n"
     ]
    },
    {
     "name": "stderr",
     "output_type": "stream",
     "text": [
      "Detected kernel version 5.4.17, which is below the recommended minimum of 5.5.0; this can cause the process to hang. It is recommended to upgrade the kernel to the minimum version or higher.\n"
     ]
    },
    {
     "name": "stdout",
     "output_type": "stream",
     "text": [
      "[2024-08-26 16:16:55,437] [INFO] [real_accelerator.py:158:get_accelerator] Setting ds_accelerator to cuda (auto detect)\n"
     ]
    },
    {
     "data": {
      "text/html": [
       "\n",
       "    <div>\n",
       "      \n",
       "      <progress value='71' max='71' style='width:300px; height:20px; vertical-align: middle;'></progress>\n",
       "      [71/71 00:00]\n",
       "    </div>\n",
       "    "
      ],
      "text/plain": [
       "<IPython.core.display.HTML object>"
      ]
     },
     "metadata": {},
     "output_type": "display_data"
    },
    {
     "name": "stdout",
     "output_type": "stream",
     "text": [
      "Evaluating model checkpoint : /home/datascience/buckets/models-ckpt-bkt/models/healthcare_ner-Dr-BERT/DrBERT-4GB-CP-PubMedBERT/checkpoint-2532\n"
     ]
    },
    {
     "name": "stderr",
     "output_type": "stream",
     "text": [
      "Detected kernel version 5.4.17, which is below the recommended minimum of 5.5.0; this can cause the process to hang. It is recommended to upgrade the kernel to the minimum version or higher.\n"
     ]
    },
    {
     "data": {
      "text/html": [
       "\n",
       "    <div>\n",
       "      \n",
       "      <progress value='71' max='71' style='width:300px; height:20px; vertical-align: middle;'></progress>\n",
       "      [71/71 00:00]\n",
       "    </div>\n",
       "    "
      ],
      "text/plain": [
       "<IPython.core.display.HTML object>"
      ]
     },
     "metadata": {},
     "output_type": "display_data"
    },
    {
     "name": "stdout",
     "output_type": "stream",
     "text": [
      "Evaluating model checkpoint : /home/datascience/buckets/models-ckpt-bkt/models/healthcare_ner-Dr-BERT/DrBERT-7GB/checkpoint-1688\n"
     ]
    },
    {
     "name": "stderr",
     "output_type": "stream",
     "text": [
      "Detected kernel version 5.4.17, which is below the recommended minimum of 5.5.0; this can cause the process to hang. It is recommended to upgrade the kernel to the minimum version or higher.\n"
     ]
    },
    {
     "data": {
      "text/html": [
       "\n",
       "    <div>\n",
       "      \n",
       "      <progress value='71' max='71' style='width:300px; height:20px; vertical-align: middle;'></progress>\n",
       "      [71/71 00:00]\n",
       "    </div>\n",
       "    "
      ],
      "text/plain": [
       "<IPython.core.display.HTML object>"
      ]
     },
     "metadata": {},
     "output_type": "display_data"
    },
    {
     "name": "stdout",
     "output_type": "stream",
     "text": [
      "Evaluating model checkpoint : /home/datascience/buckets/models-ckpt-bkt/models/healthcare_ner-abazoge/DrBERT-4096/checkpoint-1688\n"
     ]
    },
    {
     "data": {
      "application/vnd.jupyter.widget-view+json": {
       "model_id": "9a83ae4391f54066b4f27f210722851c",
       "version_major": 2,
       "version_minor": 0
      },
      "text/plain": [
       "Map:   0%|          | 0/563 [00:00<?, ? examples/s]"
      ]
     },
     "metadata": {},
     "output_type": "display_data"
    },
    {
     "name": "stderr",
     "output_type": "stream",
     "text": [
      "Detected kernel version 5.4.17, which is below the recommended minimum of 5.5.0; this can cause the process to hang. It is recommended to upgrade the kernel to the minimum version or higher.\n",
      "Input ids are automatically padded to be a multiple of `config.attention_window`: 512\n"
     ]
    },
    {
     "data": {
      "text/html": [
       "\n",
       "    <div>\n",
       "      \n",
       "      <progress value='71' max='71' style='width:300px; height:20px; vertical-align: middle;'></progress>\n",
       "      [71/71 00:10]\n",
       "    </div>\n",
       "    "
      ],
      "text/plain": [
       "<IPython.core.display.HTML object>"
      ]
     },
     "metadata": {},
     "output_type": "display_data"
    },
    {
     "name": "stdout",
     "output_type": "stream",
     "text": [
      "Evaluating model checkpoint : /home/datascience/buckets/models-ckpt-bkt/models/healthcare_ner-almanach/camembert-bio-base/checkpoint-3376\n"
     ]
    },
    {
     "name": "stderr",
     "output_type": "stream",
     "text": [
      "Detected kernel version 5.4.17, which is below the recommended minimum of 5.5.0; this can cause the process to hang. It is recommended to upgrade the kernel to the minimum version or higher.\n"
     ]
    },
    {
     "data": {
      "text/html": [
       "\n",
       "    <div>\n",
       "      \n",
       "      <progress value='71' max='71' style='width:300px; height:20px; vertical-align: middle;'></progress>\n",
       "      [71/71 00:00]\n",
       "    </div>\n",
       "    "
      ],
      "text/plain": [
       "<IPython.core.display.HTML object>"
      ]
     },
     "metadata": {},
     "output_type": "display_data"
    }
   ],
   "source": [
    "from transformers import AutoModelForTokenClassification, AutoTokenizer, Trainer, TrainingArguments\n",
    "from transformers import DataCollatorForTokenClassification\n",
    "import evaluate\n",
    "from datasets import load_metric\n",
    "from torch.utils.data import DataLoader\n",
    "import numpy as np\n",
    "\n",
    "metric = evaluate.load(\"seqeval\")\n",
    "\n",
    "eval_dir = \"/home/datascience/buckets/models-ckpt-bkt/models/healthcare_ner/evaluation\"\n",
    "\n",
    "# Initialize TrainingArguments (to configure the evaluation)\n",
    "evaluation_args = TrainingArguments(\n",
    "    output_dir=f\"{eval_dir}/eval_results\",\n",
    "    per_device_eval_batch_size=8,\n",
    "    logging_dir=\"{eval_dir}/eval_logs\",\n",
    "    do_train=False,  # We are only evaluating\n",
    "    do_eval=True,\n",
    ")\n",
    "\n",
    "\n",
    "label_names = healthcare_ner_dataset[\"test\"].features[\"ner_tags\"].feature.names\n",
    "\n",
    "# Evaluate each model and collect the results\n",
    "model_results = {}\n",
    "\n",
    "for model_dir, model_checkpoint in best_models_checkpoints.items():\n",
    "\n",
    "    if model_checkpoint is not None:\n",
    "\n",
    "      print(f\"Evaluating model checkpoint : {model_checkpoint}\")\n",
    "\n",
    "      # Load the model and tokenizer\n",
    "      model = AutoModelForTokenClassification.from_pretrained(model_checkpoint)\n",
    "      tokenizer = AutoTokenizer.from_pretrained(model_checkpoint)\n",
    "      data_collator = DataCollatorForTokenClassification(tokenizer=tokenizer)\n",
    "\n",
    "      test_tokenized_datasets = healthcare_ner_dataset[\"test\"].map(\n",
    "          tokenize_and_align_labels,\n",
    "          batched=True,\n",
    "          remove_columns=healthcare_ner_dataset[\"test\"].column_names,\n",
    "      )\n",
    "\n",
    "      eval_dataloader = DataLoader(\n",
    "          test_tokenized_datasets, collate_fn=data_collator, batch_size=8\n",
    "      )\n",
    "\n",
    "      # Initialize the Trainer\n",
    "      trainer = Trainer(\n",
    "          model=model,\n",
    "          args=evaluation_args,\n",
    "          eval_dataset=test_tokenized_datasets,#eval_dataset=test_dataset,\n",
    "          data_collator=data_collator,   # Include the data collator here\n",
    "          compute_metrics=compute_metrics,\n",
    "          tokenizer=tokenizer,\n",
    "          )\n",
    "\n",
    "      # Evaluate the model\n",
    "      results = trainer.evaluate()\n",
    "      model_results[model_checkpoint] = results\n"
   ]
  },
  {
   "cell_type": "code",
   "execution_count": 18,
   "metadata": {
    "colab": {
     "base_uri": "https://localhost:8080/",
     "height": 223
    },
    "id": "FA6XtcfS9ikM",
    "outputId": "7bcc2661-13c3-4051-c7f3-273e26eb487b",
    "tags": []
   },
   "outputs": [
    {
     "data": {
      "text/html": [
       "<div>\n",
       "<style scoped>\n",
       "    .dataframe tbody tr th:only-of-type {\n",
       "        vertical-align: middle;\n",
       "    }\n",
       "\n",
       "    .dataframe tbody tr th {\n",
       "        vertical-align: top;\n",
       "    }\n",
       "\n",
       "    .dataframe thead th {\n",
       "        text-align: right;\n",
       "    }\n",
       "</style>\n",
       "<table border=\"1\" class=\"dataframe\">\n",
       "  <thead>\n",
       "    <tr style=\"text-align: right;\">\n",
       "      <th></th>\n",
       "      <th>eval_loss</th>\n",
       "      <th>eval_precision</th>\n",
       "      <th>eval_recall</th>\n",
       "      <th>eval_f1</th>\n",
       "      <th>eval_accuracy</th>\n",
       "    </tr>\n",
       "  </thead>\n",
       "  <tbody>\n",
       "    <tr>\n",
       "      <th>/home/datascience/buckets/models-ckpt-bkt/models/healthcare_ner-Dr-BERT/DrBERT-4GB/checkpoint-1688</th>\n",
       "      <td>0.237051</td>\n",
       "      <td>0.732680</td>\n",
       "      <td>0.721364</td>\n",
       "      <td>0.726978</td>\n",
       "      <td>0.927640</td>\n",
       "    </tr>\n",
       "    <tr>\n",
       "      <th>/home/datascience/buckets/models-ckpt-bkt/models/healthcare_ner-Dr-BERT/DrBERT-4GB-CP-PubMedBERT/checkpoint-2532</th>\n",
       "      <td>0.211613</td>\n",
       "      <td>0.789223</td>\n",
       "      <td>0.763413</td>\n",
       "      <td>0.776104</td>\n",
       "      <td>0.941356</td>\n",
       "    </tr>\n",
       "    <tr>\n",
       "      <th>/home/datascience/buckets/models-ckpt-bkt/models/healthcare_ner-Dr-BERT/DrBERT-7GB/checkpoint-1688</th>\n",
       "      <td>0.240774</td>\n",
       "      <td>0.731629</td>\n",
       "      <td>0.729299</td>\n",
       "      <td>0.730463</td>\n",
       "      <td>0.924297</td>\n",
       "    </tr>\n",
       "    <tr>\n",
       "      <th>/home/datascience/buckets/models-ckpt-bkt/models/healthcare_ner-abazoge/DrBERT-4096/checkpoint-1688</th>\n",
       "      <td>0.236985</td>\n",
       "      <td>0.728912</td>\n",
       "      <td>0.721019</td>\n",
       "      <td>0.724944</td>\n",
       "      <td>0.924297</td>\n",
       "    </tr>\n",
       "    <tr>\n",
       "      <th>/home/datascience/buckets/models-ckpt-bkt/models/healthcare_ner-almanach/camembert-bio-base/checkpoint-3376</th>\n",
       "      <td>0.283445</td>\n",
       "      <td>0.782905</td>\n",
       "      <td>0.775584</td>\n",
       "      <td>0.779228</td>\n",
       "      <td>0.927894</td>\n",
       "    </tr>\n",
       "  </tbody>\n",
       "</table>\n",
       "</div>"
      ],
      "text/plain": [
       "                                                    eval_loss  eval_precision  \\\n",
       "/home/datascience/buckets/models-ckpt-bkt/model...   0.237051        0.732680   \n",
       "/home/datascience/buckets/models-ckpt-bkt/model...   0.211613        0.789223   \n",
       "/home/datascience/buckets/models-ckpt-bkt/model...   0.240774        0.731629   \n",
       "/home/datascience/buckets/models-ckpt-bkt/model...   0.236985        0.728912   \n",
       "/home/datascience/buckets/models-ckpt-bkt/model...   0.283445        0.782905   \n",
       "\n",
       "                                                    eval_recall   eval_f1  \\\n",
       "/home/datascience/buckets/models-ckpt-bkt/model...     0.721364  0.726978   \n",
       "/home/datascience/buckets/models-ckpt-bkt/model...     0.763413  0.776104   \n",
       "/home/datascience/buckets/models-ckpt-bkt/model...     0.729299  0.730463   \n",
       "/home/datascience/buckets/models-ckpt-bkt/model...     0.721019  0.724944   \n",
       "/home/datascience/buckets/models-ckpt-bkt/model...     0.775584  0.779228   \n",
       "\n",
       "                                                    eval_accuracy  \n",
       "/home/datascience/buckets/models-ckpt-bkt/model...       0.927640  \n",
       "/home/datascience/buckets/models-ckpt-bkt/model...       0.941356  \n",
       "/home/datascience/buckets/models-ckpt-bkt/model...       0.924297  \n",
       "/home/datascience/buckets/models-ckpt-bkt/model...       0.924297  \n",
       "/home/datascience/buckets/models-ckpt-bkt/model...       0.927894  "
      ]
     },
     "execution_count": 18,
     "metadata": {},
     "output_type": "execute_result"
    }
   ],
   "source": [
    "import pandas as pd\n",
    "import matplotlib.pyplot as plt\n",
    "from math import pi\n",
    "\n",
    "# The data you provided\n",
    "data = model_results\n",
    "\n",
    "# Extract models and their metrics\n",
    "# Extract models and their metrics\n",
    "models = list(data.keys())\n",
    "metrics_data = [list(metrics.values()) for metrics in data.values()]\n",
    "metrics_names = list(data[models[0]].keys())  # Extract metric names\n",
    "\n",
    "# Filter out samples and steps per second metrics\n",
    "metrics_names = [metric for metric in metrics_names if metric not in ['eval_model_preparation_time','eval_runtime','eval_samples_per_second', 'eval_steps_per_second']]\n",
    "df = pd.DataFrame(metrics_data, index=models, columns=list(data[models[0]].keys()))[metrics_names]\n",
    "\n",
    "df"
   ]
  },
  {
   "cell_type": "markdown",
   "metadata": {
    "id": "PlykRWfRjgQ8"
   },
   "source": [
    "Visualizing results\n",
    "You can feed in the results list above into the plot_radar() function to visualize different aspects of their performance and choose the model that is the best fit, depending on the metric(s) that are relevant to your use case:"
   ]
  },
  {
   "cell_type": "code",
   "execution_count": 19,
   "metadata": {
    "colab": {
     "base_uri": "https://localhost:8080/",
     "height": 619
    },
    "id": "bm3NySpytf3l",
    "outputId": "c9d0ab90-246f-48be-ec41-22913eef5390",
    "tags": []
   },
   "outputs": [
    {
     "data": {
      "image/png": "[encoded data removed]",
      "text/plain": [
       "<Figure size 800x800 with 1 Axes>"
      ]
     },
     "metadata": {},
     "output_type": "display_data"
    }
   ],
   "source": [
    "# Radar plot\n",
    "def radar_plot(data, model_names, metrics):\n",
    "    categories = metrics\n",
    "    N = len(categories)\n",
    "\n",
    "    # Calculate angle of each axis\n",
    "    angles = [n / float(N) * 2 * pi for n in range(N)]\n",
    "    angles += angles[:1]\n",
    "\n",
    "    fig, ax = plt.subplots(figsize=(8, 8), subplot_kw=dict(polar=True))\n",
    "\n",
    "    # Loop through each model's results\n",
    "    for i, model_name in enumerate(model_names):\n",
    "        values = data.iloc[i].tolist()\n",
    "        values += values[:1]  # to close the plot\n",
    "        ax.plot(angles, values, linewidth=2, linestyle='solid', label=model_name)\n",
    "        ax.fill(angles, values, alpha=0.25)\n",
    "\n",
    "    # Add labels to axes\n",
    "    ax.set_xticks(angles[:-1])\n",
    "    ax.set_xticklabels(categories, fontsize=12)\n",
    "\n",
    "    # Draw one axe per variable and add labels\n",
    "    ax.set_rlabel_position(0)\n",
    "\n",
    "    # Show legend\n",
    "    plt.legend(loc='upper right', bbox_to_anchor=(0.1, 0.1))\n",
    "    plt.show()\n",
    "\n",
    "# Filter out samples and steps per second metrics\n",
    "metrics_names = [metric for metric in metrics_names if metric not in ['eval_loss','eval_model_preparation_time','eval_runtime','eval_samples_per_second', 'eval_steps_per_second']]\n",
    "#metrics_names = [metric for metric in metrics_names if metric not in ['eval_model_preparation_time','eval_runtime','eval_samples_per_second', 'eval_steps_per_second']]\n",
    "df = pd.DataFrame(metrics_data, index=models, columns=list(data[models[0]].keys()))[metrics_names]\n",
    "\n",
    "# Plot all metrics on the radar chart\n",
    "radar_plot(data=df, model_names=models, metrics=metrics_names)\n"
   ]
  },
  {
   "cell_type": "markdown",
   "metadata": {
    "id": "FUX_q8_eKIAB"
   },
   "source": [
    "### Select the best model\n",
    "\n",
    "\n",
    "\n",
    "We can choose the best model based on the evaluation metrics. Let’s say you choose the model with the highest F1 score:\n",
    "\n",
    "Now that we have a DataFrame df with the evaluation metrics, we can select the best model based on one of these metrics, such as F1 score:"
   ]
  },
  {
   "cell_type": "code",
   "execution_count": 20,
   "metadata": {
    "colab": {
     "base_uri": "https://localhost:8080/",
     "height": 35
    },
    "id": "hboq_aN6I7GZ",
    "outputId": "0e43ca34-1259-4c41-984b-6393940f0545",
    "tags": []
   },
   "outputs": [
    {
     "name": "stdout",
     "output_type": "stream",
     "text": [
      "Model and Tokenizer intialized from the best performing model checkpoint:\n",
      "/home/datascience/buckets/models-ckpt-bkt/models/healthcare_ner-almanach/camembert-bio-base/checkpoint-3376\n"
     ]
    }
   ],
   "source": [
    "from transformers import AutoTokenizer, AutoModelForTokenClassification\n",
    "\n",
    "best_model_row = df.loc[df['eval_f1'].idxmax()]\n",
    "best_model_path = best_model_row.name  # This gets the index, which is the model path\n",
    "\n",
    "from transformers import AutoTokenizer, AutoModelForTokenClassification, pipeline\n",
    "\n",
    "# Load the best model and tokenizer\n",
    "tokenizer = AutoTokenizer.from_pretrained(best_model_path)\n",
    "model = AutoModelForTokenClassification.from_pretrained(best_model_path)\n",
    "\n",
    "print(f\"Model and Tokenizer intialized from the best performing model checkpoint:\\n{best_model_path}\")\n"
   ]
  },
  {
   "cell_type": "markdown",
   "metadata": {},
   "source": [
    "## Save the best model\n",
    "\n",
    "Save the trained healthcare NER model (version 1.0.0) and its tokenizer will to the models-ckpt-bkt bucket under the name: `/home/datascience/buckets/models-ckpt-bkt/models/healthcare_ner_model_v1.0.0`\n",
    "\n",
    "Using the save_pretrained method, both the model's weights and configuration files, as well as the tokenizer, are saved to this specified directory. This ensures that the model and tokenizer can be easily reloaded or shared later. "
   ]
  },
  {
   "cell_type": "code",
   "execution_count": 24,
   "metadata": {
    "colab": {
     "base_uri": "https://localhost:8080/"
    },
    "id": "6R5BZAsDHB4E",
    "outputId": "cdab6e68-f52e-4d85-9f63-65b1c9eb618e"
   },
   "outputs": [
    {
     "name": "stdout",
     "output_type": "stream",
     "text": [
      "Model and tokenizer saved to /home/datascience/buckets/models-ckpt-bkt/models/healthcare_ner_model_v1.0.0\n"
     ]
    }
   ],
   "source": [
    "# Define the directory where you want to save the model\n",
    "\n",
    "# Modify the _name_or_path attribute\n",
    "model.config._name_or_path = \"healthcare_ner_model_v1.0.0\"\n",
    "\n",
    "model_save_dir = f'/home/datascience/buckets/models-ckpt-bkt/models/{model.config._name_or_path}'\n",
    "\n",
    "# Save the model\n",
    "model.save_pretrained(model_save_dir)\n",
    "\n",
    "# Save the tokenizer\n",
    "tokenizer.save_pretrained(model_save_dir)\n",
    "\n",
    "print(f\"Model and tokenizer saved to {model_save_dir}\")\n"
   ]
  },
  {
   "cell_type": "markdown",
   "metadata": {
    "id": "mBkr5Dqne7Ej"
   },
   "source": [
    "## Test the best model\n",
    "\n",
    "Given the evaluation metrics in the DataFrame, the model with the best performance across precision, recall, F1, and accuracy is healthcare_ner-almanach/camembert-bio-base\n"
   ]
  },
  {
   "cell_type": "markdown",
   "metadata": {
    "id": "KkmjaqSUK4aa"
   },
   "source": [
    "### Prepare the Test Examples\n",
    "We will resue the test sentences that we already used in the select_pretrained_model"
   ]
  },
  {
   "cell_type": "code",
   "execution_count": 22,
   "metadata": {
    "colab": {
     "base_uri": "https://localhost:8080/"
    },
    "id": "_cm7FoWiCvs5",
    "outputId": "8394bee3-88e4-4eff-9e3a-c6f122a88495",
    "tags": []
   },
   "outputs": [
    {
     "data": {
      "text/plain": [
       "[\"Le medecin donne des antibiotiques en cas d'infections des voies respiratoires.\",\n",
       " \"Le médecin recommande des corticoïdes pour réduire l'inflammation dans les poumons.\",\n",
       " \"Pour soulager les symptômes d'allergie, le médecin prescrit des antihistaminiques.\",\n",
       " 'Pour gérer le diabète, le médecin prescrit une insulinothérapie.',\n",
       " 'Après une blessure musculaire, le patient doit suivre une physiothérapie.',\n",
       " \"En cas d'infection bactérienne, le médecin recommande une antibiothérapie.\"]"
      ]
     },
     "execution_count": 22,
     "metadata": {},
     "output_type": "execute_result"
    }
   ],
   "source": [
    "test_examples = [\n",
    "    \"Le medecin donne des antibiotiques en cas d'infections des voies respiratoires.\"\n",
    "    ,\"Le médecin recommande des corticoïdes pour réduire l'inflammation dans les poumons.\"\n",
    "    ,\"Pour soulager les symptômes d'allergie, le médecin prescrit des antihistaminiques.\"\n",
    "    ,\"Pour gérer le diabète, le médecin prescrit une insulinothérapie.\"\n",
    "    ,\"Après une blessure musculaire, le patient doit suivre une physiothérapie.\"\n",
    "    ,\"En cas d'infection bactérienne, le médecin recommande une antibiothérapie.\"\n",
    "]\n",
    "\n",
    "test_examples"
   ]
  },
  {
   "cell_type": "markdown",
   "metadata": {
    "id": "8IV6LlAUKBv3"
   },
   "source": [
    "### Load and Use the Best Model:\n",
    "We can now generate predictions using this dynamically selected model\n",
    "\n"
   ]
  },
  {
   "cell_type": "code",
   "execution_count": 30,
   "metadata": {
    "colab": {
     "base_uri": "https://localhost:8080/"
    },
    "id": "W-t8ZMPeJDkK",
    "outputId": "fc2abafb-f1c2-486f-840c-bd029f090e73",
    "tags": []
   },
   "outputs": [
    {
     "name": "stdout",
     "output_type": "stream",
     "text": [
      "pipeline initialized with model /home/datascience/buckets/models-ckpt-bkt/models/healthcare_ner_model_v1.0.0 from  /home/datascience/buckets/models-ckpt-bkt/models/healthcare_ner_model_v1.0.0\n"
     ]
    }
   ],
   "source": [
    "from transformers import AutoTokenizer, AutoModelForTokenClassification, pipeline\n",
    "\n",
    "# Load the best model and tokenizer from the model_save_dir\n",
    "tokenizer = AutoTokenizer.from_pretrained(model_save_dir)\n",
    "model = AutoModelForTokenClassification.from_pretrained(model_save_dir)\n",
    "\n",
    "# Define the pipeline, for named entity recognition (NER) pipeline\n",
    "# Set the device parameter to use GPU (0 for the first GPU, or -1 for CPU)\n",
    "ner_pipeline = pipeline('token-classification', \n",
    "                        model=model, \n",
    "                        tokenizer=tokenizer, \n",
    "                        aggregation_strategy=\"first\",\n",
    "                        device=0  # Use the first GPU\n",
    "                       )\n",
    "\n",
    "print(f\"pipeline initialized with model {model.config._name_or_path} from  {model_save_dir}\")\n"
   ]
  },
  {
   "cell_type": "markdown",
   "metadata": {
    "id": "asBXdXjYJ244"
   },
   "source": [
    "### Generate Predictions from the\n",
    "Generate predictions for each test example using the best-performing model:\n",
    "\n",
    "\n",
    "Running this code will print the predictions from the best-performing model in a human-readable format, allowing you to see how it labels each token in your test sentences.\n",
    "\n"
   ]
  },
  {
   "cell_type": "code",
   "execution_count": 31,
   "metadata": {
    "colab": {
     "base_uri": "https://localhost:8080/"
    },
    "id": "h8DPAk_BJdrr",
    "outputId": "8db11576-7acc-44ae-8ead-1b0469163f6c",
    "tags": []
   },
   "outputs": [
    {
     "name": "stdout",
     "output_type": "stream",
     "text": [
      "Input: Le medecin donne des antibiotiques en cas d'infections des voies respiratoires.\n",
      "Entity: antibiotiques, Label: MedicationVaccine, Score: 0.74\n",
      "\n",
      "\n",
      "Input: Le médecin recommande des corticoïdes pour réduire l'inflammation dans les poumons.\n",
      "Entity: corticoïdes, Label: MedicationVaccine, Score: 0.75\n",
      "\n",
      "\n",
      "Input: Pour soulager les symptômes d'allergie, le médecin prescrit des antihistaminiques.\n",
      "Entity: antihistaminiques., Label: MedicationVaccine, Score: 0.75\n",
      "\n",
      "\n",
      "Input: Pour gérer le diabète, le médecin prescrit une insulinothérapie.\n",
      "Entity: insulinothérapie., Label: MedicalProcedure, Score: 0.83\n",
      "\n",
      "\n",
      "Input: Après une blessure musculaire, le patient doit suivre une physiothérapie.\n",
      "Entity: physiothérapie., Label: MedicalProcedure, Score: 0.83\n",
      "\n",
      "\n",
      "Input: En cas d'infection bactérienne, le médecin recommande une antibiothérapie.\n",
      "Entity: antibiothérapie., Label: MedicalProcedure, Score: 0.83\n",
      "\n",
      "\n"
     ]
    }
   ],
   "source": [
    "def format_predictions(predictions):\n",
    "    formatted_output = []\n",
    "    for entity in predictions:\n",
    "        formatted_output.append(f\"Entity: {entity['word']}, Label: {entity['entity_group']}, Score: {entity['score']:.2f}\")\n",
    "    return \"\\n\".join(formatted_output)\n",
    "\n",
    "for example in test_examples:\n",
    "    print(f\"Input: {example}\")\n",
    "    predictions = ner_pipeline(example)\n",
    "    formatted_output = format_predictions(predictions)\n",
    "    print(formatted_output)\n",
    "    print(\"\\n\")"
   ]
  },
  {
   "cell_type": "markdown",
   "metadata": {},
   "source": [
    "This concludes this notebook."
   ]
  }
 ],
 "metadata": {
  "accelerator": "GPU",
  "colab": {
   "gpuType": "L4",
   "machine_shape": "hm",
   "provenance": [],
   "toc_visible": true
  },
  "kernelspec": {
   "display_name": "Python [conda env:pytorch21_p39_gpu_v1]",
   "language": "python",
   "name": "conda-env-pytorch21_p39_gpu_v1-py"
  },
  "language_info": {
   "codemirror_mode": {
    "name": "ipython",
    "version": 3
   },
   "file_extension": ".py",
   "mimetype": "text/x-python",
   "name": "python",
   "nbconvert_exporter": "python",
   "pygments_lexer": "ipython3",
   "version": "3.9.16"
  },
  "widgets": {
   "application/vnd.jupyter.widget-state+json": {
    "0016565c03144d818bd843a66da86a8b": {
     "model_module": "@jupyter-widgets/controls",
     "model_module_version": "1.5.0",
     "model_name": "DescriptionStyleModel",
     "state": {
      "_model_module": "@jupyter-widgets/controls",
      "_model_module_version": "1.5.0",
      "_model_name": "DescriptionStyleModel",
      "_view_count": null,
      "_view_module": "@jupyter-widgets/base",
      "_view_module_version": "1.2.0",
      "_view_name": "StyleView",
      "description_width": ""
     }
    },
    "3babc2b05e0b43fcb2e8a5cbc95511cd": {
     "model_module": "@jupyter-widgets/controls",
     "model_module_version": "1.5.0",
     "model_name": "HBoxModel",
     "state": {
      "_dom_classes": [],
      "_model_module": "@jupyter-widgets/controls",
      "_model_module_version": "1.5.0",
      "_model_name": "HBoxModel",
      "_view_count": null,
      "_view_module": "@jupyter-widgets/controls",
      "_view_module_version": "1.5.0",
      "_view_name": "HBoxView",
      "box_style": "",
      "children": [
       "IPY_MODEL_9b9d90b4c5d8475fb97e856192e235db",
       "IPY_MODEL_41c081aaa7d042779a0ea1cbd7a68233",
       "IPY_MODEL_580b5ec03a6e44eca357a06e1f657c33"
      ],
      "layout": "IPY_MODEL_4d8596678e7d4dd58f4ce3434213402d"
     }
    },
    "41c081aaa7d042779a0ea1cbd7a68233": {
     "model_module": "@jupyter-widgets/controls",
     "model_module_version": "1.5.0",
     "model_name": "FloatProgressModel",
     "state": {
      "_dom_classes": [],
      "_model_module": "@jupyter-widgets/controls",
      "_model_module_version": "1.5.0",
      "_model_name": "FloatProgressModel",
      "_view_count": null,
      "_view_module": "@jupyter-widgets/controls",
      "_view_module_version": "1.5.0",
      "_view_name": "ProgressView",
      "bar_style": "success",
      "description": "",
      "description_tooltip": null,
      "layout": "IPY_MODEL_83a3112f313a4017b88d0cd7e50b06c0",
      "max": 6338,
      "min": 0,
      "orientation": "horizontal",
      "style": "IPY_MODEL_dbe75f6207f94b388bc0b34ee8e40ec2",
      "value": 6338
     }
    },
    "4d8596678e7d4dd58f4ce3434213402d": {
     "model_module": "@jupyter-widgets/base",
     "model_module_version": "1.2.0",
     "model_name": "LayoutModel",
     "state": {
      "_model_module": "@jupyter-widgets/base",
      "_model_module_version": "1.2.0",
      "_model_name": "LayoutModel",
      "_view_count": null,
      "_view_module": "@jupyter-widgets/base",
      "_view_module_version": "1.2.0",
      "_view_name": "LayoutView",
      "align_content": null,
      "align_items": null,
      "align_self": null,
      "border": null,
      "bottom": null,
      "display": null,
      "flex": null,
      "flex_flow": null,
      "grid_area": null,
      "grid_auto_columns": null,
      "grid_auto_flow": null,
      "grid_auto_rows": null,
      "grid_column": null,
      "grid_gap": null,
      "grid_row": null,
      "grid_template_areas": null,
      "grid_template_columns": null,
      "grid_template_rows": null,
      "height": null,
      "justify_content": null,
      "justify_items": null,
      "left": null,
      "margin": null,
      "max_height": null,
      "max_width": null,
      "min_height": null,
      "min_width": null,
      "object_fit": null,
      "object_position": null,
      "order": null,
      "overflow": null,
      "overflow_x": null,
      "overflow_y": null,
      "padding": null,
      "right": null,
      "top": null,
      "visibility": null,
      "width": null
     }
    },
    "580b5ec03a6e44eca357a06e1f657c33": {
     "model_module": "@jupyter-widgets/controls",
     "model_module_version": "1.5.0",
     "model_name": "HTMLModel",
     "state": {
      "_dom_classes": [],
      "_model_module": "@jupyter-widgets/controls",
      "_model_module_version": "1.5.0",
      "_model_name": "HTMLModel",
      "_view_count": null,
      "_view_module": "@jupyter-widgets/controls",
      "_view_module_version": "1.5.0",
      "_view_name": "HTMLView",
      "description": "",
      "description_tooltip": null,
      "layout": "IPY_MODEL_81529669f6f343b1a183c71e349800eb",
      "placeholder": "​",
      "style": "IPY_MODEL_0016565c03144d818bd843a66da86a8b",
      "value": " 6.34k/6.34k [00:00&lt;00:00, 497kB/s]"
     }
    },
    "79d88a0e4a3e472481606f3336ef3512": {
     "model_module": "@jupyter-widgets/controls",
     "model_module_version": "1.5.0",
     "model_name": "DescriptionStyleModel",
     "state": {
      "_model_module": "@jupyter-widgets/controls",
      "_model_module_version": "1.5.0",
      "_model_name": "DescriptionStyleModel",
      "_view_count": null,
      "_view_module": "@jupyter-widgets/base",
      "_view_module_version": "1.2.0",
      "_view_name": "StyleView",
      "description_width": ""
     }
    },
    "81529669f6f343b1a183c71e349800eb": {
     "model_module": "@jupyter-widgets/base",
     "model_module_version": "1.2.0",
     "model_name": "LayoutModel",
     "state": {
      "_model_module": "@jupyter-widgets/base",
      "_model_module_version": "1.2.0",
      "_model_name": "LayoutModel",
      "_view_count": null,
      "_view_module": "@jupyter-widgets/base",
      "_view_module_version": "1.2.0",
      "_view_name": "LayoutView",
      "align_content": null,
      "align_items": null,
      "align_self": null,
      "border": null,
      "bottom": null,
      "display": null,
      "flex": null,
      "flex_flow": null,
      "grid_area": null,
      "grid_auto_columns": null,
      "grid_auto_flow": null,
      "grid_auto_rows": null,
      "grid_column": null,
      "grid_gap": null,
      "grid_row": null,
      "grid_template_areas": null,
      "grid_template_columns": null,
      "grid_template_rows": null,
      "height": null,
      "justify_content": null,
      "justify_items": null,
      "left": null,
      "margin": null,
      "max_height": null,
      "max_width": null,
      "min_height": null,
      "min_width": null,
      "object_fit": null,
      "object_position": null,
      "order": null,
      "overflow": null,
      "overflow_x": null,
      "overflow_y": null,
      "padding": null,
      "right": null,
      "top": null,
      "visibility": null,
      "width": null
     }
    },
    "83a3112f313a4017b88d0cd7e50b06c0": {
     "model_module": "@jupyter-widgets/base",
     "model_module_version": "1.2.0",
     "model_name": "LayoutModel",
     "state": {
      "_model_module": "@jupyter-widgets/base",
      "_model_module_version": "1.2.0",
      "_model_name": "LayoutModel",
      "_view_count": null,
      "_view_module": "@jupyter-widgets/base",
      "_view_module_version": "1.2.0",
      "_view_name": "LayoutView",
      "align_content": null,
      "align_items": null,
      "align_self": null,
      "border": null,
      "bottom": null,
      "display": null,
      "flex": null,
      "flex_flow": null,
      "grid_area": null,
      "grid_auto_columns": null,
      "grid_auto_flow": null,
      "grid_auto_rows": null,
      "grid_column": null,
      "grid_gap": null,
      "grid_row": null,
      "grid_template_areas": null,
      "grid_template_columns": null,
      "grid_template_rows": null,
      "height": null,
      "justify_content": null,
      "justify_items": null,
      "left": null,
      "margin": null,
      "max_height": null,
      "max_width": null,
      "min_height": null,
      "min_width": null,
      "object_fit": null,
      "object_position": null,
      "order": null,
      "overflow": null,
      "overflow_x": null,
      "overflow_y": null,
      "padding": null,
      "right": null,
      "top": null,
      "visibility": null,
      "width": null
     }
    },
    "9b9d90b4c5d8475fb97e856192e235db": {
     "model_module": "@jupyter-widgets/controls",
     "model_module_version": "1.5.0",
     "model_name": "HTMLModel",
     "state": {
      "_dom_classes": [],
      "_model_module": "@jupyter-widgets/controls",
      "_model_module_version": "1.5.0",
      "_model_name": "HTMLModel",
      "_view_count": null,
      "_view_module": "@jupyter-widgets/controls",
      "_view_module_version": "1.5.0",
      "_view_name": "HTMLView",
      "description": "",
      "description_tooltip": null,
      "layout": "IPY_MODEL_cbe481ddd3514c0a9e7d7a6cf2ccee60",
      "placeholder": "​",
      "style": "IPY_MODEL_79d88a0e4a3e472481606f3336ef3512",
      "value": "Downloading builder script: 100%"
     }
    },
    "cbe481ddd3514c0a9e7d7a6cf2ccee60": {
     "model_module": "@jupyter-widgets/base",
     "model_module_version": "1.2.0",
     "model_name": "LayoutModel",
     "state": {
      "_model_module": "@jupyter-widgets/base",
      "_model_module_version": "1.2.0",
      "_model_name": "LayoutModel",
      "_view_count": null,
      "_view_module": "@jupyter-widgets/base",
      "_view_module_version": "1.2.0",
      "_view_name": "LayoutView",
      "align_content": null,
      "align_items": null,
      "align_self": null,
      "border": null,
      "bottom": null,
      "display": null,
      "flex": null,
      "flex_flow": null,
      "grid_area": null,
      "grid_auto_columns": null,
      "grid_auto_flow": null,
      "grid_auto_rows": null,
      "grid_column": null,
      "grid_gap": null,
      "grid_row": null,
      "grid_template_areas": null,
      "grid_template_columns": null,
      "grid_template_rows": null,
      "height": null,
      "justify_content": null,
      "justify_items": null,
      "left": null,
      "margin": null,
      "max_height": null,
      "max_width": null,
      "min_height": null,
      "min_width": null,
      "object_fit": null,
      "object_position": null,
      "order": null,
      "overflow": null,
      "overflow_x": null,
      "overflow_y": null,
      "padding": null,
      "right": null,
      "top": null,
      "visibility": null,
      "width": null
     }
    },
    "dbe75f6207f94b388bc0b34ee8e40ec2": {
     "model_module": "@jupyter-widgets/controls",
     "model_module_version": "1.5.0",
     "model_name": "ProgressStyleModel",
     "state": {
      "_model_module": "@jupyter-widgets/controls",
      "_model_module_version": "1.5.0",
      "_model_name": "ProgressStyleModel",
      "_view_count": null,
      "_view_module": "@jupyter-widgets/base",
      "_view_module_version": "1.2.0",
      "_view_name": "StyleView",
      "bar_color": null,
      "description_width": ""
     }
    }
   }
  }
 },
 "nbformat": 4,
 "nbformat_minor": 4
}
