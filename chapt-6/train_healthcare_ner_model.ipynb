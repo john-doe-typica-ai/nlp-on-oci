{
 "cells": [
  {
   "cell_type": "markdown",
   "metadata": {
    "id": "d-RKXcPUgwhw"
   },
   "source": [
    "***\n",
    "# <font color=red>Chapter 6: MedTALN inc.'s Case Study -  Fine-tuning Healthcare NER Model</font>\n",
    "<p style=\"margin-left:10%; margin-right:10%;\">by <font color=teal> John Doe (typica.ai) </font></p>\n",
    "\n",
    "***\n",
    "\n",
    "\n",
    "## Overview:\n",
    "\n",
    "This notebook guides you through the process of training a Named Entity Recognition (NER) model specifically tailored for healthcare data. The process is based on the concepts and scripts from the Hugging Face Token Classification (PyTorch) tutorial. You can refer to the following resources for more detailed information:\n",
    "\n",
    "- [Hugging Face NLP Course - Chapter 7: Token Classification](https://huggingface.co/learn/nlp-course/en/chapter7/2)\n",
    "- [Hugging Face Course Notebook - Token Classification (PyTorch)](https://colab.research.google.com/github/huggingface/notebooks/blob/master/course/en/chapter7/section2_pt.ipynb#scrollTo=Ff9u5jFitaJQ)\n",
    "\n",
    "\n",
    "In this notebook we will fine-tune the top-5 pre-trained models (MLM) that were selected using using the **select_mlm_models** notebook. We will fine-tune our Healthcare NER model using these top 5 pre-trained models. This process will result in 5 fine-tuned models, from which we will select the best-performing model based on evaluation metrics.\n",
    "\n",
    "\n",
    "## Process Overview\n",
    "\n",
    "The notebook is structured into several key steps to ensure a smooth and effective training process:\n",
    "\n",
    "1. **Load Dataset**: We begin by loading the dataset, specifically formatted for our token classification tasks, (i.e. NER). The dataset is expected to be in the CoNLL format, which is a standard for labeled sequence data.\n",
    "2. **Train the Model**: We will train the NER model using a pre-trained transformer model fine-tuned on our healthcare dataset. The training process will include tracking metrics such as loss, precision, recall, and F1 score.\n",
    "3. **Analyze Training Loss**: After training, we will analyze the training and evaluation loss over epochs to identify the best model checkpoint. This checkpoint represents the model that achieves the best balance between training performance and generalization to unseen data.\n",
    "\n",
    "By following these steps, we aim to develop a robust NER model that can effectively recognize and classify entities within healthcare-related text.\n",
    "\n"
   ]
  },
  {
   "cell_type": "code",
   "execution_count": 1,
   "metadata": {
    "tags": []
   },
   "outputs": [
    {
     "name": "stdout",
     "output_type": "stream",
     "text": [
      "Mon Aug 26 15:52:20 2024       \n",
      "+-----------------------------------------------------------------------------------------+\n",
      "| NVIDIA-SMI 550.90.07              Driver Version: 550.90.07      CUDA Version: 12.4     |\n",
      "|-----------------------------------------+------------------------+----------------------+\n",
      "| GPU  Name                 Persistence-M | Bus-Id          Disp.A | Volatile Uncorr. ECC |\n",
      "| Fan  Temp   Perf          Pwr:Usage/Cap |           Memory-Usage | GPU-Util  Compute M. |\n",
      "|                                         |                        |               MIG M. |\n",
      "|=========================================+========================+======================|\n",
      "|   0  NVIDIA A10                     Off |   00000000:00:04.0 Off |                    0 |\n",
      "|  0%   41C    P8             42W /  150W |       1MiB /  23028MiB |      0%      Default |\n",
      "|                                         |                        |                  N/A |\n",
      "+-----------------------------------------+------------------------+----------------------+\n",
      "                                                                                         \n",
      "+-----------------------------------------------------------------------------------------+\n",
      "| Processes:                                                                              |\n",
      "|  GPU   GI   CI        PID   Type   Process name                              GPU Memory |\n",
      "|        ID   ID                                                               Usage      |\n",
      "|=========================================================================================|\n",
      "|  No running processes found                                                             |\n",
      "+-----------------------------------------------------------------------------------------+\n"
     ]
    }
   ],
   "source": [
    "!nvidia-smi"
   ]
  },
  {
   "cell_type": "markdown",
   "metadata": {},
   "source": [
    "The Hugging Face `transformers` library is already included in our installed Conda environment (i.e., `pytorch21_p39_gpu_v1`). \n",
    "We will upgrade it to version `4.44.2`. This only needs to be done once, the first time."
   ]
  },
  {
   "cell_type": "markdown",
   "metadata": {
    "id": "hB8ngUnoTIhO",
    "tags": []
   },
   "source": [
    "%%capture \n",
    "!pip install transformers==4.44.2\n",
    "!pip install accelerate==0.33.0\n",
    "!pip install seqeval==1.2.2"
   ]
  },
  {
   "cell_type": "markdown",
   "metadata": {},
   "source": [
    "Filters out warnings"
   ]
  },
  {
   "cell_type": "code",
   "execution_count": 2,
   "metadata": {
    "tags": []
   },
   "outputs": [],
   "source": [
    "import warnings\n",
    "warnings.filterwarnings('ignore')"
   ]
  },
  {
   "cell_type": "markdown",
   "metadata": {
    "id": "9F3-hpoThls6"
   },
   "source": [
    "## Loading training dataset\n",
    "\n",
    "First, we need to load our the Hugging Face dataset that was saved earlier to the `training-datasets-bkt/healthcare_ner_dataset_v1.2.0` directory (refer to notebook `create_hf_dataset.ipynb`).\n",
    "\n",
    "This dataset `v1.2` is ready for Named Entity Recognition (NER) training."
   ]
  },
  {
   "cell_type": "code",
   "execution_count": 3,
   "metadata": {
    "id": "Qj-RVWZim7EZ",
    "tags": []
   },
   "outputs": [
    {
     "data": {
      "text/plain": [
       "DatasetDict({\n",
       "    train: Dataset({\n",
       "        features: ['id', 'tokens', 'ner_tags'],\n",
       "        num_rows: 6750\n",
       "    })\n",
       "    validation: Dataset({\n",
       "        features: ['id', 'tokens', 'ner_tags'],\n",
       "        num_rows: 1687\n",
       "    })\n",
       "    test: Dataset({\n",
       "        features: ['id', 'tokens', 'ner_tags'],\n",
       "        num_rows: 563\n",
       "    })\n",
       "})"
      ]
     },
     "execution_count": 3,
     "metadata": {},
     "output_type": "execute_result"
    }
   ],
   "source": [
    "from datasets import load_from_disk\n",
    "\n",
    "healthcare_ner_dataset = load_from_disk(\"/home/datascience/buckets/training-datasets-bkt/healthcare_ner_dataset_v1.2.0\")\n",
    "healthcare_ner_dataset"
   ]
  },
  {
   "cell_type": "code",
   "execution_count": 4,
   "metadata": {
    "colab": {
     "base_uri": "https://localhost:8080/"
    },
    "id": "MObLyjKUe-r-",
    "outputId": "e75a6e20-fda5-4c06-f336-4fd10251fb18",
    "tags": []
   },
   "outputs": [
    {
     "data": {
      "text/plain": [
       "Sequence(feature=ClassLabel(names=['O', 'B-AnatomicalStructure', 'B-Disease', 'B-MISC', 'B-MedicalProcedure', 'B-MedicationVaccine', 'B-Symptom', 'I-AnatomicalStructure', 'I-Disease', 'I-MISC', 'I-MedicalProcedure', 'I-MedicationVaccine', 'I-Symptom'], id=None), length=-1, id=None)"
      ]
     },
     "execution_count": 4,
     "metadata": {},
     "output_type": "execute_result"
    }
   ],
   "source": [
    "ner_feature = healthcare_ner_dataset[\"train\"].features[\"ner_tags\"]\n",
    "ner_feature"
   ]
  },
  {
   "cell_type": "code",
   "execution_count": 5,
   "metadata": {
    "colab": {
     "base_uri": "https://localhost:8080/"
    },
    "id": "2Slkb9C7g0Kp",
    "outputId": "7311b4d1-43c4-4c2e-d393-3702b01969f0",
    "tags": []
   },
   "outputs": [
    {
     "data": {
      "text/plain": [
       "['O',\n",
       " 'B-AnatomicalStructure',\n",
       " 'B-Disease',\n",
       " 'B-MISC',\n",
       " 'B-MedicalProcedure',\n",
       " 'B-MedicationVaccine',\n",
       " 'B-Symptom',\n",
       " 'I-AnatomicalStructure',\n",
       " 'I-Disease',\n",
       " 'I-MISC',\n",
       " 'I-MedicalProcedure',\n",
       " 'I-MedicationVaccine',\n",
       " 'I-Symptom']"
      ]
     },
     "execution_count": 5,
     "metadata": {},
     "output_type": "execute_result"
    }
   ],
   "source": [
    "label_names = ner_feature.feature.names\n",
    "label_names"
   ]
  },
  {
   "cell_type": "markdown",
   "metadata": {
    "id": "LAxtz7pNq9Jw"
   },
   "source": [
    "## Training Initialization"
   ]
  },
  {
   "cell_type": "markdown",
   "metadata": {
    "id": "BC_XkVLoYfVx"
   },
   "source": [
    "### Set Pre-Trained Models for Fine-Tuning\n",
    "\n",
    "In the following cell, we initialize the pre-trained MLM model that that will be fine-tuned using our Healthcare NER dataset. The top 5 models, chosen based on their Weighted Entity Match Scores, are as follows:\n",
    "\n",
    "**top-5 MLM Models:**\n",
    "1. Dr-BERT/DrBERT-4GB\n",
    "2. abazoge/DrBERT-4096\n",
    "3. Dr-BERT/DrBERT-7GB\n",
    "4. almanach/camembert-bio-base\n",
    "5. Dr-BERT/DrBERT-4GB-CP-PubMedBERT"
   ]
  },
  {
   "cell_type": "code",
   "execution_count": 6,
   "metadata": {
    "colab": {
     "base_uri": "https://localhost:8080/"
    },
    "id": "cvvVU1zthTQK",
    "outputId": "11627d70-7ac3-4a95-bf27-70424495e528",
    "tags": []
   },
   "outputs": [],
   "source": [
    "from transformers import AutoTokenizer\n",
    "\n",
    "model_checkpoint = \"Dr-BERT/DrBERT-4GB\"\n",
    "tokenizer = AutoTokenizer.from_pretrained(model_checkpoint)"
   ]
  },
  {
   "cell_type": "markdown",
   "metadata": {
    "id": "bHuMKfp_vQOj"
   },
   "source": [
    "### Declare helper functions"
   ]
  },
  {
   "cell_type": "code",
   "execution_count": 7,
   "metadata": {
    "id": "GnkEv88Vh24n",
    "tags": []
   },
   "outputs": [],
   "source": [
    "import evaluate\n",
    "import numpy as np\n",
    "\n",
    "def align_labels_with_tokens(labels, word_ids):\n",
    "    new_labels = []\n",
    "    current_word = None\n",
    "    for word_id in word_ids:\n",
    "        if word_id != current_word:\n",
    "            # Start of a new word!\n",
    "            current_word = word_id\n",
    "            label = -100 if word_id is None else labels[word_id]\n",
    "            new_labels.append(label)\n",
    "        elif word_id is None:\n",
    "            # Special token\n",
    "            new_labels.append(-100)\n",
    "        else:\n",
    "            # Same word as previous token\n",
    "            label = labels[word_id]\n",
    "            # If the label is B-XXX we change it to I-XXX\n",
    "            if label % 2 == 1:\n",
    "                label += 1\n",
    "            new_labels.append(label)\n",
    "\n",
    "    return new_labels\n",
    "\n",
    "# This function tokenize the dataset and align labels with tokens\n",
    "def tokenize_and_align_labels(examples):\n",
    "    tokenized_inputs = tokenizer(\n",
    "        examples[\"tokens\"], truncation=True, is_split_into_words=True\n",
    "    )\n",
    "    all_labels = examples[\"ner_tags\"]\n",
    "    new_labels = []\n",
    "    for i, labels in enumerate(all_labels):\n",
    "        word_ids = tokenized_inputs.word_ids(i)\n",
    "        new_labels.append(align_labels_with_tokens(labels, word_ids))\n",
    "\n",
    "    tokenized_inputs[\"labels\"] = new_labels\n",
    "    return tokenized_inputs\n",
    "\n",
    "\n",
    "#This function compute eveluation metrics\n",
    "\n",
    "metric = evaluate.load(\"seqeval\")\n",
    "\n",
    "def compute_metrics(eval_preds):\n",
    "    logits, labels = eval_preds\n",
    "    predictions = np.argmax(logits, axis=-1)\n",
    "\n",
    "    # Remove ignored index (special tokens) and convert to labels\n",
    "    true_labels = [[label_names[l] for l in label if l != -100] for label in labels]\n",
    "    true_predictions = [\n",
    "        [label_names[p] for (p, l) in zip(prediction, label) if l != -100]\n",
    "        for prediction, label in zip(predictions, labels)\n",
    "    ]\n",
    "    all_metrics = metric.compute(predictions=true_predictions, references=true_labels)\n",
    "    return {\n",
    "        \"precision\": all_metrics[\"overall_precision\"],\n",
    "        \"recall\": all_metrics[\"overall_recall\"],\n",
    "        \"f1\": all_metrics[\"overall_f1\"],\n",
    "        \"accuracy\": all_metrics[\"overall_accuracy\"],\n",
    "    }"
   ]
  },
  {
   "cell_type": "markdown",
   "metadata": {
    "id": "E-DUKVCRwIqJ"
   },
   "source": [
    "### Initialize the training objects"
   ]
  },
  {
   "cell_type": "code",
   "execution_count": 8,
   "metadata": {
    "colab": {
     "base_uri": "https://localhost:8080/"
    },
    "id": "nj3gNy_Bh4UK",
    "outputId": "f056a979-e11a-4202-e426-88f9ea2b2b0d",
    "tags": []
   },
   "outputs": [
    {
     "name": "stderr",
     "output_type": "stream",
     "text": [
      "Some weights of CamembertForTokenClassification were not initialized from the model checkpoint at Dr-BERT/DrBERT-4GB and are newly initialized: ['classifier.bias', 'classifier.weight']\n",
      "You should probably TRAIN this model on a down-stream task to be able to use it for predictions and inference.\n"
     ]
    }
   ],
   "source": [
    "from transformers import DataCollatorForTokenClassification\n",
    "from transformers import TrainingArguments\n",
    "\n",
    "# Tokenize dataset\n",
    "tokenized_datasets = healthcare_ner_dataset.map(\n",
    "    tokenize_and_align_labels,\n",
    "    batched=True,\n",
    "    remove_columns=healthcare_ner_dataset[\"train\"].column_names,\n",
    ")\n",
    "\n",
    "# init data collator\n",
    "data_collator = DataCollatorForTokenClassification(tokenizer=tokenizer)\n",
    "\n",
    "# init the model\n",
    "\n",
    "id2label = {i: label for i, label in enumerate(label_names)}\n",
    "label2id = {v: k for k, v in id2label.items()}\n",
    "\n",
    "from transformers import AutoModelForTokenClassification\n",
    "\n",
    "model = AutoModelForTokenClassification.from_pretrained(\n",
    "    model_checkpoint,\n",
    "    id2label=id2label,\n",
    "    label2id=label2id,\n",
    ")\n",
    "\n",
    "\n",
    "# init the training arguments\n",
    "\n",
    "models_base_folder = \"/home/datascience/training_local_dir/models/healthcare_ner\"\n",
    "\n",
    "args = TrainingArguments(\n",
    "    f\"{models_base_folder}-{model_checkpoint}\",\n",
    "    evaluation_strategy=\"epoch\",\n",
    "    save_strategy=\"epoch\",\n",
    "    learning_rate=2e-5,\n",
    "    num_train_epochs=5,\n",
    "    weight_decay=0.01,\n",
    "    load_best_model_at_end=True,\n",
    "    push_to_hub=False,\n",
    ")"
   ]
  },
  {
   "cell_type": "markdown",
   "metadata": {
    "id": "Eo8yWskYY9ZB"
   },
   "source": [
    "## Starting the training\n",
    "\n",
    "Fine-tuning the pre-trained model into a our Healthcare NER model"
   ]
  },
  {
   "cell_type": "code",
   "execution_count": 9,
   "metadata": {
    "colab": {
     "base_uri": "https://localhost:8080/",
     "height": 284
    },
    "id": "vfONNX7vDCX_",
    "outputId": "20ea7d50-3987-4a9d-9056-f67ca1a66c39",
    "tags": []
   },
   "outputs": [
    {
     "name": "stderr",
     "output_type": "stream",
     "text": [
      "Detected kernel version 5.4.17, which is below the recommended minimum of 5.5.0; this can cause the process to hang. It is recommended to upgrade the kernel to the minimum version or higher.\n"
     ]
    },
    {
     "name": "stdout",
     "output_type": "stream",
     "text": [
      "[2024-08-26 15:52:27,611] [INFO] [real_accelerator.py:158:get_accelerator] Setting ds_accelerator to cuda (auto detect)\n"
     ]
    },
    {
     "data": {
      "text/html": [
       "\n",
       "    <div>\n",
       "      \n",
       "      <progress value='4220' max='4220' style='width:300px; height:20px; vertical-align: middle;'></progress>\n",
       "      [4220/4220 06:03, Epoch 5/5]\n",
       "    </div>\n",
       "    <table border=\"1\" class=\"dataframe\">\n",
       "  <thead>\n",
       " <tr style=\"text-align: left;\">\n",
       "      <th>Epoch</th>\n",
       "      <th>Training Loss</th>\n",
       "      <th>Validation Loss</th>\n",
       "      <th>Precision</th>\n",
       "      <th>Recall</th>\n",
       "      <th>F1</th>\n",
       "      <th>Accuracy</th>\n",
       "    </tr>\n",
       "  </thead>\n",
       "  <tbody>\n",
       "    <tr>\n",
       "      <td>1</td>\n",
       "      <td>0.394700</td>\n",
       "      <td>0.221041</td>\n",
       "      <td>0.661832</td>\n",
       "      <td>0.724099</td>\n",
       "      <td>0.691567</td>\n",
       "      <td>0.918677</td>\n",
       "    </tr>\n",
       "    <tr>\n",
       "      <td>2</td>\n",
       "      <td>0.179100</td>\n",
       "      <td>0.201834</td>\n",
       "      <td>0.715773</td>\n",
       "      <td>0.747903</td>\n",
       "      <td>0.731486</td>\n",
       "      <td>0.932372</td>\n",
       "    </tr>\n",
       "    <tr>\n",
       "      <td>3</td>\n",
       "      <td>0.098300</td>\n",
       "      <td>0.212497</td>\n",
       "      <td>0.743618</td>\n",
       "      <td>0.752891</td>\n",
       "      <td>0.748226</td>\n",
       "      <td>0.936063</td>\n",
       "    </tr>\n",
       "    <tr>\n",
       "      <td>4</td>\n",
       "      <td>0.056400</td>\n",
       "      <td>0.252355</td>\n",
       "      <td>0.728846</td>\n",
       "      <td>0.783042</td>\n",
       "      <td>0.754973</td>\n",
       "      <td>0.936119</td>\n",
       "    </tr>\n",
       "    <tr>\n",
       "      <td>5</td>\n",
       "      <td>0.029800</td>\n",
       "      <td>0.275240</td>\n",
       "      <td>0.736583</td>\n",
       "      <td>0.781002</td>\n",
       "      <td>0.758143</td>\n",
       "      <td>0.937359</td>\n",
       "    </tr>\n",
       "  </tbody>\n",
       "</table><p>"
      ],
      "text/plain": [
       "<IPython.core.display.HTML object>"
      ]
     },
     "metadata": {},
     "output_type": "display_data"
    },
    {
     "data": {
      "text/plain": [
       "TrainOutput(global_step=4220, training_loss=0.14149999550733522, metrics={'train_runtime': 363.2984, 'train_samples_per_second': 92.899, 'train_steps_per_second': 11.616, 'total_flos': 557445304412724.0, 'train_loss': 0.14149999550733522, 'epoch': 5.0})"
      ]
     },
     "execution_count": 9,
     "metadata": {},
     "output_type": "execute_result"
    }
   ],
   "source": [
    "from transformers import Trainer\n",
    "\n",
    "trainer = Trainer(\n",
    "    model=model,\n",
    "    args=args,\n",
    "    train_dataset=tokenized_datasets[\"train\"],\n",
    "    eval_dataset=tokenized_datasets[\"validation\"],\n",
    "    data_collator=data_collator,\n",
    "    compute_metrics=compute_metrics,\n",
    "    tokenizer=tokenizer,\n",
    ")\n",
    "trainer.train()"
   ]
  },
  {
   "cell_type": "markdown",
   "metadata": {},
   "source": [
    "Below, a temporary fix for IO error when trainer writes directly to buckete mount"
   ]
  },
  {
   "cell_type": "code",
   "execution_count": 10,
   "metadata": {
    "tags": []
   },
   "outputs": [
    {
     "name": "stdout",
     "output_type": "stream",
     "text": [
      "Model folder moved to /home/datascience/buckets/models-ckpt-bkt/models/healthcare_ner-Dr-BERT/DrBERT-4GB\n"
     ]
    }
   ],
   "source": [
    "import shutil\n",
    "\n",
    "# set the model local and mount directories\n",
    "local_dir = f\"/home/datascience/training_local_dir/models/healthcare_ner-{model_checkpoint}\"\n",
    "mount_dir = f\"/home/datascience/buckets/models-ckpt-bkt/models/healthcare_ner-{model_checkpoint}\"\n",
    "\n",
    "# Move the model local folder to models-ckpt-bkt mount\n",
    "shutil.move(local_dir, mount_dir)\n",
    "\n",
    "print(f\"Model folder moved to {mount_dir}\")"
   ]
  },
  {
   "cell_type": "markdown",
   "metadata": {
    "id": "eCCXHpAsXzeL"
   },
   "source": [
    "## Analyzing Training and Evaluation Losses\n",
    "\n",
    "After training a model, it is crucial to understand how well the model is learning over time.\n"
   ]
  },
  {
   "cell_type": "markdown",
   "metadata": {
    "id": "cVtG3WMdawvS"
   },
   "source": [
    "### Visual Analysis:\n",
    "\n",
    "By plotting  losses over epochs, we can visually inspect the learning process and make informed decisions about which model checkpoint (i.e., which epoch) provides the best balance between learning and generalization.\n",
    "\n",
    "In the plot, we can observe the following trends:\n",
    "\n",
    "- The **training loss** decreases steadily across epochs, which suggests that the model is effectively learning and improving its performance on the training data.\n",
    "- The **evaluation loss** initially decreases but then starts to stabilize and slightly increase in the later epochs. This is a common sign of **overfitting**, where the model becomes too specialized in the training data and performs less well on the evaluation data.\n",
    "\n",
    "The best checkpoint is typically the epoch where the evaluation loss is at its lowest, indicating the best generalization to unseen data. In this plot:\n",
    "\n",
    "- The evaluation loss is lowest around **epoch 2**.\n",
    "- However, starting from **epoch 3**, the evaluation loss begins to increase slightly, suggesting that further training may not improve model generalization and might even harm it by overfitting.\n",
    "\n",
    "Based on this analysis, **epoch 2** is likely the best checkpoint. It has the lowest evaluation loss, which means the model was best at generalizing to new data at this point. Continuing the training beyond this point appears to result in diminishing returns and increased risk of overfitting."
   ]
  },
  {
   "cell_type": "code",
   "execution_count": 11,
   "metadata": {
    "colab": {
     "base_uri": "https://localhost:8080/",
     "height": 564
    },
    "id": "50PW11qVWtb0",
    "outputId": "7c33c0d6-e41b-45fd-f6de-574246e0d007",
    "tags": []
   },
   "outputs": [
    {
     "data": {
      "image/png": "[encoded data removed]",
      "text/plain": [
       "<Figure size 1000x600 with 1 Axes>"
      ]
     },
     "metadata": {},
     "output_type": "display_data"
    }
   ],
   "source": [
    "import matplotlib.pyplot as plt\n",
    "\n",
    "# Initialize lists to store the losses and epochs\n",
    "train_loss = []\n",
    "eval_loss = []\n",
    "epochs = []\n",
    "\n",
    "# Extract the losses and epochs from the log history\n",
    "for log in trainer.state.log_history:\n",
    "    if 'loss' in log and 'epoch' in log:  # Training loss\n",
    "        train_loss.append(log['loss'])\n",
    "        epochs.append(log['epoch'])\n",
    "    if 'eval_loss' in log and 'epoch' in log:  # Evaluation loss\n",
    "        eval_loss.append(log['eval_loss'])\n",
    "\n",
    "# Ensure the epochs list is aligned with eval_loss if needed\n",
    "eval_epochs = epochs[:len(eval_loss)] if len(eval_loss) == len(epochs) else list(range(1, len(eval_loss) + 1))\n",
    "\n",
    "\n",
    "plt.figure(figsize=(10, 6))\n",
    "\n",
    "# Plot training loss\n",
    "plt.plot(epochs, train_loss, label='Training Loss', marker='o', linestyle='-')\n",
    "\n",
    "# Plot evaluation loss\n",
    "plt.plot(eval_epochs, eval_loss, label='Evaluation Loss', marker='o', linestyle='-')\n",
    "\n",
    "# Add labels and title\n",
    "plt.xlabel('Epochs')\n",
    "plt.ylabel('Loss')\n",
    "plt.title('Training and Evaluation Loss Over Epochs')\n",
    "plt.legend()\n",
    "plt.grid(True)\n",
    "\n",
    "# Show the plot\n",
    "plt.show()\n"
   ]
  },
  {
   "cell_type": "markdown",
   "metadata": {
    "id": "fho08QWYZKpN"
   },
   "source": [
    "### Automated Checkpoint Selection\n",
    "\n",
    "While effective, this manual approach has some limitations:\n",
    "- **Subjectivity**: Visual inspection is subjective and may not be consistent across different viewers or datasets.\n",
    "- **Time-consuming**: Manually inspecting plots is feasible for a few experiments, but it becomes cumbersome when training multiple models or fine-tuning hyperparameters.\n",
    "\n",
    "### Automated Checkpoint Selection\n",
    "\n",
    "To streamline this process and make it more objective, we can leverage the `trainer.state.best_model_checkpoint` feature provided by the Hugging Face Trainer API. This feature automatically tracks the checkpoint with the best performance on the validation set during training, based on a specified metric (e.g., evaluation loss, F1 score, accuracy).\n"
   ]
  },
  {
   "cell_type": "code",
   "execution_count": 12,
   "metadata": {
    "colab": {
     "base_uri": "https://localhost:8080/"
    },
    "id": "zyoQtSNpUrUh",
    "outputId": "bb859524-cb64-4f13-c71a-c60a38931d20",
    "tags": []
   },
   "outputs": [
    {
     "name": "stdout",
     "output_type": "stream",
     "text": [
      "The best for checkpoint model Dr-BERT/DrBERT-4GB is:\n",
      "Checkpoint: /home/datascience/buckets/models-ckpt-bkt/models/healthcare_ner-Dr-BERT/DrBERT-4GB/checkpoint-1688 (Step: 1688) :\n",
      "F1 Score: 0.7315\n",
      "Recall: 0.7479\n",
      "Accuracy: 0.9324\n"
     ]
    }
   ],
   "source": [
    "import re\n",
    "\n",
    "# Get the best model checkpoint from the trainer state object\n",
    "best_model_checkpoint = trainer.state.best_model_checkpoint\n",
    "\n",
    "#temp fix\n",
    "best_model_checkpoint = best_model_checkpoint.replace('training_local_dir', 'buckets/models-ckpt-bkt')\n",
    "\n",
    "# Extract the step number from the best model checkpoint name\n",
    "# Assuming the format is like 'checkpoint-1688' at the end of the path\n",
    "step_match = re.search(r'checkpoint-(\\d+)', best_model_checkpoint)\n",
    "best_checkpoint_step = int(step_match.group(1)) if step_match else None\n",
    "\n",
    "# Initialize variables to store metrics\n",
    "eval_f1, eval_recall, eval_accuracy = None, None, None\n",
    "\n",
    "# Search for the relevant evaluation metrics in log_history\n",
    "for log in trainer.state.log_history:\n",
    "    if 'eval_f1' in log and log.get('step') == best_checkpoint_step:\n",
    "        eval_f1 = log['eval_f1']\n",
    "        eval_recall = log.get('eval_recall', None)\n",
    "        eval_accuracy = log.get('eval_accuracy', None)\n",
    "        break  # Once the metrics are found, exit the loop\n",
    "\n",
    "# Print the metrics for the best model\n",
    "if eval_f1 is not None:\n",
    "    print(f\"The best for checkpoint model {trainer.model.config.name_or_path} is:\")\n",
    "    print(f\"Checkpoint: {best_model_checkpoint} (Step: {best_checkpoint_step}) :\")\n",
    "    print(f\"F1 Score: {eval_f1:.4f}\")\n",
    "    print(f\"Recall: {eval_recall:.4f}\")\n",
    "    print(f\"Accuracy: {eval_accuracy:.4f}\")\n"
   ]
  },
  {
   "cell_type": "markdown",
   "metadata": {},
   "source": [
    "Let’s now test the best checkpoint for this Healthcare NER Model"
   ]
  },
  {
   "cell_type": "code",
   "execution_count": 13,
   "metadata": {
    "tags": []
   },
   "outputs": [
    {
     "name": "stderr",
     "output_type": "stream",
     "text": [
      "Hardware accelerator e.g. GPU is available in the environment, but no `device` argument is passed to the `Pipeline` object. Model will be on CPU.\n"
     ]
    },
    {
     "data": {
      "text/plain": [
       "[{'entity_group': 'MedicationVaccine',\n",
       "  'score': 0.85936165,\n",
       "  'word': 'antibiotiques',\n",
       "  'start': 20,\n",
       "  'end': 34}]"
      ]
     },
     "execution_count": 13,
     "metadata": {},
     "output_type": "execute_result"
    }
   ],
   "source": [
    "from transformers import pipeline\n",
    "\n",
    "# test the healthcare NER model\n",
    "token_classifier = pipeline(\"token-classification\", model=best_model_checkpoint, aggregation_strategy=\"first\")\n",
    "token_classifier(\"Le medecin donne des antibiotiques pour les infections bactériennes.\")\n"
   ]
  },
  {
   "cell_type": "markdown",
   "metadata": {},
   "source": [
    "The newly fine-tuned Healthcare NER model successfully identified \"antibiotiques\" as a \"MedicationVaccine\" entity. This suggests that the model is effectively identifying medical entities within medical text. \n",
    "\n",
    "Repeat the fine-tuning process for each of the top-5 MLM Models:\n",
    "1. Dr-BERT/DrBERT-4GB\n",
    "2. abazoge/DrBERT-4096\n",
    "3. Dr-BERT/DrBERT-7GB\n",
    "4. almanach/camembert-bio-base\n",
    "5. Dr-BERT/DrBERT-4GB-CP-PubMedBERT\n",
    "\n",
    "To do this, restart this notebook and changing the model_checkpoint at the cell: Set Pre-Trained Models for Fine-Tuning.\n",
    "\n",
    "\n",
    "This concludes the notebook.\n"
   ]
  }
 ],
 "metadata": {
  "accelerator": "GPU",
  "colab": {
   "gpuType": "A100",
   "machine_shape": "hm",
   "provenance": [],
   "toc_visible": true
  },
  "kernelspec": {
   "display_name": "Python [conda env:pytorch21_p39_gpu_v1]",
   "language": "python",
   "name": "conda-env-pytorch21_p39_gpu_v1-py"
  },
  "language_info": {
   "codemirror_mode": {
    "name": "ipython",
    "version": 3
   },
   "file_extension": ".py",
   "mimetype": "text/x-python",
   "name": "python",
   "nbconvert_exporter": "python",
   "pygments_lexer": "ipython3",
   "version": "3.9.16"
  }
 },
 "nbformat": 4,
 "nbformat_minor": 4
}
