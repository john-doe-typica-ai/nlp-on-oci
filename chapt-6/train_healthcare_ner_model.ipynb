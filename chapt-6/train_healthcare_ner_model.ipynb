{
 "cells": [
  {
   "cell_type": "markdown",
   "metadata": {
    "id": "d-RKXcPUgwhw"
   },
   "source": [
    "***\n",
    "# <font color=red>Chapter 5: MedTALN inc.'s Case Study -  Fine-tuning Healthcare NER Model</font>\n",
    "<p style=\"margin-left:10%; margin-right:10%;\">by <font color=teal> John Doe (typica.ai) </font></p>\n",
    "\n",
    "***\n",
    "\n",
    "\n",
    "## Overview:\n",
    "\n",
    "This notebook guides you through the process of training a Named Entity Recognition (NER) model specifically tailored for healthcare data. The process is based on the concepts and scripts from the Hugging Face Token Classification (PyTorch) tutorial. You can refer to the following resources for more detailed information:\n",
    "\n",
    "- [Hugging Face NLP Course - Chapter 7: Token Classification](https://huggingface.co/learn/nlp-course/en/chapter7/2)\n",
    "- [Hugging Face Course Notebook - Token Classification (PyTorch)](https://colab.research.google.com/github/huggingface/notebooks/blob/master/course/en/chapter7/section2_pt.ipynb#scrollTo=Ff9u5jFitaJQ)\n",
    "\n",
    "\n",
    "In this notebook we will fine-tune the top-5 pre-trained models (MLM) that were selected using using the **select_mlm_models** notebook. We will fine-tune our Healthcare NER model using these top 5 pre-trained models. This process will result in 5 fine-tuned models, from which we will select the best-performing model based on evaluation metrics.\n",
    "\n",
    "\n",
    "## Process Overview\n",
    "\n",
    "The notebook is structured into several key steps to ensure a smooth and effective training process:\n",
    "\n",
    "1. **Load Dataset**: We begin by loading the dataset, specifically formatted for our token classification tasks, (i.e. NER). The dataset is expected to be in the CoNLL format, which is a standard for labeled sequence data.\n",
    "2. **Train the Model**: We will train the NER model using a pre-trained transformer model fine-tuned on our healthcare dataset. The training process will include tracking metrics such as loss, precision, recall, and F1 score.\n",
    "3. **Analyze Training Loss**: After training, we will analyze the training and evaluation loss over epochs to identify the best model checkpoint. This checkpoint represents the model that achieves the best balance between training performance and generalization to unseen data.\n",
    "\n",
    "By following these steps, we aim to develop a robust NER model that can effectively recognize and classify entities within healthcare-related text.\n",
    "\n"
   ]
  },
  {
   "cell_type": "markdown",
   "metadata": {},
   "source": [
    "Install the hugging face transformers library (the first time)."
   ]
  },
  {
   "cell_type": "code",
   "execution_count": 7,
   "metadata": {
    "id": "hB8ngUnoTIhO",
    "tags": []
   },
   "outputs": [],
   "source": [
    "%%capture\n",
    "!pip install transformers -U\n",
    "!pip install accelerate -U\n",
    "!pip install datasets\n",
    "!pip install evaluate\n",
    "!pip install seqeval"
   ]
  },
  {
   "cell_type": "markdown",
   "metadata": {},
   "source": [
    "Filters out warnings"
   ]
  },
  {
   "cell_type": "code",
   "execution_count": 1,
   "metadata": {
    "tags": []
   },
   "outputs": [],
   "source": [
    "import warnings\n",
    "warnings.filterwarnings('ignore')"
   ]
  },
  {
   "cell_type": "markdown",
   "metadata": {
    "id": "9F3-hpoThls6"
   },
   "source": [
    "## Loading training dataset\n",
    "\n",
    "First, we need to load our the Hugging Face dataset that was saved earlier to the `training-datasets-bkt/healthcare_ner_dataset_v1.2.0` directory (refer to notebook `create_hf_dataset.ipynb`).\n",
    "\n",
    "This dataset `v1.2` is ready for Named Entity Recognition (NER) training."
   ]
  },
  {
   "cell_type": "code",
   "execution_count": 2,
   "metadata": {
    "id": "Qj-RVWZim7EZ",
    "tags": []
   },
   "outputs": [
    {
     "data": {
      "text/plain": [
       "DatasetDict({\n",
       "    train: Dataset({\n",
       "        features: ['id', 'tokens', 'ner_tags'],\n",
       "        num_rows: 6750\n",
       "    })\n",
       "    validation: Dataset({\n",
       "        features: ['id', 'tokens', 'ner_tags'],\n",
       "        num_rows: 1687\n",
       "    })\n",
       "    test: Dataset({\n",
       "        features: ['id', 'tokens', 'ner_tags'],\n",
       "        num_rows: 563\n",
       "    })\n",
       "})"
      ]
     },
     "execution_count": 2,
     "metadata": {},
     "output_type": "execute_result"
    }
   ],
   "source": [
    "from datasets import load_from_disk\n",
    "\n",
    "healthcare_ner_dataset = load_from_disk(\"/home/datascience/buckets/training-datasets-bkt/healthcare_ner_dataset_v1.2.0\")\n",
    "healthcare_ner_dataset"
   ]
  },
  {
   "cell_type": "code",
   "execution_count": 3,
   "metadata": {
    "colab": {
     "base_uri": "https://localhost:8080/"
    },
    "id": "MObLyjKUe-r-",
    "outputId": "e75a6e20-fda5-4c06-f336-4fd10251fb18",
    "tags": []
   },
   "outputs": [
    {
     "data": {
      "text/plain": [
       "Sequence(feature=ClassLabel(names=['O', 'B-AnatomicalStructure', 'B-Disease', 'B-MISC', 'B-MedicalProcedure', 'B-MedicationVaccine', 'B-Symptom', 'I-AnatomicalStructure', 'I-Disease', 'I-MISC', 'I-MedicalProcedure', 'I-MedicationVaccine', 'I-Symptom'], id=None), length=-1, id=None)"
      ]
     },
     "execution_count": 3,
     "metadata": {},
     "output_type": "execute_result"
    }
   ],
   "source": [
    "ner_feature = healthcare_ner_dataset[\"train\"].features[\"ner_tags\"]\n",
    "ner_feature"
   ]
  },
  {
   "cell_type": "code",
   "execution_count": 4,
   "metadata": {
    "colab": {
     "base_uri": "https://localhost:8080/"
    },
    "id": "2Slkb9C7g0Kp",
    "outputId": "7311b4d1-43c4-4c2e-d393-3702b01969f0",
    "tags": []
   },
   "outputs": [
    {
     "data": {
      "text/plain": [
       "['O',\n",
       " 'B-AnatomicalStructure',\n",
       " 'B-Disease',\n",
       " 'B-MISC',\n",
       " 'B-MedicalProcedure',\n",
       " 'B-MedicationVaccine',\n",
       " 'B-Symptom',\n",
       " 'I-AnatomicalStructure',\n",
       " 'I-Disease',\n",
       " 'I-MISC',\n",
       " 'I-MedicalProcedure',\n",
       " 'I-MedicationVaccine',\n",
       " 'I-Symptom']"
      ]
     },
     "execution_count": 4,
     "metadata": {},
     "output_type": "execute_result"
    }
   ],
   "source": [
    "label_names = ner_feature.feature.names\n",
    "label_names"
   ]
  },
  {
   "cell_type": "markdown",
   "metadata": {
    "id": "LAxtz7pNq9Jw"
   },
   "source": [
    "## Training Initialization"
   ]
  },
  {
   "cell_type": "markdown",
   "metadata": {
    "id": "BC_XkVLoYfVx"
   },
   "source": [
    "### Set Pre-Trained Models for Fine-Tuning\n",
    "\n",
    "In the following cell, we initialize the pre-trained MLM model that that will be fine-tuned using our Healthcare NER dataset. The top 5 models, chosen based on their Weighted Entity Match Scores, are as follows:\n",
    "\n",
    "**Model Ranking based on Weighted Entity Match Scores (top-5):**\n",
    "1. Dr-BERT/DrBERT-4GB: Cumulative Score = 3.65\n",
    "2. abazoge/DrBERT-4096: Cumulative Score = 2.85\n",
    "3. Dr-BERT/DrBERT-7GB: Cumulative Score = 2.75\n",
    "4. almanach/camembert-bio-base: Cumulative Score = 2.5\n",
    "5. Dr-BERT/DrBERT-4GB-CP-PubMedBERT: Cumulative Score = 0.2\n",
    "\n",
    "\n",
    "\n"
   ]
  },
  {
   "cell_type": "code",
   "execution_count": 6,
   "metadata": {
    "colab": {
     "base_uri": "https://localhost:8080/"
    },
    "id": "cvvVU1zthTQK",
    "outputId": "11627d70-7ac3-4a95-bf27-70424495e528",
    "tags": []
   },
   "outputs": [],
   "source": [
    "from transformers import AutoTokenizer\n",
    "\n",
    "model_checkpoint = \"Dr-BERT/DrBERT-4GB\"\n",
    "tokenizer = AutoTokenizer.from_pretrained(model_checkpoint)"
   ]
  },
  {
   "cell_type": "markdown",
   "metadata": {
    "id": "bHuMKfp_vQOj"
   },
   "source": [
    "### Declare helper functions"
   ]
  },
  {
   "cell_type": "code",
   "execution_count": 7,
   "metadata": {
    "id": "GnkEv88Vh24n",
    "tags": []
   },
   "outputs": [
    {
     "data": {
      "application/vnd.jupyter.widget-view+json": {
       "model_id": "9fda241d80fe468ba7e2996873dcef71",
       "version_major": 2,
       "version_minor": 0
      },
      "text/plain": [
       "Downloading builder script:   0%|          | 0.00/6.34k [00:00<?, ?B/s]"
      ]
     },
     "metadata": {},
     "output_type": "display_data"
    }
   ],
   "source": [
    "import evaluate\n",
    "import numpy as np\n",
    "\n",
    "def align_labels_with_tokens(labels, word_ids):\n",
    "    new_labels = []\n",
    "    current_word = None\n",
    "    for word_id in word_ids:\n",
    "        if word_id != current_word:\n",
    "            # Start of a new word!\n",
    "            current_word = word_id\n",
    "            label = -100 if word_id is None else labels[word_id]\n",
    "            new_labels.append(label)\n",
    "        elif word_id is None:\n",
    "            # Special token\n",
    "            new_labels.append(-100)\n",
    "        else:\n",
    "            # Same word as previous token\n",
    "            label = labels[word_id]\n",
    "            # If the label is B-XXX we change it to I-XXX\n",
    "            if label % 2 == 1:\n",
    "                label += 1\n",
    "            new_labels.append(label)\n",
    "\n",
    "    return new_labels\n",
    "\n",
    "# This function tokenize the dataset and align labels with tokens\n",
    "def tokenize_and_align_labels(examples):\n",
    "    tokenized_inputs = tokenizer(\n",
    "        examples[\"tokens\"], truncation=True, is_split_into_words=True\n",
    "    )\n",
    "    all_labels = examples[\"ner_tags\"]\n",
    "    new_labels = []\n",
    "    for i, labels in enumerate(all_labels):\n",
    "        word_ids = tokenized_inputs.word_ids(i)\n",
    "        new_labels.append(align_labels_with_tokens(labels, word_ids))\n",
    "\n",
    "    tokenized_inputs[\"labels\"] = new_labels\n",
    "    return tokenized_inputs\n",
    "\n",
    "\n",
    "#This function compute eveluation metrics\n",
    "\n",
    "metric = evaluate.load(\"seqeval\")\n",
    "\n",
    "def compute_metrics(eval_preds):\n",
    "    logits, labels = eval_preds\n",
    "    predictions = np.argmax(logits, axis=-1)\n",
    "\n",
    "    # Remove ignored index (special tokens) and convert to labels\n",
    "    true_labels = [[label_names[l] for l in label if l != -100] for label in labels]\n",
    "    true_predictions = [\n",
    "        [label_names[p] for (p, l) in zip(prediction, label) if l != -100]\n",
    "        for prediction, label in zip(predictions, labels)\n",
    "    ]\n",
    "    all_metrics = metric.compute(predictions=true_predictions, references=true_labels)\n",
    "    return {\n",
    "        \"precision\": all_metrics[\"overall_precision\"],\n",
    "        \"recall\": all_metrics[\"overall_recall\"],\n",
    "        \"f1\": all_metrics[\"overall_f1\"],\n",
    "        \"accuracy\": all_metrics[\"overall_accuracy\"],\n",
    "    }"
   ]
  },
  {
   "cell_type": "markdown",
   "metadata": {
    "id": "E-DUKVCRwIqJ"
   },
   "source": [
    "### Initialize the training objects"
   ]
  },
  {
   "cell_type": "code",
   "execution_count": 8,
   "metadata": {
    "colab": {
     "base_uri": "https://localhost:8080/"
    },
    "id": "nj3gNy_Bh4UK",
    "outputId": "f056a979-e11a-4202-e426-88f9ea2b2b0d",
    "tags": []
   },
   "outputs": [
    {
     "data": {
      "application/vnd.jupyter.widget-view+json": {
       "model_id": "acc2c9d383de42ccb3d7114ee1cd5d70",
       "version_major": 2,
       "version_minor": 0
      },
      "text/plain": [
       "Map:   0%|          | 0/6750 [00:00<?, ? examples/s]"
      ]
     },
     "metadata": {},
     "output_type": "display_data"
    },
    {
     "data": {
      "application/vnd.jupyter.widget-view+json": {
       "model_id": "5503f6b1ea9d4a129d6700385c723525",
       "version_major": 2,
       "version_minor": 0
      },
      "text/plain": [
       "Map:   0%|          | 0/1687 [00:00<?, ? examples/s]"
      ]
     },
     "metadata": {},
     "output_type": "display_data"
    },
    {
     "data": {
      "application/vnd.jupyter.widget-view+json": {
       "model_id": "f7913358d28a47229f619ffe5ee63868",
       "version_major": 2,
       "version_minor": 0
      },
      "text/plain": [
       "Map:   0%|          | 0/563 [00:00<?, ? examples/s]"
      ]
     },
     "metadata": {},
     "output_type": "display_data"
    },
    {
     "name": "stderr",
     "output_type": "stream",
     "text": [
      "Some weights of CamembertForTokenClassification were not initialized from the model checkpoint at Dr-BERT/DrBERT-4GB and are newly initialized: ['classifier.bias', 'classifier.weight']\n",
      "You should probably TRAIN this model on a down-stream task to be able to use it for predictions and inference.\n"
     ]
    }
   ],
   "source": [
    "from transformers import DataCollatorForTokenClassification\n",
    "from transformers import TrainingArguments\n",
    "\n",
    "# Tokenize dataset\n",
    "tokenized_datasets = healthcare_ner_dataset.map(\n",
    "    tokenize_and_align_labels,\n",
    "    batched=True,\n",
    "    remove_columns=healthcare_ner_dataset[\"train\"].column_names,\n",
    ")\n",
    "\n",
    "# init data collator\n",
    "data_collator = DataCollatorForTokenClassification(tokenizer=tokenizer)\n",
    "\n",
    "# init the model\n",
    "\n",
    "id2label = {i: label for i, label in enumerate(label_names)}\n",
    "label2id = {v: k for k, v in id2label.items()}\n",
    "\n",
    "from transformers import AutoModelForTokenClassification\n",
    "\n",
    "model = AutoModelForTokenClassification.from_pretrained(\n",
    "    model_checkpoint,\n",
    "    id2label=id2label,\n",
    "    label2id=label2id,\n",
    ")\n",
    "\n",
    "\n",
    "# init the training arguments\n",
    "\n",
    "models_base_folder = \"./models/healthcare_ner\"\n",
    "\n",
    "args = TrainingArguments(\n",
    "    f\"{models_base_folder}-{model_checkpoint}\",\n",
    "    evaluation_strategy=\"epoch\",\n",
    "    save_strategy=\"epoch\",\n",
    "    learning_rate=2e-5,\n",
    "    num_train_epochs=5,\n",
    "    weight_decay=0.01,\n",
    "    load_best_model_at_end=True,\n",
    "    push_to_hub=False,\n",
    ")"
   ]
  },
  {
   "cell_type": "markdown",
   "metadata": {
    "id": "Eo8yWskYY9ZB"
   },
   "source": [
    "## Starting the training\n",
    "\n",
    "Fine-tuning the pre-trained model into a our Healthcare NER model"
   ]
  },
  {
   "cell_type": "code",
   "execution_count": 9,
   "metadata": {
    "colab": {
     "base_uri": "https://localhost:8080/",
     "height": 284
    },
    "id": "vfONNX7vDCX_",
    "outputId": "20ea7d50-3987-4a9d-9056-f67ca1a66c39",
    "tags": []
   },
   "outputs": [
    {
     "name": "stderr",
     "output_type": "stream",
     "text": [
      "Detected kernel version 5.4.17, which is below the recommended minimum of 5.5.0; this can cause the process to hang. It is recommended to upgrade the kernel to the minimum version or higher.\n"
     ]
    },
    {
     "name": "stdout",
     "output_type": "stream",
     "text": [
      "[2024-08-26 05:39:25,829] [INFO] [real_accelerator.py:158:get_accelerator] Setting ds_accelerator to cuda (auto detect)\n"
     ]
    },
    {
     "name": "stderr",
     "output_type": "stream",
     "text": [
      "huggingface/tokenizers: The current process just got forked, after parallelism has already been used. Disabling parallelism to avoid deadlocks...\n",
      "To disable this warning, you can either:\n",
      "\t- Avoid using `tokenizers` before the fork if possible\n",
      "\t- Explicitly set the environment variable TOKENIZERS_PARALLELISM=(true | false)\n",
      "huggingface/tokenizers: The current process just got forked, after parallelism has already been used. Disabling parallelism to avoid deadlocks...\n",
      "To disable this warning, you can either:\n",
      "\t- Avoid using `tokenizers` before the fork if possible\n",
      "\t- Explicitly set the environment variable TOKENIZERS_PARALLELISM=(true | false)\n",
      "huggingface/tokenizers: The current process just got forked, after parallelism has already been used. Disabling parallelism to avoid deadlocks...\n",
      "To disable this warning, you can either:\n",
      "\t- Avoid using `tokenizers` before the fork if possible\n",
      "\t- Explicitly set the environment variable TOKENIZERS_PARALLELISM=(true | false)\n",
      "huggingface/tokenizers: The current process just got forked, after parallelism has already been used. Disabling parallelism to avoid deadlocks...\n",
      "To disable this warning, you can either:\n",
      "\t- Avoid using `tokenizers` before the fork if possible\n",
      "\t- Explicitly set the environment variable TOKENIZERS_PARALLELISM=(true | false)\n",
      "huggingface/tokenizers: The current process just got forked, after parallelism has already been used. Disabling parallelism to avoid deadlocks...\n",
      "To disable this warning, you can either:\n",
      "\t- Avoid using `tokenizers` before the fork if possible\n",
      "\t- Explicitly set the environment variable TOKENIZERS_PARALLELISM=(true | false)\n",
      "huggingface/tokenizers: The current process just got forked, after parallelism has already been used. Disabling parallelism to avoid deadlocks...\n",
      "To disable this warning, you can either:\n",
      "\t- Avoid using `tokenizers` before the fork if possible\n",
      "\t- Explicitly set the environment variable TOKENIZERS_PARALLELISM=(true | false)\n"
     ]
    },
    {
     "data": {
      "text/html": [
       "\n",
       "    <div>\n",
       "      \n",
       "      <progress value='12' max='4220' style='width:300px; height:20px; vertical-align: middle;'></progress>\n",
       "      [  12/4220 00:22 < 2:37:14, 0.45 it/s, Epoch 0.01/5]\n",
       "    </div>\n",
       "    <table border=\"1\" class=\"dataframe\">\n",
       "  <thead>\n",
       " <tr style=\"text-align: left;\">\n",
       "      <th>Epoch</th>\n",
       "      <th>Training Loss</th>\n",
       "      <th>Validation Loss</th>\n",
       "    </tr>\n",
       "  </thead>\n",
       "  <tbody>\n",
       "  </tbody>\n",
       "</table><p>"
      ],
      "text/plain": [
       "<IPython.core.display.HTML object>"
      ]
     },
     "metadata": {},
     "output_type": "display_data"
    },
    {
     "name": "stderr",
     "output_type": "stream",
     "text": [
      "ERROR - Exception\n",
      "Traceback (most recent call last):\n",
      "  File \"/home/datascience/conda/pytorch21_p39_gpu_v1/lib/python3.9/site-packages/IPython/core/interactiveshell.py\", line 3553, in run_code\n",
      "    exec(code_obj, self.user_global_ns, self.user_ns)\n",
      "  File \"/tmp/ipykernel_9396/3203677919.py\", line 12, in <cell line: 12>\n",
      "    trainer.train()\n",
      "  File \"/home/datascience/conda/pytorch21_p39_gpu_v1/lib/python3.9/site-packages/transformers/trainer.py\", line 1938, in train\n",
      "    return inner_training_loop(\n",
      "  File \"/home/datascience/conda/pytorch21_p39_gpu_v1/lib/python3.9/site-packages/transformers/trainer.py\", line 2279, in _inner_training_loop\n",
      "    tr_loss_step = self.training_step(model, inputs)\n",
      "  File \"/home/datascience/conda/pytorch21_p39_gpu_v1/lib/python3.9/site-packages/transformers/trainer.py\", line 3349, in training_step\n",
      "    self.accelerator.backward(loss, **kwargs)\n",
      "  File \"/home/datascience/conda/pytorch21_p39_gpu_v1/lib/python3.9/site-packages/accelerate/accelerator.py\", line 2159, in backward\n",
      "    loss.backward(**kwargs)\n",
      "  File \"/home/datascience/conda/pytorch21_p39_gpu_v1/lib/python3.9/site-packages/torch/_tensor.py\", line 492, in backward\n",
      "    torch.autograd.backward(\n",
      "  File \"/home/datascience/conda/pytorch21_p39_gpu_v1/lib/python3.9/site-packages/torch/autograd/__init__.py\", line 251, in backward\n",
      "    Variable._execution_engine.run_backward(  # Calls into the C++ engine to run the backward pass\n",
      "KeyboardInterrupt\n",
      "KeyboardInterrupt: "
     ]
    }
   ],
   "source": [
    "from transformers import Trainer\n",
    "\n",
    "trainer = Trainer(\n",
    "    model=model,\n",
    "    args=args,\n",
    "    train_dataset=tokenized_datasets[\"train\"],\n",
    "    eval_dataset=tokenized_datasets[\"validation\"],\n",
    "    data_collator=data_collator,\n",
    "    compute_metrics=compute_metrics,\n",
    "    tokenizer=tokenizer,\n",
    ")\n",
    "trainer.train()"
   ]
  },
  {
   "cell_type": "markdown",
   "metadata": {
    "id": "eCCXHpAsXzeL"
   },
   "source": [
    "## Analyzing Training and Evaluation Losses\n",
    "\n",
    "After training a model, it is crucial to understand how well the model is learning over time.\n"
   ]
  },
  {
   "cell_type": "markdown",
   "metadata": {
    "id": "cVtG3WMdawvS"
   },
   "source": [
    "### Visual Analysis:\n",
    "\n",
    "By plotting  losses over epochs, we can visually inspect the learning process and make informed decisions about which model checkpoint (i.e., which epoch) provides the best balance between learning and generalization.\n",
    "\n",
    "In the plot, we can observe the following trends:\n",
    "\n",
    "- The **training loss** decreases steadily across epochs, which suggests that the model is effectively learning and improving its performance on the training data.\n",
    "- The **evaluation loss** initially decreases but then starts to stabilize and slightly increase in the later epochs. This is a common sign of **overfitting**, where the model becomes too specialized in the training data and performs less well on the evaluation data.\n",
    "\n",
    "The best checkpoint is typically the epoch where the evaluation loss is at its lowest, indicating the best generalization to unseen data. In this plot:\n",
    "\n",
    "- The evaluation loss is lowest around **epoch 2**.\n",
    "- However, starting from **epoch 3**, the evaluation loss begins to increase slightly, suggesting that further training may not improve model generalization and might even harm it by overfitting.\n",
    "\n",
    "Based on this analysis, **epoch 2** is likely the best checkpoint. It has the lowest evaluation loss, which means the model was best at generalizing to new data at this point. Continuing the training beyond this point appears to result in diminishing returns and increased risk of overfitting."
   ]
  },
  {
   "cell_type": "code",
   "execution_count": 10,
   "metadata": {
    "colab": {
     "base_uri": "https://localhost:8080/",
     "height": 564
    },
    "id": "50PW11qVWtb0",
    "outputId": "7c33c0d6-e41b-45fd-f6de-574246e0d007"
   },
   "outputs": [
    {
     "data": {
      "image/png": "[encoded data removed]",
      "text/plain": [
       "<Figure size 1000x600 with 1 Axes>"
      ]
     },
     "metadata": {},
     "output_type": "display_data"
    }
   ],
   "source": [
    "import matplotlib.pyplot as plt\n",
    "\n",
    "# Initialize lists to store the losses and epochs\n",
    "train_loss = []\n",
    "eval_loss = []\n",
    "epochs = []\n",
    "\n",
    "# Extract the losses and epochs from the log history\n",
    "for log in trainer.state.log_history:\n",
    "    if 'loss' in log and 'epoch' in log:  # Training loss\n",
    "        train_loss.append(log['loss'])\n",
    "        epochs.append(log['epoch'])\n",
    "    if 'eval_loss' in log and 'epoch' in log:  # Evaluation loss\n",
    "        eval_loss.append(log['eval_loss'])\n",
    "\n",
    "# Ensure the epochs list is aligned with eval_loss if needed\n",
    "eval_epochs = epochs[:len(eval_loss)] if len(eval_loss) == len(epochs) else list(range(1, len(eval_loss) + 1))\n",
    "\n",
    "\n",
    "plt.figure(figsize=(10, 6))\n",
    "\n",
    "# Plot training loss\n",
    "plt.plot(epochs, train_loss, label='Training Loss', marker='o', linestyle='-')\n",
    "\n",
    "# Plot evaluation loss\n",
    "plt.plot(eval_epochs, eval_loss, label='Evaluation Loss', marker='o', linestyle='-')\n",
    "\n",
    "# Add labels and title\n",
    "plt.xlabel('Epochs')\n",
    "plt.ylabel('Loss')\n",
    "plt.title('Training and Evaluation Loss Over Epochs')\n",
    "plt.legend()\n",
    "plt.grid(True)\n",
    "\n",
    "# Show the plot\n",
    "plt.show()\n"
   ]
  },
  {
   "cell_type": "markdown",
   "metadata": {
    "id": "fho08QWYZKpN"
   },
   "source": [
    "### Automated Checkpoint Selection\n",
    "\n",
    "While effective, this manual approach has some limitations:\n",
    "- **Subjectivity**: Visual inspection is subjective and may not be consistent across different viewers or datasets.\n",
    "- **Time-consuming**: Manually inspecting plots is feasible for a few experiments, but it becomes cumbersome when training multiple models or fine-tuning hyperparameters.\n",
    "\n",
    "### Automated Checkpoint Selection with `trainer.state.best_model_checkpoint`\n",
    "\n",
    "To streamline this process and make it more objective, we can leverage the `trainer.state.best_model_checkpoint` feature provided by the Hugging Face Trainer API. This feature automatically tracks the checkpoint with the best performance on the validation set during training, based on a specified metric (e.g., evaluation loss, F1 score, accuracy).\n"
   ]
  },
  {
   "cell_type": "code",
   "execution_count": 11,
   "metadata": {
    "colab": {
     "base_uri": "https://localhost:8080/"
    },
    "id": "zyoQtSNpUrUh",
    "outputId": "bb859524-cb64-4f13-c71a-c60a38931d20"
   },
   "outputs": [
    {
     "name": "stdout",
     "output_type": "stream",
     "text": [
      "The best for checkpoint model Dr-BERT/DrBERT-4GB is:\n",
      "Checkpoint: ./models/healthcare_ner-Dr-BERT/DrBERT-4GB/checkpoint-1688 (Step: 1688) :\n",
      "F1 Score: 0.7451\n",
      "Recall: 0.7713\n",
      "Accuracy: 0.9331\n"
     ]
    }
   ],
   "source": [
    "import re\n",
    "\n",
    "# Get the best model checkpoint from the trainer state object\n",
    "best_model_checkpoint = trainer.state.best_model_checkpoint\n",
    "\n",
    "# Extract the step number from the best model checkpoint name\n",
    "# Assuming the format is like 'checkpoint-1688' at the end of the path\n",
    "step_match = re.search(r'checkpoint-(\\d+)', best_model_checkpoint)\n",
    "best_checkpoint_step = int(step_match.group(1)) if step_match else None\n",
    "\n",
    "# Initialize variables to store metrics\n",
    "eval_f1, eval_recall, eval_accuracy = None, None, None\n",
    "\n",
    "# Search for the relevant evaluation metrics in log_history\n",
    "for log in trainer.state.log_history:\n",
    "    if 'eval_f1' in log and log.get('step') == best_checkpoint_step:\n",
    "        eval_f1 = log['eval_f1']\n",
    "        eval_recall = log.get('eval_recall', None)\n",
    "        eval_accuracy = log.get('eval_accuracy', None)\n",
    "        break  # Once the metrics are found, exit the loop\n",
    "\n",
    "# Print the metrics for the best model\n",
    "if eval_f1 is not None:\n",
    "    print(f\"The best for checkpoint model {trainer.model.config.name_or_path} is:\")\n",
    "    print(f\"Checkpoint: {best_model_checkpoint} (Step: {best_checkpoint_step}) :\")\n",
    "    print(f\"F1 Score: {eval_f1:.4f}\")\n",
    "    print(f\"Recall: {eval_recall:.4f}\")\n",
    "    print(f\"Accuracy: {eval_accuracy:.4f}\")\n",
    "\n"
   ]
  }
 ],
 "metadata": {
  "accelerator": "GPU",
  "colab": {
   "gpuType": "A100",
   "machine_shape": "hm",
   "provenance": [],
   "toc_visible": true
  },
  "kernelspec": {
   "display_name": "Python [conda env:pytorch21_p39_gpu_v1]",
   "language": "python",
   "name": "conda-env-pytorch21_p39_gpu_v1-py"
  },
  "language_info": {
   "codemirror_mode": {
    "name": "ipython",
    "version": 3
   },
   "file_extension": ".py",
   "mimetype": "text/x-python",
   "name": "python",
   "nbconvert_exporter": "python",
   "pygments_lexer": "ipython3",
   "version": "3.9.16"
  }
 },
 "nbformat": 4,
 "nbformat_minor": 4
}
