{
 "cells": [
  {
   "cell_type": "markdown",
   "metadata": {
    "tags": []
   },
   "source": [
    "***\n",
    "# <font color=red>Chapter 6: MedTALN inc.'s Case Study -  Healthcare NER Training Dataset Creation from CoNLL File</font>\n",
    "<p style=\"margin-left:10%; margin-right:10%;\">by <font color=teal> John Doe (typica.ai) </font></p>\n",
    "\n",
    "***\n",
    "\n",
    "\n",
    "## Overview:\n",
    "\n",
    "First and foremost, we need a dataset that is suitable for token classification. In this notebook, we will use the CoNLL file exported from OCI DLS (refer to Chapter 5) to create our training dataset (in the Hugging Face datasets format).\n",
    "\n",
    "To create a Hugging Face dataset from the exported CoNLL file, we will follow these high-level steps:\n",
    "\n",
    "1. Parse the CoNLL File: Extract the tokens and their corresponding NER tags from your CoNLL file.\n",
    "2. Create a Hugging Face Dataset: Prepare the data into a structure that can be consumed by the Hugging Face datasets library, with each instance having an 'id', 'tokens', and 'ner_tags'. Then, use the datasets library to create a DatasetDict with your data.\n",
    "3. Create dataset splits: Create train, validation and test splits\n",
    "4. Save dataset: save the HF dataset to disk (training-datasets-bkt mount)\n"
   ]
  },
  {
   "cell_type": "markdown",
   "metadata": {},
   "source": [
    "Hugging face datasets library is already included in our installed conda env. (i.e. pytorch21_p39_gpu_v1).\n",
    "in case you want to reinstall it use: !pip install datasets==2.16.1"
   ]
  },
  {
   "cell_type": "markdown",
   "metadata": {},
   "source": [
    "Filters out warnings"
   ]
  },
  {
   "cell_type": "code",
   "execution_count": 3,
   "metadata": {
    "tags": []
   },
   "outputs": [],
   "source": [
    "import warnings\n",
    "warnings.filterwarnings('ignore')"
   ]
  },
  {
   "cell_type": "markdown",
   "metadata": {
    "id": "FO2ox8FYUwtT"
   },
   "source": [
    "## Declare helper functions\n",
    "\n"
   ]
  },
  {
   "cell_type": "code",
   "execution_count": 4,
   "metadata": {
    "id": "T7AYE5nfTD8j",
    "tags": []
   },
   "outputs": [],
   "source": [
    "import re\n",
    "\n",
    "def split_token(token, tag):\n",
    "    \"\"\"\n",
    "    Splits tokens if they end with specific punctuation characters (.,;!?) and assigns\n",
    "    'O' to the punctuation, leaving other tokens intact.\n",
    "    \"\"\"\n",
    "    # Define the punctuations to split\n",
    "    punctuations = \".,;!?\"\n",
    "    # Check if the token ends with a punctuation that should be split\n",
    "    if token[-1] in punctuations:\n",
    "        # Return the token without the last character and the punctuation as separate tokens\n",
    "        return [(token[:-1], tag), (token[-1], 'O')]\n",
    "    else:\n",
    "        # Return the token as is if it doesn't end with specified punctuation\n",
    "        return [(token, tag)]\n",
    "\n",
    "# This function reads your .conll file and extracts sentences and their NER tags.\n",
    "def parse_conll_file(file_path):\n",
    "    sentences = []\n",
    "    current_sentence = []\n",
    "    with open(file_path, 'r', encoding='utf-8') as file:\n",
    "        for line in file:\n",
    "            if line.startswith(\"-DOCSTART-\") or line.strip() == \"\":\n",
    "                if current_sentence:\n",
    "                    sentences.append(current_sentence)\n",
    "                    current_sentence = []\n",
    "            else:\n",
    "                parts = line.strip().split()\n",
    "                token = parts[0]\n",
    "                tag = parts[-1] if len(parts) > 1 else 'O'  # Default to 'O' if no tag is present\n",
    "                # Split token if it contains punctuation\n",
    "                current_sentence.extend(split_token(token, tag))\n",
    "        if current_sentence:  # Add the last sentence if it exists\n",
    "            sentences.append(current_sentence)\n",
    "    return sentences\n",
    "\n",
    "# This function extracts unique NER tags ensuring 'O' is first, and prepares the data for the dataset creation.\n",
    "def prepare_dataset(sentences):\n",
    "    unique_tags = set()\n",
    "    for sentence in sentences:\n",
    "        for _, tag in sentence:\n",
    "            #if tag not in excluded_tags:\n",
    "            unique_tags.add(tag)\n",
    "\n",
    "    # Ensure 'O' is first, then sort the rest of the tags\n",
    "    unique_tags.discard('O')  # Remove 'O' to avoid duplication\n",
    "    unique_tags = ['O'] + sorted(unique_tags)  # Prepend 'O' and sort the rest\n",
    "\n",
    "    tag_to_id = {tag: id for id, tag in enumerate(unique_tags)}\n",
    "\n",
    "    # Prepare data for Hugging Face Dataset\n",
    "    data = {'id': [], 'tokens': [], 'ner_tags': []}\n",
    "    for i, sentence in enumerate(sentences):\n",
    "        tokens, tags = zip(*sentence)\n",
    "        data['id'].append(str(i))\n",
    "        data['tokens'].append(list(tokens))\n",
    "        data['ner_tags'].append([tag_to_id.get(tag, tag_to_id['O']) for tag in tags ]) #if tag not in excluded_tags\n",
    "\n",
    "    return data, unique_tags\n",
    "\n",
    "from datasets import Dataset, DatasetDict, Features, ClassLabel, Sequence, Value\n",
    "\n",
    "# This function creates the dataset using the prepared data and unique NER tags.\n",
    "def create_hf_dataset(data, unique_tags):\n",
    "    features= Features({\n",
    "                'id': Value(dtype='string', id=None),\n",
    "                'tokens': Sequence(feature=Value(dtype='string', id=None), length=-1, id=None),\n",
    "                'ner_tags': Sequence(feature=ClassLabel(num_classes=len(unique_tags), names=unique_tags))\n",
    "            })\n",
    "\n",
    "    dataset = Dataset.from_dict(data, features=features)\n",
    "    dataset_dict = DatasetDict({'train': dataset})\n",
    "    return dataset_dict\n"
   ]
  },
  {
   "cell_type": "markdown",
   "metadata": {
    "id": "fHqD9ABeZccb"
   },
   "source": [
    "## Create HF Dataset from CoNLL file\n",
    "\n",
    "Parse the .conll file, prepare the data, and create the dataset.\n",
    "\n"
   ]
  },
  {
   "cell_type": "code",
   "execution_count": 9,
   "metadata": {
    "colab": {
     "base_uri": "https://localhost:8080/"
    },
    "id": "bSRFoaiRZf4G",
    "outputId": "147b643b-22e3-4843-faba-7f60a41c1c28",
    "tags": []
   },
   "outputs": [
    {
     "name": "stdout",
     "output_type": "stream",
     "text": [
      "Dataset created successfully!\n"
     ]
    },
    {
     "data": {
      "text/plain": [
       "DatasetDict({\n",
       "    train: Dataset({\n",
       "        features: ['id', 'tokens', 'ner_tags'],\n",
       "        num_rows: 9000\n",
       "    })\n",
       "})"
      ]
     },
     "execution_count": 9,
     "metadata": {},
     "output_type": "execute_result"
    }
   ],
   "source": [
    "# Set the CoNLL file path\n",
    "file_path = \"/home/datascience/buckets/training-datasets-bkt/healthcare_ner_dataset_v1.1.0/healthcare_ner_dataset_v1.0.0_1724175778995.conll\"\n",
    "\n",
    "# Parse the .conll file\n",
    "sentences = parse_conll_file(file_path)\n",
    "# Prepare the dataset and extract unique NER tags\n",
    "data, unique_tags = prepare_dataset(sentences)\n",
    "# Create the Hugging Face dataset\n",
    "dataset_dict = create_hf_dataset(data, unique_tags)\n",
    "\n",
    "print(\"Dataset created successfully!\")\n",
    "\n",
    "dataset_dict\n"
   ]
  },
  {
   "cell_type": "markdown",
   "metadata": {
    "id": "sgrmED0_g_wY"
   },
   "source": [
    "Inspec a row randomly"
   ]
  },
  {
   "cell_type": "code",
   "execution_count": 5,
   "metadata": {
    "colab": {
     "base_uri": "https://localhost:8080/"
    },
    "id": "6UGiewNLvk7W",
    "outputId": "f262a65f-ed77-41b3-c93b-771eb9adbacd"
   },
   "outputs": [
    {
     "data": {
      "text/plain": [
       "{'id': '2015',\n",
       " 'tokens': ['un',\n",
       "  'vaccin',\n",
       "  'vivant',\n",
       "  'atténué',\n",
       "  'est',\n",
       "  'maintenant',\n",
       "  'disponible',\n",
       "  '',\n",
       "  '.'],\n",
       " 'ner_tags': [0, 5, 0, 0, 0, 0, 0, 0, 0]}"
      ]
     },
     "execution_count": 5,
     "metadata": {},
     "output_type": "execute_result"
    }
   ],
   "source": [
    "dataset_dict[\"train\"].shuffle(seed=42)[0]"
   ]
  },
  {
   "cell_type": "markdown",
   "metadata": {
    "id": "_v2-mF4cfuTR"
   },
   "source": [
    "## Create splits for the HF Dataset\n",
    "\n",
    "At this step we create train, validation, and test splits\n",
    "\n",
    "\n"
   ]
  },
  {
   "cell_type": "code",
   "execution_count": 10,
   "metadata": {
    "colab": {
     "base_uri": "https://localhost:8080/"
    },
    "id": "uZwWwN2uEt1T",
    "outputId": "7e3cbf15-9038-4be8-a62e-a7d18038922d",
    "tags": []
   },
   "outputs": [
    {
     "data": {
      "text/plain": [
       "DatasetDict({\n",
       "    train: Dataset({\n",
       "        features: ['id', 'tokens', 'ner_tags'],\n",
       "        num_rows: 6750\n",
       "    })\n",
       "    validation: Dataset({\n",
       "        features: ['id', 'tokens', 'ner_tags'],\n",
       "        num_rows: 1687\n",
       "    })\n",
       "    test: Dataset({\n",
       "        features: ['id', 'tokens', 'ner_tags'],\n",
       "        num_rows: 563\n",
       "    })\n",
       "})"
      ]
     },
     "execution_count": 10,
     "metadata": {},
     "output_type": "execute_result"
    }
   ],
   "source": [
    "from datasets import DatasetDict\n",
    "\n",
    "ds_train_devtest = dataset_dict['train'].train_test_split(test_size=0.25, seed=42)\n",
    "ds_devtest = ds_train_devtest['test'].train_test_split(test_size=0.25, seed=42)\n",
    "\n",
    "\n",
    "healthcare_ner_dataset = DatasetDict({\n",
    "    'train': ds_train_devtest['train'],\n",
    "    'validation': ds_devtest['train'],\n",
    "    'test': ds_devtest['test']\n",
    "})\n",
    "\n",
    "healthcare_ner_dataset"
   ]
  },
  {
   "cell_type": "markdown",
   "metadata": {
    "id": "h65BOSYyh45W"
   },
   "source": [
    "## Save dataset\n",
    "\n",
    "We will save the Hugging Face dataset to the `training-datasets-bkt/healthcare_ner_dataset_v1.2.0` directory. The dataset is ready for Named Entity Recognition (NER) training.\n",
    "\n",
    "The `v1.2` part of the version denotes that the dataset has been fully processed and is in a format suitable for NER tasks, making it easy to reference this specific state of the dataset in future training runs or evaluation tasks.\n"
   ]
  },
  {
   "cell_type": "code",
   "execution_count": 11,
   "metadata": {
    "colab": {
     "base_uri": "https://localhost:8080/",
     "height": 113,
     "referenced_widgets": [
      "a8803abe2743412c9641558abe18fab2",
      "0e2cc20a156346019c763b42fa5de73d",
      "f6a97a95d27240cfbffb6a449a49f7fb",
      "be3875a058714f0891f59bfb99dc13fe",
      "5d79adefa3874cbb91c9f6669206d4d7",
      "b1fc46490cdf4df0805a5efbe9992258",
      "47f8c3adac94406fafc176b9f33973de",
      "5aff25740f8d4e828b6d30556d1c2f8b",
      "ed0ded092113474ea66247336393403e",
      "770cc3747186466ca2148671d2a761f7",
      "607658bc92014690bf33f8149c394d1e",
      "441906de4d894c298c4571c00eb9e60c",
      "c23e08d0462143c890ee65d213bcc409",
      "62a50d420d7b4aed8f4d65363485c8c3",
      "af16f8079eaf443d874c67f15258ae7c",
      "15d0d6d120074b90a8194dd4eae2c7fd",
      "da6df80e03644b72a7ef6cfbc08a532f",
      "9a913158f3514c89b7b41e27320dc90f",
      "be4fd6456aff48fe8563483aa992e0e3",
      "16d3b14b131345efbd4d3471f941bafc",
      "7745c2d42cce4b379109054b26f2c763",
      "4bc0081c7bd747528dc699e83186efea",
      "8a016ddc36ed4397b7b476aa449fa762",
      "4ff0520e6fb742c691120ca6f4ed03e0",
      "67daf8de8ec44050974dbd7f9178a5cc",
      "17ebcf9c412d47078a551d4c90e61107",
      "924d9c358f88486ea6ba5b2b643c7ce7",
      "30b4abe06ed848a183f6d6ec9ab51342",
      "e866fc590e1f4afeb0fd4878d4cdcb6e",
      "d14c35deb1f84755af2797f2a587f24f",
      "65c7e5301ee449d0b7d67a5f42e9f133",
      "827ede96eb8a4413b7378f16e12f8fa0",
      "710687462a174bb2838741c41aaf7ce1"
     ]
    },
    "id": "7uNN5q1Bh7Rs",
    "outputId": "ab7c0b92-13e4-4800-c2e2-814cb637532a",
    "tags": []
   },
   "outputs": [
    {
     "data": {
      "application/vnd.jupyter.widget-view+json": {
       "model_id": "ed7ca0ba4fce442bbe72739cbe587600",
       "version_major": 2,
       "version_minor": 0
      },
      "text/plain": [
       "Saving the dataset (0/1 shards):   0%|          | 0/6750 [00:00<?, ? examples/s]"
      ]
     },
     "metadata": {},
     "output_type": "display_data"
    },
    {
     "data": {
      "application/vnd.jupyter.widget-view+json": {
       "model_id": "89eded8e2a8f4991b3d03ce6816efe25",
       "version_major": 2,
       "version_minor": 0
      },
      "text/plain": [
       "Saving the dataset (0/1 shards):   0%|          | 0/1687 [00:00<?, ? examples/s]"
      ]
     },
     "metadata": {},
     "output_type": "display_data"
    },
    {
     "data": {
      "application/vnd.jupyter.widget-view+json": {
       "model_id": "b9dc3c1e6c6040599521725592be9997",
       "version_major": 2,
       "version_minor": 0
      },
      "text/plain": [
       "Saving the dataset (0/1 shards):   0%|          | 0/563 [00:00<?, ? examples/s]"
      ]
     },
     "metadata": {},
     "output_type": "display_data"
    }
   ],
   "source": [
    "healthcare_ner_dataset.save_to_disk(\"/home/datascience/buckets/training-datasets-bkt/healthcare_ner_dataset_v1.2.0\")"
   ]
  }
 ],
 "metadata": {
  "colab": {
   "machine_shape": "hm",
   "provenance": [],
   "toc_visible": true
  },
  "kernelspec": {
   "display_name": "Python [conda env:pytorch21_p39_gpu_v1]",
   "language": "python",
   "name": "conda-env-pytorch21_p39_gpu_v1-py"
  },
  "language_info": {
   "codemirror_mode": {
    "name": "ipython",
    "version": 3
   },
   "file_extension": ".py",
   "mimetype": "text/x-python",
   "name": "python",
   "nbconvert_exporter": "python",
   "pygments_lexer": "ipython3",
   "version": "3.9.16"
  },
  "widgets": {
   "application/vnd.jupyter.widget-state+json": {
    "0e2cc20a156346019c763b42fa5de73d": {
     "model_module": "@jupyter-widgets/controls",
     "model_module_version": "1.5.0",
     "model_name": "HTMLModel",
     "state": {
      "_dom_classes": [],
      "_model_module": "@jupyter-widgets/controls",
      "_model_module_version": "1.5.0",
      "_model_name": "HTMLModel",
      "_view_count": null,
      "_view_module": "@jupyter-widgets/controls",
      "_view_module_version": "1.5.0",
      "_view_name": "HTMLView",
      "description": "",
      "description_tooltip": null,
      "layout": "IPY_MODEL_b1fc46490cdf4df0805a5efbe9992258",
      "placeholder": "​",
      "style": "IPY_MODEL_47f8c3adac94406fafc176b9f33973de",
      "value": "Saving the dataset (1/1 shards): 100%"
     }
    },
    "15d0d6d120074b90a8194dd4eae2c7fd": {
     "model_module": "@jupyter-widgets/base",
     "model_module_version": "1.2.0",
     "model_name": "LayoutModel",
     "state": {
      "_model_module": "@jupyter-widgets/base",
      "_model_module_version": "1.2.0",
      "_model_name": "LayoutModel",
      "_view_count": null,
      "_view_module": "@jupyter-widgets/base",
      "_view_module_version": "1.2.0",
      "_view_name": "LayoutView",
      "align_content": null,
      "align_items": null,
      "align_self": null,
      "border": null,
      "bottom": null,
      "display": null,
      "flex": null,
      "flex_flow": null,
      "grid_area": null,
      "grid_auto_columns": null,
      "grid_auto_flow": null,
      "grid_auto_rows": null,
      "grid_column": null,
      "grid_gap": null,
      "grid_row": null,
      "grid_template_areas": null,
      "grid_template_columns": null,
      "grid_template_rows": null,
      "height": null,
      "justify_content": null,
      "justify_items": null,
      "left": null,
      "margin": null,
      "max_height": null,
      "max_width": null,
      "min_height": null,
      "min_width": null,
      "object_fit": null,
      "object_position": null,
      "order": null,
      "overflow": null,
      "overflow_x": null,
      "overflow_y": null,
      "padding": null,
      "right": null,
      "top": null,
      "visibility": null,
      "width": null
     }
    },
    "16d3b14b131345efbd4d3471f941bafc": {
     "model_module": "@jupyter-widgets/controls",
     "model_module_version": "1.5.0",
     "model_name": "ProgressStyleModel",
     "state": {
      "_model_module": "@jupyter-widgets/controls",
      "_model_module_version": "1.5.0",
      "_model_name": "ProgressStyleModel",
      "_view_count": null,
      "_view_module": "@jupyter-widgets/base",
      "_view_module_version": "1.2.0",
      "_view_name": "StyleView",
      "bar_color": null,
      "description_width": ""
     }
    },
    "17ebcf9c412d47078a551d4c90e61107": {
     "model_module": "@jupyter-widgets/controls",
     "model_module_version": "1.5.0",
     "model_name": "HTMLModel",
     "state": {
      "_dom_classes": [],
      "_model_module": "@jupyter-widgets/controls",
      "_model_module_version": "1.5.0",
      "_model_name": "HTMLModel",
      "_view_count": null,
      "_view_module": "@jupyter-widgets/controls",
      "_view_module_version": "1.5.0",
      "_view_name": "HTMLView",
      "description": "",
      "description_tooltip": null,
      "layout": "IPY_MODEL_827ede96eb8a4413b7378f16e12f8fa0",
      "placeholder": "​",
      "style": "IPY_MODEL_710687462a174bb2838741c41aaf7ce1",
      "value": " 563/563 [00:00&lt;00:00, 1751.34 examples/s]"
     }
    },
    "30b4abe06ed848a183f6d6ec9ab51342": {
     "model_module": "@jupyter-widgets/base",
     "model_module_version": "1.2.0",
     "model_name": "LayoutModel",
     "state": {
      "_model_module": "@jupyter-widgets/base",
      "_model_module_version": "1.2.0",
      "_model_name": "LayoutModel",
      "_view_count": null,
      "_view_module": "@jupyter-widgets/base",
      "_view_module_version": "1.2.0",
      "_view_name": "LayoutView",
      "align_content": null,
      "align_items": null,
      "align_self": null,
      "border": null,
      "bottom": null,
      "display": null,
      "flex": null,
      "flex_flow": null,
      "grid_area": null,
      "grid_auto_columns": null,
      "grid_auto_flow": null,
      "grid_auto_rows": null,
      "grid_column": null,
      "grid_gap": null,
      "grid_row": null,
      "grid_template_areas": null,
      "grid_template_columns": null,
      "grid_template_rows": null,
      "height": null,
      "justify_content": null,
      "justify_items": null,
      "left": null,
      "margin": null,
      "max_height": null,
      "max_width": null,
      "min_height": null,
      "min_width": null,
      "object_fit": null,
      "object_position": null,
      "order": null,
      "overflow": null,
      "overflow_x": null,
      "overflow_y": null,
      "padding": null,
      "right": null,
      "top": null,
      "visibility": null,
      "width": null
     }
    },
    "441906de4d894c298c4571c00eb9e60c": {
     "model_module": "@jupyter-widgets/controls",
     "model_module_version": "1.5.0",
     "model_name": "HBoxModel",
     "state": {
      "_dom_classes": [],
      "_model_module": "@jupyter-widgets/controls",
      "_model_module_version": "1.5.0",
      "_model_name": "HBoxModel",
      "_view_count": null,
      "_view_module": "@jupyter-widgets/controls",
      "_view_module_version": "1.5.0",
      "_view_name": "HBoxView",
      "box_style": "",
      "children": [
       "IPY_MODEL_c23e08d0462143c890ee65d213bcc409",
       "IPY_MODEL_62a50d420d7b4aed8f4d65363485c8c3",
       "IPY_MODEL_af16f8079eaf443d874c67f15258ae7c"
      ],
      "layout": "IPY_MODEL_15d0d6d120074b90a8194dd4eae2c7fd"
     }
    },
    "47f8c3adac94406fafc176b9f33973de": {
     "model_module": "@jupyter-widgets/controls",
     "model_module_version": "1.5.0",
     "model_name": "DescriptionStyleModel",
     "state": {
      "_model_module": "@jupyter-widgets/controls",
      "_model_module_version": "1.5.0",
      "_model_name": "DescriptionStyleModel",
      "_view_count": null,
      "_view_module": "@jupyter-widgets/base",
      "_view_module_version": "1.2.0",
      "_view_name": "StyleView",
      "description_width": ""
     }
    },
    "4bc0081c7bd747528dc699e83186efea": {
     "model_module": "@jupyter-widgets/controls",
     "model_module_version": "1.5.0",
     "model_name": "DescriptionStyleModel",
     "state": {
      "_model_module": "@jupyter-widgets/controls",
      "_model_module_version": "1.5.0",
      "_model_name": "DescriptionStyleModel",
      "_view_count": null,
      "_view_module": "@jupyter-widgets/base",
      "_view_module_version": "1.2.0",
      "_view_name": "StyleView",
      "description_width": ""
     }
    },
    "4ff0520e6fb742c691120ca6f4ed03e0": {
     "model_module": "@jupyter-widgets/controls",
     "model_module_version": "1.5.0",
     "model_name": "HTMLModel",
     "state": {
      "_dom_classes": [],
      "_model_module": "@jupyter-widgets/controls",
      "_model_module_version": "1.5.0",
      "_model_name": "HTMLModel",
      "_view_count": null,
      "_view_module": "@jupyter-widgets/controls",
      "_view_module_version": "1.5.0",
      "_view_name": "HTMLView",
      "description": "",
      "description_tooltip": null,
      "layout": "IPY_MODEL_30b4abe06ed848a183f6d6ec9ab51342",
      "placeholder": "​",
      "style": "IPY_MODEL_e866fc590e1f4afeb0fd4878d4cdcb6e",
      "value": "Saving the dataset (1/1 shards): 100%"
     }
    },
    "5aff25740f8d4e828b6d30556d1c2f8b": {
     "model_module": "@jupyter-widgets/base",
     "model_module_version": "1.2.0",
     "model_name": "LayoutModel",
     "state": {
      "_model_module": "@jupyter-widgets/base",
      "_model_module_version": "1.2.0",
      "_model_name": "LayoutModel",
      "_view_count": null,
      "_view_module": "@jupyter-widgets/base",
      "_view_module_version": "1.2.0",
      "_view_name": "LayoutView",
      "align_content": null,
      "align_items": null,
      "align_self": null,
      "border": null,
      "bottom": null,
      "display": null,
      "flex": null,
      "flex_flow": null,
      "grid_area": null,
      "grid_auto_columns": null,
      "grid_auto_flow": null,
      "grid_auto_rows": null,
      "grid_column": null,
      "grid_gap": null,
      "grid_row": null,
      "grid_template_areas": null,
      "grid_template_columns": null,
      "grid_template_rows": null,
      "height": null,
      "justify_content": null,
      "justify_items": null,
      "left": null,
      "margin": null,
      "max_height": null,
      "max_width": null,
      "min_height": null,
      "min_width": null,
      "object_fit": null,
      "object_position": null,
      "order": null,
      "overflow": null,
      "overflow_x": null,
      "overflow_y": null,
      "padding": null,
      "right": null,
      "top": null,
      "visibility": null,
      "width": null
     }
    },
    "5d79adefa3874cbb91c9f6669206d4d7": {
     "model_module": "@jupyter-widgets/base",
     "model_module_version": "1.2.0",
     "model_name": "LayoutModel",
     "state": {
      "_model_module": "@jupyter-widgets/base",
      "_model_module_version": "1.2.0",
      "_model_name": "LayoutModel",
      "_view_count": null,
      "_view_module": "@jupyter-widgets/base",
      "_view_module_version": "1.2.0",
      "_view_name": "LayoutView",
      "align_content": null,
      "align_items": null,
      "align_self": null,
      "border": null,
      "bottom": null,
      "display": null,
      "flex": null,
      "flex_flow": null,
      "grid_area": null,
      "grid_auto_columns": null,
      "grid_auto_flow": null,
      "grid_auto_rows": null,
      "grid_column": null,
      "grid_gap": null,
      "grid_row": null,
      "grid_template_areas": null,
      "grid_template_columns": null,
      "grid_template_rows": null,
      "height": null,
      "justify_content": null,
      "justify_items": null,
      "left": null,
      "margin": null,
      "max_height": null,
      "max_width": null,
      "min_height": null,
      "min_width": null,
      "object_fit": null,
      "object_position": null,
      "order": null,
      "overflow": null,
      "overflow_x": null,
      "overflow_y": null,
      "padding": null,
      "right": null,
      "top": null,
      "visibility": null,
      "width": null
     }
    },
    "607658bc92014690bf33f8149c394d1e": {
     "model_module": "@jupyter-widgets/controls",
     "model_module_version": "1.5.0",
     "model_name": "DescriptionStyleModel",
     "state": {
      "_model_module": "@jupyter-widgets/controls",
      "_model_module_version": "1.5.0",
      "_model_name": "DescriptionStyleModel",
      "_view_count": null,
      "_view_module": "@jupyter-widgets/base",
      "_view_module_version": "1.2.0",
      "_view_name": "StyleView",
      "description_width": ""
     }
    },
    "62a50d420d7b4aed8f4d65363485c8c3": {
     "model_module": "@jupyter-widgets/controls",
     "model_module_version": "1.5.0",
     "model_name": "FloatProgressModel",
     "state": {
      "_dom_classes": [],
      "_model_module": "@jupyter-widgets/controls",
      "_model_module_version": "1.5.0",
      "_model_name": "FloatProgressModel",
      "_view_count": null,
      "_view_module": "@jupyter-widgets/controls",
      "_view_module_version": "1.5.0",
      "_view_name": "ProgressView",
      "bar_style": "success",
      "description": "",
      "description_tooltip": null,
      "layout": "IPY_MODEL_be4fd6456aff48fe8563483aa992e0e3",
      "max": 1687,
      "min": 0,
      "orientation": "horizontal",
      "style": "IPY_MODEL_16d3b14b131345efbd4d3471f941bafc",
      "value": 1687
     }
    },
    "65c7e5301ee449d0b7d67a5f42e9f133": {
     "model_module": "@jupyter-widgets/controls",
     "model_module_version": "1.5.0",
     "model_name": "ProgressStyleModel",
     "state": {
      "_model_module": "@jupyter-widgets/controls",
      "_model_module_version": "1.5.0",
      "_model_name": "ProgressStyleModel",
      "_view_count": null,
      "_view_module": "@jupyter-widgets/base",
      "_view_module_version": "1.2.0",
      "_view_name": "StyleView",
      "bar_color": null,
      "description_width": ""
     }
    },
    "67daf8de8ec44050974dbd7f9178a5cc": {
     "model_module": "@jupyter-widgets/controls",
     "model_module_version": "1.5.0",
     "model_name": "FloatProgressModel",
     "state": {
      "_dom_classes": [],
      "_model_module": "@jupyter-widgets/controls",
      "_model_module_version": "1.5.0",
      "_model_name": "FloatProgressModel",
      "_view_count": null,
      "_view_module": "@jupyter-widgets/controls",
      "_view_module_version": "1.5.0",
      "_view_name": "ProgressView",
      "bar_style": "success",
      "description": "",
      "description_tooltip": null,
      "layout": "IPY_MODEL_d14c35deb1f84755af2797f2a587f24f",
      "max": 563,
      "min": 0,
      "orientation": "horizontal",
      "style": "IPY_MODEL_65c7e5301ee449d0b7d67a5f42e9f133",
      "value": 563
     }
    },
    "710687462a174bb2838741c41aaf7ce1": {
     "model_module": "@jupyter-widgets/controls",
     "model_module_version": "1.5.0",
     "model_name": "DescriptionStyleModel",
     "state": {
      "_model_module": "@jupyter-widgets/controls",
      "_model_module_version": "1.5.0",
      "_model_name": "DescriptionStyleModel",
      "_view_count": null,
      "_view_module": "@jupyter-widgets/base",
      "_view_module_version": "1.2.0",
      "_view_name": "StyleView",
      "description_width": ""
     }
    },
    "770cc3747186466ca2148671d2a761f7": {
     "model_module": "@jupyter-widgets/base",
     "model_module_version": "1.2.0",
     "model_name": "LayoutModel",
     "state": {
      "_model_module": "@jupyter-widgets/base",
      "_model_module_version": "1.2.0",
      "_model_name": "LayoutModel",
      "_view_count": null,
      "_view_module": "@jupyter-widgets/base",
      "_view_module_version": "1.2.0",
      "_view_name": "LayoutView",
      "align_content": null,
      "align_items": null,
      "align_self": null,
      "border": null,
      "bottom": null,
      "display": null,
      "flex": null,
      "flex_flow": null,
      "grid_area": null,
      "grid_auto_columns": null,
      "grid_auto_flow": null,
      "grid_auto_rows": null,
      "grid_column": null,
      "grid_gap": null,
      "grid_row": null,
      "grid_template_areas": null,
      "grid_template_columns": null,
      "grid_template_rows": null,
      "height": null,
      "justify_content": null,
      "justify_items": null,
      "left": null,
      "margin": null,
      "max_height": null,
      "max_width": null,
      "min_height": null,
      "min_width": null,
      "object_fit": null,
      "object_position": null,
      "order": null,
      "overflow": null,
      "overflow_x": null,
      "overflow_y": null,
      "padding": null,
      "right": null,
      "top": null,
      "visibility": null,
      "width": null
     }
    },
    "7745c2d42cce4b379109054b26f2c763": {
     "model_module": "@jupyter-widgets/base",
     "model_module_version": "1.2.0",
     "model_name": "LayoutModel",
     "state": {
      "_model_module": "@jupyter-widgets/base",
      "_model_module_version": "1.2.0",
      "_model_name": "LayoutModel",
      "_view_count": null,
      "_view_module": "@jupyter-widgets/base",
      "_view_module_version": "1.2.0",
      "_view_name": "LayoutView",
      "align_content": null,
      "align_items": null,
      "align_self": null,
      "border": null,
      "bottom": null,
      "display": null,
      "flex": null,
      "flex_flow": null,
      "grid_area": null,
      "grid_auto_columns": null,
      "grid_auto_flow": null,
      "grid_auto_rows": null,
      "grid_column": null,
      "grid_gap": null,
      "grid_row": null,
      "grid_template_areas": null,
      "grid_template_columns": null,
      "grid_template_rows": null,
      "height": null,
      "justify_content": null,
      "justify_items": null,
      "left": null,
      "margin": null,
      "max_height": null,
      "max_width": null,
      "min_height": null,
      "min_width": null,
      "object_fit": null,
      "object_position": null,
      "order": null,
      "overflow": null,
      "overflow_x": null,
      "overflow_y": null,
      "padding": null,
      "right": null,
      "top": null,
      "visibility": null,
      "width": null
     }
    },
    "827ede96eb8a4413b7378f16e12f8fa0": {
     "model_module": "@jupyter-widgets/base",
     "model_module_version": "1.2.0",
     "model_name": "LayoutModel",
     "state": {
      "_model_module": "@jupyter-widgets/base",
      "_model_module_version": "1.2.0",
      "_model_name": "LayoutModel",
      "_view_count": null,
      "_view_module": "@jupyter-widgets/base",
      "_view_module_version": "1.2.0",
      "_view_name": "LayoutView",
      "align_content": null,
      "align_items": null,
      "align_self": null,
      "border": null,
      "bottom": null,
      "display": null,
      "flex": null,
      "flex_flow": null,
      "grid_area": null,
      "grid_auto_columns": null,
      "grid_auto_flow": null,
      "grid_auto_rows": null,
      "grid_column": null,
      "grid_gap": null,
      "grid_row": null,
      "grid_template_areas": null,
      "grid_template_columns": null,
      "grid_template_rows": null,
      "height": null,
      "justify_content": null,
      "justify_items": null,
      "left": null,
      "margin": null,
      "max_height": null,
      "max_width": null,
      "min_height": null,
      "min_width": null,
      "object_fit": null,
      "object_position": null,
      "order": null,
      "overflow": null,
      "overflow_x": null,
      "overflow_y": null,
      "padding": null,
      "right": null,
      "top": null,
      "visibility": null,
      "width": null
     }
    },
    "8a016ddc36ed4397b7b476aa449fa762": {
     "model_module": "@jupyter-widgets/controls",
     "model_module_version": "1.5.0",
     "model_name": "HBoxModel",
     "state": {
      "_dom_classes": [],
      "_model_module": "@jupyter-widgets/controls",
      "_model_module_version": "1.5.0",
      "_model_name": "HBoxModel",
      "_view_count": null,
      "_view_module": "@jupyter-widgets/controls",
      "_view_module_version": "1.5.0",
      "_view_name": "HBoxView",
      "box_style": "",
      "children": [
       "IPY_MODEL_4ff0520e6fb742c691120ca6f4ed03e0",
       "IPY_MODEL_67daf8de8ec44050974dbd7f9178a5cc",
       "IPY_MODEL_17ebcf9c412d47078a551d4c90e61107"
      ],
      "layout": "IPY_MODEL_924d9c358f88486ea6ba5b2b643c7ce7"
     }
    },
    "924d9c358f88486ea6ba5b2b643c7ce7": {
     "model_module": "@jupyter-widgets/base",
     "model_module_version": "1.2.0",
     "model_name": "LayoutModel",
     "state": {
      "_model_module": "@jupyter-widgets/base",
      "_model_module_version": "1.2.0",
      "_model_name": "LayoutModel",
      "_view_count": null,
      "_view_module": "@jupyter-widgets/base",
      "_view_module_version": "1.2.0",
      "_view_name": "LayoutView",
      "align_content": null,
      "align_items": null,
      "align_self": null,
      "border": null,
      "bottom": null,
      "display": null,
      "flex": null,
      "flex_flow": null,
      "grid_area": null,
      "grid_auto_columns": null,
      "grid_auto_flow": null,
      "grid_auto_rows": null,
      "grid_column": null,
      "grid_gap": null,
      "grid_row": null,
      "grid_template_areas": null,
      "grid_template_columns": null,
      "grid_template_rows": null,
      "height": null,
      "justify_content": null,
      "justify_items": null,
      "left": null,
      "margin": null,
      "max_height": null,
      "max_width": null,
      "min_height": null,
      "min_width": null,
      "object_fit": null,
      "object_position": null,
      "order": null,
      "overflow": null,
      "overflow_x": null,
      "overflow_y": null,
      "padding": null,
      "right": null,
      "top": null,
      "visibility": null,
      "width": null
     }
    },
    "9a913158f3514c89b7b41e27320dc90f": {
     "model_module": "@jupyter-widgets/controls",
     "model_module_version": "1.5.0",
     "model_name": "DescriptionStyleModel",
     "state": {
      "_model_module": "@jupyter-widgets/controls",
      "_model_module_version": "1.5.0",
      "_model_name": "DescriptionStyleModel",
      "_view_count": null,
      "_view_module": "@jupyter-widgets/base",
      "_view_module_version": "1.2.0",
      "_view_name": "StyleView",
      "description_width": ""
     }
    },
    "a8803abe2743412c9641558abe18fab2": {
     "model_module": "@jupyter-widgets/controls",
     "model_module_version": "1.5.0",
     "model_name": "HBoxModel",
     "state": {
      "_dom_classes": [],
      "_model_module": "@jupyter-widgets/controls",
      "_model_module_version": "1.5.0",
      "_model_name": "HBoxModel",
      "_view_count": null,
      "_view_module": "@jupyter-widgets/controls",
      "_view_module_version": "1.5.0",
      "_view_name": "HBoxView",
      "box_style": "",
      "children": [
       "IPY_MODEL_0e2cc20a156346019c763b42fa5de73d",
       "IPY_MODEL_f6a97a95d27240cfbffb6a449a49f7fb",
       "IPY_MODEL_be3875a058714f0891f59bfb99dc13fe"
      ],
      "layout": "IPY_MODEL_5d79adefa3874cbb91c9f6669206d4d7"
     }
    },
    "af16f8079eaf443d874c67f15258ae7c": {
     "model_module": "@jupyter-widgets/controls",
     "model_module_version": "1.5.0",
     "model_name": "HTMLModel",
     "state": {
      "_dom_classes": [],
      "_model_module": "@jupyter-widgets/controls",
      "_model_module_version": "1.5.0",
      "_model_name": "HTMLModel",
      "_view_count": null,
      "_view_module": "@jupyter-widgets/controls",
      "_view_module_version": "1.5.0",
      "_view_name": "HTMLView",
      "description": "",
      "description_tooltip": null,
      "layout": "IPY_MODEL_7745c2d42cce4b379109054b26f2c763",
      "placeholder": "​",
      "style": "IPY_MODEL_4bc0081c7bd747528dc699e83186efea",
      "value": " 1687/1687 [00:00&lt;00:00, 5857.69 examples/s]"
     }
    },
    "b1fc46490cdf4df0805a5efbe9992258": {
     "model_module": "@jupyter-widgets/base",
     "model_module_version": "1.2.0",
     "model_name": "LayoutModel",
     "state": {
      "_model_module": "@jupyter-widgets/base",
      "_model_module_version": "1.2.0",
      "_model_name": "LayoutModel",
      "_view_count": null,
      "_view_module": "@jupyter-widgets/base",
      "_view_module_version": "1.2.0",
      "_view_name": "LayoutView",
      "align_content": null,
      "align_items": null,
      "align_self": null,
      "border": null,
      "bottom": null,
      "display": null,
      "flex": null,
      "flex_flow": null,
      "grid_area": null,
      "grid_auto_columns": null,
      "grid_auto_flow": null,
      "grid_auto_rows": null,
      "grid_column": null,
      "grid_gap": null,
      "grid_row": null,
      "grid_template_areas": null,
      "grid_template_columns": null,
      "grid_template_rows": null,
      "height": null,
      "justify_content": null,
      "justify_items": null,
      "left": null,
      "margin": null,
      "max_height": null,
      "max_width": null,
      "min_height": null,
      "min_width": null,
      "object_fit": null,
      "object_position": null,
      "order": null,
      "overflow": null,
      "overflow_x": null,
      "overflow_y": null,
      "padding": null,
      "right": null,
      "top": null,
      "visibility": null,
      "width": null
     }
    },
    "be3875a058714f0891f59bfb99dc13fe": {
     "model_module": "@jupyter-widgets/controls",
     "model_module_version": "1.5.0",
     "model_name": "HTMLModel",
     "state": {
      "_dom_classes": [],
      "_model_module": "@jupyter-widgets/controls",
      "_model_module_version": "1.5.0",
      "_model_name": "HTMLModel",
      "_view_count": null,
      "_view_module": "@jupyter-widgets/controls",
      "_view_module_version": "1.5.0",
      "_view_name": "HTMLView",
      "description": "",
      "description_tooltip": null,
      "layout": "IPY_MODEL_770cc3747186466ca2148671d2a761f7",
      "placeholder": "​",
      "style": "IPY_MODEL_607658bc92014690bf33f8149c394d1e",
      "value": " 6750/6750 [00:00&lt;00:00, 11242.18 examples/s]"
     }
    },
    "be4fd6456aff48fe8563483aa992e0e3": {
     "model_module": "@jupyter-widgets/base",
     "model_module_version": "1.2.0",
     "model_name": "LayoutModel",
     "state": {
      "_model_module": "@jupyter-widgets/base",
      "_model_module_version": "1.2.0",
      "_model_name": "LayoutModel",
      "_view_count": null,
      "_view_module": "@jupyter-widgets/base",
      "_view_module_version": "1.2.0",
      "_view_name": "LayoutView",
      "align_content": null,
      "align_items": null,
      "align_self": null,
      "border": null,
      "bottom": null,
      "display": null,
      "flex": null,
      "flex_flow": null,
      "grid_area": null,
      "grid_auto_columns": null,
      "grid_auto_flow": null,
      "grid_auto_rows": null,
      "grid_column": null,
      "grid_gap": null,
      "grid_row": null,
      "grid_template_areas": null,
      "grid_template_columns": null,
      "grid_template_rows": null,
      "height": null,
      "justify_content": null,
      "justify_items": null,
      "left": null,
      "margin": null,
      "max_height": null,
      "max_width": null,
      "min_height": null,
      "min_width": null,
      "object_fit": null,
      "object_position": null,
      "order": null,
      "overflow": null,
      "overflow_x": null,
      "overflow_y": null,
      "padding": null,
      "right": null,
      "top": null,
      "visibility": null,
      "width": null
     }
    },
    "c23e08d0462143c890ee65d213bcc409": {
     "model_module": "@jupyter-widgets/controls",
     "model_module_version": "1.5.0",
     "model_name": "HTMLModel",
     "state": {
      "_dom_classes": [],
      "_model_module": "@jupyter-widgets/controls",
      "_model_module_version": "1.5.0",
      "_model_name": "HTMLModel",
      "_view_count": null,
      "_view_module": "@jupyter-widgets/controls",
      "_view_module_version": "1.5.0",
      "_view_name": "HTMLView",
      "description": "",
      "description_tooltip": null,
      "layout": "IPY_MODEL_da6df80e03644b72a7ef6cfbc08a532f",
      "placeholder": "​",
      "style": "IPY_MODEL_9a913158f3514c89b7b41e27320dc90f",
      "value": "Saving the dataset (1/1 shards): 100%"
     }
    },
    "d14c35deb1f84755af2797f2a587f24f": {
     "model_module": "@jupyter-widgets/base",
     "model_module_version": "1.2.0",
     "model_name": "LayoutModel",
     "state": {
      "_model_module": "@jupyter-widgets/base",
      "_model_module_version": "1.2.0",
      "_model_name": "LayoutModel",
      "_view_count": null,
      "_view_module": "@jupyter-widgets/base",
      "_view_module_version": "1.2.0",
      "_view_name": "LayoutView",
      "align_content": null,
      "align_items": null,
      "align_self": null,
      "border": null,
      "bottom": null,
      "display": null,
      "flex": null,
      "flex_flow": null,
      "grid_area": null,
      "grid_auto_columns": null,
      "grid_auto_flow": null,
      "grid_auto_rows": null,
      "grid_column": null,
      "grid_gap": null,
      "grid_row": null,
      "grid_template_areas": null,
      "grid_template_columns": null,
      "grid_template_rows": null,
      "height": null,
      "justify_content": null,
      "justify_items": null,
      "left": null,
      "margin": null,
      "max_height": null,
      "max_width": null,
      "min_height": null,
      "min_width": null,
      "object_fit": null,
      "object_position": null,
      "order": null,
      "overflow": null,
      "overflow_x": null,
      "overflow_y": null,
      "padding": null,
      "right": null,
      "top": null,
      "visibility": null,
      "width": null
     }
    },
    "da6df80e03644b72a7ef6cfbc08a532f": {
     "model_module": "@jupyter-widgets/base",
     "model_module_version": "1.2.0",
     "model_name": "LayoutModel",
     "state": {
      "_model_module": "@jupyter-widgets/base",
      "_model_module_version": "1.2.0",
      "_model_name": "LayoutModel",
      "_view_count": null,
      "_view_module": "@jupyter-widgets/base",
      "_view_module_version": "1.2.0",
      "_view_name": "LayoutView",
      "align_content": null,
      "align_items": null,
      "align_self": null,
      "border": null,
      "bottom": null,
      "display": null,
      "flex": null,
      "flex_flow": null,
      "grid_area": null,
      "grid_auto_columns": null,
      "grid_auto_flow": null,
      "grid_auto_rows": null,
      "grid_column": null,
      "grid_gap": null,
      "grid_row": null,
      "grid_template_areas": null,
      "grid_template_columns": null,
      "grid_template_rows": null,
      "height": null,
      "justify_content": null,
      "justify_items": null,
      "left": null,
      "margin": null,
      "max_height": null,
      "max_width": null,
      "min_height": null,
      "min_width": null,
      "object_fit": null,
      "object_position": null,
      "order": null,
      "overflow": null,
      "overflow_x": null,
      "overflow_y": null,
      "padding": null,
      "right": null,
      "top": null,
      "visibility": null,
      "width": null
     }
    },
    "e866fc590e1f4afeb0fd4878d4cdcb6e": {
     "model_module": "@jupyter-widgets/controls",
     "model_module_version": "1.5.0",
     "model_name": "DescriptionStyleModel",
     "state": {
      "_model_module": "@jupyter-widgets/controls",
      "_model_module_version": "1.5.0",
      "_model_name": "DescriptionStyleModel",
      "_view_count": null,
      "_view_module": "@jupyter-widgets/base",
      "_view_module_version": "1.2.0",
      "_view_name": "StyleView",
      "description_width": ""
     }
    },
    "ed0ded092113474ea66247336393403e": {
     "model_module": "@jupyter-widgets/controls",
     "model_module_version": "1.5.0",
     "model_name": "ProgressStyleModel",
     "state": {
      "_model_module": "@jupyter-widgets/controls",
      "_model_module_version": "1.5.0",
      "_model_name": "ProgressStyleModel",
      "_view_count": null,
      "_view_module": "@jupyter-widgets/base",
      "_view_module_version": "1.2.0",
      "_view_name": "StyleView",
      "bar_color": null,
      "description_width": ""
     }
    },
    "f6a97a95d27240cfbffb6a449a49f7fb": {
     "model_module": "@jupyter-widgets/controls",
     "model_module_version": "1.5.0",
     "model_name": "FloatProgressModel",
     "state": {
      "_dom_classes": [],
      "_model_module": "@jupyter-widgets/controls",
      "_model_module_version": "1.5.0",
      "_model_name": "FloatProgressModel",
      "_view_count": null,
      "_view_module": "@jupyter-widgets/controls",
      "_view_module_version": "1.5.0",
      "_view_name": "ProgressView",
      "bar_style": "success",
      "description": "",
      "description_tooltip": null,
      "layout": "IPY_MODEL_5aff25740f8d4e828b6d30556d1c2f8b",
      "max": 6750,
      "min": 0,
      "orientation": "horizontal",
      "style": "IPY_MODEL_ed0ded092113474ea66247336393403e",
      "value": 6750
     }
    }
   }
  }
 },
 "nbformat": 4,
 "nbformat_minor": 4
}
