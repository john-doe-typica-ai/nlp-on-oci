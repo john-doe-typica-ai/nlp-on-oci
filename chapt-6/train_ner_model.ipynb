{
 "cells": [
  {
   "cell_type": "raw",
   "metadata": {
    "id": "hB8ngUnoTIhO"
   },
   "source": [
    "%%capture\n",
    "!pip install transformers -U\n",
    "!pip install accelerate -U\n",
    "!pip install datasets\n",
    "!pip install evaluate\n",
    "!pip install seqeval"
   ]
  },
  {
   "cell_type": "code",
   "execution_count": 9,
   "metadata": {
    "tags": []
   },
   "outputs": [
    {
     "name": "stdout",
     "output_type": "stream",
     "text": [
      "Mon Mar 18 19:17:47 2024       \n",
      "+-----------------------------------------------------------------------------------------+\n",
      "| NVIDIA-SMI 550.54.14              Driver Version: 550.54.14      CUDA Version: 12.4     |\n",
      "|-----------------------------------------+------------------------+----------------------+\n",
      "| GPU  Name                 Persistence-M | Bus-Id          Disp.A | Volatile Uncorr. ECC |\n",
      "| Fan  Temp   Perf          Pwr:Usage/Cap |           Memory-Usage | GPU-Util  Compute M. |\n",
      "|                                         |                        |               MIG M. |\n",
      "|=========================================+========================+======================|\n",
      "|   0  NVIDIA A10                     Off |   00000000:00:04.0 Off |                    0 |\n",
      "|  0%   30C    P8             15W /  150W |       0MiB /  23028MiB |      0%      Default |\n",
      "|                                         |                        |                  N/A |\n",
      "+-----------------------------------------+------------------------+----------------------+\n",
      "                                                                                         \n",
      "+-----------------------------------------------------------------------------------------+\n",
      "| Processes:                                                                              |\n",
      "|  GPU   GI   CI        PID   Type   Process name                              GPU Memory |\n",
      "|        ID   ID                                                               Usage      |\n",
      "|=========================================================================================|\n",
      "|  No running processes found                                                             |\n",
      "+-----------------------------------------------------------------------------------------+\n"
     ]
    }
   ],
   "source": [
    "!nvidia-smi"
   ]
  },
  {
   "cell_type": "markdown",
   "metadata": {
    "id": "WLdRQWf-ckYL"
   },
   "source": [
    "# 1 - Create a Hugging Face dataset from exported OCI Data Labeling CoNLL Dataset"
   ]
  },
  {
   "cell_type": "markdown",
   "metadata": {
    "id": "LOpiTccYUv0h"
   },
   "source": [
    "To create a Hugging Face dataset with the format you described, you'll need to go through several steps, assuming you already have your dataset in the CoNLL format as shown. Here's a high-level overview of what needs to be done, including code snippets to guide you through the process:\n",
    "\n",
    "Parse the CoNLL File: Extract the tokens and their corresponding NER tags from your CoNLL file.\n",
    "\n",
    "Extract Unique NER Tags: Dynamically create a list of unique NER tags from your dataset, ensuring 'O' is the first tag in the list.\n",
    "\n",
    "Prepare the Data: Organize your data into a structure that can be consumed by the Hugging Face datasets library, with each instance having an 'id', 'tokens', and 'ner_tags'.\n",
    "\n",
    "Create a Hugging Face Dataset: Use the datasets library to create a DatasetDict with your data.\n",
    "\n",
    "Here's how you can do it:"
   ]
  },
  {
   "cell_type": "markdown",
   "metadata": {
    "id": "FO2ox8FYUwtT"
   },
   "source": [
    "## Step 1: Parse the CoNLL File\n",
    "You need to read your .conll file and extract the tokens and their NER tags. This function reads your .conll file and extracts sentences and their NER tags.\n",
    "\n"
   ]
  },
  {
   "cell_type": "code",
   "execution_count": 1,
   "metadata": {
    "id": "T7AYE5nfTD8j",
    "tags": []
   },
   "outputs": [],
   "source": [
    "import re\n",
    "\n",
    "def split_token(token, tag):\n",
    "    \"\"\"\n",
    "    Splits tokens if they end with specific punctuation characters (.,;!?) and assigns\n",
    "    'O' to the punctuation, leaving other tokens intact.\n",
    "    \"\"\"\n",
    "    # Define the punctuations to split\n",
    "    punctuations = \".,;!?\"\n",
    "    # Check if the token ends with a punctuation that should be split\n",
    "    if token[-1] in punctuations:\n",
    "        # Return the token without the last character and the punctuation as separate tokens\n",
    "        return [(token[:-1], tag), (token[-1], 'O')]\n",
    "    else:\n",
    "        # Return the token as is if it doesn't end with specified punctuation\n",
    "        return [(token, tag)]\n",
    "\n",
    "\n",
    "def parse_conll_file(file_path):\n",
    "    sentences = []\n",
    "    current_sentence = []\n",
    "    with open(file_path, 'r', encoding='utf-8') as file:\n",
    "        for line in file:\n",
    "            if line.startswith(\"-DOCSTART-\") or line.strip() == \"\":\n",
    "                if current_sentence:\n",
    "                    sentences.append(current_sentence)\n",
    "                    current_sentence = []\n",
    "            else:\n",
    "                parts = line.strip().split()\n",
    "                token = parts[0]\n",
    "                tag = parts[-1] if len(parts) > 1 else 'O'  # Default to 'O' if no tag is present\n",
    "                # Split token if it contains punctuation\n",
    "                current_sentence.extend(split_token(token, tag))\n",
    "        if current_sentence:  # Add the last sentence if it exists\n",
    "            sentences.append(current_sentence)\n",
    "    return sentences\n"
   ]
  },
  {
   "cell_type": "markdown",
   "metadata": {
    "id": "PS9OWO5BU4h9"
   },
   "source": [
    "## Step 2: Extract Unique NER Tags and Prepare Data\n",
    "This function extracts unique NER tags ensuring 'O' is first, and prepares the data for the dataset creation.\n"
   ]
  },
  {
   "cell_type": "code",
   "execution_count": 2,
   "metadata": {
    "id": "4iZTwWCq6ZSA",
    "tags": []
   },
   "outputs": [],
   "source": [
    "def prepare_dataset(sentences):\n",
    "    \"\"\"\n",
    "    excluded_tags = {'B-BITCOINADDRESS', 'B-IP', 'B-MAC', 'B-PHONEIMEI', 'B-URL',\n",
    "                     'I-BITCOINADDRESS', 'I-IP', 'I-MAC', 'I-PHONEIMEI', 'I-URL','B-CITY', 'B-COMPANYNAME',\n",
    "                     'B-CURRENCYNAME', 'B-JOBAREA', 'B-JOBTYPE',\n",
    "                      'B-PREFIX', 'B-SECONDARYADDRESS', 'B-STATE',  'B-TIME', 'B-USERNAME'\n",
    "                     , 'I-COMPANYNAME', 'I-CURRENCYNAME', 'I-GENDER', 'I-SECONDARYADDRESS', 'I-STATE', 'I-TIME'}\n",
    "    \"\"\"\n",
    "\n",
    "    unique_tags = set()\n",
    "    for sentence in sentences:\n",
    "        for _, tag in sentence:\n",
    "            #if tag not in excluded_tags:\n",
    "            unique_tags.add(tag)\n",
    "\n",
    "    # Ensure 'O' is first, then sort the rest of the tags\n",
    "    unique_tags.discard('O')  # Remove 'O' to avoid duplication\n",
    "    unique_tags = ['O'] + sorted(unique_tags)  # Prepend 'O' and sort the rest\n",
    "\n",
    "    tag_to_id = {tag: id for id, tag in enumerate(unique_tags)}\n",
    "\n",
    "    # Prepare data for Hugging Face Dataset\n",
    "    data = {'id': [], 'tokens': [], 'ner_tags': []}\n",
    "    for i, sentence in enumerate(sentences):\n",
    "        tokens, tags = zip(*sentence)\n",
    "        data['id'].append(str(i))\n",
    "        data['tokens'].append(list(tokens))\n",
    "        data['ner_tags'].append([tag_to_id.get(tag, tag_to_id['O']) for tag in tags ]) #if tag not in excluded_tags\n",
    "\n",
    "    return data, unique_tags\n"
   ]
  },
  {
   "cell_type": "markdown",
   "metadata": {
    "id": "hJmJg6Y-VAIX"
   },
   "source": [
    "## Step 3: Create a Hugging Face Dataset\n",
    "This function creates the dataset using the prepared data and unique NER tags.\n",
    "\n"
   ]
  },
  {
   "cell_type": "code",
   "execution_count": 3,
   "metadata": {
    "id": "Ebl6xQWoU_XR",
    "tags": []
   },
   "outputs": [],
   "source": [
    "from datasets import Dataset, DatasetDict, Features, ClassLabel, Sequence, Value\n",
    "\n",
    "def create_hf_dataset(data, unique_tags):\n",
    "    features= Features({\n",
    "                'id': Value(dtype='string', id=None),\n",
    "                'tokens': Sequence(feature=Value(dtype='string', id=None), length=-1, id=None),\n",
    "                'ner_tags': Sequence(feature=ClassLabel(num_classes=len(unique_tags), names=unique_tags))\n",
    "            })\n",
    "\n",
    "    dataset = Dataset.from_dict(data, features=features)\n",
    "    dataset_dict = DatasetDict({'train': dataset})\n",
    "    return dataset_dict\n"
   ]
  },
  {
   "cell_type": "markdown",
   "metadata": {
    "id": "fHqD9ABeZccb"
   },
   "source": [
    "## Putting It All Together\n",
    "Finally, use these functions together to parse your .conll file, prepare the data, and create the dataset.\n",
    "To put it all together, you'd call these functions in sequence, providing the path to your CoNLL file:\n",
    "\n"
   ]
  },
  {
   "cell_type": "code",
   "execution_count": 4,
   "metadata": {
    "tags": []
   },
   "outputs": [
    {
     "name": "stdout",
     "output_type": "stream",
     "text": [
      "Temporary directory created at: /tmp/tmpzkffxlns\n",
      "Written taln_pii_case_study_ds_Conll_export_3000.conll to the temporary directory: /tmp/tmpzkffxlns/taln_pii_case_study_ds_Conll_export_3000.conll\n"
     ]
    }
   ],
   "source": [
    "import ocifs\n",
    "import tempfile\n",
    "import os\n",
    "\n",
    "# Initialize OCI File System\n",
    "fs = ocifs.OCIFileSystem()\n",
    "\n",
    "# Specify the object storage directory path\n",
    "object_storage_path = \"book_oci_nlp_labeling_bucket@yz2wwgkgt8eh/taln_pii_cs_ds_060324_3000_export/book_oci_nlp_labeling_ds_060324_3000_exportbook_oci_nlp_labeling_ds_060324_3000_1709776877546.conll\"\n",
    "\n",
    "# List files in the object storage directory\n",
    "#files = fs.glob(object_storage_path)\n",
    "\n",
    "# Create a temporary directory\n",
    "temp_dir = tempfile.mkdtemp()\n",
    "print(f\"Temporary directory created at: {temp_dir}\")\n",
    "\n",
    "# Read from OCI Object Storage and write to the local temp directory\n",
    "\n",
    "file_name = \"taln_pii_case_study_ds_Conll_export_3000.conll\" #os.path.basename(file_path)\n",
    "local_file_path = os.path.join(temp_dir, file_name)\n",
    "    \n",
    "# Open the remote file and write its contents to a local file\n",
    "with fs.open(object_storage_path, 'rb') as remote_file, open(local_file_path, 'wb') as local_file:\n",
    "    local_file.write(remote_file.read())\n",
    "    print(f\"Written {file_name} to the temporary directory: {local_file_path}\")\n"
   ]
  },
  {
   "cell_type": "code",
   "execution_count": 6,
   "metadata": {
    "tags": []
   },
   "outputs": [
    {
     "name": "stdout",
     "output_type": "stream",
     "text": [
      "taln_pii_case_study_ds_Conll_export_3000.conll\n"
     ]
    }
   ],
   "source": [
    "!ls /tmp/tmpzkffxlns"
   ]
  },
  {
   "cell_type": "code",
   "execution_count": 7,
   "metadata": {
    "colab": {
     "base_uri": "https://localhost:8080/",
     "height": 66,
     "referenced_widgets": [
      "431695fdbf004f9597f64ff14220fc6d",
      "34189f7d3e4542b899cd040b05942602",
      "492af69e546141b1972f7dc72e93ac81",
      "4972d36293f2435d987d9226007901dd",
      "bf9e27e16cce4a6f859ea2941c18677a",
      "c923c0bd636245e9a01a65a7c87ed499",
      "647f6e4abe924ce381417e306d011609",
      "d2d70355f9314ed3ba1c11e8e55d6173",
      "d6416ece44c241d7bf51598bca96988f",
      "0a311638a6f84a9dbe67c447e4485753",
      "ee38230e10924948aff80b7cc0de830a"
     ]
    },
    "id": "bSRFoaiRZf4G",
    "outputId": "3f0a4627-cc89-43c8-93fd-ae86271d790f",
    "tags": []
   },
   "outputs": [
    {
     "data": {
      "application/vnd.jupyter.widget-view+json": {
       "model_id": "7c12e23b5ae14352b6052856c1821898",
       "version_major": 2,
       "version_minor": 0
      },
      "text/plain": [
       "Saving the dataset (0/1 shards):   0%|          | 0/1838 [00:00<?, ? examples/s]"
      ]
     },
     "metadata": {},
     "output_type": "display_data"
    },
    {
     "name": "stdout",
     "output_type": "stream",
     "text": [
      "Dataset created successfully!\n"
     ]
    }
   ],
   "source": [
    "# Update this to your file's path\n",
    "file_path = local_file_path #\"./datasets/taln_pii_case_study_ds_Conll_export_3000.conll\"\n",
    "\n",
    "# Parse the .conll file\n",
    "sentences = parse_conll_file(file_path)\n",
    "# Prepare the dataset and extract unique NER tags\n",
    "data, unique_tags = prepare_dataset(sentences)\n",
    "data\n",
    "# Create the Hugging Face dataset\n",
    "dataset_dict = create_hf_dataset(data, unique_tags)\n",
    "dataset_dict\n",
    "\n",
    "# Optionally, save the dataset to disk\n",
    "dataset_dict.save_to_disk(temp_dir+\"/datasets/from_oci_2_huggingface_test\")\n",
    "\n",
    "print(\"Dataset created successfully!\")\n"
   ]
  },
  {
   "cell_type": "code",
   "execution_count": 8,
   "metadata": {
    "colab": {
     "base_uri": "https://localhost:8080/"
    },
    "id": "j9AlQJtQeOUp",
    "outputId": "a7af54de-46b6-4c44-8d11-c938cad84b59",
    "tags": []
   },
   "outputs": [
    {
     "data": {
      "text/plain": [
       "DatasetDict({\n",
       "    train: Dataset({\n",
       "        features: ['id', 'tokens', 'ner_tags'],\n",
       "        num_rows: 1838\n",
       "    })\n",
       "})"
      ]
     },
     "execution_count": 8,
     "metadata": {},
     "output_type": "execute_result"
    }
   ],
   "source": [
    "dataset_dict"
   ]
  },
  {
   "cell_type": "code",
   "execution_count": 10,
   "metadata": {
    "colab": {
     "base_uri": "https://localhost:8080/"
    },
    "id": "uZwWwN2uEt1T",
    "outputId": "f4f9cb19-5bd2-49e9-8679-4ac65398ab97",
    "tags": []
   },
   "outputs": [
    {
     "name": "stdout",
     "output_type": "stream",
     "text": [
      "Before:\n",
      " DatasetDict({\n",
      "    train: Dataset({\n",
      "        features: ['id', 'tokens', 'ner_tags'],\n",
      "        num_rows: 1838\n",
      "    })\n",
      "})\n",
      "\n",
      "After\n",
      " DatasetDict({\n",
      "    train: Dataset({\n",
      "        features: ['id', 'tokens', 'ner_tags'],\n",
      "        num_rows: 1378\n",
      "    })\n",
      "    validation: Dataset({\n",
      "        features: ['id', 'tokens', 'ner_tags'],\n",
      "        num_rows: 345\n",
      "    })\n",
      "    test: Dataset({\n",
      "        features: ['id', 'tokens', 'ner_tags'],\n",
      "        num_rows: 115\n",
      "    })\n",
      "})\n"
     ]
    }
   ],
   "source": [
    "from datasets import DatasetDict\n",
    "\n",
    "ds_train_devtest = dataset_dict['train'].train_test_split(test_size=0.25, seed=42)\n",
    "ds_devtest = ds_train_devtest['test'].train_test_split(test_size=0.25, seed=42)\n",
    "\n",
    "\n",
    "raw_datasets = DatasetDict({\n",
    "    'train': ds_train_devtest['train'],\n",
    "    'validation': ds_devtest['train'],\n",
    "    'test': ds_devtest['test']\n",
    "})\n",
    "\n",
    "print(\"Before:\\n\", dataset_dict)\n",
    "print(\"\\nAfter\\n\", raw_datasets)"
   ]
  },
  {
   "cell_type": "code",
   "execution_count": 11,
   "metadata": {
    "colab": {
     "base_uri": "https://localhost:8080/"
    },
    "id": "1I0rHI8VOuUh",
    "outputId": "e665cc9f-2b4e-4788-bb47-9e9c87336c58",
    "tags": []
   },
   "outputs": [
    {
     "data": {
      "text/plain": [
       "Sequence(feature=ClassLabel(names=['O', 'B-AGE', 'B-CREDITCARDNUMBER', 'B-EMAIL', 'B-FIRSTNAME', 'B-LASTNAME', 'B-MIDDLENAME', 'B-PHONENUMBER', 'B-STREET', 'B-ZIPCODE', 'I-AGE', 'I-PHONENUMBER', 'I-STREET'], id=None), length=-1, id=None)"
      ]
     },
     "execution_count": 11,
     "metadata": {},
     "output_type": "execute_result"
    }
   ],
   "source": [
    "ner_feature = dataset_dict[\"train\"].features[\"ner_tags\"]\n",
    "ner_feature"
   ]
  },
  {
   "cell_type": "code",
   "execution_count": null,
   "metadata": {
    "id": "uxuZXwEPHFiQ"
   },
   "outputs": [],
   "source": [
    "#from datasets import load_dataset\n",
    "#raw_datasets2 = load_dataset(\"conll2003\")\n"
   ]
  },
  {
   "cell_type": "code",
   "execution_count": 12,
   "metadata": {
    "colab": {
     "base_uri": "https://localhost:8080/"
    },
    "id": "qxBWkiGGexF3",
    "outputId": "639f6a3f-8c14-4ee9-86e6-6c1774017c10",
    "tags": []
   },
   "outputs": [
    {
     "data": {
      "text/plain": [
       "['Cher',\n",
       " 'Stanley',\n",
       " ',',\n",
       " 'veuillez',\n",
       " 'mettre',\n",
       " 'à',\n",
       " 'jour',\n",
       " 'votre',\n",
       " 'iPad',\n",
       " 'pour',\n",
       " 'continuer',\n",
       " 'à',\n",
       " 'utiliser',\n",
       " 'nos',\n",
       " 'ressources',\n",
       " 'éducatives',\n",
       " '.',\n",
       " 'Les',\n",
       " 'meilleures',\n",
       " 'performances',\n",
       " 'sont',\n",
       " 'garanties',\n",
       " 'avec',\n",
       " 'Mozilla/5.0',\n",
       " '(X11',\n",
       " ';',\n",
       " 'Linux',\n",
       " 'x86_64',\n",
       " 'AppleWebKit/536.2.1',\n",
       " '(KHTML',\n",
       " ',',\n",
       " 'like',\n",
       " 'Gecko)',\n",
       " 'Chrome/25.0.849.0',\n",
       " 'Safari/536.2.1',\n",
       " 'et',\n",
       " 'versions',\n",
       " 'ultérieures',\n",
       " '.']"
      ]
     },
     "execution_count": 12,
     "metadata": {},
     "output_type": "execute_result"
    }
   ],
   "source": [
    "raw_datasets[\"train\"][4][\"tokens\"]"
   ]
  },
  {
   "cell_type": "code",
   "execution_count": 13,
   "metadata": {
    "colab": {
     "base_uri": "https://localhost:8080/"
    },
    "id": "PJR37MZve8Mk",
    "outputId": "9582d2d6-cf9c-44be-dc90-fd27791ff940",
    "tags": []
   },
   "outputs": [
    {
     "data": {
      "text/plain": [
       "[0,\n",
       " 4,\n",
       " 0,\n",
       " 0,\n",
       " 0,\n",
       " 0,\n",
       " 0,\n",
       " 0,\n",
       " 0,\n",
       " 0,\n",
       " 0,\n",
       " 0,\n",
       " 0,\n",
       " 0,\n",
       " 0,\n",
       " 0,\n",
       " 0,\n",
       " 0,\n",
       " 0,\n",
       " 0,\n",
       " 0,\n",
       " 0,\n",
       " 0,\n",
       " 0,\n",
       " 0,\n",
       " 0,\n",
       " 0,\n",
       " 0,\n",
       " 0,\n",
       " 0,\n",
       " 0,\n",
       " 0,\n",
       " 0,\n",
       " 0,\n",
       " 0,\n",
       " 0,\n",
       " 0,\n",
       " 0,\n",
       " 0]"
      ]
     },
     "execution_count": 13,
     "metadata": {},
     "output_type": "execute_result"
    }
   ],
   "source": [
    "raw_datasets[\"train\"][4][\"ner_tags\"]"
   ]
  },
  {
   "cell_type": "code",
   "execution_count": 14,
   "metadata": {
    "colab": {
     "base_uri": "https://localhost:8080/"
    },
    "id": "MObLyjKUe-r-",
    "outputId": "8054a265-0a79-4061-c6a9-67a18ebdee0e",
    "tags": []
   },
   "outputs": [
    {
     "data": {
      "text/plain": [
       "Sequence(feature=ClassLabel(names=['O', 'B-AGE', 'B-CREDITCARDNUMBER', 'B-EMAIL', 'B-FIRSTNAME', 'B-LASTNAME', 'B-MIDDLENAME', 'B-PHONENUMBER', 'B-STREET', 'B-ZIPCODE', 'I-AGE', 'I-PHONENUMBER', 'I-STREET'], id=None), length=-1, id=None)"
      ]
     },
     "execution_count": 14,
     "metadata": {},
     "output_type": "execute_result"
    }
   ],
   "source": [
    "ner_feature = raw_datasets[\"train\"].features[\"ner_tags\"]\n",
    "ner_feature"
   ]
  },
  {
   "cell_type": "markdown",
   "metadata": {
    "id": "d-RKXcPUgwhw"
   },
   "source": [
    "# Training NER Model\n",
    "Script based on # Token classification (PyTorch)\n",
    "\n",
    "https://huggingface.co/learn/nlp-course/en/chapter7/2\n",
    "\n",
    "https://colab.research.google.com/github/huggingface/notebooks/blob/master/course/en/chapter7/section2_pt.ipynb#scrollTo=Ff9u5jFitaJQ\n"
   ]
  },
  {
   "cell_type": "markdown",
   "metadata": {
    "id": "9F3-hpoThls6"
   },
   "source": [
    "Preparing the data\n",
    "First things first, we need a dataset suitable for token classification. In this section we will use the CoNLL-2003 dataset, which contains news stories from Reuters.\n",
    "\n",
    "💡 As long as your dataset consists of texts split into words with their corresponding labels, you will be able to adapt the data processing procedures described here to your own dataset. Refer back to Chapter 5 if you need a refresher on how to load your own custom data in a Dataset.\n",
    "\n",
    "The CoNLL-2003 dataset\n",
    "To load the CoNLL-2003 dataset, we use the load_dataset() method from the 🤗 Datasets library:"
   ]
  },
  {
   "cell_type": "code",
   "execution_count": 15,
   "metadata": {
    "colab": {
     "base_uri": "https://localhost:8080/"
    },
    "id": "2Slkb9C7g0Kp",
    "outputId": "a0aa0f6f-3e55-4112-8b02-daf58a1b4c5d",
    "tags": []
   },
   "outputs": [
    {
     "data": {
      "text/plain": [
       "['O',\n",
       " 'B-AGE',\n",
       " 'B-CREDITCARDNUMBER',\n",
       " 'B-EMAIL',\n",
       " 'B-FIRSTNAME',\n",
       " 'B-LASTNAME',\n",
       " 'B-MIDDLENAME',\n",
       " 'B-PHONENUMBER',\n",
       " 'B-STREET',\n",
       " 'B-ZIPCODE',\n",
       " 'I-AGE',\n",
       " 'I-PHONENUMBER',\n",
       " 'I-STREET']"
      ]
     },
     "execution_count": 15,
     "metadata": {},
     "output_type": "execute_result"
    }
   ],
   "source": [
    "label_names = ner_feature.feature.names\n",
    "label_names"
   ]
  },
  {
   "cell_type": "code",
   "execution_count": 16,
   "metadata": {
    "colab": {
     "base_uri": "https://localhost:8080/"
    },
    "id": "Xw2yb1M_hI0D",
    "outputId": "318049bf-7e98-4f1b-c4f6-1d78699fabab",
    "tags": []
   },
   "outputs": [
    {
     "name": "stdout",
     "output_type": "stream",
     "text": [
      "Bonjour Mr . Wolff      . N'oubliez pas de confirmer votre présence à notre événement annuel de la journée des carrières . Nous sommes ravis d'accueillir Future Division Supervisor de Keeling , Huel and Auer qui s'adressera aux étudiants en Program . \n",
      "41\n",
      "O       O  O B-LASTNAME O O         O   O  O         O     O        O O     O         O      O  O  O       O   O         O O    O      O     O            O      O        O          O  O       O O    O   O    O   O           O   O         O  O       O \n",
      "41\n"
     ]
    }
   ],
   "source": [
    "words = raw_datasets[\"train\"][2][\"tokens\"]\n",
    "labels = raw_datasets[\"train\"][2][\"ner_tags\"]\n",
    "line1 = \"\"\n",
    "line2 = \"\"\n",
    "for word, label in zip(words, labels):\n",
    "    full_label = label_names[label]\n",
    "    max_length = max(len(word), len(full_label))\n",
    "    line1 += word + \" \" * (max_length - len(word) + 1)\n",
    "    line2 += full_label + \" \" * (max_length - len(full_label) + 1)\n",
    "\n",
    "print(line1)\n",
    "print(len(words))\n",
    "print(line2)\n",
    "print(len(labels))\n"
   ]
  },
  {
   "cell_type": "code",
   "execution_count": 17,
   "metadata": {
    "colab": {
     "base_uri": "https://localhost:8080/"
    },
    "id": "cvvVU1zthTQK",
    "outputId": "5cc3fa7d-52ad-4ee9-98f3-5e45b4b57bf3",
    "tags": []
   },
   "outputs": [
    {
     "data": {
      "application/vnd.jupyter.widget-view+json": {
       "model_id": "b696acd21cfa4a3a91bb62b80cebd3bf",
       "version_major": 2,
       "version_minor": 0
      },
      "text/plain": [
       "tokenizer_config.json:   0%|          | 0.00/25.0 [00:00<?, ?B/s]"
      ]
     },
     "metadata": {},
     "output_type": "display_data"
    },
    {
     "data": {
      "application/vnd.jupyter.widget-view+json": {
       "model_id": "c3c7755a65d348498ed58ff679af03d9",
       "version_major": 2,
       "version_minor": 0
      },
      "text/plain": [
       "config.json:   0%|          | 0.00/508 [00:00<?, ?B/s]"
      ]
     },
     "metadata": {},
     "output_type": "display_data"
    },
    {
     "data": {
      "application/vnd.jupyter.widget-view+json": {
       "model_id": "b6dbdb52cb6640438789c010855a3856",
       "version_major": 2,
       "version_minor": 0
      },
      "text/plain": [
       "sentencepiece.bpe.model:   0%|          | 0.00/811k [00:00<?, ?B/s]"
      ]
     },
     "metadata": {},
     "output_type": "display_data"
    },
    {
     "data": {
      "application/vnd.jupyter.widget-view+json": {
       "model_id": "f3db2911f1eb457e9f67daf977940bcc",
       "version_major": 2,
       "version_minor": 0
      },
      "text/plain": [
       "tokenizer.json:   0%|          | 0.00/1.40M [00:00<?, ?B/s]"
      ]
     },
     "metadata": {},
     "output_type": "display_data"
    }
   ],
   "source": [
    "from transformers import AutoTokenizer\n",
    "\n",
    "model_checkpoint = \"almanach/camembert-base\"\n",
    "tokenizer = AutoTokenizer.from_pretrained(model_checkpoint)"
   ]
  },
  {
   "cell_type": "code",
   "execution_count": 18,
   "metadata": {
    "colab": {
     "base_uri": "https://localhost:8080/"
    },
    "id": "zRF3iMhyhsFQ",
    "outputId": "db412227-8b68-4b88-a1db-34308927d4e6",
    "tags": []
   },
   "outputs": [
    {
     "data": {
      "text/plain": [
       "True"
      ]
     },
     "execution_count": 18,
     "metadata": {},
     "output_type": "execute_result"
    }
   ],
   "source": [
    "tokenizer.is_fast"
   ]
  },
  {
   "cell_type": "code",
   "execution_count": 19,
   "metadata": {
    "colab": {
     "base_uri": "https://localhost:8080/"
    },
    "id": "Cbt1Pk__hurf",
    "outputId": "cb3fb75b-03cf-4d0d-a77a-23df13033649",
    "tags": []
   },
   "outputs": [
    {
     "data": {
      "text/plain": [
       "['<s>',\n",
       " '▁Cher',\n",
       " '▁Stanley',\n",
       " '▁',\n",
       " ',',\n",
       " '▁veuillez',\n",
       " '▁mettre',\n",
       " '▁à',\n",
       " '▁jour',\n",
       " '▁votre',\n",
       " '▁iPad',\n",
       " '▁pour',\n",
       " '▁continuer',\n",
       " '▁à',\n",
       " '▁utiliser',\n",
       " '▁nos',\n",
       " '▁ressources',\n",
       " '▁éducative',\n",
       " 's',\n",
       " '▁',\n",
       " '.',\n",
       " '▁Les',\n",
       " '▁meilleures',\n",
       " '▁performances',\n",
       " '▁sont',\n",
       " '▁garanties',\n",
       " '▁avec',\n",
       " '▁Mozilla',\n",
       " '/5',\n",
       " '.0',\n",
       " '▁(',\n",
       " 'X',\n",
       " '11',\n",
       " '▁;',\n",
       " '▁Linux',\n",
       " '▁x',\n",
       " '86',\n",
       " '_',\n",
       " '64',\n",
       " '▁Apple',\n",
       " 'Web',\n",
       " 'K',\n",
       " 'it',\n",
       " '/5',\n",
       " '36',\n",
       " '.',\n",
       " '2.',\n",
       " '1',\n",
       " '▁(',\n",
       " 'K',\n",
       " 'H',\n",
       " 'TM',\n",
       " 'L',\n",
       " '▁',\n",
       " ',',\n",
       " '▁like',\n",
       " '▁G',\n",
       " 'eck',\n",
       " 'o',\n",
       " ')',\n",
       " '▁Chrome',\n",
       " '/',\n",
       " '25',\n",
       " '.0',\n",
       " '.',\n",
       " '8',\n",
       " '49',\n",
       " '.0',\n",
       " '▁Safari',\n",
       " '/5',\n",
       " '36',\n",
       " '.',\n",
       " '2.',\n",
       " '1',\n",
       " '▁et',\n",
       " '▁versions',\n",
       " '▁ultérieure',\n",
       " 's',\n",
       " '▁',\n",
       " '.',\n",
       " '</s>']"
      ]
     },
     "execution_count": 19,
     "metadata": {},
     "output_type": "execute_result"
    }
   ],
   "source": [
    "inputs = tokenizer(raw_datasets[\"train\"][4][\"tokens\"], is_split_into_words=True)\n",
    "inputs.tokens()"
   ]
  },
  {
   "cell_type": "code",
   "execution_count": 20,
   "metadata": {
    "colab": {
     "base_uri": "https://localhost:8080/"
    },
    "id": "VqbMNNWDhxR0",
    "outputId": "b157e8f1-8e8c-4e7a-a240-8646cfcc5591",
    "tags": []
   },
   "outputs": [
    {
     "data": {
      "text/plain": [
       "[None,\n",
       " 0,\n",
       " 1,\n",
       " 2,\n",
       " 2,\n",
       " 3,\n",
       " 4,\n",
       " 5,\n",
       " 6,\n",
       " 7,\n",
       " 8,\n",
       " 9,\n",
       " 10,\n",
       " 11,\n",
       " 12,\n",
       " 13,\n",
       " 14,\n",
       " 15,\n",
       " 15,\n",
       " 16,\n",
       " 16,\n",
       " 17,\n",
       " 18,\n",
       " 19,\n",
       " 20,\n",
       " 21,\n",
       " 22,\n",
       " 23,\n",
       " 23,\n",
       " 23,\n",
       " 24,\n",
       " 24,\n",
       " 24,\n",
       " 25,\n",
       " 26,\n",
       " 27,\n",
       " 27,\n",
       " 27,\n",
       " 27,\n",
       " 28,\n",
       " 28,\n",
       " 28,\n",
       " 28,\n",
       " 28,\n",
       " 28,\n",
       " 28,\n",
       " 28,\n",
       " 28,\n",
       " 29,\n",
       " 29,\n",
       " 29,\n",
       " 29,\n",
       " 29,\n",
       " 30,\n",
       " 30,\n",
       " 31,\n",
       " 32,\n",
       " 32,\n",
       " 32,\n",
       " 32,\n",
       " 33,\n",
       " 33,\n",
       " 33,\n",
       " 33,\n",
       " 33,\n",
       " 33,\n",
       " 33,\n",
       " 33,\n",
       " 34,\n",
       " 34,\n",
       " 34,\n",
       " 34,\n",
       " 34,\n",
       " 34,\n",
       " 35,\n",
       " 36,\n",
       " 37,\n",
       " 37,\n",
       " 38,\n",
       " 38,\n",
       " None]"
      ]
     },
     "execution_count": 20,
     "metadata": {},
     "output_type": "execute_result"
    }
   ],
   "source": [
    "inputs.word_ids()"
   ]
  },
  {
   "cell_type": "code",
   "execution_count": 21,
   "metadata": {
    "id": "ueJEDCKchy1E",
    "tags": []
   },
   "outputs": [],
   "source": [
    "def align_labels_with_tokens(labels, word_ids):\n",
    "    new_labels = []\n",
    "    current_word = None\n",
    "    for word_id in word_ids:\n",
    "        if word_id != current_word:\n",
    "            # Start of a new word!\n",
    "            current_word = word_id\n",
    "            label = -100 if word_id is None else labels[word_id]\n",
    "            new_labels.append(label)\n",
    "        elif word_id is None:\n",
    "            # Special token\n",
    "            new_labels.append(-100)\n",
    "        else:\n",
    "            # Same word as previous token\n",
    "            label = labels[word_id]\n",
    "            # If the label is B-XXX we change it to I-XXX\n",
    "            if label % 2 == 1:\n",
    "                label += 1\n",
    "            new_labels.append(label)\n",
    "\n",
    "    return new_labels"
   ]
  },
  {
   "cell_type": "code",
   "execution_count": 22,
   "metadata": {
    "colab": {
     "base_uri": "https://localhost:8080/"
    },
    "id": "XsuLxjYGh1aB",
    "outputId": "238bb6c0-ad5b-4a44-f652-cefbb7eb1033",
    "tags": []
   },
   "outputs": [
    {
     "name": "stdout",
     "output_type": "stream",
     "text": [
      "[0, 4, 0, 0, 0, 0, 0, 0, 0, 0, 0, 0, 0, 0, 0, 0, 0, 0, 0, 0, 0, 0, 0, 0, 0, 0, 0, 0, 0, 0, 0, 0, 0, 0, 0, 0, 0, 0, 0]\n",
      "[-100, 0, 4, 0, 0, 0, 0, 0, 0, 0, 0, 0, 0, 0, 0, 0, 0, 0, 0, 0, 0, 0, 0, 0, 0, 0, 0, 0, 0, 0, 0, 0, 0, 0, 0, 0, 0, 0, 0, 0, 0, 0, 0, 0, 0, 0, 0, 0, 0, 0, 0, 0, 0, 0, 0, 0, 0, 0, 0, 0, 0, 0, 0, 0, 0, 0, 0, 0, 0, 0, 0, 0, 0, 0, 0, 0, 0, 0, 0, 0, -100]\n"
     ]
    }
   ],
   "source": [
    "labels = raw_datasets[\"train\"][4][\"ner_tags\"]\n",
    "word_ids = inputs.word_ids()\n",
    "print(labels)\n",
    "print(align_labels_with_tokens(labels, word_ids))"
   ]
  },
  {
   "cell_type": "code",
   "execution_count": 23,
   "metadata": {
    "id": "GnkEv88Vh24n",
    "tags": []
   },
   "outputs": [],
   "source": [
    "def tokenize_and_align_labels(examples):\n",
    "    tokenized_inputs = tokenizer(\n",
    "        examples[\"tokens\"], truncation=True, is_split_into_words=True\n",
    "    )\n",
    "    all_labels = examples[\"ner_tags\"]\n",
    "    new_labels = []\n",
    "    for i, labels in enumerate(all_labels):\n",
    "        word_ids = tokenized_inputs.word_ids(i)\n",
    "        new_labels.append(align_labels_with_tokens(labels, word_ids))\n",
    "\n",
    "    tokenized_inputs[\"labels\"] = new_labels\n",
    "    return tokenized_inputs"
   ]
  },
  {
   "cell_type": "code",
   "execution_count": 24,
   "metadata": {
    "colab": {
     "base_uri": "https://localhost:8080/",
     "height": 113,
     "referenced_widgets": [
      "bffbe2e0f73f44158b5ed5bdf4c9bf8d",
      "fa2429984b174c0e80b0062c65158930",
      "c6e93c3167e143d0bf7a9b09039c8f39",
      "809d8a26a10f44dab9b192290f7cd574",
      "76768b71330547568a6c8c9c02dbdb52",
      "9fc3e467c2ba47ddae0f02923d937fd4",
      "120d804969434ffea5b279f0f35a7c6e",
      "86973d981eec489598875bf0aae62cc9",
      "bbc23fd7dda54e1791b38e65ab04c6d2",
      "ea0e51b7cee44151b99e856fd10b5db3",
      "e417ede761ab4fbfa0eba59800a14991",
      "61006fd7e3ad4ee784d4c534cbdd44ee",
      "f9cec4b12f0f4e8e8e241fd543f9e1cf",
      "8c3f31491720497983f05c610cec7cb8",
      "fd1f0915c9064c7e8da448c469035e2b",
      "13a6551fcee147dbb333bdf54cac8caf",
      "4f56fac6c73f4d6e829529477fa73304",
      "8e1314b2c83048888eb8ef1ec6f89ef0",
      "9291aeeb4a5944f3a96e412d738e7edb",
      "0e29d1ea9f1d4eedb32343323cede135",
      "793958450c23418197fe2479090a6fdd",
      "98c05ca8116b4578b5f063f90a729e3c",
      "05bcda7daf0a4401b212c869778b09c6",
      "901683ae3ffc4dc2bc0aae5e3c28e3ab",
      "160f79bfd8524bd999ee6218e08d44ec",
      "95129bb9301d4a60b36483175272a360",
      "025de3e417fb472bbd0db0d89715c55c",
      "09c5fa6048bf497c974e772fe2e10d4f",
      "58053e023082427889063a83ca8f886d",
      "1d79fa34b949441485781bd1218977b4",
      "19e98d625b424249a5e8169313fd794a",
      "f03a82de1282420c8d7deff7952029b1",
      "a4e41bc6e1f24eaea9049fa821d79ee6"
     ]
    },
    "id": "nj3gNy_Bh4UK",
    "outputId": "48ae24ac-d7bb-4de5-f3fa-2dbc3217c7e3",
    "tags": []
   },
   "outputs": [
    {
     "data": {
      "application/vnd.jupyter.widget-view+json": {
       "model_id": "788e0c23de8e4c77a0d83159bfa6ae55",
       "version_major": 2,
       "version_minor": 0
      },
      "text/plain": [
       "Map:   0%|          | 0/1378 [00:00<?, ? examples/s]"
      ]
     },
     "metadata": {},
     "output_type": "display_data"
    },
    {
     "data": {
      "application/vnd.jupyter.widget-view+json": {
       "model_id": "7a0633b2dd004e1fb3b80e43ecb296cf",
       "version_major": 2,
       "version_minor": 0
      },
      "text/plain": [
       "Map:   0%|          | 0/345 [00:00<?, ? examples/s]"
      ]
     },
     "metadata": {},
     "output_type": "display_data"
    },
    {
     "data": {
      "application/vnd.jupyter.widget-view+json": {
       "model_id": "d8e1524c73f545228552262a330f482b",
       "version_major": 2,
       "version_minor": 0
      },
      "text/plain": [
       "Map:   0%|          | 0/115 [00:00<?, ? examples/s]"
      ]
     },
     "metadata": {},
     "output_type": "display_data"
    }
   ],
   "source": [
    "tokenized_datasets = raw_datasets.map(\n",
    "    tokenize_and_align_labels,\n",
    "    batched=True,\n",
    "    remove_columns=raw_datasets[\"train\"].column_names,\n",
    ")"
   ]
  },
  {
   "cell_type": "code",
   "execution_count": 25,
   "metadata": {
    "id": "2lMV3b4Ah7Is",
    "tags": []
   },
   "outputs": [],
   "source": [
    "from transformers import DataCollatorForTokenClassification\n",
    "\n",
    "data_collator = DataCollatorForTokenClassification(tokenizer=tokenizer)"
   ]
  },
  {
   "cell_type": "code",
   "execution_count": 26,
   "metadata": {
    "colab": {
     "base_uri": "https://localhost:8080/"
    },
    "id": "M1Ks09CKh9Ou",
    "outputId": "18c57dca-5890-4c35-909b-fa62294d9eeb",
    "tags": []
   },
   "outputs": [
    {
     "data": {
      "text/plain": [
       "tensor([[-100,    4,    4,    0,    0,    0,    0,    0,    0,    0,    0,    0,\n",
       "            0,    0,    0,    0,    0,    0,    0,    0,    0,    0,    0,    0,\n",
       "            0,    0,    0,    0,    0,    0,    0,    0,    0,    0,    0,    0,\n",
       "            0,    0,    0,    0,    0,    0,    0,    0,    0,    0,    0,    0,\n",
       "            0,    0,    0,    0,    0,    0,    0,    0,    0,    0,    0, -100,\n",
       "         -100, -100, -100, -100, -100, -100, -100, -100, -100, -100, -100, -100,\n",
       "         -100, -100, -100, -100, -100, -100, -100, -100, -100, -100, -100, -100,\n",
       "         -100, -100, -100, -100, -100, -100, -100, -100, -100, -100, -100, -100,\n",
       "         -100, -100, -100, -100, -100, -100, -100],\n",
       "        [-100,    0,    0,    0,    4,    4,    0,    0,    0,    0,    0,    0,\n",
       "            0,    0,    0,    0,    0,    0,    0,    0,    0,    0,    0,    0,\n",
       "            0,    0,    0,    0,    0,    0,    0,    0,    0,    0,    0,    0,\n",
       "            0,    0,    0,    0,    0,    0,    0,    0,    0,    0,    0,    0,\n",
       "            0,    0,    0,    0,    0,    0,    0,    0,    0,    0,    0,    0,\n",
       "            0,    0,    0,    0,    0,    0,    0,    0,    0,    0,    0,    0,\n",
       "            0,    0,    0,    0,    0,    0,    0,    0,    0,    0,    0,    0,\n",
       "            0,    0,    0,    0,    0,    0,    0,    0,    0,    0,    0,    0,\n",
       "            0,    0,    0,    0,    0,    0, -100]])"
      ]
     },
     "execution_count": 26,
     "metadata": {},
     "output_type": "execute_result"
    }
   ],
   "source": [
    "batch = data_collator([tokenized_datasets[\"train\"][i] for i in range(2)])\n",
    "batch[\"labels\"]"
   ]
  },
  {
   "cell_type": "code",
   "execution_count": 27,
   "metadata": {
    "colab": {
     "base_uri": "https://localhost:8080/"
    },
    "id": "jhfV_ce8iAI9",
    "outputId": "ac4c1e5f-1d90-4224-f32d-8161d0f13017",
    "tags": []
   },
   "outputs": [
    {
     "name": "stdout",
     "output_type": "stream",
     "text": [
      "[-100, 4, 4, 0, 0, 0, 0, 0, 0, 0, 0, 0, 0, 0, 0, 0, 0, 0, 0, 0, 0, 0, 0, 0, 0, 0, 0, 0, 0, 0, 0, 0, 0, 0, 0, 0, 0, 0, 0, 0, 0, 0, 0, 0, 0, 0, 0, 0, 0, 0, 0, 0, 0, 0, 0, 0, 0, 0, 0, -100]\n",
      "[-100, 0, 0, 0, 4, 4, 0, 0, 0, 0, 0, 0, 0, 0, 0, 0, 0, 0, 0, 0, 0, 0, 0, 0, 0, 0, 0, 0, 0, 0, 0, 0, 0, 0, 0, 0, 0, 0, 0, 0, 0, 0, 0, 0, 0, 0, 0, 0, 0, 0, 0, 0, 0, 0, 0, 0, 0, 0, 0, 0, 0, 0, 0, 0, 0, 0, 0, 0, 0, 0, 0, 0, 0, 0, 0, 0, 0, 0, 0, 0, 0, 0, 0, 0, 0, 0, 0, 0, 0, 0, 0, 0, 0, 0, 0, 0, 0, 0, 0, 0, 0, 0, -100]\n"
     ]
    }
   ],
   "source": [
    "for i in range(2):\n",
    "    print(tokenized_datasets[\"train\"][i][\"labels\"])"
   ]
  },
  {
   "cell_type": "code",
   "execution_count": 28,
   "metadata": {
    "tags": []
   },
   "outputs": [
    {
     "name": "stderr",
     "output_type": "stream",
     "text": [
      "huggingface/tokenizers: The current process just got forked, after parallelism has already been used. Disabling parallelism to avoid deadlocks...\n",
      "To disable this warning, you can either:\n",
      "\t- Avoid using `tokenizers` before the fork if possible\n",
      "\t- Explicitly set the environment variable TOKENIZERS_PARALLELISM=(true | false)\n"
     ]
    }
   ],
   "source": [
    "%%capture\n",
    "pip install seqeval"
   ]
  },
  {
   "cell_type": "code",
   "execution_count": 29,
   "metadata": {
    "id": "2gfSu6G0iDTf",
    "tags": []
   },
   "outputs": [
    {
     "data": {
      "application/vnd.jupyter.widget-view+json": {
       "model_id": "eb6dd1391a8a4ef9baf2e196cbe52021",
       "version_major": 2,
       "version_minor": 0
      },
      "text/plain": [
       "Downloading builder script:   0%|          | 0.00/6.34k [00:00<?, ?B/s]"
      ]
     },
     "metadata": {},
     "output_type": "display_data"
    }
   ],
   "source": [
    "import evaluate\n",
    "\n",
    "metric = evaluate.load(\"seqeval\")"
   ]
  },
  {
   "cell_type": "code",
   "execution_count": 30,
   "metadata": {
    "colab": {
     "base_uri": "https://localhost:8080/"
    },
    "id": "2E5gg2wbCAKY",
    "outputId": "99bedcf5-da13-49d7-8000-bcef6b1f6128",
    "tags": []
   },
   "outputs": [
    {
     "data": {
      "text/plain": [
       "['O',\n",
       " 'B-FIRSTNAME',\n",
       " 'O',\n",
       " 'O',\n",
       " 'O',\n",
       " 'O',\n",
       " 'O',\n",
       " 'O',\n",
       " 'O',\n",
       " 'O',\n",
       " 'O',\n",
       " 'O',\n",
       " 'O',\n",
       " 'O',\n",
       " 'O',\n",
       " 'O',\n",
       " 'O',\n",
       " 'O',\n",
       " 'O',\n",
       " 'O',\n",
       " 'O',\n",
       " 'O',\n",
       " 'O',\n",
       " 'O',\n",
       " 'O',\n",
       " 'O',\n",
       " 'O',\n",
       " 'O',\n",
       " 'O',\n",
       " 'O',\n",
       " 'O',\n",
       " 'O',\n",
       " 'O',\n",
       " 'O',\n",
       " 'O',\n",
       " 'O',\n",
       " 'O',\n",
       " 'O',\n",
       " 'O']"
      ]
     },
     "execution_count": 30,
     "metadata": {},
     "output_type": "execute_result"
    }
   ],
   "source": [
    "labels = raw_datasets[\"train\"][4][\"ner_tags\"]\n",
    "labels = [label_names[i] for i in labels]\n",
    "labels"
   ]
  },
  {
   "cell_type": "code",
   "execution_count": 31,
   "metadata": {
    "colab": {
     "base_uri": "https://localhost:8080/"
    },
    "id": "5IBtya1PCEQO",
    "outputId": "7b05c1c9-8134-4553-a386-1472707c43e4",
    "tags": []
   },
   "outputs": [
    {
     "data": {
      "text/plain": [
       "{'FIRSTNAME': {'precision': 1.0, 'recall': 1.0, 'f1': 1.0, 'number': 1},\n",
       " 'overall_precision': 1.0,\n",
       " 'overall_recall': 1.0,\n",
       " 'overall_f1': 1.0,\n",
       " 'overall_accuracy': 1.0}"
      ]
     },
     "execution_count": 31,
     "metadata": {},
     "output_type": "execute_result"
    }
   ],
   "source": [
    "predictions = labels.copy()\n",
    "predictions[2] = \"O\"\n",
    "metric.compute(predictions=[predictions], references=[labels])"
   ]
  },
  {
   "cell_type": "code",
   "execution_count": 32,
   "metadata": {
    "id": "M_SsN37XCtH3",
    "tags": []
   },
   "outputs": [],
   "source": [
    "import numpy as np\n",
    "\n",
    "\n",
    "def compute_metrics(eval_preds):\n",
    "    logits, labels = eval_preds\n",
    "    predictions = np.argmax(logits, axis=-1)\n",
    "\n",
    "    # Remove ignored index (special tokens) and convert to labels\n",
    "    true_labels = [[label_names[l] for l in label if l != -100] for label in labels]\n",
    "    true_predictions = [\n",
    "        [label_names[p] for (p, l) in zip(prediction, label) if l != -100]\n",
    "        for prediction, label in zip(predictions, labels)\n",
    "    ]\n",
    "    all_metrics = metric.compute(predictions=true_predictions, references=true_labels)\n",
    "    return {\n",
    "        \"precision\": all_metrics[\"overall_precision\"],\n",
    "        \"recall\": all_metrics[\"overall_recall\"],\n",
    "        \"f1\": all_metrics[\"overall_f1\"],\n",
    "        \"accuracy\": all_metrics[\"overall_accuracy\"],\n",
    "    }"
   ]
  },
  {
   "cell_type": "code",
   "execution_count": 33,
   "metadata": {
    "id": "SNOnWTiYCwar",
    "tags": []
   },
   "outputs": [],
   "source": [
    "id2label = {i: label for i, label in enumerate(label_names)}\n",
    "label2id = {v: k for k, v in id2label.items()}"
   ]
  },
  {
   "cell_type": "code",
   "execution_count": 34,
   "metadata": {
    "colab": {
     "base_uri": "https://localhost:8080/"
    },
    "id": "_WjrpQVnCz7L",
    "outputId": "3832ebf7-df25-42be-e057-7432e38e4e2c",
    "tags": []
   },
   "outputs": [
    {
     "data": {
      "application/vnd.jupyter.widget-view+json": {
       "model_id": "ad8b197f91e1437483b2cab7577073c4",
       "version_major": 2,
       "version_minor": 0
      },
      "text/plain": [
       "model.safetensors:   0%|          | 0.00/445M [00:00<?, ?B/s]"
      ]
     },
     "metadata": {},
     "output_type": "display_data"
    },
    {
     "name": "stderr",
     "output_type": "stream",
     "text": [
      "Some weights of CamembertForTokenClassification were not initialized from the model checkpoint at almanach/camembert-base and are newly initialized: ['classifier.bias', 'classifier.weight']\n",
      "You should probably TRAIN this model on a down-stream task to be able to use it for predictions and inference.\n"
     ]
    }
   ],
   "source": [
    "from transformers import AutoModelForTokenClassification\n",
    "\n",
    "model = AutoModelForTokenClassification.from_pretrained(\n",
    "    model_checkpoint,\n",
    "    id2label=id2label,\n",
    "    label2id=label2id,\n",
    " #   num_labels=len(label_names),\n",
    ")"
   ]
  },
  {
   "cell_type": "code",
   "execution_count": 35,
   "metadata": {
    "colab": {
     "base_uri": "https://localhost:8080/"
    },
    "id": "1GMpB0NEC3fC",
    "outputId": "5ae5330b-96f8-49bb-b902-b87688166bd9",
    "tags": []
   },
   "outputs": [
    {
     "data": {
      "text/plain": [
       "13"
      ]
     },
     "execution_count": 35,
     "metadata": {},
     "output_type": "execute_result"
    }
   ],
   "source": [
    "model.config.num_labels"
   ]
  },
  {
   "cell_type": "markdown",
   "metadata": {},
   "source": [
    "### Important note for the book : \n",
    "we need to add this param : load_best_model_at_end\n",
    "in order to have trainer.state.best_model_checkpoint"
   ]
  },
  {
   "cell_type": "code",
   "execution_count": 41,
   "metadata": {
    "id": "Houshvs5C8AN",
    "tags": []
   },
   "outputs": [],
   "source": [
    "from transformers import TrainingArguments\n",
    "\n",
    "args = TrainingArguments(\n",
    "    temp_dir+\"/models/taln_pii_ner2\",\n",
    "    evaluation_strategy=\"epoch\",\n",
    "    save_strategy=\"epoch\",\n",
    "    learning_rate=2e-5,\n",
    "    num_train_epochs=5,\n",
    "    weight_decay=0.01,\n",
    "    load_best_model_at_end=True,\n",
    "    push_to_hub=False,\n",
    ")"
   ]
  },
  {
   "cell_type": "code",
   "execution_count": 42,
   "metadata": {
    "colab": {
     "base_uri": "https://localhost:8080/",
     "height": 495
    },
    "id": "vfONNX7vDCX_",
    "outputId": "f42aed5d-1a4a-414e-bfa2-a7be24ef60d2",
    "tags": []
   },
   "outputs": [
    {
     "name": "stderr",
     "output_type": "stream",
     "text": [
      "Detected kernel version 5.4.17, which is below the recommended minimum of 5.5.0; this can cause the process to hang. It is recommended to upgrade the kernel to the minimum version or higher.\n"
     ]
    },
    {
     "data": {
      "text/html": [
       "\n",
       "    <div>\n",
       "      \n",
       "      <progress value='865' max='865' style='width:300px; height:20px; vertical-align: middle;'></progress>\n",
       "      [865/865 03:31, Epoch 5/5]\n",
       "    </div>\n",
       "    <table border=\"1\" class=\"dataframe\">\n",
       "  <thead>\n",
       " <tr style=\"text-align: left;\">\n",
       "      <th>Epoch</th>\n",
       "      <th>Training Loss</th>\n",
       "      <th>Validation Loss</th>\n",
       "      <th>Precision</th>\n",
       "      <th>Recall</th>\n",
       "      <th>F1</th>\n",
       "      <th>Accuracy</th>\n",
       "    </tr>\n",
       "  </thead>\n",
       "  <tbody>\n",
       "    <tr>\n",
       "      <td>1</td>\n",
       "      <td>No log</td>\n",
       "      <td>0.270172</td>\n",
       "      <td>0.748596</td>\n",
       "      <td>0.733048</td>\n",
       "      <td>0.740741</td>\n",
       "      <td>0.957309</td>\n",
       "    </tr>\n",
       "    <tr>\n",
       "      <td>2</td>\n",
       "      <td>No log</td>\n",
       "      <td>0.195411</td>\n",
       "      <td>0.770616</td>\n",
       "      <td>0.810629</td>\n",
       "      <td>0.790116</td>\n",
       "      <td>0.972032</td>\n",
       "    </tr>\n",
       "    <tr>\n",
       "      <td>3</td>\n",
       "      <td>0.252300</td>\n",
       "      <td>0.171260</td>\n",
       "      <td>0.784131</td>\n",
       "      <td>0.821014</td>\n",
       "      <td>0.802149</td>\n",
       "      <td>0.973838</td>\n",
       "    </tr>\n",
       "    <tr>\n",
       "      <td>4</td>\n",
       "      <td>0.252300</td>\n",
       "      <td>0.154127</td>\n",
       "      <td>0.814201</td>\n",
       "      <td>0.840562</td>\n",
       "      <td>0.827172</td>\n",
       "      <td>0.977396</td>\n",
       "    </tr>\n",
       "    <tr>\n",
       "      <td>5</td>\n",
       "      <td>0.252300</td>\n",
       "      <td>0.145721</td>\n",
       "      <td>0.846814</td>\n",
       "      <td>0.844227</td>\n",
       "      <td>0.845519</td>\n",
       "      <td>0.980516</td>\n",
       "    </tr>\n",
       "  </tbody>\n",
       "</table><p>"
      ],
      "text/plain": [
       "<IPython.core.display.HTML object>"
      ]
     },
     "metadata": {},
     "output_type": "display_data"
    },
    {
     "name": "stderr",
     "output_type": "stream",
     "text": [
      "Checkpoint destination directory /tmp/tmpzkffxlns/models/taln_pii_ner2/checkpoint-173 already exists and is non-empty.Saving will proceed but saved results may be invalid.\n",
      "Checkpoint destination directory /tmp/tmpzkffxlns/models/taln_pii_ner2/checkpoint-346 already exists and is non-empty.Saving will proceed but saved results may be invalid.\n",
      "Checkpoint destination directory /tmp/tmpzkffxlns/models/taln_pii_ner2/checkpoint-519 already exists and is non-empty.Saving will proceed but saved results may be invalid.\n",
      "Checkpoint destination directory /tmp/tmpzkffxlns/models/taln_pii_ner2/checkpoint-692 already exists and is non-empty.Saving will proceed but saved results may be invalid.\n",
      "Checkpoint destination directory /tmp/tmpzkffxlns/models/taln_pii_ner2/checkpoint-865 already exists and is non-empty.Saving will proceed but saved results may be invalid.\n"
     ]
    },
    {
     "data": {
      "text/plain": [
       "TrainOutput(global_step=865, training_loss=0.2052276082121568, metrics={'train_runtime': 211.9013, 'train_samples_per_second': 32.515, 'train_steps_per_second': 4.082, 'total_flos': 314452922926272.0, 'train_loss': 0.2052276082121568, 'epoch': 5.0})"
      ]
     },
     "execution_count": 42,
     "metadata": {},
     "output_type": "execute_result"
    }
   ],
   "source": [
    "from transformers import Trainer\n",
    "\n",
    "trainer = Trainer(\n",
    "    model=model,\n",
    "    args=args,\n",
    "    train_dataset=tokenized_datasets[\"train\"],\n",
    "    eval_dataset=tokenized_datasets[\"validation\"],\n",
    "    data_collator=data_collator,\n",
    "    compute_metrics=compute_metrics,\n",
    "    tokenizer=tokenizer,\n",
    ")\n",
    "trainer.train()"
   ]
  },
  {
   "cell_type": "code",
   "execution_count": 44,
   "metadata": {
    "tags": []
   },
   "outputs": [
    {
     "data": {
      "text/plain": [
       "'/tmp/tmpzkffxlns/models/taln_pii_ner2/checkpoint-865'"
      ]
     },
     "execution_count": 44,
     "metadata": {},
     "output_type": "execute_result"
    }
   ],
   "source": [
    "best_ner_model_checkpoint = trainer.state.best_model_checkpoint\n",
    "best_ner_model_checkpoint"
   ]
  },
  {
   "cell_type": "code",
   "execution_count": 45,
   "metadata": {
    "colab": {
     "base_uri": "https://localhost:8080/"
    },
    "id": "jeAliVzZG6Ht",
    "outputId": "6a6a7a73-365b-4789-d117-0d38bf894f91",
    "tags": []
   },
   "outputs": [
    {
     "data": {
      "text/plain": [
       "[{'entity_group': 'FIRSTNAME',\n",
       "  'score': 0.690727,\n",
       "  'word': 'Hicham,',\n",
       "  'start': 12,\n",
       "  'end': 19},\n",
       " {'entity_group': 'CREDITCARDNUMBER',\n",
       "  'score': 0.48762363,\n",
       "  'word': '4442223314488.',\n",
       "  'start': 89,\n",
       "  'end': 103}]"
      ]
     },
     "execution_count": 45,
     "metadata": {},
     "output_type": "execute_result"
    }
   ],
   "source": [
    "from transformers import pipeline\n",
    "\n",
    "# Replace this with your own checkpoint\n",
    "model_checkpoint = best_ner_model_checkpoint #\"/models/taln_pii_ner2/checkpoint-865\"\n",
    "token_classifier = pipeline(\n",
    "    \"token-classification\", model=model_checkpoint, aggregation_strategy=\"first\" #\"simple\"\n",
    ")\n",
    "token_classifier(\"Mon nom est Hicham, et pour l'anniversaire de 50ans et je vais payer avec une carte visa 4442223314488.\")"
   ]
  },
  {
   "cell_type": "markdown",
   "metadata": {
    "id": "E4N7yNuw2ASI"
   },
   "source": [
    "#### After training copy NER dataset and model to Object Storage \n",
    "(share model between GPU notebook and CPU notebook)"
   ]
  },
  {
   "cell_type": "code",
   "execution_count": 47,
   "metadata": {
    "tags": []
   },
   "outputs": [
    {
     "name": "stdout",
     "output_type": "stream",
     "text": [
      "Copied special_tokens_map.json to OCI Object Storage: taln_pii_cs_model_trained-on-oci/special_tokens_map.json\n",
      "Copied tokenizer.json to OCI Object Storage: taln_pii_cs_model_trained-on-oci/tokenizer.json\n",
      "Copied config.json to OCI Object Storage: taln_pii_cs_model_trained-on-oci/config.json\n",
      "Copied trainer_state.json to OCI Object Storage: taln_pii_cs_model_trained-on-oci/trainer_state.json\n",
      "Copied training_args.bin to OCI Object Storage: taln_pii_cs_model_trained-on-oci/training_args.bin\n",
      "Copied model.safetensors to OCI Object Storage: taln_pii_cs_model_trained-on-oci/model.safetensors\n",
      "Copied optimizer.pt to OCI Object Storage: taln_pii_cs_model_trained-on-oci/optimizer.pt\n",
      "Copied scheduler.pt to OCI Object Storage: taln_pii_cs_model_trained-on-oci/scheduler.pt\n",
      "Copied rng_state.pth to OCI Object Storage: taln_pii_cs_model_trained-on-oci/rng_state.pth\n",
      "Copied sentencepiece.bpe.model to OCI Object Storage: taln_pii_cs_model_trained-on-oci/sentencepiece.bpe.model\n",
      "Copied added_tokens.json to OCI Object Storage: taln_pii_cs_model_trained-on-oci/added_tokens.json\n",
      "Copied tokenizer_config.json to OCI Object Storage: taln_pii_cs_model_trained-on-oci/tokenizer_config.json\n"
     ]
    }
   ],
   "source": [
    "import oci\n",
    "import os\n",
    "\n",
    "# Initialize OCI File System\n",
    "#fs = ocifs.OCIFileSystem()\n",
    "\n",
    "# Initialize OCI Object Storage Client with notebook session's resource principal\n",
    "signer = oci.auth.signers.get_resource_principals_signer()\n",
    "object_storage_client = oci.object_storage.ObjectStorageClient(config={}, signer=signer)\n",
    "\n",
    "\n",
    "# Local directory containing the model files\n",
    "local_model_dir = best_ner_model_checkpoint #\"./taln_pii_cs_models_local/taln_pii_cs_model\"\n",
    "\n",
    "# OCI Object Storage path where the model will be copied\n",
    "#object_storage_path = \"taln_pii_cs_models@yz2wwgkgt8eh/taln_pii_cs_model_new/\"\n",
    "# Initialize Object Storage bucket infos\n",
    "namespace = object_storage_client.get_namespace().data #\"yz2wwgkgt8eh\"\n",
    "bucket_name = \"book_oci_nlp_training_bucket\" #\"ner_ar_iob_bucket\"\n",
    "# Base folder in the bucket\n",
    "object_storage_folder = \"taln_pii_cs_model_trained-on-oci\"\n",
    "\n",
    "\n",
    "# List all files in the local directory\n",
    "local_files = os.listdir(local_model_dir)\n",
    "\n",
    "# Copy each file from the local directory to the OCI Object Storage\n",
    "for file_name in local_files:\n",
    "    local_file_path = os.path.join(local_model_dir, file_name)\n",
    "    # Construct the full OCI Object Storage path for the file\n",
    "    object_storage_path =  object_storage_folder +'/'+ file_name\n",
    "\n",
    "    # Open the local file and read its content\n",
    "    with open(local_file_path, 'rb') as f:\n",
    "        #file_content = local_file.read()\n",
    "\n",
    "        object_storage_client.put_object(namespace, \n",
    "                                         bucket_name, \n",
    "                                         object_storage_path, \n",
    "                                         f,\n",
    "                                         #content_type='text/plain'\n",
    "                                        )\n",
    "        print(f\"Copied {file_name} to OCI Object Storage: {object_storage_path}\")\n",
    "            \n",
    "            \n",
    "    # Write the content to the new location in OCI Object Storage\n",
    "    #object_storage_client.put(oci_file_path, file_content)\n",
    "    #print(f\"Copied {file_name} to OCI Object Storage: {oci_file_path}\")\n"
   ]
  },
  {
   "cell_type": "code",
   "execution_count": 48,
   "metadata": {
    "tags": []
   },
   "outputs": [
    {
     "data": {
      "text/plain": [
       "'/tmp/tmpzkffxlns'"
      ]
     },
     "execution_count": 48,
     "metadata": {},
     "output_type": "execute_result"
    }
   ],
   "source": [
    "temp_dir"
   ]
  },
  {
   "cell_type": "code",
   "execution_count": 50,
   "metadata": {
    "tags": []
   },
   "outputs": [
    {
     "name": "stdout",
     "output_type": "stream",
     "text": [
      "from_oci_2_huggingface_test\n"
     ]
    }
   ],
   "source": [
    "!ls /tmp/tmpzkffxlns/datasets"
   ]
  },
  {
   "cell_type": "code",
   "execution_count": 52,
   "metadata": {
    "tags": []
   },
   "outputs": [
    {
     "name": "stdout",
     "output_type": "stream",
     "text": [
      "Copied dataset_dict.json to OCI Object Storage: datasets/from_oci_2_huggingface_test/dataset_dict.json\n",
      "Copied dataset_info.json to OCI Object Storage: datasets/from_oci_2_huggingface_test/train/dataset_info.json\n",
      "Copied state.json to OCI Object Storage: datasets/from_oci_2_huggingface_test/train/state.json\n",
      "Copied data-00000-of-00001.arrow to OCI Object Storage: datasets/from_oci_2_huggingface_test/train/data-00000-of-00001.arrow\n"
     ]
    }
   ],
   "source": [
    "import os\n",
    "\n",
    "object_storage_dataset_folder = \"datasets/from_oci_2_huggingface_test\"\n",
    "local_dataset_dir = os.path.join(temp_dir, \"datasets/from_oci_2_huggingface_test\")\n",
    "\n",
    "# Traverse the directory tree and upload all files\n",
    "for root, dirs, files in os.walk(local_dataset_dir):\n",
    "    for file_name in files:\n",
    "        # Construct the full local path\n",
    "        local_file_path = os.path.join(root, file_name)\n",
    "        \n",
    "        # Construct the relative path within the local directory structure\n",
    "        relative_path = os.path.relpath(local_file_path, local_dataset_dir)\n",
    "        \n",
    "        # Construct the full OCI Object Storage path for the file\n",
    "        oci_object_path = os.path.join(object_storage_dataset_folder, relative_path)\n",
    "\n",
    "        # Upload the file to OCI Object Storage\n",
    "        with open(local_file_path, 'rb') as f:\n",
    "            object_storage_client.put_object(namespace, bucket_name, oci_object_path, f)\n",
    "            print(f\"Copied {file_name} to OCI Object Storage: {oci_object_path}\")\n"
   ]
  }
 ],
 "metadata": {
  "colab": {
   "collapsed_sections": [
    "WLdRQWf-ckYL"
   ],
   "machine_shape": "hm",
   "provenance": []
  },
  "kernelspec": {
   "display_name": "Python [conda env:pytorch21_p39_gpu_v1]",
   "language": "python",
   "name": "conda-env-pytorch21_p39_gpu_v1-py"
  },
  "language_info": {
   "codemirror_mode": {
    "name": "ipython",
    "version": 3
   },
   "file_extension": ".py",
   "mimetype": "text/x-python",
   "name": "python",
   "nbconvert_exporter": "python",
   "pygments_lexer": "ipython3",
   "version": "3.9.16"
  },
  "widgets": {
   "application/vnd.jupyter.widget-state+json": {
    "025de3e417fb472bbd0db0d89715c55c": {
     "model_module": "@jupyter-widgets/base",
     "model_module_version": "1.2.0",
     "model_name": "LayoutModel",
     "state": {
      "_model_module": "@jupyter-widgets/base",
      "_model_module_version": "1.2.0",
      "_model_name": "LayoutModel",
      "_view_count": null,
      "_view_module": "@jupyter-widgets/base",
      "_view_module_version": "1.2.0",
      "_view_name": "LayoutView",
      "align_content": null,
      "align_items": null,
      "align_self": null,
      "border": null,
      "bottom": null,
      "display": null,
      "flex": null,
      "flex_flow": null,
      "grid_area": null,
      "grid_auto_columns": null,
      "grid_auto_flow": null,
      "grid_auto_rows": null,
      "grid_column": null,
      "grid_gap": null,
      "grid_row": null,
      "grid_template_areas": null,
      "grid_template_columns": null,
      "grid_template_rows": null,
      "height": null,
      "justify_content": null,
      "justify_items": null,
      "left": null,
      "margin": null,
      "max_height": null,
      "max_width": null,
      "min_height": null,
      "min_width": null,
      "object_fit": null,
      "object_position": null,
      "order": null,
      "overflow": null,
      "overflow_x": null,
      "overflow_y": null,
      "padding": null,
      "right": null,
      "top": null,
      "visibility": null,
      "width": null
     }
    },
    "05bcda7daf0a4401b212c869778b09c6": {
     "model_module": "@jupyter-widgets/controls",
     "model_module_version": "1.5.0",
     "model_name": "HBoxModel",
     "state": {
      "_dom_classes": [],
      "_model_module": "@jupyter-widgets/controls",
      "_model_module_version": "1.5.0",
      "_model_name": "HBoxModel",
      "_view_count": null,
      "_view_module": "@jupyter-widgets/controls",
      "_view_module_version": "1.5.0",
      "_view_name": "HBoxView",
      "box_style": "",
      "children": [
       "IPY_MODEL_901683ae3ffc4dc2bc0aae5e3c28e3ab",
       "IPY_MODEL_160f79bfd8524bd999ee6218e08d44ec",
       "IPY_MODEL_95129bb9301d4a60b36483175272a360"
      ],
      "layout": "IPY_MODEL_025de3e417fb472bbd0db0d89715c55c"
     }
    },
    "09c5fa6048bf497c974e772fe2e10d4f": {
     "model_module": "@jupyter-widgets/base",
     "model_module_version": "1.2.0",
     "model_name": "LayoutModel",
     "state": {
      "_model_module": "@jupyter-widgets/base",
      "_model_module_version": "1.2.0",
      "_model_name": "LayoutModel",
      "_view_count": null,
      "_view_module": "@jupyter-widgets/base",
      "_view_module_version": "1.2.0",
      "_view_name": "LayoutView",
      "align_content": null,
      "align_items": null,
      "align_self": null,
      "border": null,
      "bottom": null,
      "display": null,
      "flex": null,
      "flex_flow": null,
      "grid_area": null,
      "grid_auto_columns": null,
      "grid_auto_flow": null,
      "grid_auto_rows": null,
      "grid_column": null,
      "grid_gap": null,
      "grid_row": null,
      "grid_template_areas": null,
      "grid_template_columns": null,
      "grid_template_rows": null,
      "height": null,
      "justify_content": null,
      "justify_items": null,
      "left": null,
      "margin": null,
      "max_height": null,
      "max_width": null,
      "min_height": null,
      "min_width": null,
      "object_fit": null,
      "object_position": null,
      "order": null,
      "overflow": null,
      "overflow_x": null,
      "overflow_y": null,
      "padding": null,
      "right": null,
      "top": null,
      "visibility": null,
      "width": null
     }
    },
    "0a311638a6f84a9dbe67c447e4485753": {
     "model_module": "@jupyter-widgets/base",
     "model_module_version": "1.2.0",
     "model_name": "LayoutModel",
     "state": {
      "_model_module": "@jupyter-widgets/base",
      "_model_module_version": "1.2.0",
      "_model_name": "LayoutModel",
      "_view_count": null,
      "_view_module": "@jupyter-widgets/base",
      "_view_module_version": "1.2.0",
      "_view_name": "LayoutView",
      "align_content": null,
      "align_items": null,
      "align_self": null,
      "border": null,
      "bottom": null,
      "display": null,
      "flex": null,
      "flex_flow": null,
      "grid_area": null,
      "grid_auto_columns": null,
      "grid_auto_flow": null,
      "grid_auto_rows": null,
      "grid_column": null,
      "grid_gap": null,
      "grid_row": null,
      "grid_template_areas": null,
      "grid_template_columns": null,
      "grid_template_rows": null,
      "height": null,
      "justify_content": null,
      "justify_items": null,
      "left": null,
      "margin": null,
      "max_height": null,
      "max_width": null,
      "min_height": null,
      "min_width": null,
      "object_fit": null,
      "object_position": null,
      "order": null,
      "overflow": null,
      "overflow_x": null,
      "overflow_y": null,
      "padding": null,
      "right": null,
      "top": null,
      "visibility": null,
      "width": null
     }
    },
    "0e29d1ea9f1d4eedb32343323cede135": {
     "model_module": "@jupyter-widgets/controls",
     "model_module_version": "1.5.0",
     "model_name": "ProgressStyleModel",
     "state": {
      "_model_module": "@jupyter-widgets/controls",
      "_model_module_version": "1.5.0",
      "_model_name": "ProgressStyleModel",
      "_view_count": null,
      "_view_module": "@jupyter-widgets/base",
      "_view_module_version": "1.2.0",
      "_view_name": "StyleView",
      "bar_color": null,
      "description_width": ""
     }
    },
    "120d804969434ffea5b279f0f35a7c6e": {
     "model_module": "@jupyter-widgets/controls",
     "model_module_version": "1.5.0",
     "model_name": "DescriptionStyleModel",
     "state": {
      "_model_module": "@jupyter-widgets/controls",
      "_model_module_version": "1.5.0",
      "_model_name": "DescriptionStyleModel",
      "_view_count": null,
      "_view_module": "@jupyter-widgets/base",
      "_view_module_version": "1.2.0",
      "_view_name": "StyleView",
      "description_width": ""
     }
    },
    "13a6551fcee147dbb333bdf54cac8caf": {
     "model_module": "@jupyter-widgets/base",
     "model_module_version": "1.2.0",
     "model_name": "LayoutModel",
     "state": {
      "_model_module": "@jupyter-widgets/base",
      "_model_module_version": "1.2.0",
      "_model_name": "LayoutModel",
      "_view_count": null,
      "_view_module": "@jupyter-widgets/base",
      "_view_module_version": "1.2.0",
      "_view_name": "LayoutView",
      "align_content": null,
      "align_items": null,
      "align_self": null,
      "border": null,
      "bottom": null,
      "display": null,
      "flex": null,
      "flex_flow": null,
      "grid_area": null,
      "grid_auto_columns": null,
      "grid_auto_flow": null,
      "grid_auto_rows": null,
      "grid_column": null,
      "grid_gap": null,
      "grid_row": null,
      "grid_template_areas": null,
      "grid_template_columns": null,
      "grid_template_rows": null,
      "height": null,
      "justify_content": null,
      "justify_items": null,
      "left": null,
      "margin": null,
      "max_height": null,
      "max_width": null,
      "min_height": null,
      "min_width": null,
      "object_fit": null,
      "object_position": null,
      "order": null,
      "overflow": null,
      "overflow_x": null,
      "overflow_y": null,
      "padding": null,
      "right": null,
      "top": null,
      "visibility": null,
      "width": null
     }
    },
    "160f79bfd8524bd999ee6218e08d44ec": {
     "model_module": "@jupyter-widgets/controls",
     "model_module_version": "1.5.0",
     "model_name": "FloatProgressModel",
     "state": {
      "_dom_classes": [],
      "_model_module": "@jupyter-widgets/controls",
      "_model_module_version": "1.5.0",
      "_model_name": "FloatProgressModel",
      "_view_count": null,
      "_view_module": "@jupyter-widgets/controls",
      "_view_module_version": "1.5.0",
      "_view_name": "ProgressView",
      "bar_style": "success",
      "description": "",
      "description_tooltip": null,
      "layout": "IPY_MODEL_1d79fa34b949441485781bd1218977b4",
      "max": 115,
      "min": 0,
      "orientation": "horizontal",
      "style": "IPY_MODEL_19e98d625b424249a5e8169313fd794a",
      "value": 115
     }
    },
    "19e98d625b424249a5e8169313fd794a": {
     "model_module": "@jupyter-widgets/controls",
     "model_module_version": "1.5.0",
     "model_name": "ProgressStyleModel",
     "state": {
      "_model_module": "@jupyter-widgets/controls",
      "_model_module_version": "1.5.0",
      "_model_name": "ProgressStyleModel",
      "_view_count": null,
      "_view_module": "@jupyter-widgets/base",
      "_view_module_version": "1.2.0",
      "_view_name": "StyleView",
      "bar_color": null,
      "description_width": ""
     }
    },
    "1d79fa34b949441485781bd1218977b4": {
     "model_module": "@jupyter-widgets/base",
     "model_module_version": "1.2.0",
     "model_name": "LayoutModel",
     "state": {
      "_model_module": "@jupyter-widgets/base",
      "_model_module_version": "1.2.0",
      "_model_name": "LayoutModel",
      "_view_count": null,
      "_view_module": "@jupyter-widgets/base",
      "_view_module_version": "1.2.0",
      "_view_name": "LayoutView",
      "align_content": null,
      "align_items": null,
      "align_self": null,
      "border": null,
      "bottom": null,
      "display": null,
      "flex": null,
      "flex_flow": null,
      "grid_area": null,
      "grid_auto_columns": null,
      "grid_auto_flow": null,
      "grid_auto_rows": null,
      "grid_column": null,
      "grid_gap": null,
      "grid_row": null,
      "grid_template_areas": null,
      "grid_template_columns": null,
      "grid_template_rows": null,
      "height": null,
      "justify_content": null,
      "justify_items": null,
      "left": null,
      "margin": null,
      "max_height": null,
      "max_width": null,
      "min_height": null,
      "min_width": null,
      "object_fit": null,
      "object_position": null,
      "order": null,
      "overflow": null,
      "overflow_x": null,
      "overflow_y": null,
      "padding": null,
      "right": null,
      "top": null,
      "visibility": null,
      "width": null
     }
    },
    "34189f7d3e4542b899cd040b05942602": {
     "model_module": "@jupyter-widgets/controls",
     "model_module_version": "1.5.0",
     "model_name": "HTMLModel",
     "state": {
      "_dom_classes": [],
      "_model_module": "@jupyter-widgets/controls",
      "_model_module_version": "1.5.0",
      "_model_name": "HTMLModel",
      "_view_count": null,
      "_view_module": "@jupyter-widgets/controls",
      "_view_module_version": "1.5.0",
      "_view_name": "HTMLView",
      "description": "",
      "description_tooltip": null,
      "layout": "IPY_MODEL_c923c0bd636245e9a01a65a7c87ed499",
      "placeholder": "​",
      "style": "IPY_MODEL_647f6e4abe924ce381417e306d011609",
      "value": "Saving the dataset (1/1 shards): 100%"
     }
    },
    "431695fdbf004f9597f64ff14220fc6d": {
     "model_module": "@jupyter-widgets/controls",
     "model_module_version": "1.5.0",
     "model_name": "HBoxModel",
     "state": {
      "_dom_classes": [],
      "_model_module": "@jupyter-widgets/controls",
      "_model_module_version": "1.5.0",
      "_model_name": "HBoxModel",
      "_view_count": null,
      "_view_module": "@jupyter-widgets/controls",
      "_view_module_version": "1.5.0",
      "_view_name": "HBoxView",
      "box_style": "",
      "children": [
       "IPY_MODEL_34189f7d3e4542b899cd040b05942602",
       "IPY_MODEL_492af69e546141b1972f7dc72e93ac81",
       "IPY_MODEL_4972d36293f2435d987d9226007901dd"
      ],
      "layout": "IPY_MODEL_bf9e27e16cce4a6f859ea2941c18677a"
     }
    },
    "492af69e546141b1972f7dc72e93ac81": {
     "model_module": "@jupyter-widgets/controls",
     "model_module_version": "1.5.0",
     "model_name": "FloatProgressModel",
     "state": {
      "_dom_classes": [],
      "_model_module": "@jupyter-widgets/controls",
      "_model_module_version": "1.5.0",
      "_model_name": "FloatProgressModel",
      "_view_count": null,
      "_view_module": "@jupyter-widgets/controls",
      "_view_module_version": "1.5.0",
      "_view_name": "ProgressView",
      "bar_style": "success",
      "description": "",
      "description_tooltip": null,
      "layout": "IPY_MODEL_d2d70355f9314ed3ba1c11e8e55d6173",
      "max": 1838,
      "min": 0,
      "orientation": "horizontal",
      "style": "IPY_MODEL_d6416ece44c241d7bf51598bca96988f",
      "value": 1838
     }
    },
    "4972d36293f2435d987d9226007901dd": {
     "model_module": "@jupyter-widgets/controls",
     "model_module_version": "1.5.0",
     "model_name": "HTMLModel",
     "state": {
      "_dom_classes": [],
      "_model_module": "@jupyter-widgets/controls",
      "_model_module_version": "1.5.0",
      "_model_name": "HTMLModel",
      "_view_count": null,
      "_view_module": "@jupyter-widgets/controls",
      "_view_module_version": "1.5.0",
      "_view_name": "HTMLView",
      "description": "",
      "description_tooltip": null,
      "layout": "IPY_MODEL_0a311638a6f84a9dbe67c447e4485753",
      "placeholder": "​",
      "style": "IPY_MODEL_ee38230e10924948aff80b7cc0de830a",
      "value": " 1838/1838 [00:00&lt;00:00, 63278.81 examples/s]"
     }
    },
    "4f56fac6c73f4d6e829529477fa73304": {
     "model_module": "@jupyter-widgets/base",
     "model_module_version": "1.2.0",
     "model_name": "LayoutModel",
     "state": {
      "_model_module": "@jupyter-widgets/base",
      "_model_module_version": "1.2.0",
      "_model_name": "LayoutModel",
      "_view_count": null,
      "_view_module": "@jupyter-widgets/base",
      "_view_module_version": "1.2.0",
      "_view_name": "LayoutView",
      "align_content": null,
      "align_items": null,
      "align_self": null,
      "border": null,
      "bottom": null,
      "display": null,
      "flex": null,
      "flex_flow": null,
      "grid_area": null,
      "grid_auto_columns": null,
      "grid_auto_flow": null,
      "grid_auto_rows": null,
      "grid_column": null,
      "grid_gap": null,
      "grid_row": null,
      "grid_template_areas": null,
      "grid_template_columns": null,
      "grid_template_rows": null,
      "height": null,
      "justify_content": null,
      "justify_items": null,
      "left": null,
      "margin": null,
      "max_height": null,
      "max_width": null,
      "min_height": null,
      "min_width": null,
      "object_fit": null,
      "object_position": null,
      "order": null,
      "overflow": null,
      "overflow_x": null,
      "overflow_y": null,
      "padding": null,
      "right": null,
      "top": null,
      "visibility": null,
      "width": null
     }
    },
    "58053e023082427889063a83ca8f886d": {
     "model_module": "@jupyter-widgets/controls",
     "model_module_version": "1.5.0",
     "model_name": "DescriptionStyleModel",
     "state": {
      "_model_module": "@jupyter-widgets/controls",
      "_model_module_version": "1.5.0",
      "_model_name": "DescriptionStyleModel",
      "_view_count": null,
      "_view_module": "@jupyter-widgets/base",
      "_view_module_version": "1.2.0",
      "_view_name": "StyleView",
      "description_width": ""
     }
    },
    "61006fd7e3ad4ee784d4c534cbdd44ee": {
     "model_module": "@jupyter-widgets/controls",
     "model_module_version": "1.5.0",
     "model_name": "HBoxModel",
     "state": {
      "_dom_classes": [],
      "_model_module": "@jupyter-widgets/controls",
      "_model_module_version": "1.5.0",
      "_model_name": "HBoxModel",
      "_view_count": null,
      "_view_module": "@jupyter-widgets/controls",
      "_view_module_version": "1.5.0",
      "_view_name": "HBoxView",
      "box_style": "",
      "children": [
       "IPY_MODEL_f9cec4b12f0f4e8e8e241fd543f9e1cf",
       "IPY_MODEL_8c3f31491720497983f05c610cec7cb8",
       "IPY_MODEL_fd1f0915c9064c7e8da448c469035e2b"
      ],
      "layout": "IPY_MODEL_13a6551fcee147dbb333bdf54cac8caf"
     }
    },
    "647f6e4abe924ce381417e306d011609": {
     "model_module": "@jupyter-widgets/controls",
     "model_module_version": "1.5.0",
     "model_name": "DescriptionStyleModel",
     "state": {
      "_model_module": "@jupyter-widgets/controls",
      "_model_module_version": "1.5.0",
      "_model_name": "DescriptionStyleModel",
      "_view_count": null,
      "_view_module": "@jupyter-widgets/base",
      "_view_module_version": "1.2.0",
      "_view_name": "StyleView",
      "description_width": ""
     }
    },
    "76768b71330547568a6c8c9c02dbdb52": {
     "model_module": "@jupyter-widgets/base",
     "model_module_version": "1.2.0",
     "model_name": "LayoutModel",
     "state": {
      "_model_module": "@jupyter-widgets/base",
      "_model_module_version": "1.2.0",
      "_model_name": "LayoutModel",
      "_view_count": null,
      "_view_module": "@jupyter-widgets/base",
      "_view_module_version": "1.2.0",
      "_view_name": "LayoutView",
      "align_content": null,
      "align_items": null,
      "align_self": null,
      "border": null,
      "bottom": null,
      "display": null,
      "flex": null,
      "flex_flow": null,
      "grid_area": null,
      "grid_auto_columns": null,
      "grid_auto_flow": null,
      "grid_auto_rows": null,
      "grid_column": null,
      "grid_gap": null,
      "grid_row": null,
      "grid_template_areas": null,
      "grid_template_columns": null,
      "grid_template_rows": null,
      "height": null,
      "justify_content": null,
      "justify_items": null,
      "left": null,
      "margin": null,
      "max_height": null,
      "max_width": null,
      "min_height": null,
      "min_width": null,
      "object_fit": null,
      "object_position": null,
      "order": null,
      "overflow": null,
      "overflow_x": null,
      "overflow_y": null,
      "padding": null,
      "right": null,
      "top": null,
      "visibility": null,
      "width": null
     }
    },
    "793958450c23418197fe2479090a6fdd": {
     "model_module": "@jupyter-widgets/base",
     "model_module_version": "1.2.0",
     "model_name": "LayoutModel",
     "state": {
      "_model_module": "@jupyter-widgets/base",
      "_model_module_version": "1.2.0",
      "_model_name": "LayoutModel",
      "_view_count": null,
      "_view_module": "@jupyter-widgets/base",
      "_view_module_version": "1.2.0",
      "_view_name": "LayoutView",
      "align_content": null,
      "align_items": null,
      "align_self": null,
      "border": null,
      "bottom": null,
      "display": null,
      "flex": null,
      "flex_flow": null,
      "grid_area": null,
      "grid_auto_columns": null,
      "grid_auto_flow": null,
      "grid_auto_rows": null,
      "grid_column": null,
      "grid_gap": null,
      "grid_row": null,
      "grid_template_areas": null,
      "grid_template_columns": null,
      "grid_template_rows": null,
      "height": null,
      "justify_content": null,
      "justify_items": null,
      "left": null,
      "margin": null,
      "max_height": null,
      "max_width": null,
      "min_height": null,
      "min_width": null,
      "object_fit": null,
      "object_position": null,
      "order": null,
      "overflow": null,
      "overflow_x": null,
      "overflow_y": null,
      "padding": null,
      "right": null,
      "top": null,
      "visibility": null,
      "width": null
     }
    },
    "809d8a26a10f44dab9b192290f7cd574": {
     "model_module": "@jupyter-widgets/controls",
     "model_module_version": "1.5.0",
     "model_name": "HTMLModel",
     "state": {
      "_dom_classes": [],
      "_model_module": "@jupyter-widgets/controls",
      "_model_module_version": "1.5.0",
      "_model_name": "HTMLModel",
      "_view_count": null,
      "_view_module": "@jupyter-widgets/controls",
      "_view_module_version": "1.5.0",
      "_view_name": "HTMLView",
      "description": "",
      "description_tooltip": null,
      "layout": "IPY_MODEL_ea0e51b7cee44151b99e856fd10b5db3",
      "placeholder": "​",
      "style": "IPY_MODEL_e417ede761ab4fbfa0eba59800a14991",
      "value": " 1378/1378 [00:00&lt;00:00, 5792.52 examples/s]"
     }
    },
    "86973d981eec489598875bf0aae62cc9": {
     "model_module": "@jupyter-widgets/base",
     "model_module_version": "1.2.0",
     "model_name": "LayoutModel",
     "state": {
      "_model_module": "@jupyter-widgets/base",
      "_model_module_version": "1.2.0",
      "_model_name": "LayoutModel",
      "_view_count": null,
      "_view_module": "@jupyter-widgets/base",
      "_view_module_version": "1.2.0",
      "_view_name": "LayoutView",
      "align_content": null,
      "align_items": null,
      "align_self": null,
      "border": null,
      "bottom": null,
      "display": null,
      "flex": null,
      "flex_flow": null,
      "grid_area": null,
      "grid_auto_columns": null,
      "grid_auto_flow": null,
      "grid_auto_rows": null,
      "grid_column": null,
      "grid_gap": null,
      "grid_row": null,
      "grid_template_areas": null,
      "grid_template_columns": null,
      "grid_template_rows": null,
      "height": null,
      "justify_content": null,
      "justify_items": null,
      "left": null,
      "margin": null,
      "max_height": null,
      "max_width": null,
      "min_height": null,
      "min_width": null,
      "object_fit": null,
      "object_position": null,
      "order": null,
      "overflow": null,
      "overflow_x": null,
      "overflow_y": null,
      "padding": null,
      "right": null,
      "top": null,
      "visibility": null,
      "width": null
     }
    },
    "8c3f31491720497983f05c610cec7cb8": {
     "model_module": "@jupyter-widgets/controls",
     "model_module_version": "1.5.0",
     "model_name": "FloatProgressModel",
     "state": {
      "_dom_classes": [],
      "_model_module": "@jupyter-widgets/controls",
      "_model_module_version": "1.5.0",
      "_model_name": "FloatProgressModel",
      "_view_count": null,
      "_view_module": "@jupyter-widgets/controls",
      "_view_module_version": "1.5.0",
      "_view_name": "ProgressView",
      "bar_style": "success",
      "description": "",
      "description_tooltip": null,
      "layout": "IPY_MODEL_9291aeeb4a5944f3a96e412d738e7edb",
      "max": 345,
      "min": 0,
      "orientation": "horizontal",
      "style": "IPY_MODEL_0e29d1ea9f1d4eedb32343323cede135",
      "value": 345
     }
    },
    "8e1314b2c83048888eb8ef1ec6f89ef0": {
     "model_module": "@jupyter-widgets/controls",
     "model_module_version": "1.5.0",
     "model_name": "DescriptionStyleModel",
     "state": {
      "_model_module": "@jupyter-widgets/controls",
      "_model_module_version": "1.5.0",
      "_model_name": "DescriptionStyleModel",
      "_view_count": null,
      "_view_module": "@jupyter-widgets/base",
      "_view_module_version": "1.2.0",
      "_view_name": "StyleView",
      "description_width": ""
     }
    },
    "901683ae3ffc4dc2bc0aae5e3c28e3ab": {
     "model_module": "@jupyter-widgets/controls",
     "model_module_version": "1.5.0",
     "model_name": "HTMLModel",
     "state": {
      "_dom_classes": [],
      "_model_module": "@jupyter-widgets/controls",
      "_model_module_version": "1.5.0",
      "_model_name": "HTMLModel",
      "_view_count": null,
      "_view_module": "@jupyter-widgets/controls",
      "_view_module_version": "1.5.0",
      "_view_name": "HTMLView",
      "description": "",
      "description_tooltip": null,
      "layout": "IPY_MODEL_09c5fa6048bf497c974e772fe2e10d4f",
      "placeholder": "​",
      "style": "IPY_MODEL_58053e023082427889063a83ca8f886d",
      "value": "Map: 100%"
     }
    },
    "9291aeeb4a5944f3a96e412d738e7edb": {
     "model_module": "@jupyter-widgets/base",
     "model_module_version": "1.2.0",
     "model_name": "LayoutModel",
     "state": {
      "_model_module": "@jupyter-widgets/base",
      "_model_module_version": "1.2.0",
      "_model_name": "LayoutModel",
      "_view_count": null,
      "_view_module": "@jupyter-widgets/base",
      "_view_module_version": "1.2.0",
      "_view_name": "LayoutView",
      "align_content": null,
      "align_items": null,
      "align_self": null,
      "border": null,
      "bottom": null,
      "display": null,
      "flex": null,
      "flex_flow": null,
      "grid_area": null,
      "grid_auto_columns": null,
      "grid_auto_flow": null,
      "grid_auto_rows": null,
      "grid_column": null,
      "grid_gap": null,
      "grid_row": null,
      "grid_template_areas": null,
      "grid_template_columns": null,
      "grid_template_rows": null,
      "height": null,
      "justify_content": null,
      "justify_items": null,
      "left": null,
      "margin": null,
      "max_height": null,
      "max_width": null,
      "min_height": null,
      "min_width": null,
      "object_fit": null,
      "object_position": null,
      "order": null,
      "overflow": null,
      "overflow_x": null,
      "overflow_y": null,
      "padding": null,
      "right": null,
      "top": null,
      "visibility": null,
      "width": null
     }
    },
    "95129bb9301d4a60b36483175272a360": {
     "model_module": "@jupyter-widgets/controls",
     "model_module_version": "1.5.0",
     "model_name": "HTMLModel",
     "state": {
      "_dom_classes": [],
      "_model_module": "@jupyter-widgets/controls",
      "_model_module_version": "1.5.0",
      "_model_name": "HTMLModel",
      "_view_count": null,
      "_view_module": "@jupyter-widgets/controls",
      "_view_module_version": "1.5.0",
      "_view_name": "HTMLView",
      "description": "",
      "description_tooltip": null,
      "layout": "IPY_MODEL_f03a82de1282420c8d7deff7952029b1",
      "placeholder": "​",
      "style": "IPY_MODEL_a4e41bc6e1f24eaea9049fa821d79ee6",
      "value": " 115/115 [00:00&lt;00:00, 3176.69 examples/s]"
     }
    },
    "98c05ca8116b4578b5f063f90a729e3c": {
     "model_module": "@jupyter-widgets/controls",
     "model_module_version": "1.5.0",
     "model_name": "DescriptionStyleModel",
     "state": {
      "_model_module": "@jupyter-widgets/controls",
      "_model_module_version": "1.5.0",
      "_model_name": "DescriptionStyleModel",
      "_view_count": null,
      "_view_module": "@jupyter-widgets/base",
      "_view_module_version": "1.2.0",
      "_view_name": "StyleView",
      "description_width": ""
     }
    },
    "9fc3e467c2ba47ddae0f02923d937fd4": {
     "model_module": "@jupyter-widgets/base",
     "model_module_version": "1.2.0",
     "model_name": "LayoutModel",
     "state": {
      "_model_module": "@jupyter-widgets/base",
      "_model_module_version": "1.2.0",
      "_model_name": "LayoutModel",
      "_view_count": null,
      "_view_module": "@jupyter-widgets/base",
      "_view_module_version": "1.2.0",
      "_view_name": "LayoutView",
      "align_content": null,
      "align_items": null,
      "align_self": null,
      "border": null,
      "bottom": null,
      "display": null,
      "flex": null,
      "flex_flow": null,
      "grid_area": null,
      "grid_auto_columns": null,
      "grid_auto_flow": null,
      "grid_auto_rows": null,
      "grid_column": null,
      "grid_gap": null,
      "grid_row": null,
      "grid_template_areas": null,
      "grid_template_columns": null,
      "grid_template_rows": null,
      "height": null,
      "justify_content": null,
      "justify_items": null,
      "left": null,
      "margin": null,
      "max_height": null,
      "max_width": null,
      "min_height": null,
      "min_width": null,
      "object_fit": null,
      "object_position": null,
      "order": null,
      "overflow": null,
      "overflow_x": null,
      "overflow_y": null,
      "padding": null,
      "right": null,
      "top": null,
      "visibility": null,
      "width": null
     }
    },
    "a4e41bc6e1f24eaea9049fa821d79ee6": {
     "model_module": "@jupyter-widgets/controls",
     "model_module_version": "1.5.0",
     "model_name": "DescriptionStyleModel",
     "state": {
      "_model_module": "@jupyter-widgets/controls",
      "_model_module_version": "1.5.0",
      "_model_name": "DescriptionStyleModel",
      "_view_count": null,
      "_view_module": "@jupyter-widgets/base",
      "_view_module_version": "1.2.0",
      "_view_name": "StyleView",
      "description_width": ""
     }
    },
    "bbc23fd7dda54e1791b38e65ab04c6d2": {
     "model_module": "@jupyter-widgets/controls",
     "model_module_version": "1.5.0",
     "model_name": "ProgressStyleModel",
     "state": {
      "_model_module": "@jupyter-widgets/controls",
      "_model_module_version": "1.5.0",
      "_model_name": "ProgressStyleModel",
      "_view_count": null,
      "_view_module": "@jupyter-widgets/base",
      "_view_module_version": "1.2.0",
      "_view_name": "StyleView",
      "bar_color": null,
      "description_width": ""
     }
    },
    "bf9e27e16cce4a6f859ea2941c18677a": {
     "model_module": "@jupyter-widgets/base",
     "model_module_version": "1.2.0",
     "model_name": "LayoutModel",
     "state": {
      "_model_module": "@jupyter-widgets/base",
      "_model_module_version": "1.2.0",
      "_model_name": "LayoutModel",
      "_view_count": null,
      "_view_module": "@jupyter-widgets/base",
      "_view_module_version": "1.2.0",
      "_view_name": "LayoutView",
      "align_content": null,
      "align_items": null,
      "align_self": null,
      "border": null,
      "bottom": null,
      "display": null,
      "flex": null,
      "flex_flow": null,
      "grid_area": null,
      "grid_auto_columns": null,
      "grid_auto_flow": null,
      "grid_auto_rows": null,
      "grid_column": null,
      "grid_gap": null,
      "grid_row": null,
      "grid_template_areas": null,
      "grid_template_columns": null,
      "grid_template_rows": null,
      "height": null,
      "justify_content": null,
      "justify_items": null,
      "left": null,
      "margin": null,
      "max_height": null,
      "max_width": null,
      "min_height": null,
      "min_width": null,
      "object_fit": null,
      "object_position": null,
      "order": null,
      "overflow": null,
      "overflow_x": null,
      "overflow_y": null,
      "padding": null,
      "right": null,
      "top": null,
      "visibility": null,
      "width": null
     }
    },
    "bffbe2e0f73f44158b5ed5bdf4c9bf8d": {
     "model_module": "@jupyter-widgets/controls",
     "model_module_version": "1.5.0",
     "model_name": "HBoxModel",
     "state": {
      "_dom_classes": [],
      "_model_module": "@jupyter-widgets/controls",
      "_model_module_version": "1.5.0",
      "_model_name": "HBoxModel",
      "_view_count": null,
      "_view_module": "@jupyter-widgets/controls",
      "_view_module_version": "1.5.0",
      "_view_name": "HBoxView",
      "box_style": "",
      "children": [
       "IPY_MODEL_fa2429984b174c0e80b0062c65158930",
       "IPY_MODEL_c6e93c3167e143d0bf7a9b09039c8f39",
       "IPY_MODEL_809d8a26a10f44dab9b192290f7cd574"
      ],
      "layout": "IPY_MODEL_76768b71330547568a6c8c9c02dbdb52"
     }
    },
    "c6e93c3167e143d0bf7a9b09039c8f39": {
     "model_module": "@jupyter-widgets/controls",
     "model_module_version": "1.5.0",
     "model_name": "FloatProgressModel",
     "state": {
      "_dom_classes": [],
      "_model_module": "@jupyter-widgets/controls",
      "_model_module_version": "1.5.0",
      "_model_name": "FloatProgressModel",
      "_view_count": null,
      "_view_module": "@jupyter-widgets/controls",
      "_view_module_version": "1.5.0",
      "_view_name": "ProgressView",
      "bar_style": "success",
      "description": "",
      "description_tooltip": null,
      "layout": "IPY_MODEL_86973d981eec489598875bf0aae62cc9",
      "max": 1378,
      "min": 0,
      "orientation": "horizontal",
      "style": "IPY_MODEL_bbc23fd7dda54e1791b38e65ab04c6d2",
      "value": 1378
     }
    },
    "c923c0bd636245e9a01a65a7c87ed499": {
     "model_module": "@jupyter-widgets/base",
     "model_module_version": "1.2.0",
     "model_name": "LayoutModel",
     "state": {
      "_model_module": "@jupyter-widgets/base",
      "_model_module_version": "1.2.0",
      "_model_name": "LayoutModel",
      "_view_count": null,
      "_view_module": "@jupyter-widgets/base",
      "_view_module_version": "1.2.0",
      "_view_name": "LayoutView",
      "align_content": null,
      "align_items": null,
      "align_self": null,
      "border": null,
      "bottom": null,
      "display": null,
      "flex": null,
      "flex_flow": null,
      "grid_area": null,
      "grid_auto_columns": null,
      "grid_auto_flow": null,
      "grid_auto_rows": null,
      "grid_column": null,
      "grid_gap": null,
      "grid_row": null,
      "grid_template_areas": null,
      "grid_template_columns": null,
      "grid_template_rows": null,
      "height": null,
      "justify_content": null,
      "justify_items": null,
      "left": null,
      "margin": null,
      "max_height": null,
      "max_width": null,
      "min_height": null,
      "min_width": null,
      "object_fit": null,
      "object_position": null,
      "order": null,
      "overflow": null,
      "overflow_x": null,
      "overflow_y": null,
      "padding": null,
      "right": null,
      "top": null,
      "visibility": null,
      "width": null
     }
    },
    "d2d70355f9314ed3ba1c11e8e55d6173": {
     "model_module": "@jupyter-widgets/base",
     "model_module_version": "1.2.0",
     "model_name": "LayoutModel",
     "state": {
      "_model_module": "@jupyter-widgets/base",
      "_model_module_version": "1.2.0",
      "_model_name": "LayoutModel",
      "_view_count": null,
      "_view_module": "@jupyter-widgets/base",
      "_view_module_version": "1.2.0",
      "_view_name": "LayoutView",
      "align_content": null,
      "align_items": null,
      "align_self": null,
      "border": null,
      "bottom": null,
      "display": null,
      "flex": null,
      "flex_flow": null,
      "grid_area": null,
      "grid_auto_columns": null,
      "grid_auto_flow": null,
      "grid_auto_rows": null,
      "grid_column": null,
      "grid_gap": null,
      "grid_row": null,
      "grid_template_areas": null,
      "grid_template_columns": null,
      "grid_template_rows": null,
      "height": null,
      "justify_content": null,
      "justify_items": null,
      "left": null,
      "margin": null,
      "max_height": null,
      "max_width": null,
      "min_height": null,
      "min_width": null,
      "object_fit": null,
      "object_position": null,
      "order": null,
      "overflow": null,
      "overflow_x": null,
      "overflow_y": null,
      "padding": null,
      "right": null,
      "top": null,
      "visibility": null,
      "width": null
     }
    },
    "d6416ece44c241d7bf51598bca96988f": {
     "model_module": "@jupyter-widgets/controls",
     "model_module_version": "1.5.0",
     "model_name": "ProgressStyleModel",
     "state": {
      "_model_module": "@jupyter-widgets/controls",
      "_model_module_version": "1.5.0",
      "_model_name": "ProgressStyleModel",
      "_view_count": null,
      "_view_module": "@jupyter-widgets/base",
      "_view_module_version": "1.2.0",
      "_view_name": "StyleView",
      "bar_color": null,
      "description_width": ""
     }
    },
    "e417ede761ab4fbfa0eba59800a14991": {
     "model_module": "@jupyter-widgets/controls",
     "model_module_version": "1.5.0",
     "model_name": "DescriptionStyleModel",
     "state": {
      "_model_module": "@jupyter-widgets/controls",
      "_model_module_version": "1.5.0",
      "_model_name": "DescriptionStyleModel",
      "_view_count": null,
      "_view_module": "@jupyter-widgets/base",
      "_view_module_version": "1.2.0",
      "_view_name": "StyleView",
      "description_width": ""
     }
    },
    "ea0e51b7cee44151b99e856fd10b5db3": {
     "model_module": "@jupyter-widgets/base",
     "model_module_version": "1.2.0",
     "model_name": "LayoutModel",
     "state": {
      "_model_module": "@jupyter-widgets/base",
      "_model_module_version": "1.2.0",
      "_model_name": "LayoutModel",
      "_view_count": null,
      "_view_module": "@jupyter-widgets/base",
      "_view_module_version": "1.2.0",
      "_view_name": "LayoutView",
      "align_content": null,
      "align_items": null,
      "align_self": null,
      "border": null,
      "bottom": null,
      "display": null,
      "flex": null,
      "flex_flow": null,
      "grid_area": null,
      "grid_auto_columns": null,
      "grid_auto_flow": null,
      "grid_auto_rows": null,
      "grid_column": null,
      "grid_gap": null,
      "grid_row": null,
      "grid_template_areas": null,
      "grid_template_columns": null,
      "grid_template_rows": null,
      "height": null,
      "justify_content": null,
      "justify_items": null,
      "left": null,
      "margin": null,
      "max_height": null,
      "max_width": null,
      "min_height": null,
      "min_width": null,
      "object_fit": null,
      "object_position": null,
      "order": null,
      "overflow": null,
      "overflow_x": null,
      "overflow_y": null,
      "padding": null,
      "right": null,
      "top": null,
      "visibility": null,
      "width": null
     }
    },
    "ee38230e10924948aff80b7cc0de830a": {
     "model_module": "@jupyter-widgets/controls",
     "model_module_version": "1.5.0",
     "model_name": "DescriptionStyleModel",
     "state": {
      "_model_module": "@jupyter-widgets/controls",
      "_model_module_version": "1.5.0",
      "_model_name": "DescriptionStyleModel",
      "_view_count": null,
      "_view_module": "@jupyter-widgets/base",
      "_view_module_version": "1.2.0",
      "_view_name": "StyleView",
      "description_width": ""
     }
    },
    "f03a82de1282420c8d7deff7952029b1": {
     "model_module": "@jupyter-widgets/base",
     "model_module_version": "1.2.0",
     "model_name": "LayoutModel",
     "state": {
      "_model_module": "@jupyter-widgets/base",
      "_model_module_version": "1.2.0",
      "_model_name": "LayoutModel",
      "_view_count": null,
      "_view_module": "@jupyter-widgets/base",
      "_view_module_version": "1.2.0",
      "_view_name": "LayoutView",
      "align_content": null,
      "align_items": null,
      "align_self": null,
      "border": null,
      "bottom": null,
      "display": null,
      "flex": null,
      "flex_flow": null,
      "grid_area": null,
      "grid_auto_columns": null,
      "grid_auto_flow": null,
      "grid_auto_rows": null,
      "grid_column": null,
      "grid_gap": null,
      "grid_row": null,
      "grid_template_areas": null,
      "grid_template_columns": null,
      "grid_template_rows": null,
      "height": null,
      "justify_content": null,
      "justify_items": null,
      "left": null,
      "margin": null,
      "max_height": null,
      "max_width": null,
      "min_height": null,
      "min_width": null,
      "object_fit": null,
      "object_position": null,
      "order": null,
      "overflow": null,
      "overflow_x": null,
      "overflow_y": null,
      "padding": null,
      "right": null,
      "top": null,
      "visibility": null,
      "width": null
     }
    },
    "f9cec4b12f0f4e8e8e241fd543f9e1cf": {
     "model_module": "@jupyter-widgets/controls",
     "model_module_version": "1.5.0",
     "model_name": "HTMLModel",
     "state": {
      "_dom_classes": [],
      "_model_module": "@jupyter-widgets/controls",
      "_model_module_version": "1.5.0",
      "_model_name": "HTMLModel",
      "_view_count": null,
      "_view_module": "@jupyter-widgets/controls",
      "_view_module_version": "1.5.0",
      "_view_name": "HTMLView",
      "description": "",
      "description_tooltip": null,
      "layout": "IPY_MODEL_4f56fac6c73f4d6e829529477fa73304",
      "placeholder": "​",
      "style": "IPY_MODEL_8e1314b2c83048888eb8ef1ec6f89ef0",
      "value": "Map: 100%"
     }
    },
    "fa2429984b174c0e80b0062c65158930": {
     "model_module": "@jupyter-widgets/controls",
     "model_module_version": "1.5.0",
     "model_name": "HTMLModel",
     "state": {
      "_dom_classes": [],
      "_model_module": "@jupyter-widgets/controls",
      "_model_module_version": "1.5.0",
      "_model_name": "HTMLModel",
      "_view_count": null,
      "_view_module": "@jupyter-widgets/controls",
      "_view_module_version": "1.5.0",
      "_view_name": "HTMLView",
      "description": "",
      "description_tooltip": null,
      "layout": "IPY_MODEL_9fc3e467c2ba47ddae0f02923d937fd4",
      "placeholder": "​",
      "style": "IPY_MODEL_120d804969434ffea5b279f0f35a7c6e",
      "value": "Map: 100%"
     }
    },
    "fd1f0915c9064c7e8da448c469035e2b": {
     "model_module": "@jupyter-widgets/controls",
     "model_module_version": "1.5.0",
     "model_name": "HTMLModel",
     "state": {
      "_dom_classes": [],
      "_model_module": "@jupyter-widgets/controls",
      "_model_module_version": "1.5.0",
      "_model_name": "HTMLModel",
      "_view_count": null,
      "_view_module": "@jupyter-widgets/controls",
      "_view_module_version": "1.5.0",
      "_view_name": "HTMLView",
      "description": "",
      "description_tooltip": null,
      "layout": "IPY_MODEL_793958450c23418197fe2479090a6fdd",
      "placeholder": "​",
      "style": "IPY_MODEL_98c05ca8116b4578b5f063f90a729e3c",
      "value": " 345/345 [00:00&lt;00:00, 4809.04 examples/s]"
     }
    }
   }
  }
 },
 "nbformat": 4,
 "nbformat_minor": 4
}
