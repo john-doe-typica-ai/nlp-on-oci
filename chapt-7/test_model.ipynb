{
 "cells": [
  {
   "cell_type": "markdown",
   "id": "5281b986-9e7b-47ce-90ab-942db90c7eb0",
   "metadata": {},
   "source": [
    "***\n",
    "# <font color=red>Chapter 7: MedTALN inc.'s Case Study - Testing Deployed Healthcare NER Model</font>\n",
    "<p style=\"margin-left:10%; margin-right:10%;\">by <font color=teal> John Doe (typica.ai) </font></p>\n",
    "\n",
    "***\n",
    "\n",
    "\n",
    "## Overview\n",
    "\n",
    "Notebook to demonstrate how to invoke the model for inferring medical terms from multiple texts.\n"
   ]
  },
  {
   "cell_type": "code",
   "execution_count": 1,
   "id": "15ff75ee-3429-454b-8f64-e6c171e331e9",
   "metadata": {
    "tags": []
   },
   "outputs": [
    {
     "name": "stdout",
     "output_type": "stream",
     "text": [
      "{'inputs': 'Selon les cas, des médicaments tels que analgésiques, ou encore une bactériothérapie, peuvent être prescrits par les médecins.'}\n",
      "analgésiques, --> MedicationVaccine\n",
      "bactériothérapie, --> MedicalProcedure\n",
      "\n",
      "{'inputs': 'Selon les cas, des médicaments tels que anti-inflammatoires, ou encore une bactériothérapie, peuvent être prescrits par les médecins.'}\n",
      "anti-inflammatoires, --> MedicationVaccine\n",
      "bactériothérapie, --> MedicalProcedure\n",
      "\n",
      "{'inputs': 'Selon les cas, des médicaments tels que antibiotiques, ou encore une bactériothérapie, peuvent être prescrits par les médecins.'}\n",
      "antibiotiques, --> MedicationVaccine\n",
      "bactériothérapie, --> MedicalProcedure\n",
      "\n",
      "{'inputs': 'Selon les cas, des médicaments tels que antibactériens, ou encore une bactériothérapie, peuvent être prescrits par les médecins.'}\n",
      "antibactériens, --> MedicationVaccine\n",
      "bactériothérapie, --> MedicalProcedure\n",
      "\n",
      "{'inputs': 'Selon les cas, des médicaments tels que antituberculeux, ou encore une bactériothérapie, peuvent être prescrits par les médecins.'}\n",
      "antituberculeux, --> MedicationVaccine\n",
      "bactériothérapie, --> MedicalProcedure\n",
      "\n",
      "{'inputs': 'Selon les cas, des médicaments tels que antimycosiques, ou encore une bactériothérapie, peuvent être prescrits par les médecins.'}\n",
      "antimycosiques, --> MedicationVaccine\n",
      "bactériothérapie, --> MedicalProcedure\n",
      "\n",
      "{'inputs': 'Selon les cas, des médicaments tels que antiviraux, ou encore une bactériothérapie, peuvent être prescrits par les médecins.'}\n",
      "antiviraux, --> MedicationVaccine\n",
      "bactériothérapie, --> MedicalProcedure\n",
      "\n"
     ]
    }
   ],
   "source": [
    "import requests\n",
    "import oci\n",
    "from oci.signer import Signer\n",
    "\n",
    "auth = oci.auth.signers.get_resource_principals_signer()\n",
    "endpoint = 'https://modeldeployment.ca-toronto-1.oci.customer-oci.com/ocid1.datasciencemodeldeployment.oc1.ca-toronto-1.amaaaaaa3hvgr2qauukxaeb3pel6d575orfdxngmkhy4fsmbz3bezlvqvalq/predict'\n",
    "\n",
    "meds = [\"analgésiques\", \"anti-inflammatoires\", \"antibiotiques\", \"antibactériens\", \"antituberculeux\", \"antimycosiques\",\"antiviraux\"]\n",
    "\n",
    "for med in meds:\n",
    "    body = {\"inputs\":f\"Selon les cas, des médicaments tels que {med}, ou encore une bactériothérapie, peuvent être prescrits par les médecins.\"} # payload goes here\n",
    "    headers = {} # header goes here\n",
    "    print(body)\n",
    "\n",
    "    result = requests.post(endpoint, json=body, auth=auth, headers=headers).json()\n",
    "\n",
    "    for pred in result[\"prediction\"]:\n",
    "        print(f\"{pred['word']} --> {pred['entity_group']}\")\n",
    "    print()\n"
   ]
  }
 ],
 "metadata": {
  "kernelspec": {
   "display_name": "Python [conda env:pytorch21_p39_gpu_v1]",
   "language": "python",
   "name": "conda-env-pytorch21_p39_gpu_v1-py"
  },
  "language_info": {
   "codemirror_mode": {
    "name": "ipython",
    "version": 3
   },
   "file_extension": ".py",
   "mimetype": "text/x-python",
   "name": "python",
   "nbconvert_exporter": "python",
   "pygments_lexer": "ipython3",
   "version": "3.9.16"
  }
 },
 "nbformat": 4,
 "nbformat_minor": 5
}
