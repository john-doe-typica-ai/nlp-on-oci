{
 "cells": [
  {
   "cell_type": "markdown",
   "id": "a0e1cf01-6686-4fa2-b442-2821cbd5849e",
   "metadata": {},
   "source": [
    "***\n",
    "# <font color=red>Chapter 7: MedTALN inc.'s Case Study - Deploy Healthcare NER Model</font>\n",
    "<p style=\"margin-left:10%; margin-right:10%;\">by <font color=teal> John Doe (typica.ai) </font></p>\n",
    "\n",
    "***\n",
    "\n",
    "\n",
    "## Overview\n",
    "\n",
    "This notebook guides you through the process of deploying our Healthcare NER model. The development of this notebook was based on the following resources:\n",
    "\n",
    "- [ADS v2.10.0 documentation for the class `HuggingFacePipelineModel`](https://accelerated-data-science.readthedocs.io/en/v2.10.0/user_guide/model_registration/frameworks/huggingfacemodel.html)\n",
    "- **Train, Register, and Deploy HuggingFace Pipeline Example Notebook** from Notebook Explorer (`train-register-deploy-huggingface-pipeline.ipynb`)\n",
    "\n",
    "\n",
    "## Process Overview\n",
    "\n",
    "The deployment process is composed of the following key steps:\n",
    "\n",
    "1. **Initializing the ADS Class `HuggingFacePipelineModel`**  \n",
    "    1.1. Load the Hugging Face pipeline with our best fine-tuned Healthcare NER Model (i.e., `healthcare_ner_model_v1.0.0`)  \n",
    "    1.2. Initialize the `HuggingFacePipelineModel` class with our model  \n",
    "    1.3. Generate the model’s artifacts\n",
    "\n",
    "2. **Saving the model’s artifacts to the OCI Data Science Model Catalog**\n",
    "\n",
    "3. **Creating the OCI Data Science Model Deployment** (with specified compute shape)"
   ]
  },
  {
   "cell_type": "markdown",
   "id": "142d50bf-3409-420b-a03f-07fa35fcfb59",
   "metadata": {},
   "source": [
    "Filters out warnings"
   ]
  },
  {
   "cell_type": "code",
   "execution_count": 1,
   "id": "a5d07111-6409-483e-b19b-de05cab8af66",
   "metadata": {
    "tags": []
   },
   "outputs": [],
   "source": [
    "import warnings\n",
    "warnings.filterwarnings('ignore')"
   ]
  },
  {
   "cell_type": "markdown",
   "id": "2cf3c3b8-52d8-446a-8a5d-9d981331e339",
   "metadata": {},
   "source": [
    "# Authenticate\n",
    "\n",
    "Authentication to the OCI Data Science service is required. Here we default to resource principals."
   ]
  },
  {
   "cell_type": "code",
   "execution_count": 2,
   "id": "685e8adf-534c-4176-b5b3-0fd906c32395",
   "metadata": {
    "tags": []
   },
   "outputs": [],
   "source": [
    "import ads\n",
    "\n",
    "ads.set_auth(auth=\"resource_principal\")"
   ]
  },
  {
   "cell_type": "markdown",
   "id": "bbb66495-2282-40cb-a03c-0caf180a3ab6",
   "metadata": {},
   "source": [
    "# Initializing the ADS Class `HuggingFacePipelineModel`"
   ]
  },
  {
   "cell_type": "markdown",
   "id": "a77753e3-d209-40ae-a4b7-493c4685569c",
   "metadata": {},
   "source": [
    "## Initialize Hugging Face Pipeline \n",
    "Initialize `transformers.pipeline` with our best fine-tuned Healthcare NER Model (i.e., `healthcare_ner_model_v1.0.0`)  \n"
   ]
  },
  {
   "cell_type": "code",
   "execution_count": 3,
   "id": "ed008256-775b-4cb0-b0a0-fe3a5a1c72ec",
   "metadata": {
    "tags": []
   },
   "outputs": [
    {
     "name": "stdout",
     "output_type": "stream",
     "text": [
      "model checkpoint: /home/datascience/buckets/models-ckpt-bkt/models/healthcare_ner_model_v1.0.0\n"
     ]
    },
    {
     "data": {
      "text/plain": [
       "[{'entity_group': 'MedicationVaccine',\n",
       "  'score': 0.7428154,\n",
       "  'word': 'antibiotiques',\n",
       "  'start': 21,\n",
       "  'end': 34}]"
      ]
     },
     "execution_count": 3,
     "metadata": {},
     "output_type": "execute_result"
    }
   ],
   "source": [
    "from transformers import pipeline\n",
    "import warnings\n",
    "\n",
    "model_checkpoint = \"/home/datascience/buckets/models-ckpt-bkt/models/healthcare_ner_model_v1.0.0\" \n",
    "print(f\"model checkpoint: {model_checkpoint}\")\n",
    "\n",
    "data = \"Le medecin donne des antibiotiques en cas d'infections des voies respiratoires.\"\n",
    "pipeline = pipeline(\n",
    "    \"token-classification\", model=model_checkpoint, aggregation_strategy=\"first\"\n",
    ")\n",
    "preds = pipeline(data)\n",
    "preds"
   ]
  },
  {
   "cell_type": "markdown",
   "id": "74f77f92-ebd8-4939-a535-1dc00066a921",
   "metadata": {},
   "source": [
    "## Prepare Model Artifact\n",
    "Instantiate a HuggingFacePipelineModel() object with HuggingFace pipelines. All the pipelines related files are saved under the artifact_dir."
   ]
  },
  {
   "cell_type": "code",
   "execution_count": 4,
   "id": "21368935-3fa3-4637-b617-ed1fef1ff0ee",
   "metadata": {
    "tags": []
   },
   "outputs": [
    {
     "name": "stdout",
     "output_type": "stream",
     "text": [
      "Model path /home/datascience/buckets/models-ckpt-bkt/models/healthcare_ner_model_v1.0.0 and the Model artifacts temp dir /tmp/tmphplf40sh\n",
      "[2024-08-30 01:28:25,140] [INFO] [real_accelerator.py:158:get_accelerator] Setting ds_accelerator to cuda (auto detect)                                                                       ?, ?it/s]\n"
     ]
    },
    {
     "data": {
      "text/plain": [
       "algorithm: TokenClassificationPipeline\n",
       "artifact_dir:\n",
       "  /tmp/tmphplf40sh:\n",
       "  - - .model-ignore\n",
       "    - special_tokens_map.json\n",
       "    - tokenizer.json\n",
       "    - config.json\n",
       "    - runtime.yaml\n",
       "    - score.py\n",
       "    - model.safetensors\n",
       "    - sentencepiece.bpe.model\n",
       "    - tokenizer_config.json\n",
       "framework: transformers\n",
       "model_deployment_id: null\n",
       "model_id: null"
      ]
     },
     "execution_count": 4,
     "metadata": {},
     "output_type": "execute_result"
    }
   ],
   "source": [
    "from ads.model import HuggingFacePipelineModel\n",
    "from ads.model.model_metadata import UseCaseType\n",
    "import tempfile\n",
    "\n",
    "# Create a temporary directory for the model artifacts\n",
    "artifacts_temp_dir = tempfile.mkdtemp()\n",
    "\n",
    "print(f\"Model path {pipeline.model.config._name_or_path} and the Model artifacts temp dir {artifacts_temp_dir}\")\n",
    "\n",
    "# Initialize the model\n",
    "huggingface_pipeline_model = HuggingFacePipelineModel(pipeline, artifact_dir=artifacts_temp_dir)\n",
    "\n",
    "#Prepare the model\n",
    "conda_env_source = \"oci://conda-envs-bkt@yz2wwgkgt8eh/conda_environments/gpu/PyTorch 2.1 for GPU on Python 3.9/1.0/pytorch21_p39_gpu_v1\"\n",
    "\n",
    "huggingface_pipeline_model.prepare(\n",
    "  inference_conda_env=conda_env_source,\n",
    "  inference_python_version=\"3.9\",\n",
    "  training_conda_env=conda_env_source,\n",
    "  use_case_type=UseCaseType.OTHER,\n",
    "  force_overwrite=True,\n",
    "  )\n"
   ]
  },
  {
   "cell_type": "markdown",
   "id": "61715d79-9ff8-4ff9-a6ea-cad1bff3adf0",
   "metadata": {},
   "source": [
    "#### Manually correct score.py\n",
    "\n",
    "- Go to terminal and open score.py e.g. (base) bash-4.2$ vim /tmp/tmpm81d8fz4/score.py\n",
    "- Add the following modifications\n",
    "\n",
    "1- In the method load_model, add a correction that introduces an aggregation_strategy parameter for pipeline, specifically set to \"first\"\n",
    "comment out the original line:\n",
    "```\n",
    "        # model = pipeline(task, model = model_dir)\n",
    "```\n",
    "Add the new lines below the commented line:\n",
    "```\n",
    "        #John's fix to add ner aggregation_strategy\n",
    "        model = pipeline(task, model = model_dir, aggregation_strategy=\"first\")\n",
    "```\n",
    "2- In the method serialize_prediction, add a correction that fixes the error \"The inference result is not json parsable Object of type float32 is not JSON serializable\"\n",
    "```   \n",
    "    #John's fix for the error \"The inference result is not json parsable Object of type float32 is not JSON serializable\" \n",
    "    if isinstance(yhat, dict):\n",
    "        for key, value in yhat.items():\n",
    "            if isinstance(value, np.float32):\n",
    "                yhat[key] = float(value)\n",
    "```\n"
   ]
  },
  {
   "cell_type": "code",
   "execution_count": 7,
   "id": "dd194092-cda7-484a-b1a9-1a4903b2cd7c",
   "metadata": {
    "tags": []
   },
   "outputs": [
    {
     "data": {
      "text/plain": [
       "'/tmp/tmphplf40sh/score.py'"
      ]
     },
     "execution_count": 7,
     "metadata": {},
     "output_type": "execute_result"
    }
   ],
   "source": [
    "import shutil\n",
    "\n",
    "# Specify the path to the source file (score_fixed.py) and the target location (/tmp/score.py)\n",
    "source_file = './score_fixed.py'  # Update with the actual path to score_fixed.py\n",
    "target_file = f'{artifacts_temp_dir}/score.py'\n",
    "\n",
    "# Copy the source file to the target location, effectively replacing it\n",
    "shutil.copyfile(source_file, target_file)\n"
   ]
  },
  {
   "cell_type": "code",
   "execution_count": 8,
   "id": "3231f726-087d-4a13-aba9-c4ea22612fc8",
   "metadata": {
    "tags": []
   },
   "outputs": [
    {
     "name": "stdout",
     "output_type": "stream",
     "text": [
      "['.model-ignore', 'special_tokens_map.json', 'tokenizer.json', 'config.json', 'runtime.yaml', 'score.py', 'model.safetensors', 'sentencepiece.bpe.model', 'tokenizer_config.json']\n"
     ]
    },
    {
     "data": {
      "text/html": [
       "<div>\n",
       "<style scoped>\n",
       "    .dataframe tbody tr th:only-of-type {\n",
       "        vertical-align: middle;\n",
       "    }\n",
       "\n",
       "    .dataframe tbody tr th {\n",
       "        vertical-align: top;\n",
       "    }\n",
       "\n",
       "    .dataframe thead th {\n",
       "        text-align: right;\n",
       "    }\n",
       "</style>\n",
       "<table border=\"1\" class=\"dataframe\">\n",
       "  <thead>\n",
       "    <tr style=\"text-align: right;\">\n",
       "      <th></th>\n",
       "      <th>Test key</th>\n",
       "      <th>Test name</th>\n",
       "      <th>Result</th>\n",
       "      <th>Message</th>\n",
       "    </tr>\n",
       "  </thead>\n",
       "  <tbody>\n",
       "    <tr>\n",
       "      <th>0</th>\n",
       "      <td>runtime_env_path</td>\n",
       "      <td>Check that field MODEL_DEPLOYMENT.INFERENCE_ENV_PATH is set</td>\n",
       "      <td>Passed</td>\n",
       "      <td></td>\n",
       "    </tr>\n",
       "    <tr>\n",
       "      <th>1</th>\n",
       "      <td>runtime_env_python</td>\n",
       "      <td>Check that field MODEL_DEPLOYMENT.INFERENCE_PYTHON_VERSION is set to a value of 3.6 or higher</td>\n",
       "      <td>Passed</td>\n",
       "      <td></td>\n",
       "    </tr>\n",
       "    <tr>\n",
       "      <th>2</th>\n",
       "      <td>runtime_path_exist</td>\n",
       "      <td>Check that the file path in MODEL_DEPLOYMENT.INFERENCE_ENV_PATH is correct.</td>\n",
       "      <td>Passed</td>\n",
       "      <td></td>\n",
       "    </tr>\n",
       "    <tr>\n",
       "      <th>3</th>\n",
       "      <td>runtime_version</td>\n",
       "      <td>Check that field MODEL_ARTIFACT_VERSION is set to 3.0</td>\n",
       "      <td>Passed</td>\n",
       "      <td></td>\n",
       "    </tr>\n",
       "    <tr>\n",
       "      <th>4</th>\n",
       "      <td>runtime_yaml</td>\n",
       "      <td>Check that the file \"runtime.yaml\" exists and is in the top level directory of the artifact directory</td>\n",
       "      <td>Passed</td>\n",
       "      <td></td>\n",
       "    </tr>\n",
       "    <tr>\n",
       "      <th>5</th>\n",
       "      <td>score_load_model</td>\n",
       "      <td>Check that load_model() is defined</td>\n",
       "      <td>Passed</td>\n",
       "      <td></td>\n",
       "    </tr>\n",
       "    <tr>\n",
       "      <th>6</th>\n",
       "      <td>score_predict</td>\n",
       "      <td>Check that predict() is defined</td>\n",
       "      <td>Passed</td>\n",
       "      <td></td>\n",
       "    </tr>\n",
       "    <tr>\n",
       "      <th>7</th>\n",
       "      <td>score_predict_arg</td>\n",
       "      <td>Check that all other arguments in predict() are optional and have default values</td>\n",
       "      <td>Passed</td>\n",
       "      <td></td>\n",
       "    </tr>\n",
       "    <tr>\n",
       "      <th>8</th>\n",
       "      <td>score_predict_data</td>\n",
       "      <td>Check that the only required argument for predict() is named \"data\"</td>\n",
       "      <td>Passed</td>\n",
       "      <td></td>\n",
       "    </tr>\n",
       "    <tr>\n",
       "      <th>9</th>\n",
       "      <td>score_py</td>\n",
       "      <td>Check that the file \"score.py\" exists and is in the top level directory of the artifact directory</td>\n",
       "      <td>Passed</td>\n",
       "      <td></td>\n",
       "    </tr>\n",
       "    <tr>\n",
       "      <th>10</th>\n",
       "      <td>score_syntax</td>\n",
       "      <td>Check for Python syntax errors</td>\n",
       "      <td>Passed</td>\n",
       "      <td></td>\n",
       "    </tr>\n",
       "  </tbody>\n",
       "</table>\n",
       "</div>"
      ],
      "text/plain": [
       "              Test key  \\\n",
       "0     runtime_env_path   \n",
       "1   runtime_env_python   \n",
       "2   runtime_path_exist   \n",
       "3      runtime_version   \n",
       "4         runtime_yaml   \n",
       "5     score_load_model   \n",
       "6        score_predict   \n",
       "7    score_predict_arg   \n",
       "8   score_predict_data   \n",
       "9             score_py   \n",
       "10        score_syntax   \n",
       "\n",
       "                                                                                                Test name  \\\n",
       "0                                             Check that field MODEL_DEPLOYMENT.INFERENCE_ENV_PATH is set   \n",
       "1           Check that field MODEL_DEPLOYMENT.INFERENCE_PYTHON_VERSION is set to a value of 3.6 or higher   \n",
       "2                             Check that the file path in MODEL_DEPLOYMENT.INFERENCE_ENV_PATH is correct.   \n",
       "3                                                   Check that field MODEL_ARTIFACT_VERSION is set to 3.0   \n",
       "4   Check that the file \"runtime.yaml\" exists and is in the top level directory of the artifact directory   \n",
       "5                                                                      Check that load_model() is defined   \n",
       "6                                                                         Check that predict() is defined   \n",
       "7                        Check that all other arguments in predict() are optional and have default values   \n",
       "8                                     Check that the only required argument for predict() is named \"data\"   \n",
       "9       Check that the file \"score.py\" exists and is in the top level directory of the artifact directory   \n",
       "10                                                                         Check for Python syntax errors   \n",
       "\n",
       "    Result Message  \n",
       "0   Passed          \n",
       "1   Passed          \n",
       "2   Passed          \n",
       "3   Passed          \n",
       "4   Passed          \n",
       "5   Passed          \n",
       "6   Passed          \n",
       "7   Passed          \n",
       "8   Passed          \n",
       "9   Passed          \n",
       "10  Passed          "
      ]
     },
     "execution_count": 8,
     "metadata": {},
     "output_type": "execute_result"
    }
   ],
   "source": [
    "huggingface_pipeline_model.introspect()"
   ]
  },
  {
   "cell_type": "markdown",
   "id": "cb83676a-27f7-4eb8-801a-1fd547b827ca",
   "metadata": {},
   "source": [
    "## Call model summary\n",
    "The .summary_status() method returns a Pandas dataframe that guides you through the entire workflow. It shows which methods are available to call and which ones aren’t. Plus it outlines what each method does. If extra actions are required, it also shows those actions."
   ]
  },
  {
   "cell_type": "code",
   "execution_count": 9,
   "id": "1f3f1e78-1b36-4576-b130-6dbb554aa022",
   "metadata": {
    "tags": []
   },
   "outputs": [
    {
     "data": {
      "text/html": [
       "<div>\n",
       "<style scoped>\n",
       "    .dataframe tbody tr th:only-of-type {\n",
       "        vertical-align: middle;\n",
       "    }\n",
       "\n",
       "    .dataframe tbody tr th {\n",
       "        vertical-align: top;\n",
       "    }\n",
       "\n",
       "    .dataframe thead th {\n",
       "        text-align: right;\n",
       "    }\n",
       "</style>\n",
       "<table border=\"1\" class=\"dataframe\">\n",
       "  <thead>\n",
       "    <tr style=\"text-align: right;\">\n",
       "      <th></th>\n",
       "      <th></th>\n",
       "      <th></th>\n",
       "      <th>Actions Needed</th>\n",
       "    </tr>\n",
       "    <tr>\n",
       "      <th>Step</th>\n",
       "      <th>Status</th>\n",
       "      <th>Details</th>\n",
       "      <th></th>\n",
       "    </tr>\n",
       "  </thead>\n",
       "  <tbody>\n",
       "    <tr>\n",
       "      <th>initiate</th>\n",
       "      <th>Done</th>\n",
       "      <th>Initiated the model</th>\n",
       "      <td></td>\n",
       "    </tr>\n",
       "    <tr>\n",
       "      <th rowspan=\"4\" valign=\"top\">prepare()</th>\n",
       "      <th rowspan=\"4\" valign=\"top\">Done</th>\n",
       "      <th>Generated runtime.yaml</th>\n",
       "      <td></td>\n",
       "    </tr>\n",
       "    <tr>\n",
       "      <th>Generated score.py</th>\n",
       "      <td></td>\n",
       "    </tr>\n",
       "    <tr>\n",
       "      <th>Serialized model</th>\n",
       "      <td></td>\n",
       "    </tr>\n",
       "    <tr>\n",
       "      <th>Populated metadata(Custom, Taxonomy and Provenance)</th>\n",
       "      <td></td>\n",
       "    </tr>\n",
       "    <tr>\n",
       "      <th>verify()</th>\n",
       "      <th>Available</th>\n",
       "      <th>Local tested .predict from score.py</th>\n",
       "      <td></td>\n",
       "    </tr>\n",
       "    <tr>\n",
       "      <th rowspan=\"2\" valign=\"top\">save()</th>\n",
       "      <th rowspan=\"2\" valign=\"top\">Available</th>\n",
       "      <th>Conducted Introspect Test</th>\n",
       "      <td></td>\n",
       "    </tr>\n",
       "    <tr>\n",
       "      <th>Uploaded artifact to model catalog</th>\n",
       "      <td></td>\n",
       "    </tr>\n",
       "    <tr>\n",
       "      <th>deploy()</th>\n",
       "      <th>UNKNOWN</th>\n",
       "      <th>Deployed the model</th>\n",
       "      <td></td>\n",
       "    </tr>\n",
       "    <tr>\n",
       "      <th>predict()</th>\n",
       "      <th>Not Available</th>\n",
       "      <th>Called deployment predict endpoint</th>\n",
       "      <td></td>\n",
       "    </tr>\n",
       "  </tbody>\n",
       "</table>\n",
       "</div>"
      ],
      "text/plain": [
       "                                                                            Actions Needed\n",
       "Step      Status        Details                                                           \n",
       "initiate  Done          Initiated the model                                               \n",
       "prepare() Done          Generated runtime.yaml                                            \n",
       "                        Generated score.py                                                \n",
       "                        Serialized model                                                  \n",
       "                        Populated metadata(Custom, Taxonomy and Provenance)               \n",
       "verify()  Available     Local tested .predict from score.py                               \n",
       "save()    Available     Conducted Introspect Test                                         \n",
       "                        Uploaded artifact to model catalog                                \n",
       "deploy()  UNKNOWN       Deployed the model                                                \n",
       "predict() Not Available Called deployment predict endpoint                                "
      ]
     },
     "execution_count": 9,
     "metadata": {},
     "output_type": "execute_result"
    }
   ],
   "source": [
    "huggingface_pipeline_model.summary_status()"
   ]
  },
  {
   "cell_type": "markdown",
   "id": "f2e2fcff-2797-4e66-93fd-7c50e4e08058",
   "metadata": {
    "tags": []
   },
   "source": [
    "## Verify the generated model artifacts \n",
    "without deploying the model to model catalog"
   ]
  },
  {
   "cell_type": "code",
   "execution_count": 10,
   "id": "b7f19a39-6dd0-49a0-b661-46eb60151d8d",
   "metadata": {
    "tags": []
   },
   "outputs": [
    {
     "name": "stdout",
     "output_type": "stream",
     "text": [
      "Le medecin donne des antibiotiques en cas d'infections des voies respiratoires.\n",
      "Model is successfully loaded.\n"
     ]
    },
    {
     "data": {
      "text/plain": [
       "{'prediction': [{'entity_group': 'MedicationVaccine',\n",
       "   'score': 0.742815375328064,\n",
       "   'word': 'antibiotiques',\n",
       "   'start': 21,\n",
       "   'end': 34}]}"
      ]
     },
     "execution_count": 10,
     "metadata": {},
     "output_type": "execute_result"
    }
   ],
   "source": [
    "print(data)\n",
    "huggingface_pipeline_model.verify(data)"
   ]
  },
  {
   "cell_type": "markdown",
   "id": "ae5da6b8-bbd5-472c-9292-cfaa76d129a1",
   "metadata": {},
   "source": [
    "## Create a model version set\n",
    "The Model Version Set, which acts as a container by assigning sequential version numbers to models, making it easier to track their evolution and relationships."
   ]
  },
  {
   "cell_type": "code",
   "execution_count": 26,
   "id": "9093ad9a-cffa-461a-bc32-a76c3219e697",
   "metadata": {
    "tags": []
   },
   "outputs": [
    {
     "data": {
      "text/plain": [
       "\n",
       "kind: modelVersionSet\n",
       "spec:\n",
       "  compartmentId: ocid1.compartment.oc1..aaaaaaaaceavj5r6agl5e2mysyxg6twnvwh6cw7s2pi6nobiv6nynjcwmhxa\n",
       "  definedTags:\n",
       "    Oracle-Tags:\n",
       "      CreatedBy: ocid1.datasciencenotebooksession.oc1.ca-toronto-1.amaaaaaa3hvgr2qaresmmqmzbu3i3mo6npudc3nf6ltgu43in4su7ogons4a\n",
       "      CreatedOn: '2024-08-30T01:39:55.445Z'\n",
       "  description: A model version set for the Healthcare NER Model\n",
       "  id: ocid1.datasciencemodelversionset.oc1.ca-toronto-1.amaaaaaa3hvgr2qa4gck2mvzy6r5nbaumfmdbv7rsilu6x5dnggvg5kxrhxa\n",
       "  name: healthcare-ner-model-ver-set\n",
       "  projectId: ocid1.datascienceproject.oc1.ca-toronto-1.amaaaaaa3hvgr2qaqd5gstwgcmxycii3q7zi4jemjwhb7wienmlapx2ni6ja\n",
       "type: modelVersionSet"
      ]
     },
     "execution_count": 26,
     "metadata": {},
     "output_type": "execute_result"
    }
   ],
   "source": [
    "from ads.model import ModelVersionSet\n",
    "\n",
    "# Create a model version set\n",
    "mvs = ModelVersionSet(\n",
    "    name = \"healthcare-ner-model-ver-set\",\n",
    "    description = \"A model version set for the Healthcare NER Model\")\n",
    "mvs.create()"
   ]
  },
  {
   "cell_type": "markdown",
   "id": "30b75144-732b-4436-826a-96b676239672",
   "metadata": {
    "tags": []
   },
   "source": [
    "## Register Model\n",
    "Save the model to the model catalog"
   ]
  },
  {
   "cell_type": "code",
   "execution_count": 27,
   "id": "8330d8c1-bc94-4a96-b4c5-3ec94c1310d8",
   "metadata": {
    "tags": []
   },
   "outputs": [
    {
     "name": "stdout",
     "output_type": "stream",
     "text": [
      "Model is successfully loaded.\n",
      "['.model-ignore', 'special_tokens_map.json', 'tokenizer.json', 'config.json', 'runtime.yaml', 'score.py', 'test_json_output.json', 'model.safetensors', 'sentencepiece.bpe.model', 'tokenizer_config.json']\n"
     ]
    },
    {
     "data": {
      "application/vnd.jupyter.widget-view+json": {
       "model_id": "",
       "version_major": 2,
       "version_minor": 0
      },
      "text/plain": [
       "loop1:   0%|          | 0/4 [00:00<?, ?it/s]"
      ]
     },
     "metadata": {},
     "output_type": "display_data"
    },
    {
     "data": {
      "text/plain": [
       "'ocid1.datasciencemodel.oc1.ca-toronto-1.amaaaaaa3hvgr2qaxmjd5sf3kv3vri4rsgdo3hzw66bq6e4in65taft2y3yq'"
      ]
     },
     "execution_count": 27,
     "metadata": {},
     "output_type": "execute_result"
    }
   ],
   "source": [
    "# Register the model\n",
    "model_id = huggingface_pipeline_model.save(display_name=\"Healthcare NER Model\",\n",
    "                                            model_version_set=mvs,\n",
    "                                            version_label=\"Version 1\")\n",
    "model_id"
   ]
  },
  {
   "cell_type": "markdown",
   "id": "c81e93ce-8219-446f-b9ab-29e0f61b0d07",
   "metadata": {},
   "source": [
    "## Deploy and Generate Endpoint\n",
    "Deploy and create an endpoint for the huggingface_pipeline_model\n"
   ]
  },
  {
   "cell_type": "code",
   "execution_count": 28,
   "id": "a00918c9-3692-41ef-b027-dfa5b9f25dbd",
   "metadata": {
    "tags": []
   },
   "outputs": [
    {
     "name": "stdout",
     "output_type": "stream",
     "text": [
      "Model Deployment OCID: ocid1.datasciencemodeldeployment.oc1.ca-toronto-1.amaaaaaa3hvgr2qauukxaeb3pel6d575orfdxngmkhy4fsmbz3bezlvqvalq\n"
     ]
    },
    {
     "data": {
      "application/vnd.jupyter.widget-view+json": {
       "model_id": "",
       "version_major": 2,
       "version_minor": 0
      },
      "text/plain": [
       "Creating model deployment:   0%|          | [00:00<?, ?it/s]"
      ]
     },
     "metadata": {},
     "output_type": "display_data"
    },
    {
     "name": "stdout",
     "output_type": "stream",
     "text": [
      "Endpoint: https://modeldeployment.ca-toronto-1.oci.customer-oci.com/ocid1.datasciencemodeldeployment.oc1.ca-toronto-1.amaaaaaa3hvgr2qauukxaeb3pel6d575orfdxngmkhy4fsmbz3bezlvqvalq\n"
     ]
    }
   ],
   "source": [
    "# Deploy and create an endpoint for the huggingface_pipeline_model\n",
    "huggingface_pipeline_model.deploy(\n",
    "    display_name=\"Healthcare NER Mode Deployment\", \n",
    "    description=\"Healthcare NER Mode Deployment\",\n",
    "    deployment_log_group_id=\"ocid1.loggroup.oc1.ca-toronto-1.amaaaaaa3hvgr2qafnnj4nyxd3bxxxmfx35bbmsmftedosa3fxin7ag46jia\",\n",
    "    deployment_access_log_id=\"ocid1.log.oc1.ca-toronto-1.amaaaaaa3hvgr2qah2mx7uxr5nl7rtqtaygsui3liy3uqyor5wp6zs7xsdua\",\n",
    "    deployment_predict_log_id=\"ocid1.log.oc1.ca-toronto-1.amaaaaaa3hvgr2qah2mx7uxr5nl7rtqtaygsui3liy3uqyor5wp6zs7xsdua\"\n",
    ")\n",
    "print(f\"Endpoint: {huggingface_pipeline_model.model_deployment.url}\")\n"
   ]
  },
  {
   "cell_type": "code",
   "execution_count": 29,
   "id": "c160447a-f046-488a-8d3f-ac2074a8a7d8",
   "metadata": {
    "tags": []
   },
   "outputs": [
    {
     "name": "stdout",
     "output_type": "stream",
     "text": [
      "Healthcare NER Mode Deployment\n",
      "Healthcare NER Mode Deployment\n",
      "2024-08-30 01:49:54.888000+00:00\n"
     ]
    }
   ],
   "source": [
    "print(huggingface_pipeline_model.model_deployment.display_name)\n",
    "print(huggingface_pipeline_model.model_deployment.description)\n",
    "print(huggingface_pipeline_model.model_deployment.time_created)"
   ]
  },
  {
   "cell_type": "markdown",
   "id": "b390ee17-8d9b-46f1-a317-069251136f99",
   "metadata": {},
   "source": [
    "## Run Prediction against Endpoint\n",
    "Generate prediction by invoking the deployed endpoint\n"
   ]
  },
  {
   "cell_type": "code",
   "execution_count": 30,
   "id": "fd2130f3-282f-498d-b7e6-4f23f4415239",
   "metadata": {
    "tags": []
   },
   "outputs": [
    {
     "name": "stdout",
     "output_type": "stream",
     "text": [
      "antibiotiques MedicationVaccine 0.742815375328064 21 34\n"
     ]
    }
   ],
   "source": [
    "# Generate prediction by invoking the deployed endpoint\n",
    "preds = huggingface_pipeline_model.predict(data)\n",
    "\n",
    "#print predictions\n",
    "for pred in preds['prediction']:\n",
    "    print(pred['word'],pred['entity_group'], pred['score'], pred['start'], pred['end'])"
   ]
  },
  {
   "cell_type": "markdown",
   "id": "0c8f231a-ad6a-43f5-85cc-a8a6f99aad8a",
   "metadata": {},
   "source": [
    "Invoke model HTTP endpoint (Rest-based API) "
   ]
  },
  {
   "cell_type": "code",
   "execution_count": 33,
   "id": "9e9fc09c-d3c8-4e28-b790-5c765de7fd4e",
   "metadata": {
    "tags": []
   },
   "outputs": [
    {
     "name": "stdout",
     "output_type": "stream",
     "text": [
      "Invoking Model Endpoint: https://modeldeployment.ca-toronto-1.oci.customer-oci.com/ocid1.datasciencemodeldeployment.oc1.ca-toronto-1.amaaaaaa3hvgr2qauukxaeb3pel6d575orfdxngmkhy4fsmbz3bezlvqvalq/predict\n",
      "Medical sample text : Le medecin donne des antibiotiques en cas d'infections des voies respiratoires.\n",
      "Extracted medical entities : {'prediction': [{'entity_group': 'MedicationVaccine', 'score': 0.742815375328064, 'word': 'antibiotiques', 'start': 21, 'end': 34}]}\n"
     ]
    }
   ],
   "source": [
    "import requests\n",
    "import oci\n",
    "from oci.signer import Signer\n",
    "\n",
    "# Get notebook session's resource principal\n",
    "signer = oci.auth.signers.get_resource_principals_signer()\n",
    "\n",
    "\n",
    "prediction_endpoint = f'{huggingface_pipeline_model.model_deployment.url}/predict'\n",
    "\n",
    "print(f\"Invoking Model Endpoint: {prediction_endpoint}\")\n",
    "print(f\"Medical sample text : {data}\")\n",
    "\n",
    "body = {\"inputs\":data} # payload\n",
    "headers = {} # headers\n",
    "\n",
    "preds = requests.post(prediction_endpoint, json=body, auth=signer, headers=headers).json()\n",
    "\n",
    "print(f\"Extracted medical entities : {preds}\")\n"
   ]
  },
  {
   "cell_type": "markdown",
   "id": "a4d70497-7570-4017-bd82-d32f57455045",
   "metadata": {},
   "source": [
    "Our Trained Model is now deployed and ready for inference.\n",
    "This concludes our deployment notebook."
   ]
  }
 ],
 "metadata": {
  "kernelspec": {
   "display_name": "Python [conda env:pytorch21_p39_gpu_v1]",
   "language": "python",
   "name": "conda-env-pytorch21_p39_gpu_v1-py"
  },
  "language_info": {
   "codemirror_mode": {
    "name": "ipython",
    "version": 3
   },
   "file_extension": ".py",
   "mimetype": "text/x-python",
   "name": "python",
   "nbconvert_exporter": "python",
   "pygments_lexer": "ipython3",
   "version": "3.9.16"
  }
 },
 "nbformat": 4,
 "nbformat_minor": 5
}
