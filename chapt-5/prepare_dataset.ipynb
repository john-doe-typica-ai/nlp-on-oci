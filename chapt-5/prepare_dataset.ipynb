{
 "cells": [
  {
   "cell_type": "markdown",
   "metadata": {
    "id": "Loqdk84kksZt"
   },
   "source": [
    "***\n",
    "### <font color=red>Chapter 5: TALN PII Case Study - Dataset preparation for Labeling</font>\n",
    "<p style=\"margin-left:10%; margin-right:10%;\">by <font color=teal> John Doe (typica.ai) </font></p>\n",
    "\n",
    "***\n",
    "\n",
    "\n",
    "#### Overview:\n",
    "This notebook prepares a dataset for the OCI Data Labeling Service. It involves several key processes including data download, cleaning, balancing, and final transformation into Jsonl Consolidated format, suitable for labeling tasks."
   ]
  },
  {
   "cell_type": "markdown",
   "metadata": {
    "id": "W5h57qEEFU40"
   },
   "source": [
    "# 1. Data Access:\n",
    "- **Purpose:** Retrieve the dataset for use in this notebook.\n",
    "- **Method:** Download the selected dataset directly into the notebook environment."
   ]
  },
  {
   "cell_type": "markdown",
   "metadata": {
    "id": "zdwpXodXeThJ"
   },
   "source": [
    "Install the hugging face datasets library."
   ]
  },
  {
   "cell_type": "code",
   "execution_count": 1,
   "metadata": {
    "id": "GI-4ALxfeICj",
    "tags": []
   },
   "outputs": [],
   "source": [
    "%%capture\n",
    "pip install datasets"
   ]
  },
  {
   "cell_type": "markdown",
   "metadata": {
    "id": "pHLU6r3_pQk1"
   },
   "source": [
    "Filters out warnings"
   ]
  },
  {
   "cell_type": "code",
   "execution_count": 2,
   "metadata": {
    "id": "UbcQkniMoEhH",
    "tags": []
   },
   "outputs": [],
   "source": [
    "import warnings\n",
    "warnings.filterwarnings('ignore')"
   ]
  },
  {
   "cell_type": "markdown",
   "metadata": {
    "id": "kvbARMEHoR9M"
   },
   "source": [
    "Use the load_dataset() function to load the dataset from Hugging Face Hub repository by providing the dataset namespace and name i.e. TypicaAI/pii-masking-60k_fr.\n"
   ]
  },
  {
   "cell_type": "code",
   "execution_count": 3,
   "metadata": {
    "colab": {
     "base_uri": "https://localhost:8080/",
     "height": 217,
     "referenced_widgets": [
      "db9abe8a5f4047ed9d82d77c428d48f2",
      "32ecccaa0598467ba635d8b694083bd8",
      "9848e6f67a41446cbab2819c679f4c9e",
      "bddbbbbb1aa24fd9b848086e14670e1d",
      "11d765d575d14691a8ace2eb9130ee8a",
      "55cd87e51b9a4aa9849bcb22c1112790",
      "d9e54b75561b4403a0ccabc603a03fbd",
      "c55bf9a146a241bba61381f952716c0c",
      "5ccf6e6e55e44b6aa186818e2a1933a6",
      "66dffded479546e7808cce77c9b0972b",
      "96d3df9a7fe0445a82d07a254af7f748",
      "253362d6f78e4ecfa12ca2bd0e414165",
      "69d4e099118a46cf8a7dc1d2771b9fda",
      "d7755a0497b546f88fed75e7182022e9",
      "58af6d4857004aa68b4a6e7b792d73fe",
      "dcf9b41d8649447d8e4d437d979e3553",
      "155a8cdbe4c540a092371535531b84a9",
      "965f2ec13d3d4c55a265ff3158168375",
      "04206f326dd64b8c839242457f53a517",
      "8ff09403443f4a82869f9ca4cd7dc1d5",
      "a300ce9162e842abb607005abec9fbb1",
      "bb80bcbe80ab445cada025b8eb689be3",
      "8f85bd9d16d0419b97eb42738acd7d86",
      "1dc6b4a8c9ee47ff804a76d8b0cd7d65",
      "df25e3ade1e74ea89f8f7dffa7eb050e",
      "9514f3438a264b0c97dbe6d91a26e30e",
      "de602973e12343b5942542ffb059f924",
      "3f333b6159a749bc833efbaefdbb5b20",
      "36b08d5727f641c0b9ef2d8da484c3cc",
      "394a17059141407a9ddea7921f603e51",
      "fcbae3fcd5014a06ae48cd65c65c5bee",
      "079e6c9615294c7bbe09523d19d07df6",
      "0306026be6bc45e3bbcb33356a18c4b1"
     ]
    },
    "id": "NgDM5WZNlw_2",
    "outputId": "93a2e69d-bdbe-4d73-a5ab-93378f155bb6",
    "tags": []
   },
   "outputs": [
    {
     "data": {
      "application/vnd.jupyter.widget-view+json": {
       "model_id": "5da118cc24e44a5c8ef5edb713c5a389",
       "version_major": 2,
       "version_minor": 0
      },
      "text/plain": [
       "Downloading readme:   0%|          | 0.00/1.56k [00:00<?, ?B/s]"
      ]
     },
     "metadata": {},
     "output_type": "display_data"
    },
    {
     "data": {
      "application/vnd.jupyter.widget-view+json": {
       "model_id": "930c1678b9b8470182e695ed72b1d831",
       "version_major": 2,
       "version_minor": 0
      },
      "text/plain": [
       "Downloading data:   0%|          | 0.00/31.8M [00:00<?, ?B/s]"
      ]
     },
     "metadata": {},
     "output_type": "display_data"
    },
    {
     "data": {
      "application/vnd.jupyter.widget-view+json": {
       "model_id": "03ea8f5a498f4d76b526aaef2feee801",
       "version_major": 2,
       "version_minor": 0
      },
      "text/plain": [
       "Generating train split:   0%|          | 0/61918 [00:00<?, ? examples/s]"
      ]
     },
     "metadata": {},
     "output_type": "display_data"
    },
    {
     "data": {
      "text/plain": [
       "DatasetDict({\n",
       "    train: Dataset({\n",
       "        features: ['masked_text', 'unmasked_text', 'privacy_mask', 'span_labels', 'bio_labels', 'tokenised_text'],\n",
       "        num_rows: 61918\n",
       "    })\n",
       "})"
      ]
     },
     "execution_count": 3,
     "metadata": {},
     "output_type": "execute_result"
    }
   ],
   "source": [
    "from datasets import load_dataset\n",
    "orig_dataset = load_dataset(\"TypicaAI/pii-masking-60k_fr\")\n",
    "orig_dataset"
   ]
  },
  {
   "cell_type": "markdown",
   "metadata": {
    "id": "I0zHsfG29VDu"
   },
   "source": [
    "Strip all the columns from the downloaded dataset except unmasked_text span_labels\n",
    "\n"
   ]
  },
  {
   "cell_type": "code",
   "execution_count": 4,
   "metadata": {
    "colab": {
     "base_uri": "https://localhost:8080/"
    },
    "id": "r91AU3qy9w8j",
    "outputId": "489830ed-2937-4991-ef2f-e136a6409145",
    "tags": []
   },
   "outputs": [
    {
     "data": {
      "text/plain": [
       "DatasetDict({\n",
       "    train: Dataset({\n",
       "        features: ['unmasked_text', 'span_labels'],\n",
       "        num_rows: 61918\n",
       "    })\n",
       "})"
      ]
     },
     "execution_count": 4,
     "metadata": {},
     "output_type": "execute_result"
    }
   ],
   "source": [
    "from datasets import Dataset, DatasetDict\n",
    "\n",
    "# Assuming cleaned_dataset['train'] is a dataset object\n",
    "# Select only the desired columns\n",
    "streamlined_dataset = orig_dataset['train'].remove_columns([col for col in orig_dataset['train'].column_names if col not in ['unmasked_text', 'span_labels']])\n",
    "\n",
    "# Create a new dataset with only these columns\n",
    "streamlined_dataset = DatasetDict({\n",
    "    'train': streamlined_dataset\n",
    "})\n",
    "\n",
    "# Print the columns to verify\n",
    "streamlined_dataset"
   ]
  },
  {
   "cell_type": "code",
   "execution_count": 5,
   "metadata": {
    "colab": {
     "base_uri": "https://localhost:8080/"
    },
    "id": "pBRGjQY1WSZd",
    "outputId": "7a41083d-df0c-40a7-b48d-11e1e8e75bc8",
    "tags": []
   },
   "outputs": [
    {
     "data": {
      "text/plain": [
       "{'unmasked_text': \"Cher Ms. Keebler, nous organisons un programme d'alphabétisation à West Shemar en collaboration avec Morissette - Russel. Contactez Hulda44@yahoo.com pour plus de détails.\",\n",
       " 'span_labels': \"[[0, 5, 'O'], [5, 8, 'PREFIX_1'], [8, 9, 'O'], [9, 16, 'LASTNAME_1'], [16, 67, 'O'], [67, 78, 'CITY_1'], [78, 101, 'O'], [101, 120, 'COMPANYNAME_1'], [120, 132, 'O'], [132, 149, 'EMAIL_1'], [149, 171, 'O']]\"}"
      ]
     },
     "execution_count": 5,
     "metadata": {},
     "output_type": "execute_result"
    }
   ],
   "source": [
    "streamlined_dataset['train'][0]\n"
   ]
  },
  {
   "cell_type": "markdown",
   "metadata": {
    "id": "1c52rW8MGglL"
   },
   "source": [
    "# 2. Dataset Wrangling:\n",
    "This phase ensures the dataset is primed for labeling, involving two main tasks:cleaning and balancing the dataset"
   ]
  },
  {
   "cell_type": "markdown",
   "metadata": {
    "id": "iKl3AaytGkff"
   },
   "source": [
    "### 2a. Cleaning:\n",
    "\n",
    "- **Objective**: Remove irrelevant examples that do not contain any entities of interest.\n",
    "- **Process:** Filter out entries to retain only those with relevant entities, enhancing focus and utility in labeling."
   ]
  },
  {
   "cell_type": "markdown",
   "metadata": {
    "id": "9GEINzSxJLea"
   },
   "source": [
    "Define the **relevant_labels** list (labels to keep) and the filtering logic in the **filter_relevant_labels** function.\n",
    "This function performs the following for each example from the dataset:\n",
    "- checks if any of the labels within the *span_labels* field match the defined relevant labels\n",
    "- cleans span_labels by keeping only relevant labels for the relevant example\n",
    "- marks the example as relevant or not with a new key\n"
   ]
  },
  {
   "cell_type": "code",
   "execution_count": 6,
   "metadata": {
    "colab": {
     "base_uri": "https://localhost:8080/",
     "height": 116,
     "referenced_widgets": [
      "6321f8fe697a483588b4396a8c43806a",
      "fe9649b26c2e4e6280d1d1f25411258e",
      "fa352ca16b77409683dd31399acf1a81",
      "80924a99a4e146acbe703c839e3d5fd8",
      "0ac6114976ee4bd7b6997f3612f109e7",
      "20520ed6fe9f44be90e043bd49f044cd",
      "7c25bdb20041421f8b5f73de07960441",
      "5644cac6e6f44722aabc20037f93493d",
      "c9892f08dedd48fbae64771fd4df30aa",
      "4e91d9db4abb425d87c4208236bb92c2",
      "3b75e1cc54ff4ac795c47bda798c9fe4",
      "cd57f1d355b347f9b0fe77e5cf41d71a",
      "7eaef02be08a4345886bad461f76efc2",
      "e830a2d86a334ea584f38a32cfda2512",
      "9d6ce5c8ef84450280453133924cf091",
      "fa09f0bc791f4ff688608f182afcfb52",
      "add8e4cc87ad4707a57c540a4b74e8c4",
      "3d6a21aaef144b59aebf363bd23ffeef",
      "7cd6a67995df4ce98334dd94f29bcced",
      "7e9147b004f74e43979b0fe1a8ca3461",
      "9df3b3067c6a43b5b83cf498b3d0e39e",
      "e28e8c1cd604460ea5cf0778b1d482ad"
     ]
    },
    "id": "G4yLwI9iZJY5",
    "outputId": "1617e393-7271-4e3e-93a0-88d3803b4c8c",
    "tags": []
   },
   "outputs": [],
   "source": [
    "import ast  # Import abstract syntax trees module to safely parse strings into lists\n",
    "\n",
    "# Define relevant labels\n",
    "relevant_labels = {'FIRSTNAME_1', 'MIDDLENAME_1', 'LASTNAME_1', 'AGE_1',\n",
    "                   'STREET_1', 'ZIPCODE_1', 'CITY_1', 'PHONENUMBER_1', 'EMAIL_1', 'CREDITCARDNUMBER_1'}\n",
    "\n",
    "def filter_and_clean_labels(example):\n",
    "    # Convert the string representation of list into an actual list\n",
    "    span_labels = ast.literal_eval(example['span_labels'])\n",
    "\n",
    "    # Check if any label in span_labels is in the relevant labels set\n",
    "    is_relevant = any(label[2] in relevant_labels for label in span_labels if label[2] != 'O')\n",
    "\n",
    "    # If the example is relevant, clean span_labels by keeping only relevant labels\n",
    "    if is_relevant:\n",
    "        cleaned_span_labels = [[start, end, label] for start, end, label in span_labels if label in relevant_labels]\n",
    "        example['span_labels'] = str(cleaned_span_labels)  # Convert back to string if needed\n",
    "\n",
    "    return {'is_relevant': is_relevant, 'span_labels': example['span_labels']}\n",
    "\n"
   ]
  },
  {
   "cell_type": "markdown",
   "metadata": {
    "id": "92YPLPHGewvn"
   },
   "source": [
    "The Hugging Face `datasets` library `map` function apply `filter_relevant_labels` across the dataset, cleaning `span_labels` column from irrelevant labels and adding the flag 'is_relevant' to each example based on the presence of relevant labels.\n",
    "The script prints the dataset size before and after the cleaning.\n",
    "\n",
    "\n",
    "\n"
   ]
  },
  {
   "cell_type": "code",
   "execution_count": 7,
   "metadata": {
    "id": "FqT1dQ9RJ9y8",
    "tags": []
   },
   "outputs": [
    {
     "data": {
      "application/vnd.jupyter.widget-view+json": {
       "model_id": "953b640c5b1a4fe0bcb05d7284f34ef7",
       "version_major": 2,
       "version_minor": 0
      },
      "text/plain": [
       "Map:   0%|          | 0/61918 [00:00<?, ? examples/s]"
      ]
     },
     "metadata": {},
     "output_type": "display_data"
    },
    {
     "data": {
      "application/vnd.jupyter.widget-view+json": {
       "model_id": "ddc8ecd8baa14d0e9ca09c66c78096b7",
       "version_major": 2,
       "version_minor": 0
      },
      "text/plain": [
       "Filter:   0%|          | 0/61918 [00:00<?, ? examples/s]"
      ]
     },
     "metadata": {},
     "output_type": "display_data"
    },
    {
     "name": "stdout",
     "output_type": "stream",
     "text": [
      "Original number of examples: 61918\n",
      "Number of relevant examples (after cleaning): 38610\n"
     ]
    }
   ],
   "source": [
    "# Apply the function across the dataset using map\n",
    "dataset_with_cleaned_labels = streamlined_dataset.map(filter_and_clean_labels, batched=False)\n",
    "\n",
    "# Filter the dataset to keep only relevant examples\n",
    "cleaned_dataset = dataset_with_cleaned_labels.filter(lambda example: example['is_relevant'])\n",
    "\n",
    "# Optionally remove the 'is_relevant' field if no longer needed\n",
    "cleaned_dataset = cleaned_dataset.remove_columns(['is_relevant'])\n",
    "\n",
    "orig_ds_count = len(orig_dataset['train'])\n",
    "cleaned_ds_count = len(cleaned_dataset['train'])\n",
    "\n",
    "print(f\"Original number of examples: {orig_ds_count}\")\n",
    "print(f\"Number of relevant examples (after cleaning): {cleaned_ds_count}\")"
   ]
  },
  {
   "cell_type": "code",
   "execution_count": 8,
   "metadata": {
    "colab": {
     "base_uri": "https://localhost:8080/"
    },
    "id": "Y4WPGhxteM3m",
    "outputId": "695f479d-c9f9-429a-fda0-bc4d36c9568b",
    "tags": []
   },
   "outputs": [
    {
     "data": {
      "text/plain": [
       "{'unmasked_text': \"Cher Ms. Keebler, nous organisons un programme d'alphabétisation à West Shemar en collaboration avec Morissette - Russel. Contactez Hulda44@yahoo.com pour plus de détails.\",\n",
       " 'span_labels': \"[[9, 16, 'LASTNAME_1'], [67, 78, 'CITY_1'], [132, 149, 'EMAIL_1']]\"}"
      ]
     },
     "execution_count": 8,
     "metadata": {},
     "output_type": "execute_result"
    }
   ],
   "source": [
    "cleaned_dataset['train'][0]"
   ]
  },
  {
   "cell_type": "markdown",
   "metadata": {
    "id": "2TVF5q-dMd_f"
   },
   "source": [
    "The script plots the dataset size before and after the cleaning."
   ]
  },
  {
   "cell_type": "code",
   "execution_count": 9,
   "metadata": {
    "colab": {
     "base_uri": "https://localhost:8080/",
     "height": 468
    },
    "id": "MM6NLDj69UPn",
    "outputId": "9192f7db-ec12-49ee-8413-c88156594c54",
    "tags": []
   },
   "outputs": [
    {
     "data": {
      "image/png": "[encoded data removed]",
      "text/plain": [
       "<Figure size 800x500 with 1 Axes>"
      ]
     },
     "metadata": {},
     "output_type": "display_data"
    }
   ],
   "source": [
    "import matplotlib.pyplot as plt\n",
    "\n",
    "# Data setup\n",
    "categories = ['Original', 'After Cleaning']\n",
    "values = [orig_ds_count, cleaned_ds_count]\n",
    "\n",
    "# Create bar plot\n",
    "plt.figure(figsize=(8, 5))\n",
    "plt.bar(categories, values, color=['blue', 'green'])\n",
    "plt.title('Comparison of Dataset Sizes')\n",
    "plt.ylabel('Number of Examples')\n",
    "plt.show()\n"
   ]
  },
  {
   "cell_type": "markdown",
   "metadata": {
    "id": "SW8OsX03XxO7"
   },
   "source": [
    "### 2b. Balancing:\n",
    "\n",
    "- **Objective**: Achieve a balanced representation of labeled entities to prevent model bias.\n",
    "- **Process**: Adjust the dataset to ensure all entities are equally represented, using undersampling techniques as necessary.# Balance Dataset"
   ]
  },
  {
   "cell_type": "markdown",
   "metadata": {
    "id": "DU2S8uFH76qu"
   },
   "source": [
    "The function `count_labels` takes the dataset as an argument and returns the counts of each label found in the `span_labels` field. Using `Counter` function from `collections` library aggregates all labels extracted from the dataset, efficiently counting occurrences of each label across all entries in the dataset.\n",
    "The helper funtion `extract_labels` parses the `span_labels` from a string representation to a list, filtering out the label 'O'.\n"
   ]
  },
  {
   "cell_type": "code",
   "execution_count": 11,
   "metadata": {
    "id": "BuEFhypl4kf-",
    "tags": []
   },
   "outputs": [],
   "source": [
    "from collections import Counter\n",
    "import ast\n",
    "\n",
    "def extract_labels(span_labels):\n",
    "    \"\"\"Helper function to parse and filter labels from span_labels.\"\"\"\n",
    "    return [label[2] for label in ast.literal_eval(span_labels) if label[2] != 'O']\n",
    "\n",
    "def count_labels(dataset):\n",
    "    \"\"\"Counts occurrences of each label in the dataset's span_labels field, excluding 'O'.\"\"\"\n",
    "\n",
    "    # Use a list comprehension to gather all labels across the dataset and count them\n",
    "    label_counts = Counter(\n",
    "        label for example in dataset['train']\n",
    "        for label in extract_labels(example['span_labels'])\n",
    "    )\n",
    "    return label_counts\n"
   ]
  },
  {
   "cell_type": "markdown",
   "metadata": {
    "id": "UwTLQlsBRLXY"
   },
   "source": [
    "Define `plot_distributions` function. This function is designed to visually compare the distributions of a dataset's labels before and after the balancing step. It uses the matplotlib library to create a bar chart, which displays the counts of each label side-by-side for easy comparison. "
   ]
  },
  {
   "cell_type": "code",
   "execution_count": 32,
   "metadata": {
    "id": "gwN41A6-71xK",
    "tags": []
   },
   "outputs": [],
   "source": [
    "def plot_distributions(before_counts, after_counts, process=\"Balancing\"):\n",
    "    # Sort labels to ensure they match up in the plot\n",
    "    labels = sorted(before_counts.keys())\n",
    "    before_values = [before_counts[label] for label in labels]\n",
    "    after_values = None\n",
    "    if after_counts:\n",
    "      after_values = [after_counts[label] for label in labels]\n",
    "\n",
    "    x = range(len(labels))  # Label location on x-axis\n",
    "\n",
    "    # Create the bar plot\n",
    "    plt.figure(figsize=(10, 5))\n",
    "    plt.bar(x, before_values, width=0.4, label=f'Before {process}', color='b', align='center')\n",
    "    if after_values:\n",
    "      plt.bar(x, after_values, width=0.4, label=f'After {process}', color='r', align='edge')\n",
    "\n",
    "    # Add some text for labels, title and custom x-axis tick labels, etc.\n",
    "    plt.xlabel('Labels')\n",
    "    plt.ylabel('Counts')\n",
    "    plt.title(f'Label Distribution Before and After {process}')\n",
    "    plt.xticks(x, labels, rotation='vertical')\n",
    "    plt.legend()\n",
    "\n",
    "    # Show the plot\n",
    "    plt.tight_layout()\n",
    "    plt.show()"
   ]
  },
  {
   "cell_type": "markdown",
   "metadata": {
    "id": "_6g0rXjg8EuD"
   },
   "source": [
    "Calculates and prints the label distribution to assess the dataset initial balance."
   ]
  },
  {
   "cell_type": "code",
   "execution_count": 13,
   "metadata": {
    "colab": {
     "base_uri": "https://localhost:8080/"
    },
    "id": "zm0cOgENBR44",
    "outputId": "1fc4c284-264e-4458-8250-75d484dbf788",
    "tags": []
   },
   "outputs": [
    {
     "name": "stdout",
     "output_type": "stream",
     "text": [
      "Label Counts: Counter({'FIRSTNAME_1': 19444, 'LASTNAME_1': 6007, 'EMAIL_1': 5130, 'CREDITCARDNUMBER_1': 3862, 'AGE_1': 3856, 'STREET_1': 3741, 'MIDDLENAME_1': 3704, 'ZIPCODE_1': 3666, 'PHONENUMBER_1': 3358, 'CITY_1': 3341})\n"
     ]
    }
   ],
   "source": [
    "# count labels for the cleaned dataset\n",
    "label_counts = count_labels(cleaned_dataset)\n",
    "print(\"Label Counts:\", label_counts)"
   ]
  },
  {
   "cell_type": "markdown",
   "metadata": {
    "id": "gagPot_2QheS"
   },
   "source": [
    "Plot the label distribution before balancing.\n",
    "We notice an imbalance issue for the *first name* class `FIRSTNAME_1` label."
   ]
  },
  {
   "cell_type": "code",
   "execution_count": 14,
   "metadata": {
    "colab": {
     "base_uri": "https://localhost:8080/",
     "height": 507
    },
    "id": "ib_IFHWi7pa7",
    "outputId": "c0548551-9aa2-4cd3-bb2a-85d9b648af93",
    "tags": []
   },
   "outputs": [
    {
     "data": {
      "image/png": "[encoded data removed]",
      "text/plain": [
       "<Figure size 1000x500 with 1 Axes>"
      ]
     },
     "metadata": {},
     "output_type": "display_data"
    }
   ],
   "source": [
    "plot_distributions(label_counts, None)  # Plot the label counts"
   ]
  },
  {
   "cell_type": "markdown",
   "metadata": {
    "id": "5sdquKdx8PMX"
   },
   "source": [
    "The `undersample_label` function applies the \"Random Under-Sampling\" approach to adjust the frequency of a specified label within a dataset to prevent overrepresentation. It takes as *Inputs* the  cleaned dataset, the label to be reduced (\"first name\" class, i.e., `FIRSTNAME_1` label), and a target maximum count (count of the `LASTNAME_1` label)."
   ]
  },
  {
   "cell_type": "code",
   "execution_count": 15,
   "metadata": {
    "id": "rHN76zyL5u7w",
    "tags": []
   },
   "outputs": [],
   "source": [
    "import random\n",
    "\n",
    "def undersample_label(dataset, label_to_undersample, target_count):\n",
    "    \"\"\"Reduces the occurrences of a specified label to a target count.\"\"\"\n",
    "    examples_with_label = [ex for ex in dataset if label_to_undersample in extract_labels(ex['span_labels'])]\n",
    "    examples_without_label = [ex for ex in dataset if label_to_undersample not in extract_labels(ex['span_labels'])]\n",
    "\n",
    "    if len(examples_with_label) > target_count:\n",
    "        examples_with_label = random.sample(examples_with_label, target_count)\n",
    "\n",
    "    new_dataset = examples_with_label + examples_without_label\n",
    "    random.shuffle(new_dataset)  # Shuffle for a uniform distribution\n",
    "    return new_dataset\n",
    "\n"
   ]
  },
  {
   "cell_type": "markdown",
   "metadata": {
    "id": "eu2rs0q7Tekg"
   },
   "source": [
    "Apply undersampling to balance the `FIRSTNAME_1` label and create the balanced new dataset"
   ]
  },
  {
   "cell_type": "code",
   "execution_count": 16,
   "metadata": {
    "id": "iowh1VbPTcyB",
    "tags": []
   },
   "outputs": [],
   "source": [
    "# Apply undersampling to balance the 'FIRSTNAME_1' label\n",
    "target_count_for_firstname = 6007  # Assuming 'LASTNAME_1' count as target\n",
    "balanced_ds_list = undersample_label(cleaned_dataset['train'], 'FIRSTNAME_1', target_count_for_firstname)\n",
    "\n",
    "\n",
    "# Convert the 'train' dictionary (contains a list of dictionaries) to a Hugging Face dataset\n",
    "balanced_dataset = DatasetDict({\n",
    "    'train': Dataset.from_dict({\n",
    "    'unmasked_text': [ex['unmasked_text'] for ex in balanced_ds_list],\n",
    "    'span_labels': [ex['span_labels'] for ex in balanced_ds_list]\n",
    "    })\n",
    "  })\n"
   ]
  },
  {
   "cell_type": "code",
   "execution_count": 17,
   "metadata": {
    "colab": {
     "base_uri": "https://localhost:8080/"
    },
    "id": "DDNGQ-HVBOhT",
    "outputId": "f974f7aa-8332-4ec7-e4b1-7e32cd359e5b",
    "tags": []
   },
   "outputs": [
    {
     "data": {
      "text/plain": [
       "DatasetDict({\n",
       "    train: Dataset({\n",
       "        features: ['unmasked_text', 'span_labels'],\n",
       "        num_rows: 25173\n",
       "    })\n",
       "})"
      ]
     },
     "execution_count": 17,
     "metadata": {},
     "output_type": "execute_result"
    }
   ],
   "source": [
    "balanced_dataset"
   ]
  },
  {
   "cell_type": "markdown",
   "metadata": {
    "id": "dPijZROj8n6p"
   },
   "source": [
    "Recount and plot the label distribution after balancing"
   ]
  },
  {
   "cell_type": "code",
   "execution_count": 18,
   "metadata": {
    "colab": {
     "base_uri": "https://localhost:8080/",
     "height": 507
    },
    "id": "27hSuwYK84ms",
    "outputId": "e62dbb67-f2bb-4cc8-f2fb-30ce35d0cb75",
    "tags": []
   },
   "outputs": [
    {
     "data": {
      "image/png": "[encoded data removed]",
      "text/plain": [
       "<Figure size 1000x500 with 1 Axes>"
      ]
     },
     "metadata": {},
     "output_type": "display_data"
    }
   ],
   "source": [
    "# Recalculate the new label counts\n",
    "new_label_counts = count_labels(balanced_dataset)\n",
    "\n",
    "# plot the new label distribution\n",
    "plot_distributions(label_counts, new_label_counts)  # Plot the label counts\n"
   ]
  },
  {
   "cell_type": "markdown",
   "metadata": {},
   "source": [
    "**Optional Step**: Check for redundant or duplicated examples in our balanced dataset before finishing with the cleaning step. This code will identify and count duplicate entries based on the `unmasked_text` field."
   ]
  },
  {
   "cell_type": "code",
   "execution_count": 45,
   "metadata": {
    "tags": []
   },
   "outputs": [
    {
     "name": "stdout",
     "output_type": "stream",
     "text": [
      "No duplicated entries were found\n"
     ]
    }
   ],
   "source": [
    "from collections import Counter\n",
    "\n",
    "def check_duplicates(dataset):\n",
    "    # Extract texts to check for duplicates\n",
    "    texts = [example['unmasked_text'] for example in dataset]\n",
    "    \n",
    "    # Count each text's occurrences in the dataset\n",
    "    text_counts = Counter(texts)\n",
    "    \n",
    "    # Identify texts that occur more than once\n",
    "    duplicates = {text: count for text, count in text_counts.items() if count > 1}\n",
    "    \n",
    "    return duplicates\n",
    " \n",
    "# Check duplicates for balanced_dataset\n",
    "duplicates = check_duplicates(balanced_dataset['train'])\n",
    "\n",
    "# Print out duplicates and their counts\n",
    "if len(duplicates) > 0 :\n",
    "    print(\"Duplicated entries and their counts:\")\n",
    "    for text, count in duplicates.items():\n",
    "        print(f\"Text: {text} | Count: {count}\")\n",
    "else:\n",
    "    print(\"No duplicated entries were found\")\n",
    "\n"
   ]
  },
  {
   "cell_type": "markdown",
   "metadata": {},
   "source": [
    "No duplicates were found. Let's jump to the dataset transformation step."
   ]
  },
  {
   "cell_type": "markdown",
   "metadata": {
    "id": "YSih88-sMOKZ"
   },
   "source": [
    "### 2c. Transforming:\n",
    "\n",
    "- **Objective**: Convert the balanced dataset to an OCI Data Labeling dataset (Jsonl Consolidated format).\n",
    "- **Process**: Reformat the data into the required Jsonl Consolidated structure and save it to the OCI Labeling Datasets Bucket for further use."
   ]
  },
  {
   "cell_type": "markdown",
   "metadata": {
    "id": "auHNj-TvEABg"
   },
   "source": [
    "Now that we have balanced our dataset, let's transform it into a suitable format for OCI Data Labeling `Jsonl Consolidated` and save it to our Labeling Datasets Bucket.\n",
    "\n",
    "The code snippet, based on our balanced dataset, creates in our *Labeling Datasets Bucket* the files for our future OCI Data Labeling Dataset to be imported:\n",
    "- Metadata file (JSONL Consolidated format), which includes the new dataset details and annotations for each example.\n",
    "- Record files, which are text files where each one represents one example from the balanced dataset.\n",
    "\n"
   ]
  },
  {
   "cell_type": "markdown",
   "metadata": {},
   "source": [
    "If we want to avoid the record-count limit issue, we need to reduce the size of our balanced dataset. In a real-world situation, if the number of records we need to create exceeds the number of available records, we must request a Service limit increase (SR). Our default record count limit is 10,000."
   ]
  },
  {
   "cell_type": "code",
   "execution_count": 34,
   "metadata": {
    "tags": []
   },
   "outputs": [
    {
     "data": {
      "text/plain": [
       "DatasetDict({\n",
       "    train: Dataset({\n",
       "        features: ['unmasked_text', 'span_labels'],\n",
       "        num_rows: 9500\n",
       "    })\n",
       "})"
      ]
     },
     "execution_count": 34,
     "metadata": {},
     "output_type": "execute_result"
    }
   ],
   "source": [
    "small_balanced_dataset = balanced_dataset[\"train\"].select(range(0,9500))\n",
    "small_balanced_dataset = DatasetDict({\n",
    "    'train': small_balanced_dataset\n",
    "  })\n",
    "small_balanced_dataset"
   ]
  },
  {
   "cell_type": "markdown",
   "metadata": {},
   "source": [
    "Revalidate the label distribution after the downsizing of the balanced dataset"
   ]
  },
  {
   "cell_type": "code",
   "execution_count": 35,
   "metadata": {
    "tags": []
   },
   "outputs": [
    {
     "data": {
      "image/png": "[encoded data removed]",
      "text/plain": [
       "<Figure size 1000x500 with 1 Axes>"
      ]
     },
     "metadata": {},
     "output_type": "display_data"
    }
   ],
   "source": [
    "# Recalculate the new label counts\n",
    "small_ds_label_counts = count_labels(small_balanced_dataset)\n",
    "\n",
    "# plot the new label distribution\n",
    "plot_distributions(new_label_counts, small_ds_label_counts, \"Down-sizing\")  # Plot the label counts\n"
   ]
  },
  {
   "cell_type": "markdown",
   "metadata": {
    "tags": []
   },
   "source": [
    "The downsized dataset is balanced enough for our case study. Let's create the OCI Data Labeling dataset in Jsonl Consolidated format."
   ]
  },
  {
   "cell_type": "code",
   "execution_count": 46,
   "metadata": {
    "id": "C1ci4XbZXIX4",
    "tags": []
   },
   "outputs": [
    {
     "name": "stderr",
     "output_type": "stream",
     "text": [
      "processing dataset records: 100%|██████████| 9500/9500 [04:58<00:00, 31.78it/s]\n"
     ]
    },
    {
     "name": "stdout",
     "output_type": "stream",
     "text": [
      "The Dataset small_balanced_dataset_9500-2 was created successfully in the bucket book_oci_nlp_labeling_bucket\n"
     ]
    }
   ],
   "source": [
    "import oci\n",
    "from datasets import load_dataset\n",
    "import json\n",
    "import io\n",
    "import os\n",
    "import tempfile\n",
    "from tqdm import tqdm\n",
    "\n",
    "# Initialize OCI Object Storage Client with notebook session's resource principal\n",
    "signer = oci.auth.signers.get_resource_principals_signer()\n",
    "object_storage_client = oci.object_storage.ObjectStorageClient(config={}, signer=signer)\n",
    "\n",
    "# Initialize Object Storage bucket infos\n",
    "namespace = object_storage_client.get_namespace().data\n",
    "bucket_name = \"book_oci_nlp_labeling_bucket\"\n",
    "\n",
    "# Base folder in the bucket\n",
    "base_folder = \"small_balanced_dataset_9500-2/\"\n",
    "\n",
    "# Function to strip \"_1\" from labels\n",
    "def strip_label(label):\n",
    "    return label.rsplit(\"_\", 1)[0] if \"_\" in label else label\n",
    "\n",
    "labels_set = set()\n",
    "annotations_list = []\n",
    "\n",
    "#for idx, item in enumerate(small_balanced_dataset[\"train\"]):\n",
    "for idx, item in enumerate(tqdm(small_balanced_dataset[\"train\"], \n",
    "                                desc=\"processing dataset records\", \n",
    "                                total=len(small_balanced_dataset[\"train\"])\n",
    "                               )\n",
    "                          ):\n",
    "    text = item['unmasked_text']\n",
    "    span_labels = eval(item['span_labels'])  # Convert string to list if necessary\n",
    "\n",
    "    # Prepare annotations for this row\n",
    "    entities = []\n",
    "    for start, end, label in span_labels:\n",
    "        if label in relevant_labels:\n",
    "            label = strip_label(label)\n",
    "            labels_set.add(label)  # Add to the set of unique labels\n",
    "            entities.append({\n",
    "                \"entityType\": \"TEXTSELECTION\",\n",
    "                \"labels\": [{\"label_name\": label}],\n",
    "                \"textSpan\": {\"offset\": start, \"length\": end - start}\n",
    "            })\n",
    "\n",
    "    if len(entities) > 0:\n",
    "        file_name = f\"rec-{idx}.txt\"\n",
    "        annotations_list.append({\n",
    "            \"sourceDetails\": {\"path\": file_name},\n",
    "            \"annotations\": [{\"entities\": entities}]\n",
    "        })\n",
    "\n",
    "        # Upload the text to OCI bucket\n",
    "        record_filename = f\"{base_folder}{file_name}\"\n",
    "        record_body = io.BytesIO(text.encode('utf-8'))\n",
    "        \n",
    "        object_storage_client.put_object(namespace,\n",
    "                                         bucket_name,\n",
    "                                         record_filename,\n",
    "                                         record_body,\n",
    "                                         content_type='text/plain')\n",
    "        \n",
    "# Prepare the dataset metadata, i.e., JSONL Metadata\n",
    "dataset_details = {\n",
    "    \"displayName\": \"small_balanced_dataset_9500-2\",\n",
    "    \"description\": \"PII Case Study - Small Balanced Dataset for Labeling using OCI Data Labeling Service\",\n",
    "    \"labelsSet\": [{\"name\": label} for label in labels_set],\n",
    "    \"annotationFormat\": \"ENTITY_EXTRACTION\",\n",
    "    \"datasetFormatDetails\": {\"formatType\": \"TEXT\"}\n",
    "}\n",
    "\n",
    "# Metadata and annotations as JSONL string\n",
    "jsonl_data = json.dumps(dataset_details) + '\\n' + '\\n'.join(json.dumps(annotation) for annotation in annotations_list)\n",
    "\n",
    "# Write the metadata and annotations to a JSONL file\n",
    "# Use tempfile to create a temporary file for JSONL content\n",
    "with tempfile.NamedTemporaryFile(delete=False, mode='w', suffix='.jsonl') as tmpfile:\n",
    "    json.dump(dataset_details, tmpfile)\n",
    "    tmpfile.write('\\n')\n",
    "    for annotation in annotations_list:\n",
    "        json.dump(annotation, tmpfile)\n",
    "        tmpfile.write('\\n')\n",
    "    tmpfile_path = tmpfile.name  # Save the path for uploading\n",
    "\n",
    "# Upload the JSONL file to OCI bucket\n",
    "with open(tmpfile_path, 'rb') as f:\n",
    "    objStoreResp = object_storage_client.put_object(namespace,\n",
    "                                                    bucket_name,\n",
    "                                                    f\"{base_folder}dataset_metadata.jsonl\",\n",
    "                                                    f,\n",
    "                                                    content_type='application/json'  # Set the Content-Type for the object\n",
    "                                                   )\n",
    "\n",
    "print(f'The Dataset {dataset_details[\"displayName\"]} was created successfully in the bucket {bucket_name}')\n",
    "\n",
    "# Optionally delete the temporary file\n",
    "os.remove(tmpfile_path)"
   ]
  }
 ],
 "metadata": {
  "colab": {
   "provenance": []
  },
  "kernelspec": {
   "display_name": "Python [conda env:pytorch21_p39_gpu_v1]",
   "language": "python",
   "name": "conda-env-pytorch21_p39_gpu_v1-py"
  },
  "language_info": {
   "codemirror_mode": {
    "name": "ipython",
    "version": 3
   },
   "file_extension": ".py",
   "mimetype": "text/x-python",
   "name": "python",
   "nbconvert_exporter": "python",
   "pygments_lexer": "ipython3",
   "version": "3.9.16"
  },
  "widgets": {
   "application/vnd.jupyter.widget-state+json": {
    "0306026be6bc45e3bbcb33356a18c4b1": {
     "model_module": "@jupyter-widgets/controls",
     "model_module_version": "1.5.0",
     "model_name": "DescriptionStyleModel",
     "state": {
      "_model_module": "@jupyter-widgets/controls",
      "_model_module_version": "1.5.0",
      "_model_name": "DescriptionStyleModel",
      "_view_count": null,
      "_view_module": "@jupyter-widgets/base",
      "_view_module_version": "1.2.0",
      "_view_name": "StyleView",
      "description_width": ""
     }
    },
    "04206f326dd64b8c839242457f53a517": {
     "model_module": "@jupyter-widgets/base",
     "model_module_version": "1.2.0",
     "model_name": "LayoutModel",
     "state": {
      "_model_module": "@jupyter-widgets/base",
      "_model_module_version": "1.2.0",
      "_model_name": "LayoutModel",
      "_view_count": null,
      "_view_module": "@jupyter-widgets/base",
      "_view_module_version": "1.2.0",
      "_view_name": "LayoutView",
      "align_content": null,
      "align_items": null,
      "align_self": null,
      "border": null,
      "bottom": null,
      "display": null,
      "flex": null,
      "flex_flow": null,
      "grid_area": null,
      "grid_auto_columns": null,
      "grid_auto_flow": null,
      "grid_auto_rows": null,
      "grid_column": null,
      "grid_gap": null,
      "grid_row": null,
      "grid_template_areas": null,
      "grid_template_columns": null,
      "grid_template_rows": null,
      "height": null,
      "justify_content": null,
      "justify_items": null,
      "left": null,
      "margin": null,
      "max_height": null,
      "max_width": null,
      "min_height": null,
      "min_width": null,
      "object_fit": null,
      "object_position": null,
      "order": null,
      "overflow": null,
      "overflow_x": null,
      "overflow_y": null,
      "padding": null,
      "right": null,
      "top": null,
      "visibility": null,
      "width": null
     }
    },
    "079e6c9615294c7bbe09523d19d07df6": {
     "model_module": "@jupyter-widgets/base",
     "model_module_version": "1.2.0",
     "model_name": "LayoutModel",
     "state": {
      "_model_module": "@jupyter-widgets/base",
      "_model_module_version": "1.2.0",
      "_model_name": "LayoutModel",
      "_view_count": null,
      "_view_module": "@jupyter-widgets/base",
      "_view_module_version": "1.2.0",
      "_view_name": "LayoutView",
      "align_content": null,
      "align_items": null,
      "align_self": null,
      "border": null,
      "bottom": null,
      "display": null,
      "flex": null,
      "flex_flow": null,
      "grid_area": null,
      "grid_auto_columns": null,
      "grid_auto_flow": null,
      "grid_auto_rows": null,
      "grid_column": null,
      "grid_gap": null,
      "grid_row": null,
      "grid_template_areas": null,
      "grid_template_columns": null,
      "grid_template_rows": null,
      "height": null,
      "justify_content": null,
      "justify_items": null,
      "left": null,
      "margin": null,
      "max_height": null,
      "max_width": null,
      "min_height": null,
      "min_width": null,
      "object_fit": null,
      "object_position": null,
      "order": null,
      "overflow": null,
      "overflow_x": null,
      "overflow_y": null,
      "padding": null,
      "right": null,
      "top": null,
      "visibility": null,
      "width": null
     }
    },
    "0ac6114976ee4bd7b6997f3612f109e7": {
     "model_module": "@jupyter-widgets/base",
     "model_module_version": "1.2.0",
     "model_name": "LayoutModel",
     "state": {
      "_model_module": "@jupyter-widgets/base",
      "_model_module_version": "1.2.0",
      "_model_name": "LayoutModel",
      "_view_count": null,
      "_view_module": "@jupyter-widgets/base",
      "_view_module_version": "1.2.0",
      "_view_name": "LayoutView",
      "align_content": null,
      "align_items": null,
      "align_self": null,
      "border": null,
      "bottom": null,
      "display": null,
      "flex": null,
      "flex_flow": null,
      "grid_area": null,
      "grid_auto_columns": null,
      "grid_auto_flow": null,
      "grid_auto_rows": null,
      "grid_column": null,
      "grid_gap": null,
      "grid_row": null,
      "grid_template_areas": null,
      "grid_template_columns": null,
      "grid_template_rows": null,
      "height": null,
      "justify_content": null,
      "justify_items": null,
      "left": null,
      "margin": null,
      "max_height": null,
      "max_width": null,
      "min_height": null,
      "min_width": null,
      "object_fit": null,
      "object_position": null,
      "order": null,
      "overflow": null,
      "overflow_x": null,
      "overflow_y": null,
      "padding": null,
      "right": null,
      "top": null,
      "visibility": null,
      "width": null
     }
    },
    "11d765d575d14691a8ace2eb9130ee8a": {
     "model_module": "@jupyter-widgets/base",
     "model_module_version": "1.2.0",
     "model_name": "LayoutModel",
     "state": {
      "_model_module": "@jupyter-widgets/base",
      "_model_module_version": "1.2.0",
      "_model_name": "LayoutModel",
      "_view_count": null,
      "_view_module": "@jupyter-widgets/base",
      "_view_module_version": "1.2.0",
      "_view_name": "LayoutView",
      "align_content": null,
      "align_items": null,
      "align_self": null,
      "border": null,
      "bottom": null,
      "display": null,
      "flex": null,
      "flex_flow": null,
      "grid_area": null,
      "grid_auto_columns": null,
      "grid_auto_flow": null,
      "grid_auto_rows": null,
      "grid_column": null,
      "grid_gap": null,
      "grid_row": null,
      "grid_template_areas": null,
      "grid_template_columns": null,
      "grid_template_rows": null,
      "height": null,
      "justify_content": null,
      "justify_items": null,
      "left": null,
      "margin": null,
      "max_height": null,
      "max_width": null,
      "min_height": null,
      "min_width": null,
      "object_fit": null,
      "object_position": null,
      "order": null,
      "overflow": null,
      "overflow_x": null,
      "overflow_y": null,
      "padding": null,
      "right": null,
      "top": null,
      "visibility": null,
      "width": null
     }
    },
    "155a8cdbe4c540a092371535531b84a9": {
     "model_module": "@jupyter-widgets/base",
     "model_module_version": "1.2.0",
     "model_name": "LayoutModel",
     "state": {
      "_model_module": "@jupyter-widgets/base",
      "_model_module_version": "1.2.0",
      "_model_name": "LayoutModel",
      "_view_count": null,
      "_view_module": "@jupyter-widgets/base",
      "_view_module_version": "1.2.0",
      "_view_name": "LayoutView",
      "align_content": null,
      "align_items": null,
      "align_self": null,
      "border": null,
      "bottom": null,
      "display": null,
      "flex": null,
      "flex_flow": null,
      "grid_area": null,
      "grid_auto_columns": null,
      "grid_auto_flow": null,
      "grid_auto_rows": null,
      "grid_column": null,
      "grid_gap": null,
      "grid_row": null,
      "grid_template_areas": null,
      "grid_template_columns": null,
      "grid_template_rows": null,
      "height": null,
      "justify_content": null,
      "justify_items": null,
      "left": null,
      "margin": null,
      "max_height": null,
      "max_width": null,
      "min_height": null,
      "min_width": null,
      "object_fit": null,
      "object_position": null,
      "order": null,
      "overflow": null,
      "overflow_x": null,
      "overflow_y": null,
      "padding": null,
      "right": null,
      "top": null,
      "visibility": null,
      "width": null
     }
    },
    "1dc6b4a8c9ee47ff804a76d8b0cd7d65": {
     "model_module": "@jupyter-widgets/controls",
     "model_module_version": "1.5.0",
     "model_name": "HTMLModel",
     "state": {
      "_dom_classes": [],
      "_model_module": "@jupyter-widgets/controls",
      "_model_module_version": "1.5.0",
      "_model_name": "HTMLModel",
      "_view_count": null,
      "_view_module": "@jupyter-widgets/controls",
      "_view_module_version": "1.5.0",
      "_view_name": "HTMLView",
      "description": "",
      "description_tooltip": null,
      "layout": "IPY_MODEL_3f333b6159a749bc833efbaefdbb5b20",
      "placeholder": "​",
      "style": "IPY_MODEL_36b08d5727f641c0b9ef2d8da484c3cc",
      "value": "Generating train split: 100%"
     }
    },
    "20520ed6fe9f44be90e043bd49f044cd": {
     "model_module": "@jupyter-widgets/base",
     "model_module_version": "1.2.0",
     "model_name": "LayoutModel",
     "state": {
      "_model_module": "@jupyter-widgets/base",
      "_model_module_version": "1.2.0",
      "_model_name": "LayoutModel",
      "_view_count": null,
      "_view_module": "@jupyter-widgets/base",
      "_view_module_version": "1.2.0",
      "_view_name": "LayoutView",
      "align_content": null,
      "align_items": null,
      "align_self": null,
      "border": null,
      "bottom": null,
      "display": null,
      "flex": null,
      "flex_flow": null,
      "grid_area": null,
      "grid_auto_columns": null,
      "grid_auto_flow": null,
      "grid_auto_rows": null,
      "grid_column": null,
      "grid_gap": null,
      "grid_row": null,
      "grid_template_areas": null,
      "grid_template_columns": null,
      "grid_template_rows": null,
      "height": null,
      "justify_content": null,
      "justify_items": null,
      "left": null,
      "margin": null,
      "max_height": null,
      "max_width": null,
      "min_height": null,
      "min_width": null,
      "object_fit": null,
      "object_position": null,
      "order": null,
      "overflow": null,
      "overflow_x": null,
      "overflow_y": null,
      "padding": null,
      "right": null,
      "top": null,
      "visibility": null,
      "width": null
     }
    },
    "253362d6f78e4ecfa12ca2bd0e414165": {
     "model_module": "@jupyter-widgets/controls",
     "model_module_version": "1.5.0",
     "model_name": "HBoxModel",
     "state": {
      "_dom_classes": [],
      "_model_module": "@jupyter-widgets/controls",
      "_model_module_version": "1.5.0",
      "_model_name": "HBoxModel",
      "_view_count": null,
      "_view_module": "@jupyter-widgets/controls",
      "_view_module_version": "1.5.0",
      "_view_name": "HBoxView",
      "box_style": "",
      "children": [
       "IPY_MODEL_69d4e099118a46cf8a7dc1d2771b9fda",
       "IPY_MODEL_d7755a0497b546f88fed75e7182022e9",
       "IPY_MODEL_58af6d4857004aa68b4a6e7b792d73fe"
      ],
      "layout": "IPY_MODEL_dcf9b41d8649447d8e4d437d979e3553"
     }
    },
    "32ecccaa0598467ba635d8b694083bd8": {
     "model_module": "@jupyter-widgets/controls",
     "model_module_version": "1.5.0",
     "model_name": "HTMLModel",
     "state": {
      "_dom_classes": [],
      "_model_module": "@jupyter-widgets/controls",
      "_model_module_version": "1.5.0",
      "_model_name": "HTMLModel",
      "_view_count": null,
      "_view_module": "@jupyter-widgets/controls",
      "_view_module_version": "1.5.0",
      "_view_name": "HTMLView",
      "description": "",
      "description_tooltip": null,
      "layout": "IPY_MODEL_55cd87e51b9a4aa9849bcb22c1112790",
      "placeholder": "​",
      "style": "IPY_MODEL_d9e54b75561b4403a0ccabc603a03fbd",
      "value": "Downloading readme: 100%"
     }
    },
    "36b08d5727f641c0b9ef2d8da484c3cc": {
     "model_module": "@jupyter-widgets/controls",
     "model_module_version": "1.5.0",
     "model_name": "DescriptionStyleModel",
     "state": {
      "_model_module": "@jupyter-widgets/controls",
      "_model_module_version": "1.5.0",
      "_model_name": "DescriptionStyleModel",
      "_view_count": null,
      "_view_module": "@jupyter-widgets/base",
      "_view_module_version": "1.2.0",
      "_view_name": "StyleView",
      "description_width": ""
     }
    },
    "394a17059141407a9ddea7921f603e51": {
     "model_module": "@jupyter-widgets/base",
     "model_module_version": "1.2.0",
     "model_name": "LayoutModel",
     "state": {
      "_model_module": "@jupyter-widgets/base",
      "_model_module_version": "1.2.0",
      "_model_name": "LayoutModel",
      "_view_count": null,
      "_view_module": "@jupyter-widgets/base",
      "_view_module_version": "1.2.0",
      "_view_name": "LayoutView",
      "align_content": null,
      "align_items": null,
      "align_self": null,
      "border": null,
      "bottom": null,
      "display": null,
      "flex": null,
      "flex_flow": null,
      "grid_area": null,
      "grid_auto_columns": null,
      "grid_auto_flow": null,
      "grid_auto_rows": null,
      "grid_column": null,
      "grid_gap": null,
      "grid_row": null,
      "grid_template_areas": null,
      "grid_template_columns": null,
      "grid_template_rows": null,
      "height": null,
      "justify_content": null,
      "justify_items": null,
      "left": null,
      "margin": null,
      "max_height": null,
      "max_width": null,
      "min_height": null,
      "min_width": null,
      "object_fit": null,
      "object_position": null,
      "order": null,
      "overflow": null,
      "overflow_x": null,
      "overflow_y": null,
      "padding": null,
      "right": null,
      "top": null,
      "visibility": null,
      "width": null
     }
    },
    "3b75e1cc54ff4ac795c47bda798c9fe4": {
     "model_module": "@jupyter-widgets/controls",
     "model_module_version": "1.5.0",
     "model_name": "DescriptionStyleModel",
     "state": {
      "_model_module": "@jupyter-widgets/controls",
      "_model_module_version": "1.5.0",
      "_model_name": "DescriptionStyleModel",
      "_view_count": null,
      "_view_module": "@jupyter-widgets/base",
      "_view_module_version": "1.2.0",
      "_view_name": "StyleView",
      "description_width": ""
     }
    },
    "3d6a21aaef144b59aebf363bd23ffeef": {
     "model_module": "@jupyter-widgets/controls",
     "model_module_version": "1.5.0",
     "model_name": "DescriptionStyleModel",
     "state": {
      "_model_module": "@jupyter-widgets/controls",
      "_model_module_version": "1.5.0",
      "_model_name": "DescriptionStyleModel",
      "_view_count": null,
      "_view_module": "@jupyter-widgets/base",
      "_view_module_version": "1.2.0",
      "_view_name": "StyleView",
      "description_width": ""
     }
    },
    "3f333b6159a749bc833efbaefdbb5b20": {
     "model_module": "@jupyter-widgets/base",
     "model_module_version": "1.2.0",
     "model_name": "LayoutModel",
     "state": {
      "_model_module": "@jupyter-widgets/base",
      "_model_module_version": "1.2.0",
      "_model_name": "LayoutModel",
      "_view_count": null,
      "_view_module": "@jupyter-widgets/base",
      "_view_module_version": "1.2.0",
      "_view_name": "LayoutView",
      "align_content": null,
      "align_items": null,
      "align_self": null,
      "border": null,
      "bottom": null,
      "display": null,
      "flex": null,
      "flex_flow": null,
      "grid_area": null,
      "grid_auto_columns": null,
      "grid_auto_flow": null,
      "grid_auto_rows": null,
      "grid_column": null,
      "grid_gap": null,
      "grid_row": null,
      "grid_template_areas": null,
      "grid_template_columns": null,
      "grid_template_rows": null,
      "height": null,
      "justify_content": null,
      "justify_items": null,
      "left": null,
      "margin": null,
      "max_height": null,
      "max_width": null,
      "min_height": null,
      "min_width": null,
      "object_fit": null,
      "object_position": null,
      "order": null,
      "overflow": null,
      "overflow_x": null,
      "overflow_y": null,
      "padding": null,
      "right": null,
      "top": null,
      "visibility": null,
      "width": null
     }
    },
    "4e91d9db4abb425d87c4208236bb92c2": {
     "model_module": "@jupyter-widgets/base",
     "model_module_version": "1.2.0",
     "model_name": "LayoutModel",
     "state": {
      "_model_module": "@jupyter-widgets/base",
      "_model_module_version": "1.2.0",
      "_model_name": "LayoutModel",
      "_view_count": null,
      "_view_module": "@jupyter-widgets/base",
      "_view_module_version": "1.2.0",
      "_view_name": "LayoutView",
      "align_content": null,
      "align_items": null,
      "align_self": null,
      "border": null,
      "bottom": null,
      "display": null,
      "flex": null,
      "flex_flow": null,
      "grid_area": null,
      "grid_auto_columns": null,
      "grid_auto_flow": null,
      "grid_auto_rows": null,
      "grid_column": null,
      "grid_gap": null,
      "grid_row": null,
      "grid_template_areas": null,
      "grid_template_columns": null,
      "grid_template_rows": null,
      "height": null,
      "justify_content": null,
      "justify_items": null,
      "left": null,
      "margin": null,
      "max_height": null,
      "max_width": null,
      "min_height": null,
      "min_width": null,
      "object_fit": null,
      "object_position": null,
      "order": null,
      "overflow": null,
      "overflow_x": null,
      "overflow_y": null,
      "padding": null,
      "right": null,
      "top": null,
      "visibility": null,
      "width": null
     }
    },
    "55cd87e51b9a4aa9849bcb22c1112790": {
     "model_module": "@jupyter-widgets/base",
     "model_module_version": "1.2.0",
     "model_name": "LayoutModel",
     "state": {
      "_model_module": "@jupyter-widgets/base",
      "_model_module_version": "1.2.0",
      "_model_name": "LayoutModel",
      "_view_count": null,
      "_view_module": "@jupyter-widgets/base",
      "_view_module_version": "1.2.0",
      "_view_name": "LayoutView",
      "align_content": null,
      "align_items": null,
      "align_self": null,
      "border": null,
      "bottom": null,
      "display": null,
      "flex": null,
      "flex_flow": null,
      "grid_area": null,
      "grid_auto_columns": null,
      "grid_auto_flow": null,
      "grid_auto_rows": null,
      "grid_column": null,
      "grid_gap": null,
      "grid_row": null,
      "grid_template_areas": null,
      "grid_template_columns": null,
      "grid_template_rows": null,
      "height": null,
      "justify_content": null,
      "justify_items": null,
      "left": null,
      "margin": null,
      "max_height": null,
      "max_width": null,
      "min_height": null,
      "min_width": null,
      "object_fit": null,
      "object_position": null,
      "order": null,
      "overflow": null,
      "overflow_x": null,
      "overflow_y": null,
      "padding": null,
      "right": null,
      "top": null,
      "visibility": null,
      "width": null
     }
    },
    "5644cac6e6f44722aabc20037f93493d": {
     "model_module": "@jupyter-widgets/base",
     "model_module_version": "1.2.0",
     "model_name": "LayoutModel",
     "state": {
      "_model_module": "@jupyter-widgets/base",
      "_model_module_version": "1.2.0",
      "_model_name": "LayoutModel",
      "_view_count": null,
      "_view_module": "@jupyter-widgets/base",
      "_view_module_version": "1.2.0",
      "_view_name": "LayoutView",
      "align_content": null,
      "align_items": null,
      "align_self": null,
      "border": null,
      "bottom": null,
      "display": null,
      "flex": null,
      "flex_flow": null,
      "grid_area": null,
      "grid_auto_columns": null,
      "grid_auto_flow": null,
      "grid_auto_rows": null,
      "grid_column": null,
      "grid_gap": null,
      "grid_row": null,
      "grid_template_areas": null,
      "grid_template_columns": null,
      "grid_template_rows": null,
      "height": null,
      "justify_content": null,
      "justify_items": null,
      "left": null,
      "margin": null,
      "max_height": null,
      "max_width": null,
      "min_height": null,
      "min_width": null,
      "object_fit": null,
      "object_position": null,
      "order": null,
      "overflow": null,
      "overflow_x": null,
      "overflow_y": null,
      "padding": null,
      "right": null,
      "top": null,
      "visibility": null,
      "width": null
     }
    },
    "58af6d4857004aa68b4a6e7b792d73fe": {
     "model_module": "@jupyter-widgets/controls",
     "model_module_version": "1.5.0",
     "model_name": "HTMLModel",
     "state": {
      "_dom_classes": [],
      "_model_module": "@jupyter-widgets/controls",
      "_model_module_version": "1.5.0",
      "_model_name": "HTMLModel",
      "_view_count": null,
      "_view_module": "@jupyter-widgets/controls",
      "_view_module_version": "1.5.0",
      "_view_name": "HTMLView",
      "description": "",
      "description_tooltip": null,
      "layout": "IPY_MODEL_a300ce9162e842abb607005abec9fbb1",
      "placeholder": "​",
      "style": "IPY_MODEL_bb80bcbe80ab445cada025b8eb689be3",
      "value": " 31.8M/31.8M [00:05&lt;00:00, 5.93MB/s]"
     }
    },
    "5ccf6e6e55e44b6aa186818e2a1933a6": {
     "model_module": "@jupyter-widgets/controls",
     "model_module_version": "1.5.0",
     "model_name": "ProgressStyleModel",
     "state": {
      "_model_module": "@jupyter-widgets/controls",
      "_model_module_version": "1.5.0",
      "_model_name": "ProgressStyleModel",
      "_view_count": null,
      "_view_module": "@jupyter-widgets/base",
      "_view_module_version": "1.2.0",
      "_view_name": "StyleView",
      "bar_color": null,
      "description_width": ""
     }
    },
    "6321f8fe697a483588b4396a8c43806a": {
     "model_module": "@jupyter-widgets/controls",
     "model_module_version": "1.5.0",
     "model_name": "HBoxModel",
     "state": {
      "_dom_classes": [],
      "_model_module": "@jupyter-widgets/controls",
      "_model_module_version": "1.5.0",
      "_model_name": "HBoxModel",
      "_view_count": null,
      "_view_module": "@jupyter-widgets/controls",
      "_view_module_version": "1.5.0",
      "_view_name": "HBoxView",
      "box_style": "",
      "children": [
       "IPY_MODEL_fe9649b26c2e4e6280d1d1f25411258e",
       "IPY_MODEL_fa352ca16b77409683dd31399acf1a81",
       "IPY_MODEL_80924a99a4e146acbe703c839e3d5fd8"
      ],
      "layout": "IPY_MODEL_0ac6114976ee4bd7b6997f3612f109e7"
     }
    },
    "66dffded479546e7808cce77c9b0972b": {
     "model_module": "@jupyter-widgets/base",
     "model_module_version": "1.2.0",
     "model_name": "LayoutModel",
     "state": {
      "_model_module": "@jupyter-widgets/base",
      "_model_module_version": "1.2.0",
      "_model_name": "LayoutModel",
      "_view_count": null,
      "_view_module": "@jupyter-widgets/base",
      "_view_module_version": "1.2.0",
      "_view_name": "LayoutView",
      "align_content": null,
      "align_items": null,
      "align_self": null,
      "border": null,
      "bottom": null,
      "display": null,
      "flex": null,
      "flex_flow": null,
      "grid_area": null,
      "grid_auto_columns": null,
      "grid_auto_flow": null,
      "grid_auto_rows": null,
      "grid_column": null,
      "grid_gap": null,
      "grid_row": null,
      "grid_template_areas": null,
      "grid_template_columns": null,
      "grid_template_rows": null,
      "height": null,
      "justify_content": null,
      "justify_items": null,
      "left": null,
      "margin": null,
      "max_height": null,
      "max_width": null,
      "min_height": null,
      "min_width": null,
      "object_fit": null,
      "object_position": null,
      "order": null,
      "overflow": null,
      "overflow_x": null,
      "overflow_y": null,
      "padding": null,
      "right": null,
      "top": null,
      "visibility": null,
      "width": null
     }
    },
    "69d4e099118a46cf8a7dc1d2771b9fda": {
     "model_module": "@jupyter-widgets/controls",
     "model_module_version": "1.5.0",
     "model_name": "HTMLModel",
     "state": {
      "_dom_classes": [],
      "_model_module": "@jupyter-widgets/controls",
      "_model_module_version": "1.5.0",
      "_model_name": "HTMLModel",
      "_view_count": null,
      "_view_module": "@jupyter-widgets/controls",
      "_view_module_version": "1.5.0",
      "_view_name": "HTMLView",
      "description": "",
      "description_tooltip": null,
      "layout": "IPY_MODEL_155a8cdbe4c540a092371535531b84a9",
      "placeholder": "​",
      "style": "IPY_MODEL_965f2ec13d3d4c55a265ff3158168375",
      "value": "Downloading data: 100%"
     }
    },
    "7c25bdb20041421f8b5f73de07960441": {
     "model_module": "@jupyter-widgets/controls",
     "model_module_version": "1.5.0",
     "model_name": "DescriptionStyleModel",
     "state": {
      "_model_module": "@jupyter-widgets/controls",
      "_model_module_version": "1.5.0",
      "_model_name": "DescriptionStyleModel",
      "_view_count": null,
      "_view_module": "@jupyter-widgets/base",
      "_view_module_version": "1.2.0",
      "_view_name": "StyleView",
      "description_width": ""
     }
    },
    "7cd6a67995df4ce98334dd94f29bcced": {
     "model_module": "@jupyter-widgets/base",
     "model_module_version": "1.2.0",
     "model_name": "LayoutModel",
     "state": {
      "_model_module": "@jupyter-widgets/base",
      "_model_module_version": "1.2.0",
      "_model_name": "LayoutModel",
      "_view_count": null,
      "_view_module": "@jupyter-widgets/base",
      "_view_module_version": "1.2.0",
      "_view_name": "LayoutView",
      "align_content": null,
      "align_items": null,
      "align_self": null,
      "border": null,
      "bottom": null,
      "display": null,
      "flex": null,
      "flex_flow": null,
      "grid_area": null,
      "grid_auto_columns": null,
      "grid_auto_flow": null,
      "grid_auto_rows": null,
      "grid_column": null,
      "grid_gap": null,
      "grid_row": null,
      "grid_template_areas": null,
      "grid_template_columns": null,
      "grid_template_rows": null,
      "height": null,
      "justify_content": null,
      "justify_items": null,
      "left": null,
      "margin": null,
      "max_height": null,
      "max_width": null,
      "min_height": null,
      "min_width": null,
      "object_fit": null,
      "object_position": null,
      "order": null,
      "overflow": null,
      "overflow_x": null,
      "overflow_y": null,
      "padding": null,
      "right": null,
      "top": null,
      "visibility": null,
      "width": null
     }
    },
    "7e9147b004f74e43979b0fe1a8ca3461": {
     "model_module": "@jupyter-widgets/controls",
     "model_module_version": "1.5.0",
     "model_name": "ProgressStyleModel",
     "state": {
      "_model_module": "@jupyter-widgets/controls",
      "_model_module_version": "1.5.0",
      "_model_name": "ProgressStyleModel",
      "_view_count": null,
      "_view_module": "@jupyter-widgets/base",
      "_view_module_version": "1.2.0",
      "_view_name": "StyleView",
      "bar_color": null,
      "description_width": ""
     }
    },
    "7eaef02be08a4345886bad461f76efc2": {
     "model_module": "@jupyter-widgets/controls",
     "model_module_version": "1.5.0",
     "model_name": "HTMLModel",
     "state": {
      "_dom_classes": [],
      "_model_module": "@jupyter-widgets/controls",
      "_model_module_version": "1.5.0",
      "_model_name": "HTMLModel",
      "_view_count": null,
      "_view_module": "@jupyter-widgets/controls",
      "_view_module_version": "1.5.0",
      "_view_name": "HTMLView",
      "description": "",
      "description_tooltip": null,
      "layout": "IPY_MODEL_add8e4cc87ad4707a57c540a4b74e8c4",
      "placeholder": "​",
      "style": "IPY_MODEL_3d6a21aaef144b59aebf363bd23ffeef",
      "value": "Filter: 100%"
     }
    },
    "80924a99a4e146acbe703c839e3d5fd8": {
     "model_module": "@jupyter-widgets/controls",
     "model_module_version": "1.5.0",
     "model_name": "HTMLModel",
     "state": {
      "_dom_classes": [],
      "_model_module": "@jupyter-widgets/controls",
      "_model_module_version": "1.5.0",
      "_model_name": "HTMLModel",
      "_view_count": null,
      "_view_module": "@jupyter-widgets/controls",
      "_view_module_version": "1.5.0",
      "_view_name": "HTMLView",
      "description": "",
      "description_tooltip": null,
      "layout": "IPY_MODEL_4e91d9db4abb425d87c4208236bb92c2",
      "placeholder": "​",
      "style": "IPY_MODEL_3b75e1cc54ff4ac795c47bda798c9fe4",
      "value": " 61918/61918 [00:18&lt;00:00, 3038.94 examples/s]"
     }
    },
    "8f85bd9d16d0419b97eb42738acd7d86": {
     "model_module": "@jupyter-widgets/controls",
     "model_module_version": "1.5.0",
     "model_name": "HBoxModel",
     "state": {
      "_dom_classes": [],
      "_model_module": "@jupyter-widgets/controls",
      "_model_module_version": "1.5.0",
      "_model_name": "HBoxModel",
      "_view_count": null,
      "_view_module": "@jupyter-widgets/controls",
      "_view_module_version": "1.5.0",
      "_view_name": "HBoxView",
      "box_style": "",
      "children": [
       "IPY_MODEL_1dc6b4a8c9ee47ff804a76d8b0cd7d65",
       "IPY_MODEL_df25e3ade1e74ea89f8f7dffa7eb050e",
       "IPY_MODEL_9514f3438a264b0c97dbe6d91a26e30e"
      ],
      "layout": "IPY_MODEL_de602973e12343b5942542ffb059f924"
     }
    },
    "8ff09403443f4a82869f9ca4cd7dc1d5": {
     "model_module": "@jupyter-widgets/controls",
     "model_module_version": "1.5.0",
     "model_name": "ProgressStyleModel",
     "state": {
      "_model_module": "@jupyter-widgets/controls",
      "_model_module_version": "1.5.0",
      "_model_name": "ProgressStyleModel",
      "_view_count": null,
      "_view_module": "@jupyter-widgets/base",
      "_view_module_version": "1.2.0",
      "_view_name": "StyleView",
      "bar_color": null,
      "description_width": ""
     }
    },
    "9514f3438a264b0c97dbe6d91a26e30e": {
     "model_module": "@jupyter-widgets/controls",
     "model_module_version": "1.5.0",
     "model_name": "HTMLModel",
     "state": {
      "_dom_classes": [],
      "_model_module": "@jupyter-widgets/controls",
      "_model_module_version": "1.5.0",
      "_model_name": "HTMLModel",
      "_view_count": null,
      "_view_module": "@jupyter-widgets/controls",
      "_view_module_version": "1.5.0",
      "_view_name": "HTMLView",
      "description": "",
      "description_tooltip": null,
      "layout": "IPY_MODEL_079e6c9615294c7bbe09523d19d07df6",
      "placeholder": "​",
      "style": "IPY_MODEL_0306026be6bc45e3bbcb33356a18c4b1",
      "value": " 61918/61918 [00:01&lt;00:00, 49402.73 examples/s]"
     }
    },
    "965f2ec13d3d4c55a265ff3158168375": {
     "model_module": "@jupyter-widgets/controls",
     "model_module_version": "1.5.0",
     "model_name": "DescriptionStyleModel",
     "state": {
      "_model_module": "@jupyter-widgets/controls",
      "_model_module_version": "1.5.0",
      "_model_name": "DescriptionStyleModel",
      "_view_count": null,
      "_view_module": "@jupyter-widgets/base",
      "_view_module_version": "1.2.0",
      "_view_name": "StyleView",
      "description_width": ""
     }
    },
    "96d3df9a7fe0445a82d07a254af7f748": {
     "model_module": "@jupyter-widgets/controls",
     "model_module_version": "1.5.0",
     "model_name": "DescriptionStyleModel",
     "state": {
      "_model_module": "@jupyter-widgets/controls",
      "_model_module_version": "1.5.0",
      "_model_name": "DescriptionStyleModel",
      "_view_count": null,
      "_view_module": "@jupyter-widgets/base",
      "_view_module_version": "1.2.0",
      "_view_name": "StyleView",
      "description_width": ""
     }
    },
    "9848e6f67a41446cbab2819c679f4c9e": {
     "model_module": "@jupyter-widgets/controls",
     "model_module_version": "1.5.0",
     "model_name": "FloatProgressModel",
     "state": {
      "_dom_classes": [],
      "_model_module": "@jupyter-widgets/controls",
      "_model_module_version": "1.5.0",
      "_model_name": "FloatProgressModel",
      "_view_count": null,
      "_view_module": "@jupyter-widgets/controls",
      "_view_module_version": "1.5.0",
      "_view_name": "ProgressView",
      "bar_style": "success",
      "description": "",
      "description_tooltip": null,
      "layout": "IPY_MODEL_c55bf9a146a241bba61381f952716c0c",
      "max": 1561,
      "min": 0,
      "orientation": "horizontal",
      "style": "IPY_MODEL_5ccf6e6e55e44b6aa186818e2a1933a6",
      "value": 1561
     }
    },
    "9d6ce5c8ef84450280453133924cf091": {
     "model_module": "@jupyter-widgets/controls",
     "model_module_version": "1.5.0",
     "model_name": "HTMLModel",
     "state": {
      "_dom_classes": [],
      "_model_module": "@jupyter-widgets/controls",
      "_model_module_version": "1.5.0",
      "_model_name": "HTMLModel",
      "_view_count": null,
      "_view_module": "@jupyter-widgets/controls",
      "_view_module_version": "1.5.0",
      "_view_name": "HTMLView",
      "description": "",
      "description_tooltip": null,
      "layout": "IPY_MODEL_9df3b3067c6a43b5b83cf498b3d0e39e",
      "placeholder": "​",
      "style": "IPY_MODEL_e28e8c1cd604460ea5cf0778b1d482ad",
      "value": " 61918/61918 [00:01&lt;00:00, 53040.09 examples/s]"
     }
    },
    "9df3b3067c6a43b5b83cf498b3d0e39e": {
     "model_module": "@jupyter-widgets/base",
     "model_module_version": "1.2.0",
     "model_name": "LayoutModel",
     "state": {
      "_model_module": "@jupyter-widgets/base",
      "_model_module_version": "1.2.0",
      "_model_name": "LayoutModel",
      "_view_count": null,
      "_view_module": "@jupyter-widgets/base",
      "_view_module_version": "1.2.0",
      "_view_name": "LayoutView",
      "align_content": null,
      "align_items": null,
      "align_self": null,
      "border": null,
      "bottom": null,
      "display": null,
      "flex": null,
      "flex_flow": null,
      "grid_area": null,
      "grid_auto_columns": null,
      "grid_auto_flow": null,
      "grid_auto_rows": null,
      "grid_column": null,
      "grid_gap": null,
      "grid_row": null,
      "grid_template_areas": null,
      "grid_template_columns": null,
      "grid_template_rows": null,
      "height": null,
      "justify_content": null,
      "justify_items": null,
      "left": null,
      "margin": null,
      "max_height": null,
      "max_width": null,
      "min_height": null,
      "min_width": null,
      "object_fit": null,
      "object_position": null,
      "order": null,
      "overflow": null,
      "overflow_x": null,
      "overflow_y": null,
      "padding": null,
      "right": null,
      "top": null,
      "visibility": null,
      "width": null
     }
    },
    "a300ce9162e842abb607005abec9fbb1": {
     "model_module": "@jupyter-widgets/base",
     "model_module_version": "1.2.0",
     "model_name": "LayoutModel",
     "state": {
      "_model_module": "@jupyter-widgets/base",
      "_model_module_version": "1.2.0",
      "_model_name": "LayoutModel",
      "_view_count": null,
      "_view_module": "@jupyter-widgets/base",
      "_view_module_version": "1.2.0",
      "_view_name": "LayoutView",
      "align_content": null,
      "align_items": null,
      "align_self": null,
      "border": null,
      "bottom": null,
      "display": null,
      "flex": null,
      "flex_flow": null,
      "grid_area": null,
      "grid_auto_columns": null,
      "grid_auto_flow": null,
      "grid_auto_rows": null,
      "grid_column": null,
      "grid_gap": null,
      "grid_row": null,
      "grid_template_areas": null,
      "grid_template_columns": null,
      "grid_template_rows": null,
      "height": null,
      "justify_content": null,
      "justify_items": null,
      "left": null,
      "margin": null,
      "max_height": null,
      "max_width": null,
      "min_height": null,
      "min_width": null,
      "object_fit": null,
      "object_position": null,
      "order": null,
      "overflow": null,
      "overflow_x": null,
      "overflow_y": null,
      "padding": null,
      "right": null,
      "top": null,
      "visibility": null,
      "width": null
     }
    },
    "add8e4cc87ad4707a57c540a4b74e8c4": {
     "model_module": "@jupyter-widgets/base",
     "model_module_version": "1.2.0",
     "model_name": "LayoutModel",
     "state": {
      "_model_module": "@jupyter-widgets/base",
      "_model_module_version": "1.2.0",
      "_model_name": "LayoutModel",
      "_view_count": null,
      "_view_module": "@jupyter-widgets/base",
      "_view_module_version": "1.2.0",
      "_view_name": "LayoutView",
      "align_content": null,
      "align_items": null,
      "align_self": null,
      "border": null,
      "bottom": null,
      "display": null,
      "flex": null,
      "flex_flow": null,
      "grid_area": null,
      "grid_auto_columns": null,
      "grid_auto_flow": null,
      "grid_auto_rows": null,
      "grid_column": null,
      "grid_gap": null,
      "grid_row": null,
      "grid_template_areas": null,
      "grid_template_columns": null,
      "grid_template_rows": null,
      "height": null,
      "justify_content": null,
      "justify_items": null,
      "left": null,
      "margin": null,
      "max_height": null,
      "max_width": null,
      "min_height": null,
      "min_width": null,
      "object_fit": null,
      "object_position": null,
      "order": null,
      "overflow": null,
      "overflow_x": null,
      "overflow_y": null,
      "padding": null,
      "right": null,
      "top": null,
      "visibility": null,
      "width": null
     }
    },
    "bb80bcbe80ab445cada025b8eb689be3": {
     "model_module": "@jupyter-widgets/controls",
     "model_module_version": "1.5.0",
     "model_name": "DescriptionStyleModel",
     "state": {
      "_model_module": "@jupyter-widgets/controls",
      "_model_module_version": "1.5.0",
      "_model_name": "DescriptionStyleModel",
      "_view_count": null,
      "_view_module": "@jupyter-widgets/base",
      "_view_module_version": "1.2.0",
      "_view_name": "StyleView",
      "description_width": ""
     }
    },
    "bddbbbbb1aa24fd9b848086e14670e1d": {
     "model_module": "@jupyter-widgets/controls",
     "model_module_version": "1.5.0",
     "model_name": "HTMLModel",
     "state": {
      "_dom_classes": [],
      "_model_module": "@jupyter-widgets/controls",
      "_model_module_version": "1.5.0",
      "_model_name": "HTMLModel",
      "_view_count": null,
      "_view_module": "@jupyter-widgets/controls",
      "_view_module_version": "1.5.0",
      "_view_name": "HTMLView",
      "description": "",
      "description_tooltip": null,
      "layout": "IPY_MODEL_66dffded479546e7808cce77c9b0972b",
      "placeholder": "​",
      "style": "IPY_MODEL_96d3df9a7fe0445a82d07a254af7f748",
      "value": " 1.56k/1.56k [00:00&lt;00:00, 36.9kB/s]"
     }
    },
    "c55bf9a146a241bba61381f952716c0c": {
     "model_module": "@jupyter-widgets/base",
     "model_module_version": "1.2.0",
     "model_name": "LayoutModel",
     "state": {
      "_model_module": "@jupyter-widgets/base",
      "_model_module_version": "1.2.0",
      "_model_name": "LayoutModel",
      "_view_count": null,
      "_view_module": "@jupyter-widgets/base",
      "_view_module_version": "1.2.0",
      "_view_name": "LayoutView",
      "align_content": null,
      "align_items": null,
      "align_self": null,
      "border": null,
      "bottom": null,
      "display": null,
      "flex": null,
      "flex_flow": null,
      "grid_area": null,
      "grid_auto_columns": null,
      "grid_auto_flow": null,
      "grid_auto_rows": null,
      "grid_column": null,
      "grid_gap": null,
      "grid_row": null,
      "grid_template_areas": null,
      "grid_template_columns": null,
      "grid_template_rows": null,
      "height": null,
      "justify_content": null,
      "justify_items": null,
      "left": null,
      "margin": null,
      "max_height": null,
      "max_width": null,
      "min_height": null,
      "min_width": null,
      "object_fit": null,
      "object_position": null,
      "order": null,
      "overflow": null,
      "overflow_x": null,
      "overflow_y": null,
      "padding": null,
      "right": null,
      "top": null,
      "visibility": null,
      "width": null
     }
    },
    "c9892f08dedd48fbae64771fd4df30aa": {
     "model_module": "@jupyter-widgets/controls",
     "model_module_version": "1.5.0",
     "model_name": "ProgressStyleModel",
     "state": {
      "_model_module": "@jupyter-widgets/controls",
      "_model_module_version": "1.5.0",
      "_model_name": "ProgressStyleModel",
      "_view_count": null,
      "_view_module": "@jupyter-widgets/base",
      "_view_module_version": "1.2.0",
      "_view_name": "StyleView",
      "bar_color": null,
      "description_width": ""
     }
    },
    "cd57f1d355b347f9b0fe77e5cf41d71a": {
     "model_module": "@jupyter-widgets/controls",
     "model_module_version": "1.5.0",
     "model_name": "HBoxModel",
     "state": {
      "_dom_classes": [],
      "_model_module": "@jupyter-widgets/controls",
      "_model_module_version": "1.5.0",
      "_model_name": "HBoxModel",
      "_view_count": null,
      "_view_module": "@jupyter-widgets/controls",
      "_view_module_version": "1.5.0",
      "_view_name": "HBoxView",
      "box_style": "",
      "children": [
       "IPY_MODEL_7eaef02be08a4345886bad461f76efc2",
       "IPY_MODEL_e830a2d86a334ea584f38a32cfda2512",
       "IPY_MODEL_9d6ce5c8ef84450280453133924cf091"
      ],
      "layout": "IPY_MODEL_fa09f0bc791f4ff688608f182afcfb52"
     }
    },
    "d7755a0497b546f88fed75e7182022e9": {
     "model_module": "@jupyter-widgets/controls",
     "model_module_version": "1.5.0",
     "model_name": "FloatProgressModel",
     "state": {
      "_dom_classes": [],
      "_model_module": "@jupyter-widgets/controls",
      "_model_module_version": "1.5.0",
      "_model_name": "FloatProgressModel",
      "_view_count": null,
      "_view_module": "@jupyter-widgets/controls",
      "_view_module_version": "1.5.0",
      "_view_name": "ProgressView",
      "bar_style": "success",
      "description": "",
      "description_tooltip": null,
      "layout": "IPY_MODEL_04206f326dd64b8c839242457f53a517",
      "max": 31820221,
      "min": 0,
      "orientation": "horizontal",
      "style": "IPY_MODEL_8ff09403443f4a82869f9ca4cd7dc1d5",
      "value": 31820221
     }
    },
    "d9e54b75561b4403a0ccabc603a03fbd": {
     "model_module": "@jupyter-widgets/controls",
     "model_module_version": "1.5.0",
     "model_name": "DescriptionStyleModel",
     "state": {
      "_model_module": "@jupyter-widgets/controls",
      "_model_module_version": "1.5.0",
      "_model_name": "DescriptionStyleModel",
      "_view_count": null,
      "_view_module": "@jupyter-widgets/base",
      "_view_module_version": "1.2.0",
      "_view_name": "StyleView",
      "description_width": ""
     }
    },
    "db9abe8a5f4047ed9d82d77c428d48f2": {
     "model_module": "@jupyter-widgets/controls",
     "model_module_version": "1.5.0",
     "model_name": "HBoxModel",
     "state": {
      "_dom_classes": [],
      "_model_module": "@jupyter-widgets/controls",
      "_model_module_version": "1.5.0",
      "_model_name": "HBoxModel",
      "_view_count": null,
      "_view_module": "@jupyter-widgets/controls",
      "_view_module_version": "1.5.0",
      "_view_name": "HBoxView",
      "box_style": "",
      "children": [
       "IPY_MODEL_32ecccaa0598467ba635d8b694083bd8",
       "IPY_MODEL_9848e6f67a41446cbab2819c679f4c9e",
       "IPY_MODEL_bddbbbbb1aa24fd9b848086e14670e1d"
      ],
      "layout": "IPY_MODEL_11d765d575d14691a8ace2eb9130ee8a"
     }
    },
    "dcf9b41d8649447d8e4d437d979e3553": {
     "model_module": "@jupyter-widgets/base",
     "model_module_version": "1.2.0",
     "model_name": "LayoutModel",
     "state": {
      "_model_module": "@jupyter-widgets/base",
      "_model_module_version": "1.2.0",
      "_model_name": "LayoutModel",
      "_view_count": null,
      "_view_module": "@jupyter-widgets/base",
      "_view_module_version": "1.2.0",
      "_view_name": "LayoutView",
      "align_content": null,
      "align_items": null,
      "align_self": null,
      "border": null,
      "bottom": null,
      "display": null,
      "flex": null,
      "flex_flow": null,
      "grid_area": null,
      "grid_auto_columns": null,
      "grid_auto_flow": null,
      "grid_auto_rows": null,
      "grid_column": null,
      "grid_gap": null,
      "grid_row": null,
      "grid_template_areas": null,
      "grid_template_columns": null,
      "grid_template_rows": null,
      "height": null,
      "justify_content": null,
      "justify_items": null,
      "left": null,
      "margin": null,
      "max_height": null,
      "max_width": null,
      "min_height": null,
      "min_width": null,
      "object_fit": null,
      "object_position": null,
      "order": null,
      "overflow": null,
      "overflow_x": null,
      "overflow_y": null,
      "padding": null,
      "right": null,
      "top": null,
      "visibility": null,
      "width": null
     }
    },
    "de602973e12343b5942542ffb059f924": {
     "model_module": "@jupyter-widgets/base",
     "model_module_version": "1.2.0",
     "model_name": "LayoutModel",
     "state": {
      "_model_module": "@jupyter-widgets/base",
      "_model_module_version": "1.2.0",
      "_model_name": "LayoutModel",
      "_view_count": null,
      "_view_module": "@jupyter-widgets/base",
      "_view_module_version": "1.2.0",
      "_view_name": "LayoutView",
      "align_content": null,
      "align_items": null,
      "align_self": null,
      "border": null,
      "bottom": null,
      "display": null,
      "flex": null,
      "flex_flow": null,
      "grid_area": null,
      "grid_auto_columns": null,
      "grid_auto_flow": null,
      "grid_auto_rows": null,
      "grid_column": null,
      "grid_gap": null,
      "grid_row": null,
      "grid_template_areas": null,
      "grid_template_columns": null,
      "grid_template_rows": null,
      "height": null,
      "justify_content": null,
      "justify_items": null,
      "left": null,
      "margin": null,
      "max_height": null,
      "max_width": null,
      "min_height": null,
      "min_width": null,
      "object_fit": null,
      "object_position": null,
      "order": null,
      "overflow": null,
      "overflow_x": null,
      "overflow_y": null,
      "padding": null,
      "right": null,
      "top": null,
      "visibility": null,
      "width": null
     }
    },
    "df25e3ade1e74ea89f8f7dffa7eb050e": {
     "model_module": "@jupyter-widgets/controls",
     "model_module_version": "1.5.0",
     "model_name": "FloatProgressModel",
     "state": {
      "_dom_classes": [],
      "_model_module": "@jupyter-widgets/controls",
      "_model_module_version": "1.5.0",
      "_model_name": "FloatProgressModel",
      "_view_count": null,
      "_view_module": "@jupyter-widgets/controls",
      "_view_module_version": "1.5.0",
      "_view_name": "ProgressView",
      "bar_style": "success",
      "description": "",
      "description_tooltip": null,
      "layout": "IPY_MODEL_394a17059141407a9ddea7921f603e51",
      "max": 61918,
      "min": 0,
      "orientation": "horizontal",
      "style": "IPY_MODEL_fcbae3fcd5014a06ae48cd65c65c5bee",
      "value": 61918
     }
    },
    "e28e8c1cd604460ea5cf0778b1d482ad": {
     "model_module": "@jupyter-widgets/controls",
     "model_module_version": "1.5.0",
     "model_name": "DescriptionStyleModel",
     "state": {
      "_model_module": "@jupyter-widgets/controls",
      "_model_module_version": "1.5.0",
      "_model_name": "DescriptionStyleModel",
      "_view_count": null,
      "_view_module": "@jupyter-widgets/base",
      "_view_module_version": "1.2.0",
      "_view_name": "StyleView",
      "description_width": ""
     }
    },
    "e830a2d86a334ea584f38a32cfda2512": {
     "model_module": "@jupyter-widgets/controls",
     "model_module_version": "1.5.0",
     "model_name": "FloatProgressModel",
     "state": {
      "_dom_classes": [],
      "_model_module": "@jupyter-widgets/controls",
      "_model_module_version": "1.5.0",
      "_model_name": "FloatProgressModel",
      "_view_count": null,
      "_view_module": "@jupyter-widgets/controls",
      "_view_module_version": "1.5.0",
      "_view_name": "ProgressView",
      "bar_style": "success",
      "description": "",
      "description_tooltip": null,
      "layout": "IPY_MODEL_7cd6a67995df4ce98334dd94f29bcced",
      "max": 61918,
      "min": 0,
      "orientation": "horizontal",
      "style": "IPY_MODEL_7e9147b004f74e43979b0fe1a8ca3461",
      "value": 61918
     }
    },
    "fa09f0bc791f4ff688608f182afcfb52": {
     "model_module": "@jupyter-widgets/base",
     "model_module_version": "1.2.0",
     "model_name": "LayoutModel",
     "state": {
      "_model_module": "@jupyter-widgets/base",
      "_model_module_version": "1.2.0",
      "_model_name": "LayoutModel",
      "_view_count": null,
      "_view_module": "@jupyter-widgets/base",
      "_view_module_version": "1.2.0",
      "_view_name": "LayoutView",
      "align_content": null,
      "align_items": null,
      "align_self": null,
      "border": null,
      "bottom": null,
      "display": null,
      "flex": null,
      "flex_flow": null,
      "grid_area": null,
      "grid_auto_columns": null,
      "grid_auto_flow": null,
      "grid_auto_rows": null,
      "grid_column": null,
      "grid_gap": null,
      "grid_row": null,
      "grid_template_areas": null,
      "grid_template_columns": null,
      "grid_template_rows": null,
      "height": null,
      "justify_content": null,
      "justify_items": null,
      "left": null,
      "margin": null,
      "max_height": null,
      "max_width": null,
      "min_height": null,
      "min_width": null,
      "object_fit": null,
      "object_position": null,
      "order": null,
      "overflow": null,
      "overflow_x": null,
      "overflow_y": null,
      "padding": null,
      "right": null,
      "top": null,
      "visibility": null,
      "width": null
     }
    },
    "fa352ca16b77409683dd31399acf1a81": {
     "model_module": "@jupyter-widgets/controls",
     "model_module_version": "1.5.0",
     "model_name": "FloatProgressModel",
     "state": {
      "_dom_classes": [],
      "_model_module": "@jupyter-widgets/controls",
      "_model_module_version": "1.5.0",
      "_model_name": "FloatProgressModel",
      "_view_count": null,
      "_view_module": "@jupyter-widgets/controls",
      "_view_module_version": "1.5.0",
      "_view_name": "ProgressView",
      "bar_style": "success",
      "description": "",
      "description_tooltip": null,
      "layout": "IPY_MODEL_5644cac6e6f44722aabc20037f93493d",
      "max": 61918,
      "min": 0,
      "orientation": "horizontal",
      "style": "IPY_MODEL_c9892f08dedd48fbae64771fd4df30aa",
      "value": 61918
     }
    },
    "fcbae3fcd5014a06ae48cd65c65c5bee": {
     "model_module": "@jupyter-widgets/controls",
     "model_module_version": "1.5.0",
     "model_name": "ProgressStyleModel",
     "state": {
      "_model_module": "@jupyter-widgets/controls",
      "_model_module_version": "1.5.0",
      "_model_name": "ProgressStyleModel",
      "_view_count": null,
      "_view_module": "@jupyter-widgets/base",
      "_view_module_version": "1.2.0",
      "_view_name": "StyleView",
      "bar_color": null,
      "description_width": ""
     }
    },
    "fe9649b26c2e4e6280d1d1f25411258e": {
     "model_module": "@jupyter-widgets/controls",
     "model_module_version": "1.5.0",
     "model_name": "HTMLModel",
     "state": {
      "_dom_classes": [],
      "_model_module": "@jupyter-widgets/controls",
      "_model_module_version": "1.5.0",
      "_model_name": "HTMLModel",
      "_view_count": null,
      "_view_module": "@jupyter-widgets/controls",
      "_view_module_version": "1.5.0",
      "_view_name": "HTMLView",
      "description": "",
      "description_tooltip": null,
      "layout": "IPY_MODEL_20520ed6fe9f44be90e043bd49f044cd",
      "placeholder": "​",
      "style": "IPY_MODEL_7c25bdb20041421f8b5f73de07960441",
      "value": "Map: 100%"
     }
    }
   }
  }
 },
 "nbformat": 4,
 "nbformat_minor": 4
}
