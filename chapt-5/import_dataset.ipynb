{
 "cells": [
  {
   "cell_type": "markdown",
   "metadata": {},
   "source": [
    "***\n",
    "# <font color=red>Chapter 5: MedTALN inc.'s Case Study - Dataset Import to DLS</font>\n",
    "<p style=\"margin-left:10%; margin-right:10%;\">by <font color=teal> John Doe (typica.ai) </font></p>\n",
    "\n",
    "***\n",
    "\n",
    "\n",
    "## Overview:\n",
    "This notebook imports the dataset into OCI Data Labeling Service. It involves several key steps including:\n",
    "- Setup and Initialization\n",
    "- Dataset Creation\n",
    "- Record and Annotation Creation\n",
    "- Dataset Creation Verification"
   ]
  },
  {
   "cell_type": "markdown",
   "metadata": {},
   "source": [
    "initialize the necessary OCI clients for interacting with Object Storage and Data Labeling services. These clients are authenticated using the resource principal of the notebook session.\n",
    "\n",
    "Need to add policy to following policy to data science policies:\n",
    "**allow dynamic-group data-science-dyn-grp to manage data-labeling-family in compartment case-study-cmpt**"
   ]
  },
  {
   "cell_type": "code",
   "execution_count": 1,
   "metadata": {
    "colab": {
     "base_uri": "https://localhost:8080/"
    },
    "id": "PpXimI74FyQY",
    "outputId": "67b65d5e-9963-4ffe-93be-6ab78c2441bb",
    "tags": []
   },
   "outputs": [],
   "source": [
    "import oci\n",
    "\n",
    "from oci.data_labeling_service_dataplane.data_labeling_client import DataLabelingClient\n",
    "from oci.data_labeling_service.data_labeling_management_client import DataLabelingManagementClient\n",
    "\n",
    "# Initialize OCI Object Storage Client with notebook session's resource principal\n",
    "signer = oci.auth.signers.get_resource_principals_signer()\n",
    "object_storage_client = oci.object_storage.ObjectStorageClient(config={}, signer=signer)\n",
    "\n",
    "dls_client = DataLabelingManagementClient(config={}, signer=signer)\n",
    "dls_dp_client = DataLabelingClient(config={}, signer=signer)"
   ]
  },
  {
   "cell_type": "markdown",
   "metadata": {
    "id": "9VofeWO2oJL3"
   },
   "source": [
    "## Setup and Initialization"
   ]
  },
  {
   "cell_type": "markdown",
   "metadata": {},
   "source": [
    "### Function to Create a Dataset in OCI Data Labeling Service\n",
    "This function automates the creation of a dataset in OCI's Data Labeling Service. It takes in various parameters, including compartment details, object storage information (where the data is stored), and labels, and combines them to define and create a dataset."
   ]
  },
  {
   "cell_type": "code",
   "execution_count": 2,
   "metadata": {
    "id": "Eg1OimAtE72H",
    "tags": []
   },
   "outputs": [],
   "source": [
    "from oci.data_labeling_service.models import ObjectStorageSourceDetails\n",
    "from oci.data_labeling_service.models import DatasetFormatDetails\n",
    "from oci.data_labeling_service.models import LabelSet\n",
    "from oci.data_labeling_service.models import Label\n",
    "from oci.data_labeling_service.models import CreateDatasetDetails\n",
    "from oci.data_labeling_service.data_labeling_management_client import DataLabelingManagementClient\n",
    "\n",
    "def create_dataset(compartment_id,\n",
    "                   namespace,\n",
    "                   bucket,\n",
    "                   prefix,\n",
    "                   ds_display_name,\n",
    "                   ds_description,\n",
    "                   ds_format_type,\n",
    "                   ds_annotation_format,\n",
    "                   ds_labels):\n",
    "\n",
    "    # Create the Dataset Source Details object\n",
    "    dataset_source_details_obj = ObjectStorageSourceDetails(namespace=namespace, bucket=bucket, prefix=prefix)\n",
    "\n",
    "    # Create the Dataset Format Details object\n",
    "    dataset_format_details_obj = DatasetFormatDetails(format_type=ds_format_type)\n",
    "\n",
    "\n",
    "    # Create the LabelSet object from the list of labels\n",
    "    label_set_obj = LabelSet(\n",
    "        items=[oci.data_labeling_service.models.Label(name=label) for label in ds_labels]\n",
    "    )\n",
    "\n",
    "    # Create the Dataset Details object\n",
    "    create_dataset_obj = CreateDatasetDetails(display_name=ds_display_name,\n",
    "                                            description=ds_description,\n",
    "                                            compartment_id=compartment_id, annotation_format=ds_annotation_format,\n",
    "                                            dataset_source_details=dataset_source_details_obj,\n",
    "                                            dataset_format_details=dataset_format_details_obj,\n",
    "                                            label_set=label_set_obj)\n",
    "\n",
    "    # Create the dataset and handle exceptions\n",
    "    try:\n",
    "      response = dls_client.create_dataset(create_dataset_details=create_dataset_obj)\n",
    "      #print(response)\n",
    "    except Exception as error:\n",
    "      response = error\n",
    "\n",
    "    return response"
   ]
  },
  {
   "cell_type": "markdown",
   "metadata": {},
   "source": [
    "### Function to Create a Record in OCI Data Labeling Service\n",
    "\n",
    "This function facilitates the creation of a record within a dataset in OCI's Data Labeling Service. It constructs the necessary details from the provided parameters and interacts with the Data Labeling Service to register the record."
   ]
  },
  {
   "cell_type": "code",
   "execution_count": 4,
   "metadata": {
    "id": "UTODASQCGArG",
    "tags": []
   },
   "outputs": [],
   "source": [
    "from oci.data_labeling_service_dataplane.models import CreateObjectStorageSourceDetails\n",
    "from oci.data_labeling_service_dataplane.models import CreateRecordDetails\n",
    "\n",
    "\n",
    "def create_ds_rec(compartment_id, dataset_id, prefix, rec_name):\n",
    "\n",
    "  relative_path = rec_name\n",
    "  name = rec_name\n",
    "\n",
    "  source_details_obj = CreateObjectStorageSourceDetails(relative_path=relative_path)\n",
    "\n",
    "  create_record_obj = CreateRecordDetails(name=name,\n",
    "                                          dataset_id=dataset_id,\n",
    "                                          compartment_id=compartment_id,\n",
    "                                          source_details=source_details_obj)\n",
    "  try:\n",
    "      response = dls_dp_client.create_record(create_record_details=create_record_obj)\n",
    "      #print(response.data)\n",
    "      response = response\n",
    "\n",
    "  except Exception as error:\n",
    "      response = error\n",
    "\n",
    "  return response"
   ]
  },
  {
   "cell_type": "markdown",
   "metadata": {
    "id": "So-N1GUMcpP7"
   },
   "source": [
    "### Function to Add Annotations to a Record in OCI Data Labeling Service\n",
    "\n",
    "This function adds text selection annotations to an existing record in OCI's Data Labeling Service. It processes a list of annotations, creating entities that specify the label, text offset, and length for each annotated segment."
   ]
  },
  {
   "cell_type": "code",
   "execution_count": 5,
   "metadata": {
    "id": "QLwODQGDcr06",
    "tags": []
   },
   "outputs": [],
   "source": [
    "from oci.data_labeling_service_dataplane.models import Label\n",
    "from oci.data_labeling_service_dataplane.models import TextSelectionEntity\n",
    "from oci.data_labeling_service_dataplane.models import CreateAnnotationDetails\n",
    "\n",
    "def add_rec_annotation(record_id, annotations_list):\n",
    "\n",
    "    entity_type = \"TEXTSELECTION\"\n",
    "\n",
    "    # Initialize an empty list to store the entities\n",
    "    entities_obj = []\n",
    "\n",
    "    for ent_obj in annotations_list:\n",
    "\n",
    "        # Extract label, offset, and length\n",
    "        label = ent_obj[\"labels\"][0][\"label_name\"]\n",
    "        offset = ent_obj[\"textSpan\"][\"offset\"]\n",
    "        length = ent_obj[\"textSpan\"][\"length\"]\n",
    "        # Create the labels_obj with the label\n",
    "        labels_obj = [oci.data_labeling_service_dataplane.models.Label(label=label)]\n",
    "\n",
    "        # Create the text_span_obj with offset and length\n",
    "        span_obj = oci.data_labeling_service_dataplane.models.TextSpan(length=length, offset=offset)\n",
    "\n",
    "        # Create the TextSelectionEntity and add it to the entities_obj list\n",
    "        entity = TextSelectionEntity(entity_type=entity_type, labels=labels_obj, text_span=span_obj)\n",
    "        entities_obj.append(entity)\n",
    "\n",
    "    # entities_obj now contains the desired list of TextSelectionEntity objects\n",
    "    #print(entities_obj)\n",
    "    create_annotation_details_obj = CreateAnnotationDetails(record_id=record_id, compartment_id=compartment_id,\n",
    "                                                            entities=entities_obj)\n",
    "\n",
    "    try:\n",
    "        response = dls_dp_client.create_annotation(create_annotation_details=create_annotation_details_obj)\n",
    "        #print(response.data)\n",
    "    except Exception as error:\n",
    "        response = error"
   ]
  },
  {
   "cell_type": "markdown",
   "metadata": {},
   "source": [
    "## Dataset Import \n",
    "\n",
    "Creation of the Dataset with it's annotated records"
   ]
  },
  {
   "cell_type": "markdown",
   "metadata": {
    "id": "5hgR9vhmtSMk"
   },
   "source": [
    "### Load Dataset Metadata from OCI Object Storage\n",
    "\n",
    "This code block retrieves and processes the metadata for a dataset stored in OCI Object Storage. The metadata is then used to create and label our dataset in the Data Labeling Service."
   ]
  },
  {
   "cell_type": "code",
   "execution_count": 7,
   "metadata": {
    "colab": {
     "base_uri": "https://localhost:8080/"
    },
    "id": "TZzQP0n8W52x",
    "outputId": "bdd6d3b5-2dd5-44a2-bbc9-ade46831ed2f",
    "tags": []
   },
   "outputs": [
    {
     "name": "stdout",
     "output_type": "stream",
     "text": [
      "Dataset metadata file healthcare_ner_dataset_v1.0.0/dataset_metadata.jsonl loaded\n"
     ]
    }
   ],
   "source": [
    "import json\n",
    "import os\n",
    "\n",
    "#compartment where to create the dataset\n",
    "compartment_id = os.environ['NB_SESSION_COMPARTMENT_OCID']\n",
    "# Object Storage namespace\n",
    "namespace = object_storage_client.get_namespace().data\n",
    "# Dataset Object Storage bucket\n",
    "bucket_name = \"labelling-datasets-bkt\"\n",
    "\n",
    "# Dataset name\n",
    "ds_name = \"healthcare_ner_dataset_v1.0.0\"\n",
    "# Dataset metadata file name (Jsonl Consolidated created in prepare_dataset notebook)\n",
    "ds_metadata_jsonl_fname = \"dataset_metadata.jsonl\"\n",
    "\n",
    "prefix = f\"{ds_name}/\" # Dataset folder in Object Storage bucket\n",
    "object_name = f\"{prefix}{ds_metadata_jsonl_fname}\"\n",
    "\n",
    "metadata_jsonl = object_storage_client.get_object(\n",
    "    namespace,\n",
    "    bucket_name,\n",
    "    object_name)\n",
    "\n",
    "print(f\"Dataset metadata file {object_name} loaded\")\n",
    "\n",
    "#load jsonl\n",
    "metadata_jsonl_obj = [json.loads(jline) for jline in metadata_jsonl.data.content.decode('utf-8').splitlines()]\n"
   ]
  },
  {
   "cell_type": "markdown",
   "metadata": {},
   "source": [
    "### Extract Metadata and Create Dataset in OCI Data Labeling Service\n",
    "\n",
    "This code block extracts the dataset metadata from a JSONL file and then initiates the creation of a dataset in OCI's Data Labeling Service using the metadata extracted. This process ensures that the dataset is correctly created and ready for further operations, such as record creation.\n",
    "\n",
    "<span style=\"color:red\">**Note:** The dataset creation process is asynchronous, so a the code waits until the newly created dataset reaches the 'ACTIVE' state. This is done using `oci.wait_until`, which periodically checks the dataset's status.</span>\n"
   ]
  },
  {
   "cell_type": "code",
   "execution_count": 8,
   "metadata": {
    "colab": {
     "base_uri": "https://localhost:8080/"
    },
    "id": "4vEMloBSHf8_",
    "outputId": "da87e82e-ec20-4bd1-af2e-8a1c59758ad9",
    "tags": []
   },
   "outputs": [
    {
     "name": "stdout",
     "output_type": "stream",
     "text": [
      "Start the creation of the dataset healthcare_ner_dataset_v1.0.0 ...\n",
      "Dataset named healthcare_ner_dataset_v1.0.0 created succefuly.\n",
      "Dataset OCID: ocid1.datalabelingdataset.oc1.ca-toronto-1.amaaaaaa3hvgr2qan3yenas7wktkowma6gsjyvfe72ac2xr2pe76iwvkljaq\n",
      "OPC Request ID: 64B04E4F37A447BDA6C6FB89E0C244BE/19B00E41E5115CDA21C0D00805AFE1E2/999AB8CB07D840AFC03CA3A1B7375B1E\n",
      "Wait for the dataset healthcare_ner_dataset_v1.0.0 to be in ACTIVE status...\n",
      "Dataset healthcare_ner_dataset_v1.0.0 is now ACTIVE. You can start creating records.\n"
     ]
    }
   ],
   "source": [
    "ds_display_name = metadata_jsonl_obj[0]['displayName']\n",
    "ds_description = metadata_jsonl_obj[0]['description']\n",
    "ds_annotation_format = metadata_jsonl_obj[0]['annotationFormat']\n",
    "ds_format_type = metadata_jsonl_obj[0][\"datasetFormatDetails\"]['formatType']\n",
    "ds_labels = [label['name'] for label in metadata_jsonl_obj[0]['labelsSet']]\n",
    "\n",
    "\n",
    "#print(metadata_jsonl_obj)\n",
    "\n",
    "print(f\"Start the creation of the dataset {ds_display_name} ...\")\n",
    "#print(ds_annotation_format)\n",
    "#print(ds_format_type)\n",
    "#print(ds_labels)\n",
    "\n",
    "ds_resp = create_dataset(compartment_id,\n",
    "                   namespace,\n",
    "                   bucket_name,\n",
    "                   prefix,\n",
    "                   ds_display_name,\n",
    "                   ds_description,\n",
    "                   ds_format_type,\n",
    "                   ds_annotation_format, \n",
    "                   ds_labels)\n",
    "\n",
    "if ds_resp.status == 201: #status created\n",
    "    \n",
    "    # Extract the dataset's OCID (unique identifier)\n",
    "    dataset_id = ds_resp.data.id\n",
    "    print(f\"Dataset named {ds_display_name} created succefuly.\\nDataset OCID: {dataset_id}\")\n",
    "\n",
    "    # Retrieve opc-request-id from the response headers (optional for logging)\n",
    "    opc_request_id = ds_resp.headers.get(\"opc-request-id\")\n",
    "    print(f\"OPC Request ID: {opc_request_id}\")\n",
    "    \n",
    "    # Wait until the dataset reaches the 'ACTIVE' lifecycle state\n",
    "    print(f\"Wait for the dataset {ds_display_name} to be in ACTIVE status...\")\n",
    "\n",
    "    get_dataset_response = dls_client.get_dataset(dataset_id)\n",
    "\n",
    "    oci.wait_until(\n",
    "        dls_client,\n",
    "        get_dataset_response,\n",
    "        evaluate_response=lambda r: r.data.lifecycle_state == 'ACTIVE',\n",
    "        max_wait_seconds=60,  # Maximum wait time in seconds\n",
    "        max_interval_seconds=3  # Check every 30 seconds\n",
    "    )\n",
    "\n",
    "    print(f\"Dataset {ds_display_name} is now ACTIVE. You can start creating records.\")\n"
   ]
  },
  {
   "cell_type": "markdown",
   "metadata": {},
   "source": [
    "### Create Records and Annotations for Dataset in OCI Data Labeling Service\n",
    "\n",
    "This code block handles the creation of records and their corresponding annotations for the newly created dataset in OCI's Data Labeling Service.\n",
    "\n",
    "After the dataset is successfully created, the code iterates through each record in the metadata, creating records in the dataset. For each created record, associated annotations are added by looping through the entities defined in the metadata."
   ]
  },
  {
   "cell_type": "code",
   "execution_count": 9,
   "metadata": {
    "colab": {
     "base_uri": "https://localhost:8080/"
    },
    "id": "QVSRbhpJYGNl",
    "outputId": "09191168-145a-4870-e2e9-85f57c500982",
    "tags": []
   },
   "outputs": [
    {
     "name": "stderr",
     "output_type": "stream",
     "text": [
      "Importing dataset records: 100%|██████████| 9000/9000 [1:15:05<00:00,  2.00it/s]\n"
     ]
    }
   ],
   "source": [
    "import json\n",
    "from tqdm import tqdm\n",
    "\n",
    "\n",
    "#loop on records in metadata and create annotated records in the dataset\n",
    "for idx, json_obj in enumerate(tqdm(metadata_jsonl_obj[1:], \n",
    "                                desc=\"Importing dataset records\", \n",
    "                                total=len(metadata_jsonl_obj[1:])\n",
    "                               )\n",
    "                          ):\n",
    "\n",
    "    rec_name = json_obj[\"sourceDetails\"][\"path\"]\n",
    "    #print(f'create record {idx} record name : {rec_name}')\n",
    "    rec_resp =  create_ds_rec(compartment_id, dataset_id, prefix, rec_name)\n",
    "\n",
    "    if rec_resp.status==200:\n",
    "      record_id = rec_resp.data.id\n",
    "\n",
    "      for annot_obj in json_obj[\"annotations\"]:\n",
    "        annotations_list = annot_obj[\"entities\"]\n",
    "        annot_resp = add_rec_annotation(record_id, annotations_list)\n",
    "        #print(annot_resp)\n"
   ]
  },
  {
   "cell_type": "markdown",
   "metadata": {},
   "source": [
    "## Dataset Creation Verification"
   ]
  },
  {
   "cell_type": "markdown",
   "metadata": {
    "tags": []
   },
   "source": [
    "### List Datasets in OCI Data Labeling Service\n",
    "\n",
    "This code block sends a request to the OCI Data Labeling Service to list our newly created dataset. "
   ]
  },
  {
   "cell_type": "code",
   "execution_count": 8,
   "metadata": {
    "colab": {
     "base_uri": "https://localhost:8080/"
    },
    "id": "O7nLHtLSt-oB",
    "outputId": "b6ed8c7f-9d6e-417c-cb74-da8d06361dd1",
    "tags": []
   },
   "outputs": [
    {
     "name": "stdout",
     "output_type": "stream",
     "text": [
      "{\n",
      "  \"items\": [\n",
      "    {\n",
      "      \"annotation_format\": \"ENTITY_EXTRACTION\",\n",
      "      \"compartment_id\": \"ocid1.compartment.oc1..aaaaaaaa62hn2mwhaice4wivf3zpyqbdawnsmxnoznhv5jytcd3plk6n3feq\",\n",
      "      \"dataset_format_details\": {\n",
      "        \"format_type\": \"TEXT\",\n",
      "        \"text_file_type_metadata\": null\n",
      "      },\n",
      "      \"defined_tags\": {\n",
      "        \"Oracle-Tags\": {\n",
      "          \"CreatedBy\": \"ocid1.datasciencenotebooksession.oc1.ca-toronto-1.amaaaaaa3hvgr2qa33xfstuzyvf4psnypk6h3rnbzibckrjznwx7v7zf5ooq\",\n",
      "          \"CreatedOn\": \"2024-08-19T19:29:12.905Z\"\n",
      "        }\n",
      "      },\n",
      "      \"display_name\": \"healthcare_ner_dataset_v1.0.0_300\",\n",
      "      \"freeform_tags\": {},\n",
      "      \"id\": \"ocid1.datalabelingdataset.oc1.ca-toronto-1.amaaaaaa3hvgr2qaujghmfstewhlxe2z6fp72flzby37mvmywwpa2bgl5uda\",\n",
      "      \"lifecycle_details\": null,\n",
      "      \"lifecycle_state\": \"ACTIVE\",\n",
      "      \"system_tags\": {},\n",
      "      \"time_created\": \"2024-08-19T19:29:13.220000+00:00\",\n",
      "      \"time_updated\": null\n",
      "    },\n",
      "    {\n",
      "      \"annotation_format\": \"ENTITY_EXTRACTION\",\n",
      "      \"compartment_id\": \"ocid1.compartment.oc1..aaaaaaaa62hn2mwhaice4wivf3zpyqbdawnsmxnoznhv5jytcd3plk6n3feq\",\n",
      "      \"dataset_format_details\": {\n",
      "        \"format_type\": \"TEXT\",\n",
      "        \"text_file_type_metadata\": null\n",
      "      },\n",
      "      \"defined_tags\": {\n",
      "        \"Oracle-Tags\": {\n",
      "          \"CreatedBy\": \"ocid1.datasciencenotebooksession.oc1.ca-toronto-1.amaaaaaa3hvgr2qa33xfstuzyvf4psnypk6h3rnbzibckrjznwx7v7zf5ooq\",\n",
      "          \"CreatedOn\": \"2024-08-19T19:21:31.428Z\"\n",
      "        }\n",
      "      },\n",
      "      \"display_name\": \"healthcare_ner_dataset_v1.0.0_300\",\n",
      "      \"freeform_tags\": {},\n",
      "      \"id\": \"ocid1.datalabelingdataset.oc1.ca-toronto-1.amaaaaaa3hvgr2qam5a4ues6zju5a5entnswhykjwxnvutqs76wbvugcj44a\",\n",
      "      \"lifecycle_details\": null,\n",
      "      \"lifecycle_state\": \"ACTIVE\",\n",
      "      \"system_tags\": {},\n",
      "      \"time_created\": \"2024-08-19T19:21:31.576000+00:00\",\n",
      "      \"time_updated\": null\n",
      "    },\n",
      "    {\n",
      "      \"annotation_format\": \"ENTITY_EXTRACTION\",\n",
      "      \"compartment_id\": \"ocid1.compartment.oc1..aaaaaaaa62hn2mwhaice4wivf3zpyqbdawnsmxnoznhv5jytcd3plk6n3feq\",\n",
      "      \"dataset_format_details\": {\n",
      "        \"format_type\": \"TEXT\",\n",
      "        \"text_file_type_metadata\": null\n",
      "      },\n",
      "      \"defined_tags\": {\n",
      "        \"Oracle-Tags\": {\n",
      "          \"CreatedBy\": \"ocid1.datasciencenotebooksession.oc1.ca-toronto-1.amaaaaaa3hvgr2qa33xfstuzyvf4psnypk6h3rnbzibckrjznwx7v7zf5ooq\",\n",
      "          \"CreatedOn\": \"2024-08-19T19:16:02.263Z\"\n",
      "        }\n",
      "      },\n",
      "      \"display_name\": \"healthcare_ner_dataset_v1.0.0_300\",\n",
      "      \"freeform_tags\": {},\n",
      "      \"id\": \"ocid1.datalabelingdataset.oc1.ca-toronto-1.amaaaaaa3hvgr2qa7u7hktkdqeopinpgakkw4b55clofoob4ifpu34tyonzq\",\n",
      "      \"lifecycle_details\": null,\n",
      "      \"lifecycle_state\": \"ACTIVE\",\n",
      "      \"system_tags\": {},\n",
      "      \"time_created\": \"2024-08-19T19:16:02.427000+00:00\",\n",
      "      \"time_updated\": null\n",
      "    }\n",
      "  ]\n",
      "}\n"
     ]
    }
   ],
   "source": [
    "# Send the request to service, some parameters are not required, see API\n",
    "# doc for more info\n",
    "list_datasets_response = dls_client.list_datasets(\n",
    "    compartment_id=compartment_id,\n",
    "    annotation_format=\"ENTITY_EXTRACTION\",\n",
    "    lifecycle_state=\"ACTIVE\",\n",
    "    display_name=ds_name\n",
    "    )\n",
    "\n",
    "# Get the data from response\n",
    "print(list_datasets_response.data)\n"
   ]
  }
 ],
 "metadata": {
  "colab": {
   "provenance": []
  },
  "kernelspec": {
   "display_name": "Python [conda env:pytorch21_p39_gpu_v1]",
   "language": "python",
   "name": "conda-env-pytorch21_p39_gpu_v1-py"
  },
  "language_info": {
   "codemirror_mode": {
    "name": "ipython",
    "version": 3
   },
   "file_extension": ".py",
   "mimetype": "text/x-python",
   "name": "python",
   "nbconvert_exporter": "python",
   "pygments_lexer": "ipython3",
   "version": "3.9.16"
  }
 },
 "nbformat": 4,
 "nbformat_minor": 4
}
