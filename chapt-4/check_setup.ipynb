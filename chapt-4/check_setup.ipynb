{
 "cells": [
  {
   "cell_type": "markdown",
   "id": "1e8b9942",
   "metadata": {},
   "source": [
    "***\n",
    "### <font color=red>Chapter 4: TALN PII Case Study - Preparing OCI Tenancy and Setup Verification</font>\n",
    "<p style=\"margin-left:10%; margin-right:10%;\">by <font color=teal> John Doe (typica.ai) </font></p>\n",
    "\n",
    "***\n",
    "\n",
    "####Overview:\n",
    "This notebook assesses the readiness of our notebook session for the TALN PII case study, performing essential checks to ensure our environment is correctly set up. The checks include:\n",
    "\n",
    "- **GPU Verification**: Confirms whether or not this notebook session has a GPU attached.\n",
    "- **Object Storage Authentication**: Validates authentication using the notebook session's Resource Principal, which is the recommended approach.\n",
    "- **Object Creation in Bucket**: Tests the ability to create a dummy text file object in our Labeling Datasets Bucket, verifying both access and functionality."
   ]
  },
  {
   "cell_type": "markdown",
   "id": "7692c849-5b35-4c49-a9a1-4aa5bba0f6ec",
   "metadata": {},
   "source": [
    "##### GPU Verification\n",
    "Confirms whether or not this notebook session has a GPU attached."
   ]
  },
  {
   "cell_type": "code",
   "execution_count": 2,
   "id": "71321249-7f56-47cb-8e8b-863fc6bbf689",
   "metadata": {
    "tags": []
   },
   "outputs": [
    {
     "name": "stdout",
     "output_type": "stream",
     "text": [
      "Using device: cpu\n"
     ]
    }
   ],
   "source": [
    "import torch\n",
    "\n",
    "# setting device on GPU if available, else CPU\n",
    "device = torch.device('cuda' if torch.cuda.is_available() else 'cpu')\n",
    "print('Using device:', device)\n",
    "\n",
    "#Additional Info when using cuda\n",
    "if device.type == 'cuda':\n",
    "    print(torch.cuda.get_device_name(0))\n",
    "    print('Memory:')\n",
    "    print('Total:', round(torch.cuda.get_device_properties(0).total_memory/1024**3,1), 'GB')\n",
    "    print('Allocated:', round(torch.cuda.memory_allocated(0)/1024**3,1), 'GB')\n",
    "    print('Reserved:   ', round(torch.cuda.memory_reserved(0)/1024**3,1), 'GB')\n"
   ]
  },
  {
   "cell_type": "markdown",
   "id": "e67359ba-295d-46ba-bd9a-f8dfe0e684c0",
   "metadata": {},
   "source": [
    "##### Object Storage Authentication\n",
    "Validates authentication using the notebook session's Resource Principal, which is the recommended approach."
   ]
  },
  {
   "cell_type": "code",
   "execution_count": 9,
   "id": "ff2e26af",
   "metadata": {},
   "outputs": [
    {
     "data": {
      "text/plain": [
       "<oci.object_storage.object_storage_client.ObjectStorageClient at 0x7fb8554f9b20>"
      ]
     },
     "execution_count": 9,
     "metadata": {},
     "output_type": "execute_result"
    }
   ],
   "source": [
    "import oci\n",
    "\n",
    "# Initialize OCI Object Storage Client with notebook session's resource principal\n",
    "signer = oci.auth.signers.get_resource_principals_signer()\n",
    "object_storage_client = oci.object_storage.ObjectStorageClient(config={}, signer=signer)\n",
    "object_storage_client"
   ]
  },
  {
   "cell_type": "markdown",
   "id": "b6bb1172-6719-4e49-a514-e3f28532810d",
   "metadata": {
    "tags": []
   },
   "source": [
    "##### Object Creation in Bucket\n",
    "Tests the ability to create a dummy text file object in our Labeling Datasets Bucket, verifying both access and functionality."
   ]
  },
  {
   "cell_type": "code",
   "execution_count": 6,
   "id": "eef888fc-901e-4012-a314-e74aa16f7f31",
   "metadata": {
    "tags": []
   },
   "outputs": [
    {
     "ename": "ServiceError",
     "evalue": "{'target_service': 'object_storage', 'status': 404, 'code': 'BucketNotFound', 'opc-request-id': 'yyz-1:FPMDKMZg9zuMIfIgrYZZE1nHv2vpU2l1vlUuD_ZsofdgFfV6hiDGwSjsMRaesVzx', 'message': \"Either the bucket named 'labelling_datasets_bkt' does not exist in the namespace 'yz2wwgkgt8eh' or you are not authorized to access it\", 'operation_name': 'put_object', 'timestamp': '2024-03-27T20:37:21.117968+00:00', 'client_version': 'Oracle-PythonSDK/2.120.0', 'request_endpoint': 'PUT https://objectstorage.ca-toronto-1.oraclecloud.com/n/yz2wwgkgt8eh/b/labelling_datasets_bkt/o/dummy.txt', 'logging_tips': 'To get more info on the failing request, refer to https://docs.oracle.com/en-us/iaas/tools/python/latest/logging.html for ways to log the request/response details.', 'troubleshooting_tips': \"See https://docs.oracle.com/iaas/Content/API/References/apierrors.htm#apierrors_404__404_bucketnotfound for more information about resolving this error. Also see https://docs.oracle.com/iaas/api/#/en/objectstorage/20160918/Object/PutObject for details on this operation's requirements. If you are unable to resolve this object_storage issue, please contact Oracle support and provide them this full error message.\"}",
     "output_type": "error",
     "traceback": [
      "\u001b[0;31m---------------------------------------------------------------------------\u001b[0m",
      "\u001b[0;31mServiceError\u001b[0m                              Traceback (most recent call last)",
      "\u001b[0;32m/tmp/ipykernel_9065/1108188984.py\u001b[0m in \u001b[0;36m<cell line: 9>\u001b[0;34m()\u001b[0m\n\u001b[1;32m      7\u001b[0m \u001b[0mobject_data\u001b[0m \u001b[0;34m=\u001b[0m \u001b[0;34mb\"Dummy text file for setup check - to be deleted.\"\u001b[0m\u001b[0;34m\u001b[0m\u001b[0;34m\u001b[0m\u001b[0m\n\u001b[1;32m      8\u001b[0m \u001b[0;34m\u001b[0m\u001b[0m\n\u001b[0;32m----> 9\u001b[0;31m obj = object_storage_client.put_object(\n\u001b[0m\u001b[1;32m     10\u001b[0m     \u001b[0mnamespace\u001b[0m\u001b[0;34m,\u001b[0m\u001b[0;34m\u001b[0m\u001b[0;34m\u001b[0m\u001b[0m\n\u001b[1;32m     11\u001b[0m     \u001b[0mbucket_name\u001b[0m\u001b[0;34m,\u001b[0m\u001b[0;34m\u001b[0m\u001b[0;34m\u001b[0m\u001b[0m\n",
      "\u001b[0;32m~/conda/pytorch21_p39_gpu_v1/lib/python3.9/site-packages/oci/object_storage/object_storage_client.py\u001b[0m in \u001b[0;36mput_object\u001b[0;34m(self, namespace_name, bucket_name, object_name, put_object_body, **kwargs)\u001b[0m\n\u001b[1;32m   5202\u001b[0m                 \u001b[0mself\u001b[0m\u001b[0;34m.\u001b[0m\u001b[0mbase_client\u001b[0m\u001b[0;34m.\u001b[0m\u001b[0madd_opc_client_retries_header\u001b[0m\u001b[0;34m(\u001b[0m\u001b[0mheader_params\u001b[0m\u001b[0;34m)\u001b[0m\u001b[0;34m\u001b[0m\u001b[0;34m\u001b[0m\u001b[0m\n\u001b[1;32m   5203\u001b[0m                 \u001b[0mretry_strategy\u001b[0m\u001b[0;34m.\u001b[0m\u001b[0madd_circuit_breaker_callback\u001b[0m\u001b[0;34m(\u001b[0m\u001b[0mself\u001b[0m\u001b[0;34m.\u001b[0m\u001b[0mcircuit_breaker_callback\u001b[0m\u001b[0;34m)\u001b[0m\u001b[0;34m\u001b[0m\u001b[0;34m\u001b[0m\u001b[0m\n\u001b[0;32m-> 5204\u001b[0;31m             return retry_strategy.make_retrying_call(\n\u001b[0m\u001b[1;32m   5205\u001b[0m                 \u001b[0mself\u001b[0m\u001b[0;34m.\u001b[0m\u001b[0mbase_client\u001b[0m\u001b[0;34m.\u001b[0m\u001b[0mcall_api\u001b[0m\u001b[0;34m,\u001b[0m\u001b[0;34m\u001b[0m\u001b[0;34m\u001b[0m\u001b[0m\n\u001b[1;32m   5206\u001b[0m                 \u001b[0mresource_path\u001b[0m\u001b[0;34m=\u001b[0m\u001b[0mresource_path\u001b[0m\u001b[0;34m,\u001b[0m\u001b[0;34m\u001b[0m\u001b[0;34m\u001b[0m\u001b[0m\n",
      "\u001b[0;32m~/conda/pytorch21_p39_gpu_v1/lib/python3.9/site-packages/oci/retry/retry.py\u001b[0m in \u001b[0;36mmake_retrying_call\u001b[0;34m(self, func_ref, *func_args, **func_kwargs)\u001b[0m\n\u001b[1;32m    306\u001b[0m                     \u001b[0;31m# Attempt to save current position for file-like body\u001b[0m\u001b[0;34m\u001b[0m\u001b[0;34m\u001b[0m\u001b[0m\n\u001b[1;32m    307\u001b[0m                     \u001b[0m_is_body_retryable\u001b[0m\u001b[0;34m,\u001b[0m \u001b[0mbody_position\u001b[0m \u001b[0;34m=\u001b[0m \u001b[0mrecord_body_position_for_rewind\u001b[0m\u001b[0;34m(\u001b[0m\u001b[0mfunc_kwargs\u001b[0m\u001b[0;34m.\u001b[0m\u001b[0mget\u001b[0m\u001b[0;34m(\u001b[0m\u001b[0;34m'body'\u001b[0m\u001b[0;34m)\u001b[0m\u001b[0;34m)\u001b[0m\u001b[0;34m\u001b[0m\u001b[0;34m\u001b[0m\u001b[0m\n\u001b[0;32m--> 308\u001b[0;31m                 \u001b[0mresponse\u001b[0m \u001b[0;34m=\u001b[0m \u001b[0mfunc_ref\u001b[0m\u001b[0;34m(\u001b[0m\u001b[0;34m*\u001b[0m\u001b[0mfunc_args\u001b[0m\u001b[0;34m,\u001b[0m \u001b[0;34m**\u001b[0m\u001b[0mfunc_kwargs\u001b[0m\u001b[0;34m)\u001b[0m\u001b[0;34m\u001b[0m\u001b[0;34m\u001b[0m\u001b[0m\n\u001b[0m\u001b[1;32m    309\u001b[0m                 \u001b[0mtime_elapsed\u001b[0m \u001b[0;34m=\u001b[0m \u001b[0mtime\u001b[0m\u001b[0;34m.\u001b[0m\u001b[0mtime\u001b[0m\u001b[0;34m(\u001b[0m\u001b[0;34m)\u001b[0m \u001b[0;34m-\u001b[0m \u001b[0mstart_time\u001b[0m\u001b[0;34m\u001b[0m\u001b[0;34m\u001b[0m\u001b[0m\n\u001b[1;32m    310\u001b[0m \u001b[0;34m\u001b[0m\u001b[0m\n",
      "\u001b[0;32m~/conda/pytorch21_p39_gpu_v1/lib/python3.9/site-packages/oci/base_client.py\u001b[0m in \u001b[0;36mcall_api\u001b[0;34m(self, resource_path, method, path_params, query_params, header_params, body, response_type, enforce_content_headers, allow_control_chars, operation_name, api_reference_link, required_arguments)\u001b[0m\n\u001b[1;32m    522\u001b[0m             \u001b[0;32mwhile\u001b[0m \u001b[0mcall_attempts\u001b[0m \u001b[0;34m<\u001b[0m \u001b[0;36m2\u001b[0m\u001b[0;34m:\u001b[0m\u001b[0;34m\u001b[0m\u001b[0;34m\u001b[0m\u001b[0m\n\u001b[1;32m    523\u001b[0m                 \u001b[0;32mtry\u001b[0m\u001b[0;34m:\u001b[0m\u001b[0;34m\u001b[0m\u001b[0;34m\u001b[0m\u001b[0m\n\u001b[0;32m--> 524\u001b[0;31m                     \u001b[0;32mreturn\u001b[0m \u001b[0mself\u001b[0m\u001b[0;34m.\u001b[0m\u001b[0mrequest\u001b[0m\u001b[0;34m(\u001b[0m\u001b[0mrequest\u001b[0m\u001b[0;34m,\u001b[0m \u001b[0mallow_control_chars\u001b[0m\u001b[0;34m,\u001b[0m \u001b[0moperation_name\u001b[0m\u001b[0;34m,\u001b[0m \u001b[0mapi_reference_link\u001b[0m\u001b[0;34m)\u001b[0m\u001b[0;34m\u001b[0m\u001b[0;34m\u001b[0m\u001b[0m\n\u001b[0m\u001b[1;32m    525\u001b[0m                 \u001b[0;32mexcept\u001b[0m \u001b[0mexceptions\u001b[0m\u001b[0;34m.\u001b[0m\u001b[0mServiceError\u001b[0m \u001b[0;32mas\u001b[0m \u001b[0me\u001b[0m\u001b[0;34m:\u001b[0m\u001b[0;34m\u001b[0m\u001b[0;34m\u001b[0m\u001b[0m\n\u001b[1;32m    526\u001b[0m                     \u001b[0mcall_attempts\u001b[0m \u001b[0;34m+=\u001b[0m \u001b[0;36m1\u001b[0m\u001b[0;34m\u001b[0m\u001b[0;34m\u001b[0m\u001b[0m\n",
      "\u001b[0;32m~/conda/pytorch21_p39_gpu_v1/lib/python3.9/site-packages/circuitbreaker.py\u001b[0m in \u001b[0;36mwrapper\u001b[0;34m(*args, **kwargs)\u001b[0m\n\u001b[1;32m    157\u001b[0m                     \u001b[0;32mreturn\u001b[0m \u001b[0mself\u001b[0m\u001b[0;34m.\u001b[0m\u001b[0mfallback_function\u001b[0m\u001b[0;34m(\u001b[0m\u001b[0;34m*\u001b[0m\u001b[0margs\u001b[0m\u001b[0;34m,\u001b[0m \u001b[0;34m**\u001b[0m\u001b[0mkwargs\u001b[0m\u001b[0;34m)\u001b[0m\u001b[0;34m\u001b[0m\u001b[0;34m\u001b[0m\u001b[0m\n\u001b[1;32m    158\u001b[0m                 \u001b[0;32mraise\u001b[0m \u001b[0mCircuitBreakerError\u001b[0m\u001b[0;34m(\u001b[0m\u001b[0mself\u001b[0m\u001b[0;34m)\u001b[0m\u001b[0;34m\u001b[0m\u001b[0;34m\u001b[0m\u001b[0m\n\u001b[0;32m--> 159\u001b[0;31m             \u001b[0;32mreturn\u001b[0m \u001b[0mcall\u001b[0m\u001b[0;34m(\u001b[0m\u001b[0mfunction\u001b[0m\u001b[0;34m,\u001b[0m \u001b[0;34m*\u001b[0m\u001b[0margs\u001b[0m\u001b[0;34m,\u001b[0m \u001b[0;34m**\u001b[0m\u001b[0mkwargs\u001b[0m\u001b[0;34m)\u001b[0m\u001b[0;34m\u001b[0m\u001b[0;34m\u001b[0m\u001b[0m\n\u001b[0m\u001b[1;32m    160\u001b[0m \u001b[0;34m\u001b[0m\u001b[0m\n\u001b[1;32m    161\u001b[0m         \u001b[0;32mreturn\u001b[0m \u001b[0mwrapper\u001b[0m\u001b[0;34m\u001b[0m\u001b[0;34m\u001b[0m\u001b[0m\n",
      "\u001b[0;32m~/conda/pytorch21_p39_gpu_v1/lib/python3.9/site-packages/circuitbreaker.py\u001b[0m in \u001b[0;36mcall\u001b[0;34m(self, func, *args, **kwargs)\u001b[0m\n\u001b[1;32m    168\u001b[0m         \"\"\"\n\u001b[1;32m    169\u001b[0m         \u001b[0;32mwith\u001b[0m \u001b[0mself\u001b[0m\u001b[0;34m:\u001b[0m\u001b[0;34m\u001b[0m\u001b[0;34m\u001b[0m\u001b[0m\n\u001b[0;32m--> 170\u001b[0;31m             \u001b[0;32mreturn\u001b[0m \u001b[0mfunc\u001b[0m\u001b[0;34m(\u001b[0m\u001b[0;34m*\u001b[0m\u001b[0margs\u001b[0m\u001b[0;34m,\u001b[0m \u001b[0;34m**\u001b[0m\u001b[0mkwargs\u001b[0m\u001b[0;34m)\u001b[0m\u001b[0;34m\u001b[0m\u001b[0;34m\u001b[0m\u001b[0m\n\u001b[0m\u001b[1;32m    171\u001b[0m \u001b[0;34m\u001b[0m\u001b[0m\n\u001b[1;32m    172\u001b[0m     \u001b[0;32mdef\u001b[0m \u001b[0mcall_generator\u001b[0m\u001b[0;34m(\u001b[0m\u001b[0mself\u001b[0m\u001b[0;34m,\u001b[0m \u001b[0mfunc\u001b[0m\u001b[0;34m,\u001b[0m \u001b[0;34m*\u001b[0m\u001b[0margs\u001b[0m\u001b[0;34m,\u001b[0m \u001b[0;34m**\u001b[0m\u001b[0mkwargs\u001b[0m\u001b[0;34m)\u001b[0m\u001b[0;34m:\u001b[0m\u001b[0;34m\u001b[0m\u001b[0;34m\u001b[0m\u001b[0m\n",
      "\u001b[0;32m~/conda/pytorch21_p39_gpu_v1/lib/python3.9/site-packages/oci/base_client.py\u001b[0m in \u001b[0;36mrequest\u001b[0;34m(self, request, allow_control_chars, operation_name, api_reference_link)\u001b[0m\n\u001b[1;32m    718\u001b[0m                 \u001b[0mself\u001b[0m\u001b[0;34m.\u001b[0m\u001b[0mraise_transient_service_error\u001b[0m\u001b[0;34m(\u001b[0m\u001b[0mrequest\u001b[0m\u001b[0;34m,\u001b[0m \u001b[0mresponse\u001b[0m\u001b[0;34m,\u001b[0m \u001b[0mservice_code\u001b[0m\u001b[0;34m,\u001b[0m \u001b[0mmessage\u001b[0m\u001b[0;34m,\u001b[0m \u001b[0moperation_name\u001b[0m\u001b[0;34m,\u001b[0m \u001b[0mapi_reference_link\u001b[0m\u001b[0;34m,\u001b[0m \u001b[0mtarget_service\u001b[0m\u001b[0;34m,\u001b[0m \u001b[0mrequest_endpoint\u001b[0m\u001b[0;34m,\u001b[0m \u001b[0mclient_version\u001b[0m\u001b[0;34m,\u001b[0m \u001b[0mtimestamp\u001b[0m\u001b[0;34m,\u001b[0m \u001b[0mdeserialized_data\u001b[0m\u001b[0;34m)\u001b[0m\u001b[0;34m\u001b[0m\u001b[0;34m\u001b[0m\u001b[0m\n\u001b[1;32m    719\u001b[0m             \u001b[0;32melse\u001b[0m\u001b[0;34m:\u001b[0m\u001b[0;34m\u001b[0m\u001b[0;34m\u001b[0m\u001b[0m\n\u001b[0;32m--> 720\u001b[0;31m                 \u001b[0mself\u001b[0m\u001b[0;34m.\u001b[0m\u001b[0mraise_service_error\u001b[0m\u001b[0;34m(\u001b[0m\u001b[0mrequest\u001b[0m\u001b[0;34m,\u001b[0m \u001b[0mresponse\u001b[0m\u001b[0;34m,\u001b[0m \u001b[0mservice_code\u001b[0m\u001b[0;34m,\u001b[0m \u001b[0mmessage\u001b[0m\u001b[0;34m,\u001b[0m \u001b[0moperation_name\u001b[0m\u001b[0;34m,\u001b[0m \u001b[0mapi_reference_link\u001b[0m\u001b[0;34m,\u001b[0m \u001b[0mtarget_service\u001b[0m\u001b[0;34m,\u001b[0m \u001b[0mrequest_endpoint\u001b[0m\u001b[0;34m,\u001b[0m \u001b[0mclient_version\u001b[0m\u001b[0;34m,\u001b[0m \u001b[0mtimestamp\u001b[0m\u001b[0;34m,\u001b[0m \u001b[0mdeserialized_data\u001b[0m\u001b[0;34m)\u001b[0m\u001b[0;34m\u001b[0m\u001b[0;34m\u001b[0m\u001b[0m\n\u001b[0m\u001b[1;32m    721\u001b[0m \u001b[0;34m\u001b[0m\u001b[0m\n\u001b[1;32m    722\u001b[0m         \u001b[0;32mif\u001b[0m \u001b[0mstream\u001b[0m\u001b[0;34m:\u001b[0m\u001b[0;34m\u001b[0m\u001b[0;34m\u001b[0m\u001b[0m\n",
      "\u001b[0;32m~/conda/pytorch21_p39_gpu_v1/lib/python3.9/site-packages/oci/base_client.py\u001b[0m in \u001b[0;36mraise_service_error\u001b[0;34m(self, request, response, service_code, message, operation_name, api_reference_link, target_service, request_endpoint, client_version, timestamp, deserialized_data)\u001b[0m\n\u001b[1;32m    875\u001b[0m \u001b[0;34m\u001b[0m\u001b[0m\n\u001b[1;32m    876\u001b[0m     \u001b[0;32mdef\u001b[0m \u001b[0mraise_service_error\u001b[0m\u001b[0;34m(\u001b[0m\u001b[0mself\u001b[0m\u001b[0;34m,\u001b[0m \u001b[0mrequest\u001b[0m\u001b[0;34m,\u001b[0m \u001b[0mresponse\u001b[0m\u001b[0;34m,\u001b[0m \u001b[0mservice_code\u001b[0m\u001b[0;34m,\u001b[0m \u001b[0mmessage\u001b[0m\u001b[0;34m,\u001b[0m \u001b[0moperation_name\u001b[0m\u001b[0;34m=\u001b[0m\u001b[0;32mNone\u001b[0m\u001b[0;34m,\u001b[0m \u001b[0mapi_reference_link\u001b[0m\u001b[0;34m=\u001b[0m\u001b[0;32mNone\u001b[0m\u001b[0;34m,\u001b[0m \u001b[0mtarget_service\u001b[0m\u001b[0;34m=\u001b[0m\u001b[0;32mNone\u001b[0m\u001b[0;34m,\u001b[0m \u001b[0mrequest_endpoint\u001b[0m\u001b[0;34m=\u001b[0m\u001b[0;32mNone\u001b[0m\u001b[0;34m,\u001b[0m \u001b[0mclient_version\u001b[0m\u001b[0;34m=\u001b[0m\u001b[0;32mNone\u001b[0m\u001b[0;34m,\u001b[0m \u001b[0mtimestamp\u001b[0m\u001b[0;34m=\u001b[0m\u001b[0;32mNone\u001b[0m\u001b[0;34m,\u001b[0m \u001b[0mdeserialized_data\u001b[0m\u001b[0;34m=\u001b[0m\u001b[0;32mNone\u001b[0m\u001b[0;34m)\u001b[0m\u001b[0;34m:\u001b[0m\u001b[0;34m\u001b[0m\u001b[0;34m\u001b[0m\u001b[0m\n\u001b[0;32m--> 877\u001b[0;31m         raise exceptions.ServiceError(\n\u001b[0m\u001b[1;32m    878\u001b[0m             \u001b[0mresponse\u001b[0m\u001b[0;34m.\u001b[0m\u001b[0mstatus_code\u001b[0m\u001b[0;34m,\u001b[0m\u001b[0;34m\u001b[0m\u001b[0;34m\u001b[0m\u001b[0m\n\u001b[1;32m    879\u001b[0m             \u001b[0mservice_code\u001b[0m\u001b[0;34m,\u001b[0m\u001b[0;34m\u001b[0m\u001b[0;34m\u001b[0m\u001b[0m\n",
      "\u001b[0;31mServiceError\u001b[0m: {'target_service': 'object_storage', 'status': 404, 'code': 'BucketNotFound', 'opc-request-id': 'yyz-1:FPMDKMZg9zuMIfIgrYZZE1nHv2vpU2l1vlUuD_ZsofdgFfV6hiDGwSjsMRaesVzx', 'message': \"Either the bucket named 'labelling_datasets_bkt' does not exist in the namespace 'yz2wwgkgt8eh' or you are not authorized to access it\", 'operation_name': 'put_object', 'timestamp': '2024-03-27T20:37:21.117968+00:00', 'client_version': 'Oracle-PythonSDK/2.120.0', 'request_endpoint': 'PUT https://objectstorage.ca-toronto-1.oraclecloud.com/n/yz2wwgkgt8eh/b/labelling_datasets_bkt/o/dummy.txt', 'logging_tips': 'To get more info on the failing request, refer to https://docs.oracle.com/en-us/iaas/tools/python/latest/logging.html for ways to log the request/response details.', 'troubleshooting_tips': \"See https://docs.oracle.com/iaas/Content/API/References/apierrors.htm#apierrors_404__404_bucketnotfound for more information about resolving this error. Also see https://docs.oracle.com/iaas/api/#/en/objectstorage/20160918/Object/PutObject for details on this operation's requirements. If you are unable to resolve this object_storage issue, please contact Oracle support and provide them this full error message.\"}"
     ]
    }
   ],
   "source": [
    "# Initialize Object Storage bucket infos\n",
    "namespace = object_storage_client.get_namespace().data #yz2wwgkgt8eh\n",
    "bucket_name = \"labelling_datasets_bkt\"\n",
    "\n",
    "# Initialize Object Storage object's name and body\n",
    "object_name = \"dummy.txt\"\n",
    "object_data = b\"Dummy text file for setup check - to be deleted.\"\n",
    "\n",
    "#create the object in the bucket\n",
    "obj = object_storage_client.put_object(\n",
    "    namespace,\n",
    "    bucket_name,\n",
    "    object_name,\n",
    "    object_data)"
   ]
  }
 ],
 "metadata": {
  "kernelspec": {
   "display_name": "Python [conda env:pytorch21_p39_gpu_v1]",
   "language": "python",
   "name": "conda-env-pytorch21_p39_gpu_v1-py"
  },
  "language_info": {
   "codemirror_mode": {
    "name": "ipython",
    "version": 3
   },
   "file_extension": ".py",
   "mimetype": "text/x-python",
   "name": "python",
   "nbconvert_exporter": "python",
   "pygments_lexer": "ipython3",
   "version": "3.9.16"
  }
 },
 "nbformat": 4,
 "nbformat_minor": 5
}
