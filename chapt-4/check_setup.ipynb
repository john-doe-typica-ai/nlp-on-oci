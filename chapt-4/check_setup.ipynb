{
 "cells": [
  {
   "cell_type": "markdown",
   "id": "1e8b9942",
   "metadata": {},
   "source": [
    "***\n",
    "### <font color=red>Chapter 4: MedTALN inc. Case Study - Preparing OCI Tenancy and Setup Verification</font>\n",
    "<p style=\"margin-left:10%; margin-right:10%;\">by <font color=teal> John Doe (typica.ai) </font></p>\n",
    "\n",
    "***\n",
    "\n",
    "#### Overview:\n",
    "This notebook assesses the readiness of our notebook session for the MedTALN inc. case study, performing essential checks to ensure our environment is correctly set up. The checks include:\n",
    "\n",
    "- **GPU Verification**: Confirms whether or not this notebook session has a GPU attached.\n",
    "- **Object Storage Authentication**: Validates authentication using the notebook session's Resource Principal, which is the recommended approach.\n",
    "- **Object Creation in Bucket**: Tests the ability to create a dummy text file object in our Labeling Datasets Bucket, verifying both access and functionality."
   ]
  },
  {
   "cell_type": "markdown",
   "id": "7692c849-5b35-4c49-a9a1-4aa5bba0f6ec",
   "metadata": {},
   "source": [
    "##### GPU Verification\n",
    "Confirms whether or not this notebook session has a GPU attached."
   ]
  },
  {
   "cell_type": "code",
   "execution_count": 1,
   "id": "71321249-7f56-47cb-8e8b-863fc6bbf689",
   "metadata": {
    "tags": []
   },
   "outputs": [
    {
     "name": "stdout",
     "output_type": "stream",
     "text": [
      "Using device: cpu\n"
     ]
    }
   ],
   "source": [
    "import torch\n",
    "\n",
    "# setting device on GPU if available, else CPU\n",
    "device = torch.device('cuda' if torch.cuda.is_available() else 'cpu')\n",
    "print('Using device:', device)\n",
    "\n",
    "#Additional Info when using cuda\n",
    "if device.type == 'cuda':\n",
    "    print(torch.cuda.get_device_name(0))\n",
    "    print('Memory:')\n",
    "    print('Total:', round(torch.cuda.get_device_properties(0).total_memory/1024**3,1), 'GB')\n",
    "    print('Allocated:', round(torch.cuda.memory_allocated(0)/1024**3,1), 'GB')\n",
    "    print('Reserved:   ', round(torch.cuda.memory_reserved(0)/1024**3,1), 'GB')\n"
   ]
  },
  {
   "cell_type": "markdown",
   "id": "e67359ba-295d-46ba-bd9a-f8dfe0e684c0",
   "metadata": {},
   "source": [
    "##### Object Storage Authentication\n",
    "Validates authentication using the notebook session's Resource Principal, which is the recommended approach."
   ]
  },
  {
   "cell_type": "code",
   "execution_count": 2,
   "id": "ff2e26af",
   "metadata": {
    "tags": []
   },
   "outputs": [
    {
     "data": {
      "text/plain": [
       "<oci.object_storage.object_storage_client.ObjectStorageClient at 0x7fbaf85ae2b0>"
      ]
     },
     "execution_count": 2,
     "metadata": {},
     "output_type": "execute_result"
    }
   ],
   "source": [
    "import oci\n",
    "\n",
    "# Initialize OCI Object Storage Client with notebook session's resource principal\n",
    "signer = oci.auth.signers.get_resource_principals_signer()\n",
    "object_storage_client = oci.object_storage.ObjectStorageClient(config={}, signer=signer)\n",
    "object_storage_client"
   ]
  },
  {
   "cell_type": "markdown",
   "id": "b6bb1172-6719-4e49-a514-e3f28532810d",
   "metadata": {
    "tags": []
   },
   "source": [
    "##### Object Creation in Bucket\n",
    "Tests the ability to create a dummy text file object in our Labeling Datasets Bucket, verifying both access and functionality."
   ]
  },
  {
   "cell_type": "code",
   "execution_count": 3,
   "id": "eef888fc-901e-4012-a314-e74aa16f7f31",
   "metadata": {
    "tags": []
   },
   "outputs": [
    {
     "name": "stdout",
     "output_type": "stream",
     "text": [
      "File named dummy.txt created on 2024-08-15 20:07:17.629000+00:00\n"
     ]
    }
   ],
   "source": [
    "# Initialize Object Storage bucket infos\n",
    "namespace = object_storage_client.get_namespace().data #yz2wwgkgt8eh\n",
    "bucket_name = \"labelling-datasets-bkt\"\n",
    "\n",
    "# Initialize Object Storage object's name and body\n",
    "object_name = \"dummy.txt\"\n",
    "object_data = b\"Dummy text file for setup check - to be deleted.\"\n",
    "\n",
    "#create the object in the bucket\n",
    "obj = object_storage_client.put_object(\n",
    "    namespace,\n",
    "    bucket_name,\n",
    "    object_name,\n",
    "    object_data)\n",
    "\n",
    "# Check the creation of the dummy file in the bucket\n",
    "list_objects_response = object_storage_client.list_objects(\n",
    "    namespace_name=namespace,\n",
    "    bucket_name=bucket_name,\n",
    "    fields=\"timeCreated\"\n",
    ")\n",
    "\n",
    "# Get the data from response\n",
    "print(f\"File named {list_objects_response.data.objects[0].name} created on {list_objects_response.data.objects[0].time_created}\")\n"
   ]
  },
  {
   "cell_type": "code",
   "execution_count": null,
   "id": "d84076f3-b598-4e38-be56-be40bc37c9d2",
   "metadata": {},
   "outputs": [],
   "source": []
  }
 ],
 "metadata": {
  "kernelspec": {
   "display_name": "Python [conda env:pytorch21_p39_gpu_v1]",
   "language": "python",
   "name": "conda-env-pytorch21_p39_gpu_v1-py"
  },
  "language_info": {
   "codemirror_mode": {
    "name": "ipython",
    "version": 3
   },
   "file_extension": ".py",
   "mimetype": "text/x-python",
   "name": "python",
   "nbconvert_exporter": "python",
   "pygments_lexer": "ipython3",
   "version": "3.9.16"
  }
 },
 "nbformat": 4,
 "nbformat_minor": 5
}
